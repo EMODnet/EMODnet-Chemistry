{
 "cells": [
  {
   "cell_type": "markdown",
   "metadata": {
    "slideshow": {
     "slide_type": "slide"
    }
   },
   "source": [
    "# Reading netCDF files with python"
   ]
  },
  {
   "cell_type": "markdown",
   "metadata": {
    "slideshow": {
     "slide_type": "fragment"
    }
   },
   "source": [
    "We will use the netCDF4 library (https://github.com/Unidata/netcdf4-python) for the reading and [matplotlib](http://matplotlib.org/) for the plotting."
   ]
  },
  {
   "cell_type": "code",
   "execution_count": 27,
   "metadata": {
    "collapsed": true,
    "slideshow": {
     "slide_type": "fragment"
    }
   },
   "outputs": [],
   "source": [
    "import os\n",
    "import matplotlib.pyplot as plt\n",
    "import netCDF4\n",
    "import numpy as np"
   ]
  },
  {
   "cell_type": "markdown",
   "metadata": {
    "slideshow": {
     "slide_type": "subslide"
    }
   },
   "source": [
    "# Reading the data"
   ]
  },
  {
   "cell_type": "markdown",
   "metadata": {
    "slideshow": {
     "slide_type": "fragment"
    }
   },
   "source": [
    "Let's define the data file we want to process:"
   ]
  },
  {
   "cell_type": "code",
   "execution_count": 24,
   "metadata": {
    "collapsed": true,
    "slideshow": {
     "slide_type": "fragment"
    }
   },
   "outputs": [],
   "source": [
    "datadir = \"./OpenSeaLab/autumn\"\n",
    "figdir = \"./figures/\"\n",
    "htmldir = \"./html/\"\n",
    "datafile = os.path.join(datadir, \"Water_body_nitrate.4Danl.nc\")"
   ]
  },
  {
   "cell_type": "markdown",
   "metadata": {
    "slideshow": {
     "slide_type": "subslide"
    }
   },
   "source": [
    "## Metadata (file header)"
   ]
  },
  {
   "cell_type": "code",
   "execution_count": 5,
   "metadata": {
    "slideshow": {
     "slide_type": "fragment"
    }
   },
   "outputs": [
    {
     "name": "stdout",
     "output_type": "stream",
     "text": [
      "<class 'netCDF4._netCDF4.Dataset'>\n",
      "root group (NETCDF4_CLASSIC data model, file format HDF5):\n",
      "    Conventions: CF-1.0\n",
      "    project: SeaDataNetII: http://www.seadatanet.org/\n",
      "    institution: Hellenic Centre for Marine Research, Hellenic National Oceanographic Data Centre (HCMR/HNODC)\n",
      "    production: Diva group. E-mails: a.barth@ulg.ac.be; swatelet@ulg.ac.be\n",
      "    data_access: GHER OPENDAB: http://gher-diva.phys.ulg.ac.be/data/\n",
      "    WEB_visualisation: http://gher-diva.phys.ulg.ac.be/web-vis/clim.html\n",
      "    Author_e-mail: Athanasia (Sissy) Iona <sissy@hnodc.hcmr.gr>\n",
      "    date: 2015-06-16\n",
      "    title: DIVA 4D analysis of Water_body_nitrate\n",
      "    file_name: ../output/3Danalysis/Water_body_nitrate.4Danl.nc\n",
      "    source: observational data from SeaDataNet/EMODNet Chemistry Data Network\n",
      "    comment: Every year of the time dimension corresponds to a 10-year centred average for the winter (Jan-Mar) or spring (Apr-Jun) or summer (Jul-Sept) or automn (Oct-Dec) season\n",
      "    product_id: 4b65b074-19a2-11e5-95c0-8056f28224bb\n",
      "    search_keywords: Nitrate concentration parameters in the water column\n",
      "    parameter_keywords: Water body nitrate\n",
      "    area_keywords: Mediterranean Sea\n",
      "    product_version: 1.0\n",
      "    preview: http://oceanbrowser.net/emodnet/Python/web/wms?styles=vmax%3A1.02776%2Bvmin%3A0.00100148&format=image%2Fpng&height=500&bbox=-6.25%2C30.0%2C36.375%2C45.875&decorated=true&transparent=true&layers=Mediterranean+Sea%2FAutumn+%28October-December%29+-+10-years+running+averages%2FWater_body_nitrate.4Danl.nc%2AWater_body_nitrate&crs=CRS%3A84&service=WMS&request=GetMap&width=800&version=1.3.0\n",
      "    institution_edmo_code: 269\n",
      "    history: Thu Oct 12 12:01:39 2017: ncks -d lat,40.,46. -d lon,11.7,20. ./Data/autumn/Water_body_nitrate.4Danl.nc ./Data/autumn//Adriatic/Water_body_nitrate.4Danl.nc\n",
      "    NCO: 4.4.2\n",
      "    dimensions(sizes): time(45), depth(25), lat(48), lon(67), nv(2), observations(286672), idlen(30)\n",
      "    variables(dimensions): float32 \u001b[4mCLfield\u001b[0m(time,depth,lat,lon), float32 \u001b[4mCORRLEN\u001b[0m(time,depth), float32 \u001b[4mSNR\u001b[0m(time,depth), float32 \u001b[4mVARBACK\u001b[0m(time,depth), float32 \u001b[4mWater_body_nitrate\u001b[0m(time,depth,lat,lon), float32 \u001b[4mWater_body_nitrate_L1\u001b[0m(time,depth,lat,lon), float32 \u001b[4mWater_body_nitrate_L2\u001b[0m(time,depth,lat,lon), float32 \u001b[4mWater_body_nitrate_deepest\u001b[0m(time,lat,lon), float32 \u001b[4mWater_body_nitrate_deepest_L1\u001b[0m(time,lat,lon), float32 \u001b[4mWater_body_nitrate_deepest_L2\u001b[0m(time,lat,lon), float32 \u001b[4mWater_body_nitrate_err\u001b[0m(time,depth,lat,lon), float32 \u001b[4mWater_body_nitrate_relerr\u001b[0m(time,depth,lat,lon), float32 \u001b[4mclimatology_bounds\u001b[0m(time,nv), float32 \u001b[4mdatabins\u001b[0m(time,depth,lat,lon), float32 \u001b[4mdepth\u001b[0m(depth), float32 \u001b[4mlat\u001b[0m(lat), float32 \u001b[4mlon\u001b[0m(lon), float64 \u001b[4mobsdepth\u001b[0m(observations), |S1 \u001b[4mobsid\u001b[0m(observations,idlen), float64 \u001b[4mobslat\u001b[0m(observations), float64 \u001b[4mobslon\u001b[0m(observations), float64 \u001b[4mobstime\u001b[0m(observations), float32 \u001b[4moutlbins\u001b[0m(time,depth,lat,lon), float32 \u001b[4mtime\u001b[0m(time)\n",
      "    groups: \n",
      "\n"
     ]
    }
   ],
   "source": [
    "with netCDF4.Dataset(datafile) as nc:\n",
    "    print(nc)"
   ]
  },
  {
   "cell_type": "markdown",
   "metadata": {
    "slideshow": {
     "slide_type": "subslide"
    }
   },
   "source": [
    "## Variables"
   ]
  },
  {
   "cell_type": "code",
   "execution_count": 6,
   "metadata": {
    "slideshow": {
     "slide_type": "fragment"
    }
   },
   "outputs": [
    {
     "name": "stdout",
     "output_type": "stream",
     "text": [
      "CLfield\n",
      "CORRLEN\n",
      "SNR\n",
      "VARBACK\n",
      "Water_body_nitrate\n",
      "Water_body_nitrate_L1\n",
      "Water_body_nitrate_L2\n",
      "Water_body_nitrate_deepest\n",
      "Water_body_nitrate_deepest_L1\n",
      "Water_body_nitrate_deepest_L2\n",
      "Water_body_nitrate_err\n",
      "Water_body_nitrate_relerr\n",
      "climatology_bounds\n",
      "databins\n",
      "depth\n",
      "lat\n",
      "lon\n",
      "obsdepth\n",
      "obsid\n",
      "obslat\n",
      "obslon\n",
      "obstime\n",
      "outlbins\n",
      "time\n"
     ]
    }
   ],
   "source": [
    "with netCDF4.Dataset(datafile) as nc:\n",
    "    varnames = nc.variables.keys()\n",
    "for var in varnames:\n",
    "    print(var)"
   ]
  },
  {
   "cell_type": "markdown",
   "metadata": {
    "slideshow": {
     "slide_type": "subslide"
    }
   },
   "source": [
    "## Load a single variable\n",
    "The `print` command provides a summary of the considered variable."
   ]
  },
  {
   "cell_type": "code",
   "execution_count": 7,
   "metadata": {
    "slideshow": {
     "slide_type": "fragment"
    }
   },
   "outputs": [
    {
     "name": "stdout",
     "output_type": "stream",
     "text": [
      "<class 'netCDF4._netCDF4.Variable'>\n",
      "float32 Water_body_nitrate_L1(time, depth, lat, lon)\n",
      "    long_name: Water_body_nitrate masked using relative error threshold 0.3\n",
      "    units: umol/l\n",
      "    valid_min: 0.0\n",
      "    valid_max: 661.0\n",
      "    _FillValue: -9999.9\n",
      "    missing_value: -9999.9\n",
      "unlimited dimensions: \n",
      "current shape = (45, 25, 48, 67)\n",
      "filling on\n"
     ]
    }
   ],
   "source": [
    "with netCDF4.Dataset(datafile) as nc:\n",
    "    nitrate = nc.variables['Water_body_nitrate_L1']\n",
    "    print(nitrate)"
   ]
  },
  {
   "cell_type": "markdown",
   "metadata": {
    "slideshow": {
     "slide_type": "fragment"
    }
   },
   "source": [
    "To get the variable values:    "
   ]
  },
  {
   "cell_type": "code",
   "execution_count": 8,
   "metadata": {
    "slideshow": {
     "slide_type": "fragment"
    }
   },
   "outputs": [
    {
     "name": "stdout",
     "output_type": "stream",
     "text": [
      "<class 'numpy.ma.core.MaskedArray'>\n",
      "(45, 25, 48, 67)\n"
     ]
    }
   ],
   "source": [
    "with netCDF4.Dataset(datafile) as nc:\n",
    "    nitrate = nc.variables['Water_body_nitrate_L1'][:]\n",
    "print(type(nitrate))\n",
    "print(nitrate.shape)"
   ]
  },
  {
   "cell_type": "markdown",
   "metadata": {
    "slideshow": {
     "slide_type": "subslide"
    }
   },
   "source": [
    "## Load the coordinates\n",
    "The field has 4 dimensions:\n",
    "* time, \n",
    "* depth, \n",
    "* latitude,\n",
    "* longitude.\n",
    "\n",
    "The print command provides a summary:"
   ]
  },
  {
   "cell_type": "code",
   "execution_count": 9,
   "metadata": {
    "slideshow": {
     "slide_type": "fragment"
    }
   },
   "outputs": [
    {
     "name": "stdout",
     "output_type": "stream",
     "text": [
      "<class 'netCDF4._netCDF4.Variable'>\n",
      "float32 time(time)\n",
      "    units: Days since 1960-01-01\n",
      "    climatology: climatology_bounds\n",
      "unlimited dimensions: \n",
      "current shape = (45,)\n",
      "filling on, default _FillValue of 9.969209968386869e+36 used\n",
      "\n"
     ]
    }
   ],
   "source": [
    "with netCDF4.Dataset(datafile) as nc:\n",
    "    time = nc.variables['time']\n",
    "    print(time)"
   ]
  },
  {
   "cell_type": "markdown",
   "metadata": {
    "slideshow": {
     "slide_type": "subslide"
    }
   },
   "source": [
    "To get the variable values, we add `[:]` after the variable name:"
   ]
  },
  {
   "cell_type": "code",
   "execution_count": 10,
   "metadata": {
    "collapsed": true,
    "slideshow": {
     "slide_type": "fragment"
    }
   },
   "outputs": [],
   "source": [
    "with netCDF4.Dataset(datafile) as nc:\n",
    "    lon = nc.variables['lon'][:]\n",
    "    lat = nc.variables['lat'][:]\n",
    "    time = nc.variables['time'][:]\n",
    "    depth = nc.variables['depth'][:]"
   ]
  },
  {
   "cell_type": "markdown",
   "metadata": {
    "slideshow": {
     "slide_type": "subslide"
    }
   },
   "source": [
    "## Variable attributes\n",
    "For example, the time units:"
   ]
  },
  {
   "cell_type": "code",
   "execution_count": 11,
   "metadata": {
    "slideshow": {
     "slide_type": "fragment"
    }
   },
   "outputs": [
    {
     "name": "stdout",
     "output_type": "stream",
     "text": [
      "Days since 1960-01-01\n"
     ]
    },
    {
     "data": {
      "text/plain": [
       "str"
      ]
     },
     "execution_count": 11,
     "metadata": {},
     "output_type": "execute_result"
    }
   ],
   "source": [
    "with netCDF4.Dataset(datafile) as nc:\n",
    "    timeunits = nc.variables['time'].units\n",
    "print(timeunits)\n",
    "type(timeunits)"
   ]
  },
  {
   "cell_type": "markdown",
   "metadata": {
    "slideshow": {
     "slide_type": "fragment"
    }
   },
   "source": [
    "Selection of a given year:     \n",
    "the netCDF4 library provides a method to convert the time into dates:"
   ]
  },
  {
   "cell_type": "code",
   "execution_count": 12,
   "metadata": {
    "slideshow": {
     "slide_type": "fragment"
    }
   },
   "outputs": [
    {
     "name": "stdout",
     "output_type": "stream",
     "text": [
      "[datetime.datetime(1965, 11, 16, 0, 0)\n",
      " datetime.datetime(1966, 11, 16, 0, 0)\n",
      " datetime.datetime(1967, 11, 16, 0, 0)\n",
      " datetime.datetime(1968, 11, 16, 0, 0)\n",
      " datetime.datetime(1969, 11, 16, 0, 0)\n",
      " datetime.datetime(1970, 11, 16, 0, 0)\n",
      " datetime.datetime(1971, 11, 16, 0, 0)\n",
      " datetime.datetime(1972, 11, 16, 0, 0)\n",
      " datetime.datetime(1973, 11, 16, 0, 0)\n",
      " datetime.datetime(1974, 11, 16, 0, 0)\n",
      " datetime.datetime(1975, 11, 16, 0, 0)\n",
      " datetime.datetime(1976, 11, 16, 0, 0)\n",
      " datetime.datetime(1977, 11, 16, 0, 0)\n",
      " datetime.datetime(1978, 11, 16, 0, 0)\n",
      " datetime.datetime(1979, 11, 16, 0, 0)\n",
      " datetime.datetime(1980, 11, 16, 0, 0)\n",
      " datetime.datetime(1981, 11, 16, 0, 0)\n",
      " datetime.datetime(1982, 11, 16, 0, 0)\n",
      " datetime.datetime(1983, 11, 16, 0, 0)\n",
      " datetime.datetime(1984, 11, 16, 0, 0)\n",
      " datetime.datetime(1985, 11, 16, 0, 0)\n",
      " datetime.datetime(1986, 11, 16, 0, 0)\n",
      " datetime.datetime(1987, 11, 16, 0, 0)\n",
      " datetime.datetime(1988, 11, 16, 0, 0)\n",
      " datetime.datetime(1989, 11, 16, 0, 0)\n",
      " datetime.datetime(1990, 11, 16, 0, 0)\n",
      " datetime.datetime(1991, 11, 16, 0, 0)\n",
      " datetime.datetime(1992, 11, 16, 0, 0)\n",
      " datetime.datetime(1993, 11, 16, 0, 0)\n",
      " datetime.datetime(1994, 11, 16, 0, 0)\n",
      " datetime.datetime(1995, 11, 16, 0, 0)\n",
      " datetime.datetime(1996, 11, 16, 0, 0)\n",
      " datetime.datetime(1997, 11, 16, 0, 0)\n",
      " datetime.datetime(1998, 11, 16, 0, 0)\n",
      " datetime.datetime(1999, 11, 16, 0, 0)\n",
      " datetime.datetime(2000, 11, 16, 0, 0)\n",
      " datetime.datetime(2001, 11, 16, 0, 0)\n",
      " datetime.datetime(2002, 11, 16, 0, 0)\n",
      " datetime.datetime(2003, 11, 16, 0, 0)\n",
      " datetime.datetime(2004, 11, 16, 0, 0)\n",
      " datetime.datetime(2005, 11, 16, 0, 0)\n",
      " datetime.datetime(2006, 11, 16, 0, 0)\n",
      " datetime.datetime(2007, 11, 16, 0, 0)\n",
      " datetime.datetime(2008, 11, 16, 0, 0)\n",
      " datetime.datetime(2009, 11, 16, 0, 0)]\n"
     ]
    }
   ],
   "source": [
    "dates = netCDF4.num2date(time, timeunits)\n",
    "print(dates)"
   ]
  },
  {
   "cell_type": "markdown",
   "metadata": {
    "slideshow": {
     "slide_type": "slide"
    }
   },
   "source": [
    "# Creating  plots"
   ]
  },
  {
   "cell_type": "markdown",
   "metadata": {
    "slideshow": {
     "slide_type": "fragment"
    }
   },
   "source": [
    "## Simple plots\n",
    "We will represent 2D fields (longitude and latitude).  "
   ]
  },
  {
   "cell_type": "code",
   "execution_count": 13,
   "metadata": {
    "slideshow": {
     "slide_type": "fragment"
    }
   },
   "outputs": [
    {
     "name": "stdout",
     "output_type": "stream",
     "text": [
      "(48, 67)\n"
     ]
    }
   ],
   "source": [
    "nitrate2D = nitrate[-1, -1, :, :]\n",
    "print(nitrate2D.shape)"
   ]
  },
  {
   "cell_type": "code",
   "execution_count": 14,
   "metadata": {},
   "outputs": [
    {
     "data": {
      "image/png": "[encoded data removed]",
      "text/plain": [
       "<matplotlib.figure.Figure at 0x7f9cd88932b0>"
      ]
     },
     "metadata": {},
     "output_type": "display_data"
    }
   ],
   "source": [
    "fig = plt.figure()\n",
    "plt.pcolormesh(lon, lat, nitrate2D)\n",
    "plt.colorbar()\n",
    "plt.show()\n",
    "plt.close()"
   ]
  },
  {
   "cell_type": "markdown",
   "metadata": {
    "slideshow": {
     "slide_type": "subslide"
    }
   },
   "source": [
    "## Interacting with [leaflet](http://leafletjs.com/)"
   ]
  },
  {
   "cell_type": "markdown",
   "metadata": {
    "slideshow": {
     "slide_type": "fragment"
    }
   },
   "source": [
    "The [folium]() package provides an easy way to set up a [leaflet](http://leafletjs.com/) map using python command.     \n",
    "We also load the [Basemap]() package that allows us to work with geographical projections."
   ]
  },
  {
   "cell_type": "code",
   "execution_count": 21,
   "metadata": {
    "collapsed": true,
    "slideshow": {
     "slide_type": "fragment"
    }
   },
   "outputs": [],
   "source": [
    "import folium\n",
    "from folium import plugins\n",
    "from mpl_toolkits.basemap import Basemap "
   ]
  },
  {
   "cell_type": "markdown",
   "metadata": {
    "slideshow": {
     "slide_type": "fragment"
    }
   },
   "source": [
    "First we need to define the map object using either the central point (as follows) or the domain bounding box."
   ]
  },
  {
   "cell_type": "code",
   "execution_count": 29,
   "metadata": {
    "collapsed": true,
    "slideshow": {
     "slide_type": "fragment"
    }
   },
   "outputs": [],
   "source": [
    "lmap = folium.Map(location=[lat.mean(), lon.mean()], zoom_start=7)"
   ]
  },
  {
   "cell_type": "markdown",
   "metadata": {
    "slideshow": {
     "slide_type": "subslide"
    }
   },
   "source": [
    "Then we will create a png image. The projection has to be set to epsg=3857\n",
    "in order to have images properly overlaying Leaflet basemap"
   ]
  },
  {
   "cell_type": "code",
   "execution_count": 25,
   "metadata": {
    "slideshow": {
     "slide_type": "fragment"
    }
   },
   "outputs": [],
   "source": [
    "m = Basemap(llcrnrlon=lon.min(), llcrnrlat=lat.min(),\n",
    "            urcrnrlon=lon.max(), urcrnrlat=lat.max(), \n",
    "            resolution = 'l', epsg=3857)"
   ]
  },
  {
   "cell_type": "markdown",
   "metadata": {
    "slideshow": {
     "slide_type": "fragment"
    }
   },
   "source": [
    "Once the projection is instancied, we can create the figure and save it as a png image."
   ]
  },
  {
   "cell_type": "code",
   "execution_count": 28,
   "metadata": {
    "slideshow": {
     "slide_type": "fragment"
    }
   },
   "outputs": [
    {
     "name": "stderr",
     "output_type": "stream",
     "text": [
      "/home/ctroupin/Software/PythonEnvs/Diva-python3.6/lib/python3.6/site-packages/mpl_toolkits/basemap/__init__.py:3413: MatplotlibDeprecationWarning: The ishold function was deprecated in version 2.0.\n",
      "  b = ax.ishold()\n",
      "/home/ctroupin/Software/PythonEnvs/Diva-python3.6/lib/python3.6/site-packages/mpl_toolkits/basemap/__init__.py:3422: MatplotlibDeprecationWarning: axes.hold is deprecated.\n",
      "    See the API Changes document (http://matplotlib.org/api/api_changes.html)\n",
      "    for more details.\n",
      "  ax.hold(b)\n"
     ]
    },
    {
     "data": {
      "image/png": "[encoded data removed]",
      "text/plain": [
       "<matplotlib.figure.Figure at 0x7f9cd081b048>"
      ]
     },
     "metadata": {},
     "output_type": "display_data"
    }
   ],
   "source": [
    "llon, llat = np.meshgrid(lon, lat)\n",
    "\n",
    "fig = plt.figure()\n",
    "ax = fig.add_axes([0, 0, 1, 1])\n",
    "ax.axis('off')\n",
    "m.ax = ax\n",
    "m.pcolormesh(llon, llat, nitrate[-1, -1, :, :], latlon=True)\n",
    "plt.savefig(os.path.join(figdir, \"nitrate.png\"), dpi=300,\n",
    "            transparent=True, \n",
    "            bbox_inches='tight', \n",
    "            pad_inches=0)\n",
    "plt.show()\n",
    "plt.close()"
   ]
  },
  {
   "cell_type": "markdown",
   "metadata": {
    "slideshow": {
     "slide_type": "subslide"
    }
   },
   "source": [
    "The last step consists in adding the image as an overlay."
   ]
  },
  {
   "cell_type": "code",
   "execution_count": 31,
   "metadata": {
    "slideshow": {
     "slide_type": "fragment"
    }
   },
   "outputs": [
    {
     "data": {
      "text/html": [
       "<div style=\"width:100%;\"><div style=\"position:relative;width:100%;height:0;padding-bottom:60%;\"><iframe src=\"data:text/html;charset=utf-8;base64,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\" style=\"position:absolute;width:100%;height:100%;left:0;top:0;border:none !important;\" allowfullscreen webkitallowfullscreen mozallowfullscreen></iframe></div></div>"
      ],
      "text/plain": [
       "<folium.folium.Map at 0x7f9cd082ca20>"
      ]
     },
     "execution_count": 31,
     "metadata": {},
     "output_type": "execute_result"
    }
   ],
   "source": [
    "folium.plugins.ImageOverlay(os.path.join(figdir, \"nitrate.png\"),\n",
    "                            bounds=[[lat.min().tolist(), lon.min().tolist()], \n",
    "                                    [lat.max().tolist(), lon.max().tolist()]], \n",
    "                            opacity=0.8\n",
    "                           ).add_to(lmap)\n",
    "lmap"
   ]
  },
  {
   "cell_type": "code",
   "execution_count": null,
   "metadata": {
    "collapsed": true
   },
   "outputs": [],
   "source": []
  }
 ],
 "metadata": {
  "celltoolbar": "Slideshow",
  "kernelspec": {
   "display_name": "Diva-python3.6",
   "language": "python",
   "name": "diva-python3.6"
  },
  "language_info": {
   "codemirror_mode": {
    "name": "ipython",
    "version": 3
   },
   "file_extension": ".py",
   "mimetype": "text/x-python",
   "name": "python",
   "nbconvert_exporter": "python",
   "pygments_lexer": "ipython3",
   "version": "3.6.0"
  }
 },
 "nbformat": 4,
 "nbformat_minor": 2
}
