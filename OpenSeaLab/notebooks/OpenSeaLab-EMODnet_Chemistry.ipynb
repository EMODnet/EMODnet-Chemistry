{
 "cells": [
  {
   "cell_type": "markdown",
   "metadata": {
    "slideshow": {
     "slide_type": "slide"
    }
   },
   "source": [
    "# Reading netCDF files with python"
   ]
  },
  {
   "cell_type": "markdown",
   "metadata": {
    "slideshow": {
     "slide_type": "fragment"
    }
   },
   "source": [
    "We will use the netCDF4 library (https://github.com/Unidata/netcdf4-python) for the reading and [matplotlib](http://matplotlib.org/) for the plotting."
   ]
  },
  {
   "cell_type": "code",
   "execution_count": 1,
   "metadata": {
    "collapsed": true,
    "slideshow": {
     "slide_type": "fragment"
    }
   },
   "outputs": [],
   "source": [
    "import os\n",
    "import matplotlib.pyplot as plt\n",
    "import netCDF4"
   ]
  },
  {
   "cell_type": "markdown",
   "metadata": {
    "slideshow": {
     "slide_type": "subslide"
    }
   },
   "source": [
    "# Reading the data"
   ]
  },
  {
   "cell_type": "markdown",
   "metadata": {
    "slideshow": {
     "slide_type": "fragment"
    }
   },
   "source": [
    "Let's define the data file we want to process:"
   ]
  },
  {
   "cell_type": "code",
   "execution_count": 2,
   "metadata": {
    "collapsed": true,
    "slideshow": {
     "slide_type": "fragment"
    }
   },
   "outputs": [],
   "source": [
    "datadir = \"./OpenSeaLab/autumn\"\n",
    "datafile = os.path.join(datadir, \"Water_body_nitrate.4Danl.nc\")"
   ]
  },
  {
   "cell_type": "markdown",
   "metadata": {
    "slideshow": {
     "slide_type": "subslide"
    }
   },
   "source": [
    "## Metadata (file header)"
   ]
  },
  {
   "cell_type": "code",
   "execution_count": 3,
   "metadata": {
    "slideshow": {
     "slide_type": "fragment"
    }
   },
   "outputs": [
    {
     "name": "stdout",
     "output_type": "stream",
     "text": [
      "<class 'netCDF4._netCDF4.Dataset'>\n",
      "root group (NETCDF4_CLASSIC data model, file format HDF5):\n",
      "    Conventions: CF-1.0\n",
      "    project: SeaDataNetII: http://www.seadatanet.org/\n",
      "    institution: Hellenic Centre for Marine Research, Hellenic National Oceanographic Data Centre (HCMR/HNODC)\n",
      "    production: Diva group. E-mails: a.barth@ulg.ac.be; swatelet@ulg.ac.be\n",
      "    data_access: GHER OPENDAB: http://gher-diva.phys.ulg.ac.be/data/\n",
      "    WEB_visualisation: http://gher-diva.phys.ulg.ac.be/web-vis/clim.html\n",
      "    Author_e-mail: Athanasia (Sissy) Iona <sissy@hnodc.hcmr.gr>\n",
      "    date: 2015-06-16\n",
      "    title: DIVA 4D analysis of Water_body_nitrate\n",
      "    file_name: ../output/3Danalysis/Water_body_nitrate.4Danl.nc\n",
      "    source: observational data from SeaDataNet/EMODNet Chemistry Data Network\n",
      "    comment: Every year of the time dimension corresponds to a 10-year centred average for the winter (Jan-Mar) or spring (Apr-Jun) or summer (Jul-Sept) or automn (Oct-Dec) season\n",
      "    product_id: 4b65b074-19a2-11e5-95c0-8056f28224bb\n",
      "    search_keywords: Nitrate concentration parameters in the water column\n",
      "    parameter_keywords: Water body nitrate\n",
      "    area_keywords: Mediterranean Sea\n",
      "    product_version: 1.0\n",
      "    preview: http://oceanbrowser.net/emodnet/Python/web/wms?styles=vmax%3A1.02776%2Bvmin%3A0.00100148&format=image%2Fpng&height=500&bbox=-6.25%2C30.0%2C36.375%2C45.875&decorated=true&transparent=true&layers=Mediterranean+Sea%2FAutumn+%28October-December%29+-+10-years+running+averages%2FWater_body_nitrate.4Danl.nc%2AWater_body_nitrate&crs=CRS%3A84&service=WMS&request=GetMap&width=800&version=1.3.0\n",
      "    institution_edmo_code: 269\n",
      "    history: Thu Oct 12 12:01:39 2017: ncks -d lat,40.,46. -d lon,11.7,20. ./Data/autumn/Water_body_nitrate.4Danl.nc ./Data/autumn//Adriatic/Water_body_nitrate.4Danl.nc\n",
      "    NCO: 4.4.2\n",
      "    dimensions(sizes): time(45), depth(25), lat(48), lon(67), nv(2), observations(286672), idlen(30)\n",
      "    variables(dimensions): float32 \u001b[4mCLfield\u001b[0m(time,depth,lat,lon), float32 \u001b[4mCORRLEN\u001b[0m(time,depth), float32 \u001b[4mSNR\u001b[0m(time,depth), float32 \u001b[4mVARBACK\u001b[0m(time,depth), float32 \u001b[4mWater_body_nitrate\u001b[0m(time,depth,lat,lon), float32 \u001b[4mWater_body_nitrate_L1\u001b[0m(time,depth,lat,lon), float32 \u001b[4mWater_body_nitrate_L2\u001b[0m(time,depth,lat,lon), float32 \u001b[4mWater_body_nitrate_deepest\u001b[0m(time,lat,lon), float32 \u001b[4mWater_body_nitrate_deepest_L1\u001b[0m(time,lat,lon), float32 \u001b[4mWater_body_nitrate_deepest_L2\u001b[0m(time,lat,lon), float32 \u001b[4mWater_body_nitrate_err\u001b[0m(time,depth,lat,lon), float32 \u001b[4mWater_body_nitrate_relerr\u001b[0m(time,depth,lat,lon), float32 \u001b[4mclimatology_bounds\u001b[0m(time,nv), float32 \u001b[4mdatabins\u001b[0m(time,depth,lat,lon), float32 \u001b[4mdepth\u001b[0m(depth), float32 \u001b[4mlat\u001b[0m(lat), float32 \u001b[4mlon\u001b[0m(lon), float64 \u001b[4mobsdepth\u001b[0m(observations), |S1 \u001b[4mobsid\u001b[0m(observations,idlen), float64 \u001b[4mobslat\u001b[0m(observations), float64 \u001b[4mobslon\u001b[0m(observations), float64 \u001b[4mobstime\u001b[0m(observations), float32 \u001b[4moutlbins\u001b[0m(time,depth,lat,lon), float32 \u001b[4mtime\u001b[0m(time)\n",
      "    groups: \n",
      "\n"
     ]
    }
   ],
   "source": [
    "with netCDF4.Dataset(datafile) as nc:\n",
    "    print(nc)"
   ]
  },
  {
   "cell_type": "markdown",
   "metadata": {
    "slideshow": {
     "slide_type": "subslide"
    }
   },
   "source": [
    "## Variables"
   ]
  },
  {
   "cell_type": "code",
   "execution_count": 4,
   "metadata": {
    "slideshow": {
     "slide_type": "fragment"
    }
   },
   "outputs": [
    {
     "name": "stdout",
     "output_type": "stream",
     "text": [
      "CLfield\n",
      "CORRLEN\n",
      "SNR\n",
      "VARBACK\n",
      "Water_body_nitrate\n",
      "Water_body_nitrate_L1\n",
      "Water_body_nitrate_L2\n",
      "Water_body_nitrate_deepest\n",
      "Water_body_nitrate_deepest_L1\n",
      "Water_body_nitrate_deepest_L2\n",
      "Water_body_nitrate_err\n",
      "Water_body_nitrate_relerr\n",
      "climatology_bounds\n",
      "databins\n",
      "depth\n",
      "lat\n",
      "lon\n",
      "obsdepth\n",
      "obsid\n",
      "obslat\n",
      "obslon\n",
      "obstime\n",
      "outlbins\n",
      "time\n"
     ]
    }
   ],
   "source": [
    "with netCDF4.Dataset(datafile) as nc:\n",
    "    varnames = nc.variables.keys()\n",
    "for var in varnames:\n",
    "    print(var)"
   ]
  },
  {
   "cell_type": "markdown",
   "metadata": {
    "slideshow": {
     "slide_type": "subslide"
    }
   },
   "source": [
    "## Load a single variable\n",
    "The `print` command provides a summary of the considered variable."
   ]
  },
  {
   "cell_type": "code",
   "execution_count": 5,
   "metadata": {
    "slideshow": {
     "slide_type": "fragment"
    }
   },
   "outputs": [
    {
     "name": "stdout",
     "output_type": "stream",
     "text": [
      "<class 'netCDF4._netCDF4.Variable'>\n",
      "float32 Water_body_nitrate_L1(time, depth, lat, lon)\n",
      "    long_name: Water_body_nitrate masked using relative error threshold 0.3\n",
      "    units: umol/l\n",
      "    valid_min: 0.0\n",
      "    valid_max: 661.0\n",
      "    _FillValue: -9999.9\n",
      "    missing_value: -9999.9\n",
      "unlimited dimensions: \n",
      "current shape = (45, 25, 48, 67)\n",
      "filling on\n"
     ]
    }
   ],
   "source": [
    "with netCDF4.Dataset(datafile) as nc:\n",
    "    nitrate = nc.variables['Water_body_nitrate_L1']\n",
    "    print(nitrate)"
   ]
  },
  {
   "cell_type": "markdown",
   "metadata": {
    "slideshow": {
     "slide_type": "fragment"
    }
   },
   "source": [
    "To get the variable values:    "
   ]
  },
  {
   "cell_type": "code",
   "execution_count": 6,
   "metadata": {
    "slideshow": {
     "slide_type": "fragment"
    }
   },
   "outputs": [
    {
     "name": "stdout",
     "output_type": "stream",
     "text": [
      "<class 'numpy.ma.core.MaskedArray'>\n",
      "(45, 25, 48, 67)\n"
     ]
    }
   ],
   "source": [
    "with netCDF4.Dataset(datafile) as nc:\n",
    "    nitrate = nc.variables['Water_body_nitrate_L1'][:]\n",
    "print(type(nitrate))\n",
    "print(nitrate.shape)"
   ]
  },
  {
   "cell_type": "markdown",
   "metadata": {
    "slideshow": {
     "slide_type": "subslide"
    }
   },
   "source": [
    "## Load the coordinates\n",
    "The field has 4 dimensions:\n",
    "* time, \n",
    "* depth, \n",
    "* latitude,\n",
    "* longitude.\n",
    "\n",
    "The print command provides a summary:"
   ]
  },
  {
   "cell_type": "code",
   "execution_count": 7,
   "metadata": {
    "slideshow": {
     "slide_type": "fragment"
    }
   },
   "outputs": [
    {
     "name": "stdout",
     "output_type": "stream",
     "text": [
      "<class 'netCDF4._netCDF4.Variable'>\n",
      "float32 time(time)\n",
      "    units: Days since 1960-01-01\n",
      "    climatology: climatology_bounds\n",
      "unlimited dimensions: \n",
      "current shape = (45,)\n",
      "filling on, default _FillValue of 9.969209968386869e+36 used\n",
      "\n"
     ]
    }
   ],
   "source": [
    "with netCDF4.Dataset(datafile) as nc:\n",
    "    time = nc.variables['time']\n",
    "    print(time)"
   ]
  },
  {
   "cell_type": "markdown",
   "metadata": {
    "slideshow": {
     "slide_type": "subslide"
    }
   },
   "source": [
    "To get the variable values, we add `[:]` after the variable name:"
   ]
  },
  {
   "cell_type": "code",
   "execution_count": 8,
   "metadata": {
    "slideshow": {
     "slide_type": "fragment"
    }
   },
   "outputs": [],
   "source": [
    "with netCDF4.Dataset(datafile) as nc:\n",
    "    lon = nc.variables['lon'][:]\n",
    "    lat = nc.variables['lat'][:]\n",
    "    time = nc.variables['time'][:]\n",
    "    depth = nc.variables['depth'][:]"
   ]
  },
  {
   "cell_type": "markdown",
   "metadata": {
    "slideshow": {
     "slide_type": "subslide"
    }
   },
   "source": [
    "## Variable attributes\n",
    "For example, the time units:"
   ]
  },
  {
   "cell_type": "code",
   "execution_count": 9,
   "metadata": {
    "slideshow": {
     "slide_type": "fragment"
    }
   },
   "outputs": [
    {
     "name": "stdout",
     "output_type": "stream",
     "text": [
      "Days since 1960-01-01\n"
     ]
    },
    {
     "data": {
      "text/plain": [
       "str"
      ]
     },
     "execution_count": 9,
     "metadata": {},
     "output_type": "execute_result"
    }
   ],
   "source": [
    "with netCDF4.Dataset(datafile) as nc:\n",
    "    timeunits = nc.variables['time'].units\n",
    "print(timeunits)\n",
    "type(timeunits)"
   ]
  },
  {
   "cell_type": "markdown",
   "metadata": {
    "slideshow": {
     "slide_type": "fragment"
    }
   },
   "source": [
    "Selection of a given year:     \n",
    "the netCDF4 library provides a method to convert the time into dates:"
   ]
  },
  {
   "cell_type": "code",
   "execution_count": 10,
   "metadata": {
    "slideshow": {
     "slide_type": "fragment"
    }
   },
   "outputs": [
    {
     "name": "stdout",
     "output_type": "stream",
     "text": [
      "[datetime.datetime(1965, 11, 16, 0, 0)\n",
      " datetime.datetime(1966, 11, 16, 0, 0)\n",
      " datetime.datetime(1967, 11, 16, 0, 0)\n",
      " datetime.datetime(1968, 11, 16, 0, 0)\n",
      " datetime.datetime(1969, 11, 16, 0, 0)\n",
      " datetime.datetime(1970, 11, 16, 0, 0)\n",
      " datetime.datetime(1971, 11, 16, 0, 0)\n",
      " datetime.datetime(1972, 11, 16, 0, 0)\n",
      " datetime.datetime(1973, 11, 16, 0, 0)\n",
      " datetime.datetime(1974, 11, 16, 0, 0)\n",
      " datetime.datetime(1975, 11, 16, 0, 0)\n",
      " datetime.datetime(1976, 11, 16, 0, 0)\n",
      " datetime.datetime(1977, 11, 16, 0, 0)\n",
      " datetime.datetime(1978, 11, 16, 0, 0)\n",
      " datetime.datetime(1979, 11, 16, 0, 0)\n",
      " datetime.datetime(1980, 11, 16, 0, 0)\n",
      " datetime.datetime(1981, 11, 16, 0, 0)\n",
      " datetime.datetime(1982, 11, 16, 0, 0)\n",
      " datetime.datetime(1983, 11, 16, 0, 0)\n",
      " datetime.datetime(1984, 11, 16, 0, 0)\n",
      " datetime.datetime(1985, 11, 16, 0, 0)\n",
      " datetime.datetime(1986, 11, 16, 0, 0)\n",
      " datetime.datetime(1987, 11, 16, 0, 0)\n",
      " datetime.datetime(1988, 11, 16, 0, 0)\n",
      " datetime.datetime(1989, 11, 16, 0, 0)\n",
      " datetime.datetime(1990, 11, 16, 0, 0)\n",
      " datetime.datetime(1991, 11, 16, 0, 0)\n",
      " datetime.datetime(1992, 11, 16, 0, 0)\n",
      " datetime.datetime(1993, 11, 16, 0, 0)\n",
      " datetime.datetime(1994, 11, 16, 0, 0)\n",
      " datetime.datetime(1995, 11, 16, 0, 0)\n",
      " datetime.datetime(1996, 11, 16, 0, 0)\n",
      " datetime.datetime(1997, 11, 16, 0, 0)\n",
      " datetime.datetime(1998, 11, 16, 0, 0)\n",
      " datetime.datetime(1999, 11, 16, 0, 0)\n",
      " datetime.datetime(2000, 11, 16, 0, 0)\n",
      " datetime.datetime(2001, 11, 16, 0, 0)\n",
      " datetime.datetime(2002, 11, 16, 0, 0)\n",
      " datetime.datetime(2003, 11, 16, 0, 0)\n",
      " datetime.datetime(2004, 11, 16, 0, 0)\n",
      " datetime.datetime(2005, 11, 16, 0, 0)\n",
      " datetime.datetime(2006, 11, 16, 0, 0)\n",
      " datetime.datetime(2007, 11, 16, 0, 0)\n",
      " datetime.datetime(2008, 11, 16, 0, 0)\n",
      " datetime.datetime(2009, 11, 16, 0, 0)]\n"
     ]
    }
   ],
   "source": [
    "dates = netCDF4.num2date(time, timeunits)\n",
    "print(dates)"
   ]
  },
  {
   "cell_type": "markdown",
   "metadata": {
    "slideshow": {
     "slide_type": "slide"
    }
   },
   "source": [
    "# Creating  plots"
   ]
  },
  {
   "cell_type": "markdown",
   "metadata": {
    "slideshow": {
     "slide_type": "fragment"
    }
   },
   "source": [
    "## Simple plots\n",
    "We will represent 2D fields (longitude and latitude).  "
   ]
  },
  {
   "cell_type": "code",
   "execution_count": 11,
   "metadata": {
    "slideshow": {
     "slide_type": "fragment"
    }
   },
   "outputs": [
    {
     "name": "stdout",
     "output_type": "stream",
     "text": [
      "(48, 67)\n"
     ]
    }
   ],
   "source": [
    "nitrate2D = nitrate[-1, -1, :, :]\n",
    "print(nitrate2D.shape)"
   ]
  },
  {
   "cell_type": "code",
   "execution_count": 12,
   "metadata": {},
   "outputs": [
    {
     "data": {
      "image/png": "[encoded data removed]",
      "text/plain": [
       "<matplotlib.figure.Figure at 0x7ff17d382828>"
      ]
     },
     "metadata": {},
     "output_type": "display_data"
    }
   ],
   "source": [
    "fig = plt.figure()\n",
    "plt.pcolormesh(lon, lat, nitrate2D)\n",
    "plt.colorbar()\n",
    "plt.show()\n",
    "plt.close()"
   ]
  },
  {
   "cell_type": "markdown",
   "metadata": {
    "slideshow": {
     "slide_type": "subslide"
    }
   },
   "source": [
    "## Interacting with [leaflet](http://leafletjs.com/)"
   ]
  },
  {
   "cell_type": "code",
   "execution_count": 14,
   "metadata": {
    "collapsed": true,
    "slideshow": {
     "slide_type": "fragment"
    }
   },
   "outputs": [],
   "source": [
    "import folium"
   ]
  },
  {
   "cell_type": "code",
   "execution_count": 16,
   "metadata": {
    "slideshow": {
     "slide_type": "fragment"
    }
   },
   "outputs": [],
   "source": [
    "m = folium.Map(location=[lat.mean(), lon.mean()])"
   ]
  },
  {
   "cell_type": "code",
   "execution_count": 17,
   "metadata": {
    "slideshow": {
     "slide_type": "subslide"
    }
   },
   "outputs": [
    {
     "data": {
      "text/html": [
       "<div style=\"width:100%;\"><div style=\"position:relative;width:100%;height:0;padding-bottom:60%;\"><iframe src=\"data:text/html;charset=utf-8;base64,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\" style=\"position:absolute;width:100%;height:100%;left:0;top:0;border:none !important;\" allowfullscreen webkitallowfullscreen mozallowfullscreen></iframe></div></div>"
      ],
      "text/plain": [
       "<folium.folium.Map at 0x7ff176069550>"
      ]
     },
     "execution_count": 17,
     "metadata": {},
     "output_type": "execute_result"
    }
   ],
   "source": [
    "m"
   ]
  },
  {
   "cell_type": "code",
   "execution_count": null,
   "metadata": {
    "collapsed": true
   },
   "outputs": [],
   "source": []
  }
 ],
 "metadata": {
  "celltoolbar": "Slideshow",
  "kernelspec": {
   "display_name": "Diva-python3.6",
   "language": "python",
   "name": "diva-python3.6"
  },
  "language_info": {
   "codemirror_mode": {
    "name": "ipython",
    "version": 3
   },
   "file_extension": ".py",
   "mimetype": "text/x-python",
   "name": "python",
   "nbconvert_exporter": "python",
   "pygments_lexer": "ipython3",
   "version": "3.6.0"
  }
 },
 "nbformat": 4,
 "nbformat_minor": 2
}
