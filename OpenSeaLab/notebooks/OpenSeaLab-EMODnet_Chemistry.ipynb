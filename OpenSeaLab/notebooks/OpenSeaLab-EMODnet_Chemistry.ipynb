{
 "cells": [
  {
   "cell_type": "markdown",
   "metadata": {
    "slideshow": {
     "slide_type": "slide"
    }
   },
   "source": [
    "# Reading netCDF files with python"
   ]
  },
  {
   "cell_type": "markdown",
   "metadata": {
    "slideshow": {
     "slide_type": "fragment"
    }
   },
   "source": [
    "We will use the netCDF4 library (https://github.com/Unidata/netcdf4-python) for the reading and [matplotlib](http://matplotlib.org/) for the plotting."
   ]
  },
  {
   "cell_type": "code",
   "execution_count": 1,
   "metadata": {
    "collapsed": true,
    "slideshow": {
     "slide_type": "fragment"
    }
   },
   "outputs": [],
   "source": [
    "import os\n",
    "import matplotlib.pyplot as plt\n",
    "import netCDF4\n",
    "import numpy as np"
   ]
  },
  {
   "cell_type": "markdown",
   "metadata": {
    "slideshow": {
     "slide_type": "subslide"
    }
   },
   "source": [
    "# Reading the data"
   ]
  },
  {
   "cell_type": "markdown",
   "metadata": {
    "slideshow": {
     "slide_type": "fragment"
    }
   },
   "source": [
    "Let's define the data file we want to process:"
   ]
  },
  {
   "cell_type": "code",
   "execution_count": 2,
   "metadata": {
    "collapsed": true,
    "slideshow": {
     "slide_type": "fragment"
    }
   },
   "outputs": [],
   "source": [
    "datadir = \"./OpenSeaLab/autumn\"\n",
    "figdir = \"./figures/\"\n",
    "htmldir = \"./html/\"\n",
    "datafile = os.path.join(datadir, \"Water_body_nitrate.4Danl.nc\")"
   ]
  },
  {
   "cell_type": "markdown",
   "metadata": {
    "slideshow": {
     "slide_type": "subslide"
    }
   },
   "source": [
    "## Metadata (file header)"
   ]
  },
  {
   "cell_type": "code",
   "execution_count": 3,
   "metadata": {
    "slideshow": {
     "slide_type": "fragment"
    }
   },
   "outputs": [
    {
     "name": "stdout",
     "output_type": "stream",
     "text": [
      "<class 'netCDF4._netCDF4.Dataset'>\n",
      "root group (NETCDF4_CLASSIC data model, file format HDF5):\n",
      "    Conventions: CF-1.0\n",
      "    project: SeaDataNetII: http://www.seadatanet.org/\n",
      "    institution: Hellenic Centre for Marine Research, Hellenic National Oceanographic Data Centre (HCMR/HNODC)\n",
      "    production: Diva group. E-mails: a.barth@ulg.ac.be; swatelet@ulg.ac.be\n",
      "    data_access: GHER OPENDAB: http://gher-diva.phys.ulg.ac.be/data/\n",
      "    WEB_visualisation: http://gher-diva.phys.ulg.ac.be/web-vis/clim.html\n",
      "    Author_e-mail: Athanasia (Sissy) Iona <sissy@hnodc.hcmr.gr>\n",
      "    date: 2015-06-16\n",
      "    title: DIVA 4D analysis of Water_body_nitrate\n",
      "    file_name: ../output/3Danalysis/Water_body_nitrate.4Danl.nc\n",
      "    source: observational data from SeaDataNet/EMODNet Chemistry Data Network\n",
      "    comment: Every year of the time dimension corresponds to a 10-year centred average for the winter (Jan-Mar) or spring (Apr-Jun) or summer (Jul-Sept) or automn (Oct-Dec) season\n",
      "    product_id: 4b65b074-19a2-11e5-95c0-8056f28224bb\n",
      "    search_keywords: Nitrate concentration parameters in the water column\n",
      "    parameter_keywords: Water body nitrate\n",
      "    area_keywords: Mediterranean Sea\n",
      "    product_version: 1.0\n",
      "    preview: http://oceanbrowser.net/emodnet/Python/web/wms?styles=vmax%3A1.02776%2Bvmin%3A0.00100148&format=image%2Fpng&height=500&bbox=-6.25%2C30.0%2C36.375%2C45.875&decorated=true&transparent=true&layers=Mediterranean+Sea%2FAutumn+%28October-December%29+-+10-years+running+averages%2FWater_body_nitrate.4Danl.nc%2AWater_body_nitrate&crs=CRS%3A84&service=WMS&request=GetMap&width=800&version=1.3.0\n",
      "    institution_edmo_code: 269\n",
      "    history: Thu Oct 12 12:01:39 2017: ncks -d lat,40.,46. -d lon,11.7,20. ./Data/autumn/Water_body_nitrate.4Danl.nc ./Data/autumn//Adriatic/Water_body_nitrate.4Danl.nc\n",
      "    NCO: 4.4.2\n",
      "    dimensions(sizes): time(45), depth(25), lat(48), lon(67), nv(2), observations(286672), idlen(30)\n",
      "    variables(dimensions): float32 \u001b[4mCLfield\u001b[0m(time,depth,lat,lon), float32 \u001b[4mCORRLEN\u001b[0m(time,depth), float32 \u001b[4mSNR\u001b[0m(time,depth), float32 \u001b[4mVARBACK\u001b[0m(time,depth), float32 \u001b[4mWater_body_nitrate\u001b[0m(time,depth,lat,lon), float32 \u001b[4mWater_body_nitrate_L1\u001b[0m(time,depth,lat,lon), float32 \u001b[4mWater_body_nitrate_L2\u001b[0m(time,depth,lat,lon), float32 \u001b[4mWater_body_nitrate_deepest\u001b[0m(time,lat,lon), float32 \u001b[4mWater_body_nitrate_deepest_L1\u001b[0m(time,lat,lon), float32 \u001b[4mWater_body_nitrate_deepest_L2\u001b[0m(time,lat,lon), float32 \u001b[4mWater_body_nitrate_err\u001b[0m(time,depth,lat,lon), float32 \u001b[4mWater_body_nitrate_relerr\u001b[0m(time,depth,lat,lon), float32 \u001b[4mclimatology_bounds\u001b[0m(time,nv), float32 \u001b[4mdatabins\u001b[0m(time,depth,lat,lon), float32 \u001b[4mdepth\u001b[0m(depth), float32 \u001b[4mlat\u001b[0m(lat), float32 \u001b[4mlon\u001b[0m(lon), float64 \u001b[4mobsdepth\u001b[0m(observations), |S1 \u001b[4mobsid\u001b[0m(observations,idlen), float64 \u001b[4mobslat\u001b[0m(observations), float64 \u001b[4mobslon\u001b[0m(observations), float64 \u001b[4mobstime\u001b[0m(observations), float32 \u001b[4moutlbins\u001b[0m(time,depth,lat,lon), float32 \u001b[4mtime\u001b[0m(time)\n",
      "    groups: \n",
      "\n"
     ]
    }
   ],
   "source": [
    "with netCDF4.Dataset(datafile) as nc:\n",
    "    print(nc)"
   ]
  },
  {
   "cell_type": "markdown",
   "metadata": {
    "slideshow": {
     "slide_type": "subslide"
    }
   },
   "source": [
    "## Variables"
   ]
  },
  {
   "cell_type": "code",
   "execution_count": 4,
   "metadata": {
    "slideshow": {
     "slide_type": "fragment"
    }
   },
   "outputs": [
    {
     "name": "stdout",
     "output_type": "stream",
     "text": [
      "CLfield\n",
      "CORRLEN\n",
      "SNR\n",
      "VARBACK\n",
      "Water_body_nitrate\n",
      "Water_body_nitrate_L1\n",
      "Water_body_nitrate_L2\n",
      "Water_body_nitrate_deepest\n",
      "Water_body_nitrate_deepest_L1\n",
      "Water_body_nitrate_deepest_L2\n",
      "Water_body_nitrate_err\n",
      "Water_body_nitrate_relerr\n",
      "climatology_bounds\n",
      "databins\n",
      "depth\n",
      "lat\n",
      "lon\n",
      "obsdepth\n",
      "obsid\n",
      "obslat\n",
      "obslon\n",
      "obstime\n",
      "outlbins\n",
      "time\n"
     ]
    }
   ],
   "source": [
    "with netCDF4.Dataset(datafile) as nc:\n",
    "    varnames = nc.variables.keys()\n",
    "for var in varnames:\n",
    "    print(var)"
   ]
  },
  {
   "cell_type": "markdown",
   "metadata": {
    "slideshow": {
     "slide_type": "subslide"
    }
   },
   "source": [
    "## Load a single variable\n",
    "The `print` command provides a summary of the considered variable."
   ]
  },
  {
   "cell_type": "code",
   "execution_count": 5,
   "metadata": {
    "slideshow": {
     "slide_type": "fragment"
    }
   },
   "outputs": [
    {
     "name": "stdout",
     "output_type": "stream",
     "text": [
      "<class 'netCDF4._netCDF4.Variable'>\n",
      "float32 Water_body_nitrate_L1(time, depth, lat, lon)\n",
      "    long_name: Water_body_nitrate masked using relative error threshold 0.3\n",
      "    units: umol/l\n",
      "    valid_min: 0.0\n",
      "    valid_max: 661.0\n",
      "    _FillValue: -9999.9\n",
      "    missing_value: -9999.9\n",
      "unlimited dimensions: \n",
      "current shape = (45, 25, 48, 67)\n",
      "filling on\n"
     ]
    }
   ],
   "source": [
    "with netCDF4.Dataset(datafile) as nc:\n",
    "    nitrate = nc.variables['Water_body_nitrate_L1']\n",
    "    print(nitrate)"
   ]
  },
  {
   "cell_type": "markdown",
   "metadata": {
    "slideshow": {
     "slide_type": "fragment"
    }
   },
   "source": [
    "To get the variable values:    "
   ]
  },
  {
   "cell_type": "code",
   "execution_count": 6,
   "metadata": {
    "slideshow": {
     "slide_type": "fragment"
    }
   },
   "outputs": [
    {
     "name": "stdout",
     "output_type": "stream",
     "text": [
      "<class 'numpy.ma.core.MaskedArray'>\n",
      "(45, 25, 48, 67)\n"
     ]
    }
   ],
   "source": [
    "with netCDF4.Dataset(datafile) as nc:\n",
    "    nitrate = nc.variables['Water_body_nitrate_L1'][:]\n",
    "print(type(nitrate))\n",
    "print(nitrate.shape)"
   ]
  },
  {
   "cell_type": "markdown",
   "metadata": {
    "slideshow": {
     "slide_type": "subslide"
    }
   },
   "source": [
    "## Load the coordinates\n",
    "The field has 4 dimensions:\n",
    "* time, \n",
    "* depth, \n",
    "* latitude,\n",
    "* longitude.\n",
    "\n",
    "The print command provides a summary:"
   ]
  },
  {
   "cell_type": "code",
   "execution_count": 7,
   "metadata": {
    "slideshow": {
     "slide_type": "fragment"
    }
   },
   "outputs": [
    {
     "name": "stdout",
     "output_type": "stream",
     "text": [
      "<class 'netCDF4._netCDF4.Variable'>\n",
      "float32 time(time)\n",
      "    units: Days since 1960-01-01\n",
      "    climatology: climatology_bounds\n",
      "unlimited dimensions: \n",
      "current shape = (45,)\n",
      "filling on, default _FillValue of 9.969209968386869e+36 used\n",
      "\n"
     ]
    }
   ],
   "source": [
    "with netCDF4.Dataset(datafile) as nc:\n",
    "    time = nc.variables['time']\n",
    "    print(time)"
   ]
  },
  {
   "cell_type": "markdown",
   "metadata": {
    "slideshow": {
     "slide_type": "subslide"
    }
   },
   "source": [
    "To get the variable values, we add `[:]` after the variable name:"
   ]
  },
  {
   "cell_type": "code",
   "execution_count": 8,
   "metadata": {
    "collapsed": true,
    "slideshow": {
     "slide_type": "fragment"
    }
   },
   "outputs": [],
   "source": [
    "with netCDF4.Dataset(datafile) as nc:\n",
    "    lon = nc.variables['lon'][:]\n",
    "    lat = nc.variables['lat'][:]\n",
    "    time = nc.variables['time'][:]\n",
    "    depth = nc.variables['depth'][:]"
   ]
  },
  {
   "cell_type": "markdown",
   "metadata": {
    "slideshow": {
     "slide_type": "subslide"
    }
   },
   "source": [
    "## Variable attributes\n",
    "For example, the time units:"
   ]
  },
  {
   "cell_type": "code",
   "execution_count": 9,
   "metadata": {
    "slideshow": {
     "slide_type": "fragment"
    }
   },
   "outputs": [
    {
     "name": "stdout",
     "output_type": "stream",
     "text": [
      "Days since 1960-01-01\n"
     ]
    },
    {
     "data": {
      "text/plain": [
       "str"
      ]
     },
     "execution_count": 9,
     "metadata": {},
     "output_type": "execute_result"
    }
   ],
   "source": [
    "with netCDF4.Dataset(datafile) as nc:\n",
    "    timeunits = nc.variables['time'].units\n",
    "print(timeunits)\n",
    "type(timeunits)"
   ]
  },
  {
   "cell_type": "markdown",
   "metadata": {
    "slideshow": {
     "slide_type": "fragment"
    }
   },
   "source": [
    "Selection of a given year:     \n",
    "the netCDF4 library provides a method to convert the time into dates:"
   ]
  },
  {
   "cell_type": "code",
   "execution_count": 10,
   "metadata": {
    "slideshow": {
     "slide_type": "fragment"
    }
   },
   "outputs": [
    {
     "name": "stdout",
     "output_type": "stream",
     "text": [
      "[datetime.datetime(1965, 11, 16, 0, 0)\n",
      " datetime.datetime(1966, 11, 16, 0, 0)\n",
      " datetime.datetime(1967, 11, 16, 0, 0)\n",
      " datetime.datetime(1968, 11, 16, 0, 0)\n",
      " datetime.datetime(1969, 11, 16, 0, 0)\n",
      " datetime.datetime(1970, 11, 16, 0, 0)\n",
      " datetime.datetime(1971, 11, 16, 0, 0)\n",
      " datetime.datetime(1972, 11, 16, 0, 0)\n",
      " datetime.datetime(1973, 11, 16, 0, 0)\n",
      " datetime.datetime(1974, 11, 16, 0, 0)\n",
      " datetime.datetime(1975, 11, 16, 0, 0)\n",
      " datetime.datetime(1976, 11, 16, 0, 0)\n",
      " datetime.datetime(1977, 11, 16, 0, 0)\n",
      " datetime.datetime(1978, 11, 16, 0, 0)\n",
      " datetime.datetime(1979, 11, 16, 0, 0)\n",
      " datetime.datetime(1980, 11, 16, 0, 0)\n",
      " datetime.datetime(1981, 11, 16, 0, 0)\n",
      " datetime.datetime(1982, 11, 16, 0, 0)\n",
      " datetime.datetime(1983, 11, 16, 0, 0)\n",
      " datetime.datetime(1984, 11, 16, 0, 0)\n",
      " datetime.datetime(1985, 11, 16, 0, 0)\n",
      " datetime.datetime(1986, 11, 16, 0, 0)\n",
      " datetime.datetime(1987, 11, 16, 0, 0)\n",
      " datetime.datetime(1988, 11, 16, 0, 0)\n",
      " datetime.datetime(1989, 11, 16, 0, 0)\n",
      " datetime.datetime(1990, 11, 16, 0, 0)\n",
      " datetime.datetime(1991, 11, 16, 0, 0)\n",
      " datetime.datetime(1992, 11, 16, 0, 0)\n",
      " datetime.datetime(1993, 11, 16, 0, 0)\n",
      " datetime.datetime(1994, 11, 16, 0, 0)\n",
      " datetime.datetime(1995, 11, 16, 0, 0)\n",
      " datetime.datetime(1996, 11, 16, 0, 0)\n",
      " datetime.datetime(1997, 11, 16, 0, 0)\n",
      " datetime.datetime(1998, 11, 16, 0, 0)\n",
      " datetime.datetime(1999, 11, 16, 0, 0)\n",
      " datetime.datetime(2000, 11, 16, 0, 0)\n",
      " datetime.datetime(2001, 11, 16, 0, 0)\n",
      " datetime.datetime(2002, 11, 16, 0, 0)\n",
      " datetime.datetime(2003, 11, 16, 0, 0)\n",
      " datetime.datetime(2004, 11, 16, 0, 0)\n",
      " datetime.datetime(2005, 11, 16, 0, 0)\n",
      " datetime.datetime(2006, 11, 16, 0, 0)\n",
      " datetime.datetime(2007, 11, 16, 0, 0)\n",
      " datetime.datetime(2008, 11, 16, 0, 0)\n",
      " datetime.datetime(2009, 11, 16, 0, 0)]\n"
     ]
    }
   ],
   "source": [
    "dates = netCDF4.num2date(time, timeunits)\n",
    "print(dates)"
   ]
  },
  {
   "cell_type": "markdown",
   "metadata": {
    "slideshow": {
     "slide_type": "slide"
    }
   },
   "source": [
    "# Creating  plots"
   ]
  },
  {
   "cell_type": "markdown",
   "metadata": {
    "slideshow": {
     "slide_type": "fragment"
    }
   },
   "source": [
    "## Simple plots\n",
    "We will represent 2D fields (longitude and latitude).  "
   ]
  },
  {
   "cell_type": "code",
   "execution_count": 11,
   "metadata": {
    "slideshow": {
     "slide_type": "fragment"
    }
   },
   "outputs": [
    {
     "name": "stdout",
     "output_type": "stream",
     "text": [
      "(48, 67)\n"
     ]
    }
   ],
   "source": [
    "nitrate2D = nitrate[-1, -1, :, :]\n",
    "print(nitrate2D.shape)"
   ]
  },
  {
   "cell_type": "code",
   "execution_count": 12,
   "metadata": {},
   "outputs": [
    {
     "data": {
      "image/png": "[encoded data removed]",
      "text/plain": [
       "<matplotlib.figure.Figure at 0x7fcda2c2d630>"
      ]
     },
     "metadata": {},
     "output_type": "display_data"
    }
   ],
   "source": [
    "fig = plt.figure()\n",
    "plt.pcolormesh(lon, lat, nitrate2D)\n",
    "plt.colorbar()\n",
    "plt.show()\n",
    "plt.close()"
   ]
  },
  {
   "cell_type": "markdown",
   "metadata": {
    "slideshow": {
     "slide_type": "subslide"
    }
   },
   "source": [
    "## Interacting with [leaflet](http://leafletjs.com/)"
   ]
  },
  {
   "cell_type": "markdown",
   "metadata": {
    "slideshow": {
     "slide_type": "fragment"
    }
   },
   "source": [
    "The [folium]() package provides an easy way to set up a [leaflet](http://leafletjs.com/) map using python command.     \n",
    "We also load the [Basemap]() package that allows us to work with geographical projections."
   ]
  },
  {
   "cell_type": "code",
   "execution_count": 13,
   "metadata": {
    "collapsed": true,
    "slideshow": {
     "slide_type": "fragment"
    }
   },
   "outputs": [],
   "source": [
    "import folium\n",
    "from folium import plugins\n",
    "from mpl_toolkits.basemap import Basemap "
   ]
  },
  {
   "cell_type": "markdown",
   "metadata": {
    "slideshow": {
     "slide_type": "fragment"
    }
   },
   "source": [
    "First we need to define the map object using either the central point (as follows) or the domain bounding box."
   ]
  },
  {
   "cell_type": "code",
   "execution_count": 23,
   "metadata": {
    "collapsed": true,
    "slideshow": {
     "slide_type": "fragment"
    }
   },
   "outputs": [],
   "source": [
    "lmap = folium.Map(location=[lat.mean(), lon.mean()], tiles='cartodbpositron',\n",
    "                  zoom_start=6)"
   ]
  },
  {
   "cell_type": "markdown",
   "metadata": {
    "slideshow": {
     "slide_type": "subslide"
    }
   },
   "source": [
    "Then we will create a png image. The projection has to be set to epsg=3857\n",
    "in order to have images properly overlaying Leaflet basemap"
   ]
  },
  {
   "cell_type": "code",
   "execution_count": 20,
   "metadata": {
    "collapsed": true,
    "slideshow": {
     "slide_type": "fragment"
    }
   },
   "outputs": [],
   "source": [
    "m = Basemap(llcrnrlon=lon.min(), llcrnrlat=lat.min(),\n",
    "            urcrnrlon=lon.max(), urcrnrlat=lat.max(), \n",
    "            resolution = 'l', epsg=3857)"
   ]
  },
  {
   "cell_type": "markdown",
   "metadata": {
    "slideshow": {
     "slide_type": "fragment"
    }
   },
   "source": [
    "Once the projection is instancied, we can create the figure and save it as a png image."
   ]
  },
  {
   "cell_type": "code",
   "execution_count": 16,
   "metadata": {
    "slideshow": {
     "slide_type": "fragment"
    }
   },
   "outputs": [
    {
     "name": "stderr",
     "output_type": "stream",
     "text": [
      "/home/ctroupin/Software/PythonEnvs/Diva-python3.6/lib/python3.6/site-packages/mpl_toolkits/basemap/__init__.py:3413: MatplotlibDeprecationWarning: The ishold function was deprecated in version 2.0.\n",
      "  b = ax.ishold()\n",
      "/home/ctroupin/Software/PythonEnvs/Diva-python3.6/lib/python3.6/site-packages/mpl_toolkits/basemap/__init__.py:3422: MatplotlibDeprecationWarning: axes.hold is deprecated.\n",
      "    See the API Changes document (http://matplotlib.org/api/api_changes.html)\n",
      "    for more details.\n",
      "  ax.hold(b)\n"
     ]
    },
    {
     "data": {
      "image/png": "[encoded data removed]",
      "text/plain": [
       "<matplotlib.figure.Figure at 0x7fcd9ac51518>"
      ]
     },
     "metadata": {},
     "output_type": "display_data"
    }
   ],
   "source": [
    "llon, llat = np.meshgrid(lon, lat)\n",
    "\n",
    "fig = plt.figure()\n",
    "ax = fig.add_axes([0, 0, 1, 1])\n",
    "ax.axis('off')\n",
    "m.ax = ax\n",
    "m.pcolormesh(llon, llat, nitrate[-1, -1, :, :], latlon=True)\n",
    "plt.savefig(os.path.join(figdir, \"nitrate.png\"), dpi=300,\n",
    "            transparent=True, \n",
    "            bbox_inches='tight', \n",
    "            pad_inches=0)\n",
    "plt.show()\n",
    "plt.close()"
   ]
  },
  {
   "cell_type": "markdown",
   "metadata": {
    "slideshow": {
     "slide_type": "subslide"
    }
   },
   "source": [
    "The last step consists in adding the image as an overlay."
   ]
  },
  {
   "cell_type": "code",
   "execution_count": 24,
   "metadata": {
    "slideshow": {
     "slide_type": "fragment"
    }
   },
   "outputs": [
    {
     "data": {
      "text/html": [
       "<div style=\"width:100%;\"><div style=\"position:relative;width:100%;height:0;padding-bottom:60%;\"><iframe src=\"data:text/html;charset=utf-8;base64,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\" style=\"position:absolute;width:100%;height:100%;left:0;top:0;border:none !important;\" allowfullscreen webkitallowfullscreen mozallowfullscreen></iframe></div></div>"
      ],
      "text/plain": [
       "<folium.folium.Map at 0x7fcd9aafcb38>"
      ]
     },
     "execution_count": 24,
     "metadata": {},
     "output_type": "execute_result"
    }
   ],
   "source": [
    "folium.plugins.ImageOverlay(os.path.join(figdir, \"nitrate.png\"),\n",
    "                            bounds=[[lat.min().tolist(), lon.min().tolist()], \n",
    "                                    [lat.max().tolist(), lon.max().tolist()]], \n",
    "                            opacity=0.8\n",
    "                           ).add_to(lmap)\n",
    "lmap"
   ]
  },
  {
   "cell_type": "code",
   "execution_count": null,
   "metadata": {
    "collapsed": true
   },
   "outputs": [],
   "source": []
  }
 ],
 "metadata": {
  "celltoolbar": "Slideshow",
  "kernelspec": {
   "display_name": "Diva-python3.6",
   "language": "python",
   "name": "diva-python3.6"
  },
  "language_info": {
   "codemirror_mode": {
    "name": "ipython",
    "version": 3
   },
   "file_extension": ".py",
   "mimetype": "text/x-python",
   "name": "python",
   "nbconvert_exporter": "python",
   "pygments_lexer": "ipython3",
   "version": "3.6.0"
  }
 },
 "nbformat": 4,
 "nbformat_minor": 2
}
