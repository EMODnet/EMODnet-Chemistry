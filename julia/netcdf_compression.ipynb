{
 "cells": [
  {
   "cell_type": "markdown",
   "id": "c7b654f0",
   "metadata": {},
   "source": [
    "# netCDF compression\n",
    "Check the results before/after compression using `nco` toolbox."
   ]
  },
  {
   "cell_type": "markdown",
   "id": "2c48c3c1",
   "metadata": {},
   "source": [
    "## Commands"
   ]
  },
  {
   "cell_type": "markdown",
   "id": "ffef2d1e",
   "metadata": {},
   "source": [
    "```bash\n",
    "ncks -7 -L 1 --baa=4 --ppc default=3 in.nc out.nc \n",
    "```"
   ]
  },
  {
   "cell_type": "code",
   "execution_count": 18,
   "id": "05031fdc",
   "metadata": {},
   "outputs": [],
   "source": [
    "using NCDatasets\n",
    "using Statistics"
   ]
  },
  {
   "cell_type": "code",
   "execution_count": 38,
   "id": "9c7b6239",
   "metadata": {},
   "outputs": [
    {
     "data": {
      "text/plain": [
       "read_field (generic function with 1 method)"
      ]
     },
     "execution_count": 38,
     "metadata": {},
     "output_type": "execute_result"
    }
   ],
   "source": [
    "function read_field(ncfile::String)\n",
    "    NCDataset(ncfile, \"r\") do ds\n",
    "        field = ds[\"Water body chlorophyll-a\"][:]\n",
    "        return field\n",
    "    end\n",
    "end"
   ]
  },
  {
   "cell_type": "code",
   "execution_count": 60,
   "id": "818a055f",
   "metadata": {},
   "outputs": [
    {
     "name": "stdout",
     "output_type": "stream",
     "text": [
      "| 1 | 3.9965029 | 0.05498933 | 90 | \n",
      "| 2 | 0.4994774 | 0.0039711986 | 113 | \n",
      "| 3 | 0.031248093 | 0.00044728452 | 166 | \n",
      "| 4 | 0.0039052963 | 5.6246507e-5 | 205 | \n",
      "| 5 | 0.00048828125 | 3.8645726e-6 | 242 | \n",
      "| 6 | 3.0517578e-5 | 4.3766843e-7 | 291 | \n",
      "| 7 | 0.5 | 0.000117428135 | 316 | \n",
      "| 8 | 0.0 | 0.0 | 318 | \n"
     ]
    }
   ],
   "source": [
    "datadir = \"/home/ctroupin/data/EMODnet-Chemistry\"\n",
    "inputfile = joinpath(datadir, \"in.nc\")\n",
    "\n",
    "fieldref = read_field(inputfile);\n",
    "for ii in 1:8\n",
    "    outputfile = joinpath(datadir, \"out1_comp_pcc$(ii).nc\")\n",
    "    fieldcmp = read_field(outputfile);\n",
    "    diff = abs.(fieldcmp .- fieldref);\n",
    "    println(\"| $(ii) | $(maximum(skipmissing(diff))) | $(std(skipmissing(diff))) | $(Int64(round(stat(outputfile).size / (1024^2)))) | \")\n",
    "end"
   ]
  }
 ],
 "metadata": {
  "kernelspec": {
   "display_name": "Julia 1.9.3",
   "language": "julia",
   "name": "julia-1.9"
  },
  "language_info": {
   "file_extension": ".jl",
   "mimetype": "application/julia",
   "name": "julia",
   "version": "1.9.3"
  },
  "toc": {
   "base_numbering": 1,
   "nav_menu": {},
   "number_sections": true,
   "sideBar": true,
   "skip_h1_title": false,
   "title_cell": "Table of Contents",
   "title_sidebar": "Contents",
   "toc_cell": false,
   "toc_position": {},
   "toc_section_display": true,
   "toc_window_display": false
  }
 },
 "nbformat": 4,
 "nbformat_minor": 5
}
