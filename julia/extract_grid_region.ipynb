{
 "cells": [
  {
   "cell_type": "markdown",
   "metadata": {},
   "source": [
    "Extract the longitudes and latitudes of the grid for the different regions."
   ]
  },
  {
   "cell_type": "code",
   "execution_count": null,
   "metadata": {},
   "outputs": [],
   "source": [
    "using NCDatasets"
   ]
  },
  {
   "cell_type": "code",
   "execution_count": null,
   "metadata": {},
   "outputs": [],
   "source": [
    "datafile = \"/data/EMODnet/Chemistry/_Arctic/Water body dissolved oxygen concentration.4Danl.nc\"\n",
    "isfile(datafile)"
   ]
  },
  {
   "cell_type": "code",
   "execution_count": null,
   "metadata": {},
   "outputs": [],
   "source": [
    "function get_coord_limits(datafile)\n",
    "    ds = Dataset(datafile, \"r\")\n",
    "    lon = ds[\"lon\"][:]\n",
    "    lat = ds[\"lat\"][:]\n",
    "    close(ds)\n",
    "    lonmin = lon[1]\n",
    "    lonmax = lon[end]\n",
    "    latmin = lat[1]\n",
    "    latmax = lat[end]\n",
    "    dlon = lon[2] - lon[1]\n",
    "    dlat = lat[2] - lat[1]\n",
    "    return lonmin, lonmax, latmin, latmax, dlon, dlat\n",
    "end"
   ]
  },
  {
   "cell_type": "code",
   "execution_count": null,
   "metadata": {},
   "outputs": [],
   "source": []
  },
  {
   "cell_type": "code",
   "execution_count": null,
   "metadata": {
    "collapsed": true
   },
   "outputs": [],
   "source": []
  }
 ],
 "metadata": {
  "@webio": {
   "lastCommId": "442B8A90DA514A318BB214166124890D",
   "lastKernelId": "21a1ed39-f397-4380-a27b-685f6fd0a500"
  },
  "kernelspec": {
   "display_name": "Julia 1.0.0",
   "language": "julia",
   "name": "julia-1.0"
  },
  "language_info": {
   "file_extension": ".jl",
   "mimetype": "application/julia",
   "name": "julia",
   "version": "1.0.0"
  }
 },
 "nbformat": 4,
 "nbformat_minor": 2
}
