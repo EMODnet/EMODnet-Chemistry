{
 "cells": [
  {
   "cell_type": "markdown",
   "metadata": {},
   "source": [
    "# Libraries"
   ]
  },
  {
   "cell_type": "code",
   "execution_count": 1,
   "metadata": {},
   "outputs": [],
   "source": [
    "using NCDatasets\n",
    "using PyPlot\n",
    "using DataStructures\n",
    "using Dates"
   ]
  },
  {
   "cell_type": "code",
   "execution_count": 2,
   "metadata": {},
   "outputs": [
    {
     "data": {
      "text/plain": [
       "\"C:/Users/npages/Desktop/DIVand/resultats/Loire/O2/data_nc/\""
      ]
     },
     "execution_count": 2,
     "metadata": {},
     "output_type": "execute_result"
    }
   ],
   "source": [
    "# Directory where you store the seasonal files\n",
    "wkdir=\"C:/Users/npages/Desktop/DIVand/resultats/Loire/O2/data_nc/\""
   ]
  },
  {
   "cell_type": "markdown",
   "metadata": {},
   "source": [
    "# Files name"
   ]
  },
  {
   "cell_type": "code",
   "execution_count": 3,
   "metadata": {},
   "outputs": [
    {
     "data": {
      "text/plain": [
       "\"C:/Users/npages/Desktop/DIVand/resultats/Loire/O2/data_nc/output2.nc\""
      ]
     },
     "execution_count": 3,
     "metadata": {},
     "output_type": "execute_result"
    }
   ],
   "source": [
    "datafile_winter = string(wkdir,\"Winter/Water_body_dissolved_oxygen_concentration.4Danl.nc\")\n",
    "datafile_spring = string(wkdir,\"Spring/Water_body_dissolved_oxygen_concentration.4Danl.nc\")\n",
    "datafile_summer = string(wkdir,\"Summer/Water_body_dissolved_oxygen_concentration.4Danl.nc\")\n",
    "datafile_fall = string(wkdir,\"Fall/Water_body_dissolved_oxygen_concentration.4Danl.nc\")\n",
    "\n",
    "datafilemerge = string(wkdir,\"output2.nc\")\n",
    "\n"
   ]
  },
  {
   "cell_type": "markdown",
   "metadata": {},
   "source": [
    "# Functions definition"
   ]
  },
  {
   "cell_type": "markdown",
   "metadata": {},
   "source": [
    "\n",
    "    read_obs(datafile)\n",
    "Read the observations from a netCDF file.\n",
    "## Example\n",
    "```julia-repl\n",
    "julia> obslon, obslat, obsdepth, obstime, obsid = read_obs(datafile)\n",
    "```\n"
   ]
  },
  {
   "cell_type": "code",
   "execution_count": 4,
   "metadata": {},
   "outputs": [
    {
     "data": {
      "text/plain": [
       "read_obs (generic function with 1 method)"
      ]
     },
     "execution_count": 4,
     "metadata": {},
     "output_type": "execute_result"
    }
   ],
   "source": [
    "function read_obs(datafile::String)\n",
    "\n",
    "    NCDatasets.Dataset(datafile, \"r\") do nc\n",
    "\n",
    "        obslon = nc[\"obslon\"][:]\n",
    "        obslat = nc[\"obslat\"][:]\n",
    "        obsdepth = nc[\"obsdepth\"][:]\n",
    "        obstime = nc[\"obstime\"][:]\n",
    "        obsid = nc[\"obsid\"][:]\n",
    "        \n",
    "        obslon = convert(Array{Float64,1},obslon)\n",
    "        obslat = convert(Array{Float64,1},obslat)\n",
    "        obsdepth = convert(Array{Float64,1},obsdepth)\n",
    "\n",
    "        return obslon, obslat, obsdepth, obstime, obsid\n",
    "\n",
    "    end\n",
    "end"
   ]
  },
  {
   "cell_type": "markdown",
   "metadata": {},
   "source": [
    "\n",
    "    merge_obsids(obsid1, obsid2)\n",
    "Merge two arrays of observations\n",
    "## Example\n",
    "```julia-repl\n",
    "julia> obsid = merge_obsids(obsid_old, obsid_new)\n",
    "```\n"
   ]
  },
  {
   "cell_type": "code",
   "execution_count": 5,
   "metadata": {},
   "outputs": [
    {
     "data": {
      "text/plain": [
       "merge_obsids (generic function with 1 method)"
      ]
     },
     "execution_count": 5,
     "metadata": {},
     "output_type": "execute_result"
    }
   ],
   "source": [
    "function merge_obsids(obsid1::Matrix{Char}, obsid2::Matrix{Char},\n",
    "        obsid3::Matrix{Char}, obsid4::Matrix{Char})\n",
    "    idlen1, nobs1 = size(obsid1)\n",
    "    idlen2, nobs2 = size(obsid2)\n",
    "    idlen3, nobs3 = size(obsid3)\n",
    "    idlen4, nobs4 = size(obsid4)\n",
    "    @info(idlen1, idlen2, idlen3, idlen4, nobs1, nobs2, nobs3, nobs4);\n",
    "\n",
    "    # Allocate new matrix for obsid\n",
    "    obsid = Array{Char, 2}(undef, maximum((idlen1, idlen2, idlen3, idlen4)),\n",
    "        nobs1 + nobs2 + nobs3 + nobs4);\n",
    "    # Merge obsid's\n",
    "    obsid[1:idlen1, 1:nobs1] = obsid1; # Nolwenn: original code was ... = obsid_old\n",
    "    obsid[1:idlen2, nobs1 + 1:nobs1 + nobs2] = obsid2; # Nolwenn: original code was ... = obsid_new\n",
    "    obsid[1:idlen3, nobs1 + nobs2 + 1:nobs1 + nobs2 + nobs3] = obsid3;\n",
    "    obsid[1:idlen4, nobs1 + nobs2 + nobs3 + 1:nobs1 + nobs2 + nobs3 + nobs4] = obsid4;\n",
    "    @info(size(obsid));\n",
    "\n",
    "    return obsid\n",
    "end"
   ]
  },
  {
   "cell_type": "markdown",
   "metadata": {},
   "source": [
    "\n",
    "    write_obs(datafile)\n",
    "Write the new observations to a netCDF file from which the variables\n",
    "corresponding to the observations (obslon, obslat etc) have been removed.\n",
    "## Example\n",
    "```julia-repl\n",
    "julia> write_obs(\"merged.nc\", obslon, obslat, obsdepth, obstime, obsid)\n",
    "```\n"
   ]
  },
  {
   "cell_type": "code",
   "execution_count": 6,
   "metadata": {},
   "outputs": [],
   "source": [
    "function write_obs(datafile::String, obslon::Vector{Float64}, obslat::Vector{Float64},\n",
    "    obsdepth::Vector{Float64}, obstime::Vector{Dates.DateTime},\n",
    "    obsid::Matrix{Char})\n",
    "\n",
    "    idlen, nobs = size(obsid)\n",
    "\n",
    "    # Write in the new file\n",
    "    NCDatasets.Dataset(datafilemerge, \"a\") do nc\n",
    "        nc.dim[\"idlen\"] = idlen\n",
    "        nc.dim[\"observations\"] = nobs\n",
    "\n",
    "        ncobsdepth = defVar(nc,\"obsdepth\", Float64, (\"observations\",),\n",
    "            attrib = OrderedDict(\n",
    "                        \"units\" => \"meters\",\n",
    "                        \"positive\" => \"down\",\n",
    "                        \"long_name\" => \"depth of the observations\",\n",
    "                        \"standard_name\" => \"depth\"\n",
    "                    )\n",
    "                )\n",
    "\n",
    "        ncobsid = defVar(nc,\"obsid\", Char, (\"idlen\", \"observations\"),\n",
    "            attrib = OrderedDict(\n",
    "                \"long_name\" => \"observation identifier\",\n",
    "                \"coordinates\" => \"obstime obsdepth obslat obslon\",\n",
    "                )\n",
    "            )\n",
    "\n",
    "        ncobslat = defVar(nc,\"obslat\", Float64, (\"observations\",),\n",
    "            attrib = OrderedDict(\n",
    "                \"units\" => \"degrees_north\",\n",
    "                \"long_name\" => \"latitude of the observations\",\n",
    "                \"standard_name\" => \"latitude\"\n",
    "                )\n",
    "            )\n",
    "\n",
    "        ncobslon = defVar(nc,\"obslon\", Float64, (\"observations\",),\n",
    "            attrib = OrderedDict(\n",
    "                \"units\" => \"degrees_east\",\n",
    "                \"long_name\" => \"longitude of the observations\",\n",
    "                \"standard_name\" => \"longitude\"\n",
    "                )\n",
    "            )\n",
    "\n",
    "        ncobstime = defVar(nc,\"obstime\", Float64, (\"observations\",),\n",
    "            attrib = OrderedDict(\n",
    "                \"units\" => \"days since 1900-01-01 00:00:00\",\n",
    "                \"long_name\" => \"time of the observations\",\n",
    "                \"standard_name\" => \"time\"\n",
    "                )\n",
    "            )\n",
    "\n",
    "        ncobslon[:] = obslon\n",
    "        ncobslat[:] = obslat\n",
    "        ncobsdepth[:] = obsdepth\n",
    "        ncobstime[:] = obstime\n",
    "        ncobsid[:] = obsid;\n",
    "\n",
    "        return \n",
    "    end;\n",
    "end;"
   ]
  },
  {
   "cell_type": "markdown",
   "metadata": {},
   "source": [
    "# Main"
   ]
  },
  {
   "cell_type": "code",
   "execution_count": 8,
   "metadata": {},
   "outputs": [
    {
     "name": "stderr",
     "output_type": "stream",
     "text": [
      "┌ Info: 27\n",
      "│   idlen2 = 30\n",
      "│   idlen3 = 27\n",
      "│   idlen4 = 24\n",
      "│   nobs1 = 1935\n",
      "│   nobs2 = 11661\n",
      "│   nobs3 = 2759\n",
      "│   nobs4 = 2107\n",
      "└ @ Main In[5]:7\n",
      "┌ Info: (30, 18462)\n",
      "└ @ Main In[5]:17\n"
     ]
    }
   ],
   "source": [
    "# Read observations from old and new files\n",
    "(obslon_winter, obslat_winter, obsdepth_winter,\n",
    "    obstime_winter, obsid_winter) = read_obs(datafile_winter);\n",
    "(obslon_spring, obslat_spring, obsdepth_spring,\n",
    "    obstime_spring, obsid_spring) = read_obs(datafile_spring);\n",
    "(obslon_summer, obslat_summer, obsdepth_summer,\n",
    "    obstime_summer, obsid_summer) = read_obs(datafile_summer);\n",
    "(obslon_fall, obslat_fall, obsdepth_fall,\n",
    "    obstime_fall, obsid_fall) = read_obs(datafile_fall);\n",
    "\n",
    "# Append the coordinate arrays\n",
    "obslon = cat(obslon_winter, obslon_spring, obslon_summer, obslon_fall, dims=1);\n",
    "obslat = cat(obslat_winter, obslat_spring, obslat_summer, obslat_fall, dims=1);\n",
    "obsdepth = cat(obsdepth_winter, obsdepth_spring, obsdepth_summer, obsdepth_fall, dims=1);\n",
    "obstime = cat(obstime_winter, obstime_spring, obstime_summer, obstime_fall, dims=1);\n",
    "\n",
    "# Merge the obsid's\n",
    "obsid = merge_obsids(obsid_winter, obsid_spring, obsid_summer, obsid_fall)\n",
    "\n",
    "# Write the file\n",
    "write_obs(datafilemerge, obslon, obslat, obsdepth, obstime, obsid)"
   ]
  },
  {
   "cell_type": "code",
   "execution_count": null,
   "metadata": {},
   "outputs": [],
   "source": []
  }
 ],
 "metadata": {
  "kernelspec": {
   "display_name": "Julia 1.5.3",
   "language": "julia",
   "name": "julia-1.5"
  },
  "language_info": {
   "file_extension": ".jl",
   "mimetype": "application/julia",
   "name": "julia",
   "version": "1.5.3"
  }
 },
 "nbformat": 4,
 "nbformat_minor": 4
}
