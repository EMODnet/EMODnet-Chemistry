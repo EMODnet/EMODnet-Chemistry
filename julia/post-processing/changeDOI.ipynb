{
 "cells": [
  {
   "cell_type": "code",
   "execution_count": 16,
   "id": "2fa96be4",
   "metadata": {},
   "outputs": [],
   "source": [
    "using NCDatasets\n",
    "using Dates\n",
    "using Glob\n",
    "using DIVAnd\n",
    "using Test\n",
    "using CSV\n",
    "using DataFrames"
   ]
  },
  {
   "cell_type": "code",
   "execution_count": 6,
   "id": "da7b8cbe",
   "metadata": {},
   "outputs": [
    {
     "data": {
      "text/plain": [
       "\"../../diva_2023_doi.csv\""
      ]
     },
     "execution_count": 6,
     "metadata": {},
     "output_type": "execute_result"
    }
   ],
   "source": [
    "doifile = \"../../diva_2023_doi.csv\""
   ]
  },
  {
   "cell_type": "code",
   "execution_count": 13,
   "id": "84b1ad91",
   "metadata": {},
   "outputs": [
    {
     "data": {
      "text/plain": [
       "\"/home/ctroupin/data/EMODnet-Chemistry/emodnet-results-2023\""
      ]
     },
     "execution_count": 13,
     "metadata": {},
     "output_type": "execute_result"
    }
   ],
   "source": [
    "# User inputs\n",
    "# ------------\n",
    "\n",
    "hostname = gethostname()\n",
    "if hostname == \"ogs04\"\n",
    "\t@info \"Working in production server\"\n",
    "\tdatabasedir = \"/production/apache/data/emodnet-domains/By sea regions/Black Sea\"\n",
    "elseif hostname == \"GHER-ULg-Laptop\"\n",
    "\toutputbasedir = \"/data/EMODnet/Chemistry/merged/\"\n",
    "\tdatabasedir = \"/data/EMODnet/Chemistry/prod/\"\n",
    "elseif hostname == \"gherdivand\"\n",
    "\toutputbasedir = \"/home/ctroupin/data/EMODnet/merged\"\n",
    "\tdatabasedir = \"/home/ctroupin/data/EMODnet/By sea regions\"\n",
    "elseif hostname == \"FSC-PHYS-GHER01\"\n",
    "    outputbasedir = \"/home/ctroupin/data/EMODnet-Chemistry/merged\"\n",
    "\tdatabasedir = \"/home/ctroupin/data/EMODnet-Chemistry/emodnet-results-2023\"\n",
    "else\n",
    "\t@error(\"Unknown host\")\n",
    "end"
   ]
  },
  {
   "cell_type": "code",
   "execution_count": 54,
   "id": "26e3028e",
   "metadata": {},
   "outputs": [
    {
     "data": {
      "text/plain": [
       "get_ncfile_list (generic function with 1 method)"
      ]
     },
     "execution_count": 54,
     "metadata": {},
     "output_type": "execute_result"
    }
   ],
   "source": [
    "function get_ncfile_list(datadir::String)::Array\n",
    "    filelist = []\n",
    "\t# Varname with spaces instead of underscores\n",
    "\tfor (root, dirs, files) in walkdir(datadir)\n",
    "        for file in files\n",
    "            if endswith(file, \".nc\")\n",
    "                push!(filelist, joinpath(root, file))\n",
    "            end\n",
    "        end\n",
    "    end\n",
    "    @info(\"Found $(length(filelist)) files\")\n",
    "    return filelist\n",
    "end"
   ]
  },
  {
   "cell_type": "code",
   "execution_count": 55,
   "id": "302def4a",
   "metadata": {},
   "outputs": [],
   "source": [
    "# Read the CSV\n",
    "data = CSV.read(doifile, DataFrame, header=[\"productID\", \"productTitle\", \"productDOI\"]);"
   ]
  },
  {
   "cell_type": "code",
   "execution_count": 56,
   "id": "67af6164",
   "metadata": {},
   "outputs": [
    {
     "name": "stderr",
     "output_type": "stream",
     "text": [
      "\u001b[36m\u001b[1m[ \u001b[22m\u001b[39m\u001b[36m\u001b[1mInfo: \u001b[22m\u001b[39mFound 53 files\n"
     ]
    }
   ],
   "source": [
    "# Generate list of netCDF\n",
    "resultfilelist = get_ncfile_list(databasedir);"
   ]
  },
  {
   "cell_type": "code",
   "execution_count": 57,
   "id": "d079799a",
   "metadata": {},
   "outputs": [
    {
     "name": "stderr",
     "output_type": "stream",
     "text": [
      "\u001b[36m\u001b[1m[ \u001b[22m\u001b[39m\u001b[36m\u001b[1mInfo: \u001b[22m\u001b[39mnothing\n",
      "\u001b[36m\u001b[1m[ \u001b[22m\u001b[39m\u001b[36m\u001b[1mInfo: \u001b[22m\u001b[39m/home/ctroupin/data/EMODnet-Chemistry/emodnet-results-2023/All_European_Seas/Water_body_ammonium.nc\n",
      "\u001b[36m\u001b[1m[ \u001b[22m\u001b[39m\u001b[36m\u001b[1mInfo: \u001b[22m\u001b[39mnothing\n",
      "\u001b[36m\u001b[1m[ \u001b[22m\u001b[39m\u001b[36m\u001b[1mInfo: \u001b[22m\u001b[39m/home/ctroupin/data/EMODnet-Chemistry/emodnet-results-2023/All_European_Seas/Water_body_chlorophyll-a.nc\n",
      "\u001b[36m\u001b[1m[ \u001b[22m\u001b[39m\u001b[36m\u001b[1mInfo: \u001b[22m\u001b[39mnothing\n",
      "\u001b[36m\u001b[1m[ \u001b[22m\u001b[39m\u001b[36m\u001b[1mInfo: \u001b[22m\u001b[39m/home/ctroupin/data/EMODnet-Chemistry/emodnet-results-2023/All_European_Seas/Water_body_dissolved_inorganic_nitrogen.nc\n",
      "\u001b[36m\u001b[1m[ \u001b[22m\u001b[39m\u001b[36m\u001b[1mInfo: \u001b[22m\u001b[39mnothing\n",
      "\u001b[36m\u001b[1m[ \u001b[22m\u001b[39m\u001b[36m\u001b[1mInfo: \u001b[22m\u001b[39m/home/ctroupin/data/EMODnet-Chemistry/emodnet-results-2023/All_European_Seas/Water_body_dissolved_oxygen_concentration.nc\n",
      "\u001b[36m\u001b[1m[ \u001b[22m\u001b[39m\u001b[36m\u001b[1mInfo: \u001b[22m\u001b[39mnothing\n",
      "\u001b[36m\u001b[1m[ \u001b[22m\u001b[39m\u001b[36m\u001b[1mInfo: \u001b[22m\u001b[39m/home/ctroupin/data/EMODnet-Chemistry/emodnet-results-2023/All_European_Seas/Water_body_phosphate.nc\n",
      "\u001b[36m\u001b[1m[ \u001b[22m\u001b[39m\u001b[36m\u001b[1mInfo: \u001b[22m\u001b[39mnothing\n",
      "\u001b[36m\u001b[1m[ \u001b[22m\u001b[39m\u001b[36m\u001b[1mInfo: \u001b[22m\u001b[39m/home/ctroupin/data/EMODnet-Chemistry/emodnet-results-2023/All_European_Seas/Water_body_silicate.nc\n",
      "\u001b[36m\u001b[1m[ \u001b[22m\u001b[39m\u001b[36m\u001b[1mInfo: \u001b[22m\u001b[39m1\n",
      "\u001b[36m\u001b[1m[ \u001b[22m\u001b[39m\u001b[36m\u001b[1mInfo: \u001b[22m\u001b[39mModify the DOI\n",
      "\u001b[36m\u001b[1m[ \u001b[22m\u001b[39m\u001b[36m\u001b[1mInfo: \u001b[22m\u001b[39m10.6092/30f5c819-bb30-4dee-9afd-0df48682495a → https://doi.org/10.13120/30f5c819-bb30-4dee-9afd-0df48682495a\n",
      "\u001b[36m\u001b[1m[ \u001b[22m\u001b[39m\u001b[36m\u001b[1mInfo: \u001b[22m\u001b[39m2\n",
      "\u001b[36m\u001b[1m[ \u001b[22m\u001b[39m\u001b[36m\u001b[1mInfo: \u001b[22m\u001b[39mModify the DOI\n",
      "\u001b[36m\u001b[1m[ \u001b[22m\u001b[39m\u001b[36m\u001b[1mInfo: \u001b[22m\u001b[39m10.6092/e871c976-9c5c-467b-842a-47d198bc053f → https://doi.org/10.13120/e871c976-9c5c-467b-842a-47d198bc053f\n",
      "\u001b[36m\u001b[1m[ \u001b[22m\u001b[39m\u001b[36m\u001b[1mInfo: \u001b[22m\u001b[39m3\n",
      "\u001b[36m\u001b[1m[ \u001b[22m\u001b[39m\u001b[36m\u001b[1mInfo: \u001b[22m\u001b[39mModify the DOI\n",
      "\u001b[36m\u001b[1m[ \u001b[22m\u001b[39m\u001b[36m\u001b[1mInfo: \u001b[22m\u001b[39m10.6092/2ddd24c0-0afb-443b-a0a5-51a4f33324c2 → https://doi.org/10.13120/2ddd24c0-0afb-443b-a0a5-51a4f33324c2\n",
      "\u001b[36m\u001b[1m[ \u001b[22m\u001b[39m\u001b[36m\u001b[1mInfo: \u001b[22m\u001b[39m4\n",
      "\u001b[36m\u001b[1m[ \u001b[22m\u001b[39m\u001b[36m\u001b[1mInfo: \u001b[22m\u001b[39mModify the DOI\n",
      "\u001b[36m\u001b[1m[ \u001b[22m\u001b[39m\u001b[36m\u001b[1mInfo: \u001b[22m\u001b[39mhttps://doi.org/10.6092/e1da99a3-037f-455d-bf65-2fe85337ca43 → https://doi.org/10.13120/e1da99a3-037f-455d-bf65-2fe85337ca43\n",
      "\u001b[36m\u001b[1m[ \u001b[22m\u001b[39m\u001b[36m\u001b[1mInfo: \u001b[22m\u001b[39m5\n",
      "\u001b[36m\u001b[1m[ \u001b[22m\u001b[39m\u001b[36m\u001b[1mInfo: \u001b[22m\u001b[39mModify the DOI\n",
      "\u001b[36m\u001b[1m[ \u001b[22m\u001b[39m\u001b[36m\u001b[1mInfo: \u001b[22m\u001b[39mhttps://doi.org/10.6092/3c0c6ebf-0942-4190-a9f6-0478e35dce07 → https://doi.org/10.13120/3c0c6ebf-0942-4190-a9f6-0478e35dce07\n",
      "\u001b[36m\u001b[1m[ \u001b[22m\u001b[39m\u001b[36m\u001b[1mInfo: \u001b[22m\u001b[39m6\n",
      "\u001b[36m\u001b[1m[ \u001b[22m\u001b[39m\u001b[36m\u001b[1mInfo: \u001b[22m\u001b[39mModify the DOI\n",
      "\u001b[36m\u001b[1m[ \u001b[22m\u001b[39m\u001b[36m\u001b[1mInfo: \u001b[22m\u001b[39mhttps://doi.org/10.6092/7b0764f4-aa3b-4a5f-8847-7345f37d7ecc → https://doi.org/10.13120/7b0764f4-aa3b-4a5f-8847-7345f37d7ecc\n",
      "\u001b[36m\u001b[1m[ \u001b[22m\u001b[39m\u001b[36m\u001b[1mInfo: \u001b[22m\u001b[39m7\n",
      "\u001b[36m\u001b[1m[ \u001b[22m\u001b[39m\u001b[36m\u001b[1mInfo: \u001b[22m\u001b[39mModify the DOI\n",
      "\u001b[36m\u001b[1m[ \u001b[22m\u001b[39m\u001b[36m\u001b[1mInfo: \u001b[22m\u001b[39mhttps://doi.org/10.6092/a7fe7c1a-473f-4082-8ef6-a07622e02445 → https://doi.org/10.13120/a7fe7c1a-473f-4082-8ef6-a07622e02445\n",
      "\u001b[36m\u001b[1m[ \u001b[22m\u001b[39m\u001b[36m\u001b[1mInfo: \u001b[22m\u001b[39m8\n",
      "\u001b[36m\u001b[1m[ \u001b[22m\u001b[39m\u001b[36m\u001b[1mInfo: \u001b[22m\u001b[39mModify the DOI\n",
      "\u001b[36m\u001b[1m[ \u001b[22m\u001b[39m\u001b[36m\u001b[1mInfo: \u001b[22m\u001b[39mhttps://doi.org/10.6092/0bb1dcd8-f643-401a-ba58-46463969d2a3 → https://doi.org/10.13120/0bb1dcd8-f643-401a-ba58-46463969d2a3\n",
      "\u001b[36m\u001b[1m[ \u001b[22m\u001b[39m\u001b[36m\u001b[1mInfo: \u001b[22m\u001b[39m19\n",
      "\u001b[36m\u001b[1m[ \u001b[22m\u001b[39m\u001b[36m\u001b[1mInfo: \u001b[22m\u001b[39mModify the DOI\n",
      "\u001b[36m\u001b[1m[ \u001b[22m\u001b[39m\u001b[36m\u001b[1mInfo: \u001b[22m\u001b[39m10.6092/d4fa14db-81f5-4127-9425-75edc43462c3 → https://doi.org/10.13120/1c1e5e79-3d6f-4998-b7cf-59e3e148ddbc\n",
      "\u001b[36m\u001b[1m[ \u001b[22m\u001b[39m\u001b[36m\u001b[1mInfo: \u001b[22m\u001b[39mnothing\n",
      "\u001b[36m\u001b[1m[ \u001b[22m\u001b[39m\u001b[36m\u001b[1mInfo: \u001b[22m\u001b[39m/home/ctroupin/data/EMODnet-Chemistry/emodnet-results-2023/By_sea_regions/Black_Sea/Water_body_dissolved_inorganic_nitrogen.4Danl.nc\n",
      "\u001b[36m\u001b[1m[ \u001b[22m\u001b[39m\u001b[36m\u001b[1mInfo: \u001b[22m\u001b[39m21\n",
      "\u001b[36m\u001b[1m[ \u001b[22m\u001b[39m\u001b[36m\u001b[1mInfo: \u001b[22m\u001b[39mModify the DOI\n",
      "\u001b[36m\u001b[1m[ \u001b[22m\u001b[39m\u001b[36m\u001b[1mInfo: \u001b[22m\u001b[39m10.6092/6c979fc6-fa21-4813-a2cb-f44765937360 → https://doi.org/10.13120/0688f2d3-0c02-4cfc-867c-740875fa57b8\n",
      "\u001b[36m\u001b[1m[ \u001b[22m\u001b[39m\u001b[36m\u001b[1mInfo: \u001b[22m\u001b[39m22\n",
      "\u001b[36m\u001b[1m[ \u001b[22m\u001b[39m\u001b[36m\u001b[1mInfo: \u001b[22m\u001b[39mModify the DOI\n",
      "\u001b[36m\u001b[1m[ \u001b[22m\u001b[39m\u001b[36m\u001b[1mInfo: \u001b[22m\u001b[39m10.6092/bae61190-470f-436b-af3f-26c8ceca450a → https://doi.org/10.13120/6c979fc6-fa21-4813-a2cb-f44765937360\n",
      "\u001b[36m\u001b[1m[ \u001b[22m\u001b[39m\u001b[36m\u001b[1mInfo: \u001b[22m\u001b[39m23\n",
      "\u001b[36m\u001b[1m[ \u001b[22m\u001b[39m\u001b[36m\u001b[1mInfo: \u001b[22m\u001b[39mModify the DOI\n",
      "\u001b[36m\u001b[1m[ \u001b[22m\u001b[39m\u001b[36m\u001b[1mInfo: \u001b[22m\u001b[39m10.6092/8f127592-cff5-4eb3-b3a7-c66edcaf9473 → https://doi.org/10.13120/bae61190-470f-436b-af3f-26c8ceca450a\n",
      "\u001b[36m\u001b[1m[ \u001b[22m\u001b[39m\u001b[36m\u001b[1mInfo: \u001b[22m\u001b[39m24\n",
      "\u001b[36m\u001b[1m[ \u001b[22m\u001b[39m\u001b[36m\u001b[1mInfo: \u001b[22m\u001b[39mModify the DOI\n",
      "\u001b[36m\u001b[1m[ \u001b[22m\u001b[39m\u001b[36m\u001b[1mInfo: \u001b[22m\u001b[39m10.6092/f9f2cc90-b840-11ed-056b-694d0c807e4c → https://doi.org/10.13120/f9f2cc90-b840-11ed-056b-694d0c807e4c\n",
      "\u001b[36m\u001b[1m[ \u001b[22m\u001b[39m\u001b[36m\u001b[1mInfo: \u001b[22m\u001b[39m25\n",
      "\u001b[36m\u001b[1m[ \u001b[22m\u001b[39m\u001b[36m\u001b[1mInfo: \u001b[22m\u001b[39mModify the DOI\n",
      "\u001b[36m\u001b[1m[ \u001b[22m\u001b[39m\u001b[36m\u001b[1mInfo: \u001b[22m\u001b[39m10.6092/ae939b80-b796-11ed-3d13-01d6ff06d7dc → https://doi.org/10.13120/ae939b80-b796-11ed-3d13-01d6ff06d7dc\n",
      "\u001b[36m\u001b[1m[ \u001b[22m\u001b[39m\u001b[36m\u001b[1mInfo: \u001b[22m\u001b[39m26\n",
      "\u001b[36m\u001b[1m[ \u001b[22m\u001b[39m\u001b[36m\u001b[1mInfo: \u001b[22m\u001b[39mModify the DOI\n",
      "\u001b[36m\u001b[1m[ \u001b[22m\u001b[39m\u001b[36m\u001b[1mInfo: \u001b[22m\u001b[39m10.6092/2de6ba50-b87a-11ed-05ae-bf5207749019 → https://doi.org/10.13120/2de6ba50-b87a-11ed-05ae-bf5207749019\n",
      "\u001b[36m\u001b[1m[ \u001b[22m\u001b[39m\u001b[36m\u001b[1mInfo: \u001b[22m\u001b[39m27\n",
      "\u001b[36m\u001b[1m[ \u001b[22m\u001b[39m\u001b[36m\u001b[1mInfo: \u001b[22m\u001b[39mModify the DOI\n",
      "\u001b[36m\u001b[1m[ \u001b[22m\u001b[39m\u001b[36m\u001b[1mInfo: \u001b[22m\u001b[39m10.6092/3a35ab00-b7b6-11ed-3f82-b9a73c08e1e1 → https://doi.org/10.13120/3a35ab00-b7b6-11ed-3f82-b9a73c08e1e1\n",
      "\u001b[36m\u001b[1m[ \u001b[22m\u001b[39m\u001b[36m\u001b[1mInfo: \u001b[22m\u001b[39m28\n",
      "\u001b[36m\u001b[1m[ \u001b[22m\u001b[39m\u001b[36m\u001b[1mInfo: \u001b[22m\u001b[39mModify the DOI\n",
      "\u001b[36m\u001b[1m[ \u001b[22m\u001b[39m\u001b[36m\u001b[1mInfo: \u001b[22m\u001b[39m10.6092/510cfd70-b800-11ed-2ddb-f921e49bd7a1 → https://doi.org/10.13120/510cfd70-b800-11ed-2ddb-f921e49bd7a1\n",
      "\u001b[36m\u001b[1m[ \u001b[22m\u001b[39m\u001b[36m\u001b[1mInfo: \u001b[22m\u001b[39m34\n",
      "\u001b[36m\u001b[1m[ \u001b[22m\u001b[39m\u001b[36m\u001b[1mInfo: \u001b[22m\u001b[39mModify the DOI\n",
      "\u001b[36m\u001b[1m[ \u001b[22m\u001b[39m\u001b[36m\u001b[1mInfo: \u001b[22m\u001b[39mhttps://doi.org/10.6092/de582896-dd8c-413b-b9a7-1774de2e6344 → https://doi.org/10.13120/de582896-dd8c-413b-b9a7-1774de2e6344\n",
      "\u001b[36m\u001b[1m[ \u001b[22m\u001b[39m\u001b[36m\u001b[1mInfo: \u001b[22m\u001b[39m35\n",
      "\u001b[36m\u001b[1m[ \u001b[22m\u001b[39m\u001b[36m\u001b[1mInfo: \u001b[22m\u001b[39mModify the DOI\n",
      "\u001b[36m\u001b[1m[ \u001b[22m\u001b[39m\u001b[36m\u001b[1mInfo: \u001b[22m\u001b[39mhttps://doi.org/10.6092/dc9ebec5-332d-40bd-9861-dc6318af955e → https://doi.org/10.13120/dc9ebec5-332d-40bd-9861-dc6318af955e\n",
      "\u001b[36m\u001b[1m[ \u001b[22m\u001b[39m\u001b[36m\u001b[1mInfo: \u001b[22m\u001b[39m36\n",
      "\u001b[36m\u001b[1m[ \u001b[22m\u001b[39m\u001b[36m\u001b[1mInfo: \u001b[22m\u001b[39mModify the DOI\n",
      "\u001b[36m\u001b[1m[ \u001b[22m\u001b[39m\u001b[36m\u001b[1mInfo: \u001b[22m\u001b[39mhttps://doi.org/10.6092/c0155a06-6798-4c77-aab6-64165df57d88 → https://doi.org/10.13120/c0155a06-6798-4c77-aab6-64165df57d88\n",
      "\u001b[36m\u001b[1m[ \u001b[22m\u001b[39m\u001b[36m\u001b[1mInfo: \u001b[22m\u001b[39m37\n",
      "\u001b[36m\u001b[1m[ \u001b[22m\u001b[39m\u001b[36m\u001b[1mInfo: \u001b[22m\u001b[39mModify the DOI\n",
      "\u001b[36m\u001b[1m[ \u001b[22m\u001b[39m\u001b[36m\u001b[1mInfo: \u001b[22m\u001b[39mhttps://doi.org/10.6092/56a71dd3-667a-4315-8281-6a0df1a98a53 → https://doi.org/10.13120/56a71dd3-667a-4315-8281-6a0df1a98a53\n",
      "\u001b[36m\u001b[1m[ \u001b[22m\u001b[39m\u001b[36m\u001b[1mInfo: \u001b[22m\u001b[39m38\n",
      "\u001b[36m\u001b[1m[ \u001b[22m\u001b[39m\u001b[36m\u001b[1mInfo: \u001b[22m\u001b[39mModify the DOI\n",
      "\u001b[36m\u001b[1m[ \u001b[22m\u001b[39m\u001b[36m\u001b[1mInfo: \u001b[22m\u001b[39mhttps://doi.org/10.6092/97f6c2a8-fb4a-4870-9f69-04bc374b3257 → https://doi.org/10.13120/97f6c2a8-fb4a-4870-9f69-04bc374b3257\n",
      "\u001b[36m\u001b[1m[ \u001b[22m\u001b[39m\u001b[36m\u001b[1mInfo: \u001b[22m\u001b[39m39\n",
      "\u001b[36m\u001b[1m[ \u001b[22m\u001b[39m\u001b[36m\u001b[1mInfo: \u001b[22m\u001b[39mModify the DOI\n",
      "\u001b[36m\u001b[1m[ \u001b[22m\u001b[39m\u001b[36m\u001b[1mInfo: \u001b[22m\u001b[39mhttps://doi.org/10.6092/a3461fb1-d209-440e-a49f-7acff7731395 → https://doi.org/10.13120/a3461fb1-d209-440e-a49f-7acff7731395\n",
      "\u001b[36m\u001b[1m[ \u001b[22m\u001b[39m\u001b[36m\u001b[1mInfo: \u001b[22m\u001b[39m40\n",
      "\u001b[36m\u001b[1m[ \u001b[22m\u001b[39m\u001b[36m\u001b[1mInfo: \u001b[22m\u001b[39mModify the DOI\n",
      "\u001b[36m\u001b[1m[ \u001b[22m\u001b[39m\u001b[36m\u001b[1mInfo: \u001b[22m\u001b[39mhttps://doi.org/10.6092/fde9b782-cb3d-4c83-9f4c-2546b78e092f → https://doi.org/10.13120/fde9b782-cb3d-4c83-9f4c-2546b78e092f\n",
      "\u001b[36m\u001b[1m[ \u001b[22m\u001b[39m\u001b[36m\u001b[1mInfo: \u001b[22m\u001b[39mnothing\n",
      "\u001b[36m\u001b[1m[ \u001b[22m\u001b[39m\u001b[36m\u001b[1mInfo: \u001b[22m\u001b[39m/home/ctroupin/data/EMODnet-Chemistry/emodnet-results-2023/By_sea_regions/Northeast_Atlantic_Ocean/Water_body_dissolved_oxygen_concentration.4Danl.nc\n",
      "\u001b[36m\u001b[1m[ \u001b[22m\u001b[39m\u001b[36m\u001b[1mInfo: \u001b[22m\u001b[39mnothing\n",
      "\u001b[36m\u001b[1m[ \u001b[22m\u001b[39m\u001b[36m\u001b[1mInfo: \u001b[22m\u001b[39m/home/ctroupin/data/EMODnet-Chemistry/emodnet-results-2023/By_sea_regions/Northeast_Atlantic_Ocean/Water_body_phosphate.4Danl.nc\n",
      "\u001b[36m\u001b[1m[ \u001b[22m\u001b[39m\u001b[36m\u001b[1mInfo: \u001b[22m\u001b[39m9\n",
      "\u001b[36m\u001b[1m[ \u001b[22m\u001b[39m\u001b[36m\u001b[1mInfo: \u001b[22m\u001b[39mModify the DOI\n",
      "\u001b[36m\u001b[1m[ \u001b[22m\u001b[39m\u001b[36m\u001b[1mInfo: \u001b[22m\u001b[39mhttps://doi.org/10.6092/eea90fe0-0753-4d90-8c03-45d47627c2e4 → https://doi.org/10.13120/eea90fe0-0753-4d90-8c03-45d47627c2e4\n",
      "\u001b[36m\u001b[1m[ \u001b[22m\u001b[39m\u001b[36m\u001b[1mInfo: \u001b[22m\u001b[39m10\n",
      "\u001b[36m\u001b[1m[ \u001b[22m\u001b[39m\u001b[36m\u001b[1mInfo: \u001b[22m\u001b[39mModify the DOI\n",
      "\u001b[36m\u001b[1m[ \u001b[22m\u001b[39m\u001b[36m\u001b[1mInfo: \u001b[22m\u001b[39mhttps://doi.org/10.6092/e4928a73-9ef1-4a43-b67c-9da4349237f0 → https://doi.org/10.13120/77770d46-21de-47a4-abd5-4d7c8d6dcddc\n",
      "\u001b[36m\u001b[1m[ \u001b[22m\u001b[39m\u001b[36m\u001b[1mInfo: \u001b[22m\u001b[39m11\n",
      "\u001b[36m\u001b[1m[ \u001b[22m\u001b[39m\u001b[36m\u001b[1mInfo: \u001b[22m\u001b[39mModify the DOI\n",
      "\u001b[36m\u001b[1m[ \u001b[22m\u001b[39m\u001b[36m\u001b[1mInfo: \u001b[22m\u001b[39mhttps://doi.org/10.6092/4c9f5786-5d03-40e4-9468-0898283d2a01 → https://doi.org/10.13120/a435e06d-12cd-4056-b2cd-7cf6d2a68d67\n",
      "\u001b[36m\u001b[1m[ \u001b[22m\u001b[39m\u001b[36m\u001b[1mInfo: \u001b[22m\u001b[39m12\n",
      "\u001b[36m\u001b[1m[ \u001b[22m\u001b[39m\u001b[36m\u001b[1mInfo: \u001b[22m\u001b[39mModify the DOI\n",
      "\u001b[36m\u001b[1m[ \u001b[22m\u001b[39m\u001b[36m\u001b[1mInfo: \u001b[22m\u001b[39mhttps://doi.org/10.6092/cdb144e5-109a-4165-b69d-10af153a03c1 → https://doi.org/10.13120/e4928a73-9ef1-4a43-b67c-9da4349237f0\n",
      "\u001b[36m\u001b[1m[ \u001b[22m\u001b[39m\u001b[36m\u001b[1mInfo: \u001b[22m\u001b[39m13\n",
      "\u001b[36m\u001b[1m[ \u001b[22m\u001b[39m\u001b[36m\u001b[1mInfo: \u001b[22m\u001b[39mModify the DOI\n",
      "\u001b[36m\u001b[1m[ \u001b[22m\u001b[39m\u001b[36m\u001b[1mInfo: \u001b[22m\u001b[39mhttps://doi.org/10.6092/13588424-5d4d-43c6-8b04-4c871c864c0e → https://doi.org/10.13120/4c9f5786-5d03-40e4-9468-0898283d2a01\n",
      "\u001b[36m\u001b[1m[ \u001b[22m\u001b[39m\u001b[36m\u001b[1mInfo: \u001b[22m\u001b[39m14\n",
      "\u001b[36m\u001b[1m[ \u001b[22m\u001b[39m\u001b[36m\u001b[1mInfo: \u001b[22m\u001b[39mModify the DOI\n",
      "\u001b[36m\u001b[1m[ \u001b[22m\u001b[39m\u001b[36m\u001b[1mInfo: \u001b[22m\u001b[39m10.6092/77770d46-21de-47a4-abd5-4d7c8d6dcddc → https://doi.org/10.13120/cdb144e5-109a-4165-b69d-10af153a03c1\n",
      "\u001b[36m\u001b[1m[ \u001b[22m\u001b[39m\u001b[36m\u001b[1mInfo: \u001b[22m\u001b[39m15\n",
      "\u001b[36m\u001b[1m[ \u001b[22m\u001b[39m\u001b[36m\u001b[1mInfo: \u001b[22m\u001b[39mModify the DOI\n"
     ]
    },
    {
     "name": "stderr",
     "output_type": "stream",
     "text": [
      "\u001b[36m\u001b[1m[ \u001b[22m\u001b[39m\u001b[36m\u001b[1mInfo: \u001b[22m\u001b[39m10.6092/a435e06d-12cd-4056-b2cd-7cf6d2a68d67 → https://doi.org/10.13120/13588424-5d4d-43c6-8b04-4c871c864c0e\n",
      "\u001b[36m\u001b[1m[ \u001b[22m\u001b[39m\u001b[36m\u001b[1mInfo: \u001b[22m\u001b[39m16\n",
      "\u001b[36m\u001b[1m[ \u001b[22m\u001b[39m\u001b[36m\u001b[1mInfo: \u001b[22m\u001b[39mModify the DOI\n",
      "\u001b[36m\u001b[1m[ \u001b[22m\u001b[39m\u001b[36m\u001b[1mInfo: \u001b[22m\u001b[39m10.6092/fda28b2d-86ed-4aa9-b1ea-a3bffde379fb → https://doi.org/10.13120/fda28b2d-86ed-4aa9-b1ea-a3bffde379fb\n",
      "\u001b[36m\u001b[1m[ \u001b[22m\u001b[39m\u001b[36m\u001b[1mInfo: \u001b[22m\u001b[39m17\n",
      "\u001b[36m\u001b[1m[ \u001b[22m\u001b[39m\u001b[36m\u001b[1mInfo: \u001b[22m\u001b[39mModify the DOI\n",
      "\u001b[36m\u001b[1m[ \u001b[22m\u001b[39m\u001b[36m\u001b[1mInfo: \u001b[22m\u001b[39m10.6092/41931b71-2ed6-4a25-8712-368ae1d904da → https://doi.org/10.13120/41931b71-2ed6-4a25-8712-368ae1d904da\n",
      "\u001b[36m\u001b[1m[ \u001b[22m\u001b[39m\u001b[36m\u001b[1mInfo: \u001b[22m\u001b[39m18\n",
      "\u001b[36m\u001b[1m[ \u001b[22m\u001b[39m\u001b[36m\u001b[1mInfo: \u001b[22m\u001b[39mModify the DOI\n",
      "\u001b[36m\u001b[1m[ \u001b[22m\u001b[39m\u001b[36m\u001b[1mInfo: \u001b[22m\u001b[39m10.6092/1c1e5e79-3d6f-4998-b7cf-59e3e148ddbc → https://doi.org/10.13120/8f127592-cff5-4eb3-b3a7-c66edcaf9473\n",
      "\u001b[36m\u001b[1m[ \u001b[22m\u001b[39m\u001b[36m\u001b[1mInfo: \u001b[22m\u001b[39m29\n",
      "\u001b[36m\u001b[1m[ \u001b[22m\u001b[39m\u001b[36m\u001b[1mInfo: \u001b[22m\u001b[39mModify the DOI\n",
      "\u001b[36m\u001b[1m[ \u001b[22m\u001b[39m\u001b[36m\u001b[1mInfo: \u001b[22m\u001b[39m10.6092/61e77250-b68f-11ed-1190-4bfda496df09 → https://doi.org/10.13120/61e77250-b68f-11ed-1190-4bfda496df09\n",
      "\u001b[36m\u001b[1m[ \u001b[22m\u001b[39m\u001b[36m\u001b[1mInfo: \u001b[22m\u001b[39m30\n",
      "\u001b[36m\u001b[1m[ \u001b[22m\u001b[39m\u001b[36m\u001b[1mInfo: \u001b[22m\u001b[39mModify the DOI\n",
      "\u001b[36m\u001b[1m[ \u001b[22m\u001b[39m\u001b[36m\u001b[1mInfo: \u001b[22m\u001b[39m10.6092/a5767700-b6df-11ed-12fe-a98c192982d1 → https://doi.org/10.13120/a5767700-b6df-11ed-12fe-a98c192982d1\n",
      "\u001b[36m\u001b[1m[ \u001b[22m\u001b[39m\u001b[36m\u001b[1mInfo: \u001b[22m\u001b[39m31\n",
      "\u001b[36m\u001b[1m[ \u001b[22m\u001b[39m\u001b[36m\u001b[1mInfo: \u001b[22m\u001b[39mModify the DOI\n",
      "\u001b[36m\u001b[1m[ \u001b[22m\u001b[39m\u001b[36m\u001b[1mInfo: \u001b[22m\u001b[39m10.6092/2c896f10-b61b-11ed-34f9-d3cbc75d1d06 → https://doi.org/10.13120/2c896f10-b61b-11ed-34f9-d3cbc75d1d06\n",
      "\u001b[36m\u001b[1m[ \u001b[22m\u001b[39m\u001b[36m\u001b[1mInfo: \u001b[22m\u001b[39m32\n",
      "\u001b[36m\u001b[1m[ \u001b[22m\u001b[39m\u001b[36m\u001b[1mInfo: \u001b[22m\u001b[39mModify the DOI\n",
      "\u001b[36m\u001b[1m[ \u001b[22m\u001b[39m\u001b[36m\u001b[1mInfo: \u001b[22m\u001b[39m10.6092/023cf32e-b693-11ed-37cd-097ca14ce8bf → https://doi.org/10.13120/023cf32e-b693-11ed-37cd-097ca14ce8bf\n",
      "\u001b[36m\u001b[1m[ \u001b[22m\u001b[39m\u001b[36m\u001b[1mInfo: \u001b[22m\u001b[39m33\n",
      "\u001b[36m\u001b[1m[ \u001b[22m\u001b[39m\u001b[36m\u001b[1mInfo: \u001b[22m\u001b[39mModify the DOI\n",
      "\u001b[36m\u001b[1m[ \u001b[22m\u001b[39m\u001b[36m\u001b[1mInfo: \u001b[22m\u001b[39m10.6092/32ef4490-9b6f-11ed-044a-0534769e6efc → https://doi.org/10.13120/32ef4490-9b6f-11ed-044a-0534769e6efc\n",
      "\u001b[36m\u001b[1m[ \u001b[22m\u001b[39m\u001b[36m\u001b[1mInfo: \u001b[22m\u001b[39m44\n",
      "\u001b[36m\u001b[1m[ \u001b[22m\u001b[39m\u001b[36m\u001b[1mInfo: \u001b[22m\u001b[39mModify the DOI\n",
      "\u001b[36m\u001b[1m[ \u001b[22m\u001b[39m\u001b[36m\u001b[1mInfo: \u001b[22m\u001b[39mhttps://doi.org/10.6092/9fc08bf8-e5f9-42a1-b2dd-edcfb898e362 → https://doi.org/10.13120/9fc08bf8-e5f9-42a1-b2dd-edcfb898e362\n",
      "\u001b[36m\u001b[1m[ \u001b[22m\u001b[39m\u001b[36m\u001b[1mInfo: \u001b[22m\u001b[39m45\n",
      "\u001b[36m\u001b[1m[ \u001b[22m\u001b[39m\u001b[36m\u001b[1mInfo: \u001b[22m\u001b[39mModify the DOI\n",
      "\u001b[36m\u001b[1m[ \u001b[22m\u001b[39m\u001b[36m\u001b[1mInfo: \u001b[22m\u001b[39mhttps://doi.org/10.6092/02a960b4-15f8-450e-ae23-af3616ca3ee3 → https://doi.org/10.13120/02a960b4-15f8-450e-ae23-af3616ca3ee3\n",
      "\u001b[36m\u001b[1m[ \u001b[22m\u001b[39m\u001b[36m\u001b[1mInfo: \u001b[22m\u001b[39m46\n",
      "\u001b[36m\u001b[1m[ \u001b[22m\u001b[39m\u001b[36m\u001b[1mInfo: \u001b[22m\u001b[39mModify the DOI\n",
      "\u001b[36m\u001b[1m[ \u001b[22m\u001b[39m\u001b[36m\u001b[1mInfo: \u001b[22m\u001b[39mhttps://doi.org/10.6092/1afca298-c457-470c-8679-b493abb7d3dc → https://doi.org/10.13120/1afca298-c457-470c-8679-b493abb7d3dc\n",
      "\u001b[36m\u001b[1m[ \u001b[22m\u001b[39m\u001b[36m\u001b[1mInfo: \u001b[22m\u001b[39m47\n",
      "\u001b[36m\u001b[1m[ \u001b[22m\u001b[39m\u001b[36m\u001b[1mInfo: \u001b[22m\u001b[39mModify the DOI\n",
      "\u001b[36m\u001b[1m[ \u001b[22m\u001b[39m\u001b[36m\u001b[1mInfo: \u001b[22m\u001b[39mhttps://doi.org/10.6092/8f926923-10f9-40ee-9bff-83cd0b563035 → https://doi.org/10.13120/8f926923-10f9-40ee-9bff-83cd0b563035\n",
      "\u001b[36m\u001b[1m[ \u001b[22m\u001b[39m\u001b[36m\u001b[1mInfo: \u001b[22m\u001b[39m48\n",
      "\u001b[36m\u001b[1m[ \u001b[22m\u001b[39m\u001b[36m\u001b[1mInfo: \u001b[22m\u001b[39mModify the DOI\n",
      "\u001b[36m\u001b[1m[ \u001b[22m\u001b[39m\u001b[36m\u001b[1mInfo: \u001b[22m\u001b[39mhttps://doi.org/10.6092/2b30d0f9-6f1e-49cd-b237-f01cc7c70d2e → https://doi.org/10.13120/2b30d0f9-6f1e-49cd-b237-f01cc7c70d2e\n"
     ]
    }
   ],
   "source": [
    "for resfile in resultfilelist\n",
    "    @debug(\"Working on file $(resfile)\")\n",
    "    \n",
    "    NCDataset(resfile, \"a\") do ds\n",
    "        productID = ds.attrib[\"product_id\"]\n",
    "        #@info(productID);\n",
    "        \n",
    "        productIndex = findfirst(data.productID .== productID)\n",
    "        @info(productIndex);\n",
    "        \n",
    "        if productIndex == nothing\n",
    "            @info(resfile);\n",
    "        else\n",
    "            @info(\"Modify the DOI\")\n",
    "            oldDOI = ds.attrib[\"doi\"]\n",
    "            newDOI = data.productDOI[productIndex]\n",
    "            @info(\"$(oldDOI) → $(newDOI)\")\n",
    "        end\n",
    "    end\n",
    "end"
   ]
  },
  {
   "cell_type": "code",
   "execution_count": 47,
   "id": "09d01f79",
   "metadata": {},
   "outputs": [
    {
     "data": {
      "text/plain": [
       "\"Arctic Ocean \""
      ]
     },
     "execution_count": 47,
     "metadata": {},
     "output_type": "execute_result"
    }
   ],
   "source": [
    "split(data.productTitle[1], \"-\")[1]"
   ]
  },
  {
   "cell_type": "code",
   "execution_count": 51,
   "id": "9f10cd4e",
   "metadata": {},
   "outputs": [
    {
     "data": {
      "text/plain": [
       "\"https://doi.org/10.13120/13588424-5d4d-43c6-8b04-4c871c864c0e\""
      ]
     },
     "execution_count": 51,
     "metadata": {},
     "output_type": "execute_result"
    }
   ],
   "source": [
    "data.productDOI[15]"
   ]
  },
  {
   "cell_type": "code",
   "execution_count": null,
   "id": "8f21a7b1",
   "metadata": {},
   "outputs": [],
   "source": []
  }
 ],
 "metadata": {
  "kernelspec": {
   "display_name": "Julia 1.9.3",
   "language": "julia",
   "name": "julia-1.9"
  },
  "language_info": {
   "file_extension": ".jl",
   "mimetype": "application/julia",
   "name": "julia",
   "version": "1.9.3"
  }
 },
 "nbformat": 4,
 "nbformat_minor": 5
}
