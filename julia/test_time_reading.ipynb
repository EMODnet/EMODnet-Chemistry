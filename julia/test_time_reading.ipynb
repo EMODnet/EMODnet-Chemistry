{
 "cells": [
  {
   "cell_type": "code",
   "execution_count": 7,
   "id": "current-correlation",
   "metadata": {},
   "outputs": [],
   "source": [
    "using NCDatasets\n",
    "using PyPlot\n",
    "using DIVAnd"
   ]
  },
  {
   "cell_type": "code",
   "execution_count": 2,
   "id": "abandoned-sterling",
   "metadata": {},
   "outputs": [
    {
     "data": {
      "text/plain": [
       "\"/data/EMODnet/Eutrophication/Atlantic_V2/Final_for_DIVA_Eutrophication_Acidification_NAT_all_time_series.nc\""
      ]
     },
     "execution_count": 2,
     "metadata": {},
     "output_type": "execute_result"
    }
   ],
   "source": [
    "datafile = \"./Final_for_DIVA_Eutrophication_Acidification_NAT_all_time_series.nc\"\n",
    "isfile(datafile) ? @debug(\"Already downloade\") : download(\"https://dox.ulg.ac.be/index.php/s/H8FHY0Dl3ODniPG/download\", datafile)"
   ]
  },
  {
   "cell_type": "code",
   "execution_count": 16,
   "id": "accessible-complexity",
   "metadata": {},
   "outputs": [
    {
     "name": "stdout",
     "output_type": "stream",
     "text": [
      "  1.215419 seconds (1.19 M allocations: 397.428 MiB, 9.43% gc time)\n"
     ]
    }
   ],
   "source": [
    "varname = \"Water body dissolved oxygen concentration\"\n",
    "@time obsval, obslon, obslat, obsdepth, obstime, obsid =\n",
    "                NCODV.load(Float64, datafile, varname);"
   ]
  },
  {
   "cell_type": "code",
   "execution_count": 18,
   "id": "structural-atlanta",
   "metadata": {},
   "outputs": [
    {
     "data": {
      "text/plain": [
       "1-element Vector{Float64}:\n",
       " -3.76666259765625"
      ]
     },
     "execution_count": 18,
     "metadata": {},
     "output_type": "execute_result"
    }
   ],
   "source": [
    "unique(obslon)"
   ]
  },
  {
   "cell_type": "code",
   "execution_count": null,
   "id": "strange-moscow",
   "metadata": {},
   "outputs": [],
   "source": [
    "PyPlot.plot(time)\n"
   ]
  }
 ],
 "metadata": {
  "kernelspec": {
   "display_name": "Julia 1.6.0-rc1",
   "language": "julia",
   "name": "julia-1.6"
  },
  "language_info": {
   "file_extension": ".jl",
   "mimetype": "application/julia",
   "name": "julia",
   "version": "1.6.0"
  }
 },
 "nbformat": 4,
 "nbformat_minor": 5
}
