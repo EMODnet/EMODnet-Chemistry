{
 "cells": [
  {
   "cell_type": "code",
   "execution_count": 1,
   "id": "14b8e551",
   "metadata": {},
   "outputs": [],
   "source": [
    "using CSV"
   ]
  },
  {
   "cell_type": "code",
   "execution_count": 1,
   "id": "0abfe88c",
   "metadata": {},
   "outputs": [
    {
     "data": {
      "text/plain": [
       "\"/home/ctroupin/data/EMODnet/Statistics/stats20220101_20220331_short.csv\""
      ]
     },
     "execution_count": 1,
     "metadata": {},
     "output_type": "execute_result"
    }
   ],
   "source": [
    "datafile = \"/home/ctroupin/data/EMODnet/Statistics/stats20220101_20220331_short.csv\""
   ]
  },
  {
   "cell_type": "code",
   "execution_count": 2,
   "id": "d58b6018",
   "metadata": {},
   "outputs": [
    {
     "data": {
      "text/plain": [
       "12-element Vector{String}:\n",
       " \"Label\"\n",
       " \"Visits\"\n",
       " \"Events\"\n",
       " \"Events with a value\"\n",
       " \"Event value\"\n",
       " \"Minimum Event value\"\n",
       " \"Maximum Event value\"\n",
       " \"Unique visitors (daily sum)\"\n",
       " \"The average of all values for this event\"\n",
       " \"Metadata: Events_EventName\"\n",
       " \"Metadata: Events_EventAction\"\n",
       " \"Metadata: is_summary\""
      ]
     },
     "execution_count": 2,
     "metadata": {},
     "output_type": "execute_result"
    }
   ],
   "source": [
    "column_names = [\"Label\", \"Visits\", \"Events\", \"Events with a value\",\n",
    "    \"Event value\", \"Minimum Event value\", \"Maximum Event value\",\n",
    "    \"Unique visitors (daily sum)\",\n",
    "    \"The average of all values for this event\",\n",
    "    \"Metadata: Events_EventName\",\n",
    "    \"Metadata: Events_EventAction\", \"Metadata: is_summary\"\n",
    "]"
   ]
  },
  {
   "cell_type": "code",
   "execution_count": 3,
   "id": "7b5b138c",
   "metadata": {},
   "outputs": [
    {
     "name": "stdout",
     "output_type": "stream",
     "text": [
      "\u0000n\u0000u\u0000l\u0000l\u0000 \u0000-\u0000 \u0000U\u0000U\u0000I\u0000D\u0000,\u00001\u00000\u00004\u0000,\u00003\u00000\u00004\u0000,\u00000\u0000,\u00000\u0000,\u00000\u0000,\u00000\u0000,\u00001\u00000\u00004\u0000,\u00000\u0000,\u0000n\u0000u\u0000l\u0000l\u0000,\u0000U\u0000U\u0000I\u0000D\u0000,\u0000\n",
      "\n",
      "\u0000n\u0000u\u0000l\u0000l\u0000 \u0000-\u0000 \u0000U\u0000U\u0000I\u0000D\u0000\n",
      "\u0000c\u0000h\u0000l\u0000o\u0000r\u0000o\u0000p\u0000h\u0000y\u0000l\u0000l\u0000 \u0000-\u0000 \u0000L\u0000a\u0000y\u0000e\u0000r\u0000,\u00004\u00008\u0000,\u00006\u00000\u0000,\u00000\u0000,\u00000\u0000,\u00000\u0000,\u00000\u0000,\u00004\u00008\u0000,\u00000\u0000,\u0000c\u0000h\u0000l\u0000o\u0000r\u0000o\u0000p\u0000h\u0000y\u0000l\u0000l\u0000,\u0000L\u0000a\u0000y\u0000e\u0000r\u0000,\u0000\n",
      "\n",
      "\u0000c\u0000h\u0000l\u0000o\u0000r\u0000o\u0000p\u0000h\u0000y\u0000l\u0000l\u0000 \u0000-\u0000 \u0000L\u0000a\u0000y\u0000e\u0000r\u0000\n",
      "\u0000O\u0000t\u0000h\u0000e\u0000r\u0000s\u0000,\u00004\u00005\u0000,\u00005\u00006\u0000,\u00000\u0000,\u00000\u0000,\u00000\u0000,\u00000\u0000,\u00004\u00005\u0000,\u00000\u0000,\u0000O\u0000t\u0000h\u0000e\u0000r\u0000s\u0000,\u0000,\u00001\u0000\n",
      "\n",
      "\u0000O\u0000t\u0000h\u0000e\u0000r\u0000s\u0000\n",
      "\u0000a\u00008\u0000e\u00006\u00006\u0000d\u0000a\u00006\u0000-\u0000e\u0000b\u0000a\u0000c\u0000-\u00004\u0000c\u00004\u0000d\u0000-\u00009\u00006\u0000c\u0000b\u0000-\u00004\u00005\u00004\u00002\u0000e\u0000b\u00006\u00006\u00008\u00009\u00004\u0000b\u0000 \u0000-\u0000 \u0000U\u0000U\u0000I\u0000D\u0000,\u00004\u00002\u0000,\u00008\u00004\u0000,\u00000\u0000,\u00000\u0000,\u00000\u0000,\u00000\u0000,\u00004\u00002\u0000,\u00000\u0000,\u0000a\u00008\u0000e\u00006\u00006\u0000d\u0000a\u00006\u0000-\u0000e\u0000b\u0000a\u0000c\u0000-\u00004\u0000c\u00004\u0000d\u0000-\u00009\u00006\u0000c\u0000b\u0000-\u00004\u00005\u00004\u00002\u0000e\u0000b\u00006\u00006\u00008\u00009\u00004\u0000b\u0000,\u0000U\u0000U\u0000I\u0000D\u0000,\u0000\n",
      "\n",
      "\u0000a\u00008\u0000e\u00006\u00006\u0000d\u0000a\u00006\u0000-\u0000e\u0000b\u0000a\u0000c\u0000-\u00004\u0000c\u00004\u0000d\u0000-\u00009\u00006\u0000c\u0000b\u0000-\u00004\u00005\u00004\u00002\u0000e\u0000b\u00006\u00006\u00008\u00009\u00004\u0000b\u0000 \u0000-\u0000 \u0000U\u0000U\u0000I\u0000D\u0000\n",
      "\u0000b\u0000l\u0000_\u0000t\u0000o\u0000t\u0000a\u0000l\u0000a\u0000b\u0000u\u0000n\u0000d\u0000a\u0000n\u0000c\u0000e\u0000_\u0000m\u0000o\u0000n\u0000i\u0000t\u0000o\u0000r\u0000i\u0000n\u0000g\u0000 \u0000-\u0000 \u0000L\u0000a\u0000y\u0000e\u0000r\u0000,\u00004\u00002\u0000,\u00007\u00004\u0000,\u00000\u0000,\u00000\u0000,\u00000\u0000,\u00000\u0000,\u00004\u00002\u0000,\u00000\u0000,\u0000b\u0000l\u0000_\u0000t\u0000o\u0000t\u0000a\u0000l\u0000a\u0000b\u0000u\u0000n\u0000d\u0000a\u0000n\u0000c\u0000e\u0000_\u0000m\u0000o\u0000n\u0000i\u0000t\u0000o\u0000r\u0000i\u0000n\u0000g\u0000,\u0000L\u0000a\u0000y\u0000e\u0000r\u0000,\u0000\n",
      "\n",
      "\u0000b\u0000l\u0000_\u0000t\u0000o\u0000t\u0000a\u0000l\u0000a\u0000b\u0000u\u0000n\u0000d\u0000a\u0000n\u0000c\u0000e\u0000_\u0000m\u0000o\u0000n\u0000i\u0000t\u0000o\u0000r\u0000i\u0000n\u0000g\u0000 \u0000-\u0000 \u0000L\u0000a\u0000y\u0000e\u0000r\u0000\n",
      "\u0000s\u0000h\u0000o\u0000w\u0000n\u0000 \u0000-\u0000 \u0000f\u0000o\u0000r\u0000m\u0000,\u00003\u00009\u0000,\u00008\u00005\u0000,\u00000\u0000,\u00000\u0000,\u00000\u0000,\u00000\u0000,\u00003\u00009\u0000,\u00000\u0000,\u0000s\u0000h\u0000o\u0000w\u0000n\u0000,\u0000f\u0000o\u0000r\u0000m\u0000,\u0000\n",
      "\n",
      "\u0000s\u0000h\u0000o\u0000w\u0000n\u0000 \u0000-\u0000 \u0000f\u0000o\u0000r\u0000m\u0000\n",
      "\u0000b\u0000l\u0000_\u0000b\u0000e\u0000a\u0000c\u0000h\u0000e\u0000s\u0000l\u0000o\u0000c\u0000a\u0000t\u0000i\u0000o\u0000n\u0000s\u0000_\u0000m\u0000o\u0000n\u0000i\u0000t\u0000o\u0000r\u0000i\u0000n\u0000g\u0000 \u0000-\u0000 \u0000L\u0000a\u0000y\u0000e\u0000r\u0000,\u00003\u00007\u0000,\u00004\u00006\u0000,\u00000\u0000,\u00000\u0000,\u00000\u0000,\u00000\u0000,\u00003\u00007\u0000,\u00000\u0000,\u0000b\u0000l\u0000_\u0000b\u0000e\u0000a\u0000c\u0000h\u0000e\u0000s\u0000l\u0000o\u0000c\u0000a\u0000t\u0000i\u0000o\u0000n\u0000s\u0000_\u0000m\u0000o\u0000n\u0000i\u0000t\u0000o\u0000r\u0000i\u0000n\u0000g\u0000,\u0000L\u0000a\u0000y\u0000e\u0000r\u0000,\u0000\n",
      "\n",
      "\u0000b\u0000l\u0000_\u0000b\u0000e\u0000a\u0000c\u0000h\u0000e\u0000s\u0000l\u0000o\u0000c\u0000a\u0000t\u0000i\u0000o\u0000n\u0000s\u0000_\u0000m\u0000o\u0000n\u0000i\u0000t\u0000o\u0000r\u0000i\u0000n\u0000g\u0000 \u0000-\u0000 \u0000L\u0000a\u0000y\u0000e\u0000r\u0000\n",
      "\u00004\u0000e\u00004\u0000c\u00003\u00006\u0000c\u0000e\u0000-\u0000f\u0000c\u00008\u00006\u0000-\u00004\u0000d\u0000f\u00007\u0000-\u00009\u00008\u00003\u0000a\u0000-\u0000d\u0000a\u0000e\u00008\u00002\u00002\u0000e\u0000d\u00000\u0000f\u0000e\u00001\u0000 \u0000-\u0000 \u0000U\u0000U\u0000I\u0000D\u0000,\u00003\u00003\u0000,\u00004\u00003\u0000,\u00000\u0000,\u00000\u0000,\u00000\u0000,\u00000\u0000,\u00003\u00003\u0000,\u00000\u0000,\u00004\u0000e\u00004\u0000c\u00003\u00006\u0000c\u0000e\u0000-\u0000f\u0000c\u00008\u00006\u0000-\u00004\u0000d\u0000f\u00007\u0000-\u00009\u00008\u00003\u0000a\u0000-\u0000d\u0000a\u0000e\u00008\u00002\u00002\u0000e\u0000d\u00000\u0000f\u0000e\u00001\u0000,\u0000U\u0000U\u0000I\u0000D\u0000,\u0000\n",
      "\n",
      "\u00004\u0000e\u00004\u0000c\u00003\u00006\u0000c\u0000e\u0000-\u0000f\u0000c\u00008\u00006\u0000-\u00004\u0000d\u0000f\u00007\u0000-\u00009\u00008\u00003\u0000a\u0000-\u0000d\u0000a\u0000e\u00008\u00002\u00002\u0000e\u0000d\u00000\u0000f\u0000e\u00001\u0000 \u0000-\u0000 \u0000U\u0000U\u0000I\u0000D\u0000\n",
      "\u0000A\u0000l\u0000l\u0000 \u0000E\u0000u\u0000r\u0000o\u0000p\u0000e\u0000a\u0000n\u0000 \u0000S\u0000e\u0000a\u0000s\u0000/\u0000W\u0000a\u0000t\u0000e\u0000r\u0000_\u0000b\u0000o\u0000d\u0000y\u0000_\u0000c\u0000h\u0000l\u0000o\u0000r\u0000o\u0000p\u0000h\u0000y\u0000l\u0000l\u0000-\u0000a\u0000.\u0000n\u0000c\u0000 \u0000-\u0000 \u0000L\u0000a\u0000y\u0000e\u0000r\u0000,\u00003\u00003\u0000,\u00006\u00005\u0000,\u00000\u0000,\u00000\u0000,\u00000\u0000,\u00000\u0000,\u00003\u00003\u0000,\u00000\u0000,\u0000A\u0000l\u0000l\u0000 \u0000E\u0000u\u0000r\u0000o\u0000p\u0000e\u0000a\u0000n\u0000 \u0000S\u0000e\u0000a\u0000s\u0000/\u0000W\u0000a\u0000t\u0000e\u0000r\u0000_\u0000b\u0000o\u0000d\u0000y\u0000_\u0000c\u0000h\u0000l\u0000o\u0000r\u0000o\u0000p\u0000h\u0000y\u0000l\u0000l\u0000-\u0000a\u0000.\u0000n\u0000c\u0000,\u0000L\u0000a\u0000y\u0000e\u0000r\u0000,\u0000\n",
      "\n",
      "\u0000A\u0000l\u0000l\u0000 \u0000E\u0000u\u0000r\u0000o\u0000p\u0000e\u0000a\u0000n\u0000 \u0000S\u0000e\u0000a\u0000s\u0000/\u0000W\u0000a\u0000t\u0000e\u0000r\u0000_\u0000b\u0000o\u0000d\u0000y\u0000_\u0000c\u0000h\u0000l\u0000o\u0000r\u0000o\u0000p\u0000h\u0000y\u0000l\u0000l\u0000-\u0000a\u0000.\u0000n\u0000c\u0000 \u0000-\u0000 \u0000L\u0000a\u0000y\u0000e\u0000r\u0000\n",
      "\u0000s\u0000l\u0000_\u0000s\u0000u\u0000r\u0000v\u0000e\u0000y\u0000s\u0000l\u0000o\u0000c\u0000a\u0000t\u0000i\u0000o\u0000n\u0000s\u0000 \u0000-\u0000 \u0000L\u0000a\u0000y\u0000e\u0000r\u0000,\u00003\u00003\u0000,\u00003\u00007\u0000,\u00000\u0000,\u00000\u0000,\u00000\u0000,\u00000\u0000,\u00003\u00003\u0000,\u00000\u0000,\u0000s\u0000l\u0000_\u0000s\u0000u\u0000r\u0000v\u0000e\u0000y\u0000s\u0000l\u0000o\u0000c\u0000a\u0000t\u0000i\u0000o\u0000n\u0000s\u0000,\u0000L\u0000a\u0000y\u0000e\u0000r\u0000,\u0000\n",
      "\n",
      "\u0000s\u0000l\u0000_\u0000s\u0000u\u0000r\u0000v\u0000e\u0000y\u0000s\u0000l\u0000o\u0000c\u0000a\u0000t\u0000i\u0000o\u0000n\u0000s\u0000 \u0000-\u0000 \u0000L\u0000a\u0000y\u0000e\u0000r\u0000\n",
      "\u0000c\u0000b\u00007\u00005\u00004\u0000d\u00008\u00008\u0000-\u0000a\u0000d\u00003\u0000a\u0000-\u00001\u00001\u0000e\u0000b\u0000-\u00003\u00001\u00006\u00007\u0000-\u00000\u0000f\u0000f\u00004\u00002\u00008\u00008\u00001\u0000d\u00006\u00007\u0000d\u0000 \u0000-\u0000 \u0000U\u0000U\u0000I\u0000D\u0000,\u00003\u00002\u0000,\u00005\u00006\u0000,\u00000\u0000,\u00000\u0000,\u00000\u0000,\u00000\u0000,\u00003\u00002\u0000,\u00000\u0000,\u0000c\u0000b\u00007\u00005\u00004\u0000d\u00008\u00008\u0000-\u0000a\u0000d\u00003\u0000a\u0000-\u00001\u00001\u0000e\u0000b\u0000-\u00003\u00001\u00006\u00007\u0000-\u00000\u0000f\u0000f\u00004\u00002\u00008\u00008\u00001\u0000d\u00006\u00007\u0000d\u0000,\u0000U\u0000U\u0000I\u0000D\u0000,\u0000\n",
      "\n",
      "\u0000c\u0000b\u00007\u00005\u00004\u0000d\u00008\u00008\u0000-\u0000a\u0000d\u00003\u0000a\u0000-\u00001\u00001\u0000e\u0000b\u0000-\u00003\u00001\u00006\u00007\u0000-\u00000\u0000f\u0000f\u00004\u00002\u00008\u00008\u00001\u0000d\u00006\u00007\u0000d\u0000 \u0000-\u0000 \u0000U\u0000U\u0000I\u0000D\u0000\n",
      "\u0000e\u0000e\u00003\u0000d\u0000d\u00008\u00006\u00008\u0000-\u0000d\u00002\u00003\u00009\u0000-\u00004\u00009\u00008\u00008\u0000-\u00009\u00009\u00000\u00004\u0000-\u00000\u00001\u00006\u00004\u0000d\u0000f\u00007\u00009\u00008\u00003\u0000c\u00003\u0000 \u0000-\u0000 \u0000U\u0000U\u0000I\u0000D\u0000,\u00003\u00001\u0000,\u00003\u00005\u0000,\u00000\u0000,\u00000\u0000,\u00000\u0000,\u00000\u0000,\u00003\u00001\u0000,\u00000\u0000,\u0000e\u0000e\u00003\u0000d\u0000d\u00008\u00006\u00008\u0000-\u0000d\u00002\u00003\u00009\u0000-\u00004\u00009\u00008\u00008\u0000-\u00009\u00009\u00000\u00004\u0000-\u00000\u00001\u00006\u00004\u0000d\u0000f\u00007\u00009\u00008\u00003\u0000c\u00003\u0000,\u0000U\u0000U\u0000I\u0000D\u0000,\u0000\n",
      "\n",
      "\u0000e\u0000e\u00003\u0000d\u0000d\u00008\u00006\u00008\u0000-\u0000d\u00002\u00003\u00009\u0000-\u00004\u00009\u00008\u00008\u0000-\u00009\u00009\u00000\u00004\u0000-\u00000\u00001\u00006\u00004\u0000d\u0000f\u00007\u00009\u00008\u00003\u0000c\u00003\u0000 \u0000-\u0000 \u0000U\u0000U\u0000I\u0000D\u0000\n",
      "\u0000h\u0000e\u0000a\u0000v\u0000y\u0000_\u0000m\u0000e\u0000t\u0000a\u0000l\u0000s\u0000 \u0000-\u0000 \u0000L\u0000a\u0000y\u0000e\u0000r\u0000,\u00003\u00000\u0000,\u00003\u00005\u0000,\u00000\u0000,\u00000\u0000,\u00000\u0000,\u00000\u0000,\u00003\u00000\u0000,\u00000\u0000,\u0000h\u0000e\u0000a\u0000v\u0000y\u0000_\u0000m\u0000e\u0000t\u0000a\u0000l\u0000s\u0000,\u0000L\u0000a\u0000y\u0000e\u0000r\u0000,\u0000\n",
      "\n",
      "\u0000h\u0000e\u0000a\u0000v\u0000y\u0000_\u0000m\u0000e\u0000t\u0000a\u0000l\u0000s\u0000 \u0000-\u0000 \u0000L\u0000a\u0000y\u0000e\u0000r\u0000\n",
      "\u0000e\u00008\u00008\u00007\u00003\u00004\u0000d\u00003\u0000-\u0000b\u00001\u0000a\u00009\u0000-\u00004\u00005\u0000a\u00008\u0000-\u0000b\u00005\u0000a\u0000d\u0000-\u00002\u00009\u0000d\u00006\u00005\u00009\u00009\u00000\u00000\u00000\u0000a\u00000\u0000 \u0000-\u0000 \u0000U\u0000U\u0000I\u0000D\u0000,\u00002\u00007\u0000,\u00003\u00006\u0000,\u00000\u0000,\u00000\u0000,\u00000\u0000,\u00000\u0000,\u00002\u00007\u0000,\u00000\u0000,\u0000e\u00008\u00008\u00007\u00003\u00004\u0000d\u00003\u0000-\u0000b\u00001\u0000a\u00009\u0000-\u00004\u00005\u0000a\u00008\u0000-\u0000b\u00005\u0000a\u0000d\u0000-\u00002\u00009\u0000d\u00006\u00005\u00009\u00009\u00000\u00000\u00000\u0000a\u00000\u0000,\u0000U\u0000U\u0000I\u0000D\u0000,\u0000\n",
      "\n",
      "\u0000e\u00008\u00008\u00007\u00003\u00004\u0000d\u00003\u0000-\u0000b\u00001\u0000a\u00009\u0000-\u00004\u00005\u0000a\u00008\u0000-\u0000b\u00005\u0000a\u0000d\u0000-\u00002\u00009\u0000d\u00006\u00005\u00009\u00009\u00000\u00000\u00000\u0000a\u00000\u0000 \u0000-\u0000 \u0000U\u0000U\u0000I\u0000D\u0000\n",
      "\u0000s\u0000l\u0000_\u0000m\u0000a\u0000t\u0000e\u0000r\u0000i\u0000a\u0000l\u0000c\u0000a\u0000t\u0000e\u0000g\u0000o\u0000r\u0000i\u0000e\u0000s\u0000 \u0000-\u0000 \u0000L\u0000a\u0000y\u0000e\u0000r\u0000,\u00002\u00007\u0000,\u00003\u00006\u0000,\u00000\u0000,\u00000\u0000,\u00000\u0000,\u00000\u0000,\u00002\u00007\u0000,\u00000\u0000,\u0000s\u0000l\u0000_\u0000m\u0000a\u0000t\u0000e\u0000r\u0000i\u0000a\u0000l\u0000c\u0000a\u0000t\u0000e\u0000g\u0000o\u0000r\u0000i\u0000e\u0000s\u0000,\u0000L\u0000a\u0000y\u0000e\u0000r\u0000,\u0000\n",
      "\n",
      "\u0000s\u0000l\u0000_\u0000m\u0000a\u0000t\u0000e\u0000r\u0000i\u0000a\u0000l\u0000c\u0000a\u0000t\u0000e\u0000g\u0000o\u0000r\u0000i\u0000e\u0000s\u0000 \u0000-\u0000 \u0000L\u0000a\u0000y\u0000e\u0000r\u0000\n",
      "\u0000o\u0000c\u0000e\u0000a\u0000n\u0000b\u0000r\u0000o\u0000w\u0000s\u0000e\u0000r\u0000 \u0000-\u0000 \u0000D\u0000o\u0000w\u0000n\u0000l\u0000o\u0000a\u0000d\u0000F\u0000o\u0000r\u0000m\u0000-\u0000s\u0000e\u0000n\u0000d\u0000e\u0000r\u0000_\u0000i\u0000d\u0000,\u00002\u00006\u0000,\u00006\u00004\u0000,\u00000\u0000,\u00000\u0000,\u00000\u0000,\u00000\u0000,\u00002\u00006\u0000,\u00000\u0000,\u0000o\u0000c\u0000e\u0000a\u0000n\u0000b\u0000r\u0000o\u0000w\u0000s\u0000e\u0000r\u0000,\u0000D\u0000o\u0000w\u0000n\u0000l\u0000o\u0000a\u0000d\u0000F\u0000o\u0000r\u0000m\u0000-\u0000s\u0000e\u0000n\u0000d\u0000e\u0000r\u0000_\u0000i\u0000d\u0000,\u0000\n",
      "\n",
      "\u0000o\u0000c\u0000e\u0000a\u0000n\u0000b\u0000r\u0000o\u0000w\u0000s\u0000e\u0000r\u0000 \u0000-\u0000 \u0000D\u0000o\u0000w\u0000n\u0000l\u0000o\u0000a\u0000d\u0000F\u0000o\u0000r\u0000m\u0000-\u0000s\u0000e\u0000n\u0000d\u0000e\u0000r\u0000_\u0000i\u0000d\u0000\n",
      "\u00001\u00007\u0000c\u0000c\u0000c\u0000f\u00005\u00004\u0000-\u0000d\u00003\u0000b\u0000c\u0000-\u00001\u00001\u0000e\u00008\u0000-\u0000b\u00008\u00001\u00003\u0000-\u00008\u00000\u00005\u00006\u0000f\u00002\u00008\u00002\u00002\u00004\u0000b\u0000b\u0000 \u0000-\u0000 \u0000U\u0000U\u0000I\u0000D\u0000,\u00002\u00005\u0000,\u00006\u00005\u0000,\u00000\u0000,\u00000\u0000,\u00000\u0000,\u00000\u0000,\u00002\u00005\u0000,\u00000\u0000,\u00001\u00007\u0000c\u0000c\u0000c\u0000f\u00005\u00004\u0000-\u0000d\u00003\u0000b\u0000c\u0000-\u00001\u00001\u0000e\u00008\u0000-\u0000b\u00008\u00001\u00003\u0000-\u00008\u00000\u00005\u00006\u0000f\u00002\u00008\u00002\u00002\u00004\u0000b\u0000b\u0000,\u0000U\u0000U\u0000I\u0000D\u0000,\u0000\n",
      "\n",
      "\u00001\u00007\u0000c\u0000c\u0000c\u0000f\u00005\u00004\u0000-\u0000d\u00003\u0000b\u0000c\u0000-\u00001\u00001\u0000e\u00008\u0000-\u0000b\u00008\u00001\u00003\u0000-\u00008\u00000\u00005\u00006\u0000f\u00002\u00008\u00002\u00002\u00004\u0000b\u0000b\u0000 \u0000-\u0000 \u0000U\u0000U\u0000I\u0000D\u0000\n",
      "\u0000a\u0000c\u0000i\u0000d\u0000i\u0000t\u0000y\u0000 \u0000-\u0000 \u0000L\u0000a\u0000y\u0000e\u0000r\u0000,\u00002\u00004\u0000,\u00002\u00006\u0000,\u00000\u0000,\u00000\u0000,\u00000\u0000,\u00000\u0000,\u00002\u00004\u0000,\u00000\u0000,\u0000a\u0000c\u0000i\u0000d\u0000i\u0000t\u0000y\u0000,\u0000L\u0000a\u0000y\u0000e\u0000r\u0000,\u0000\n",
      "\n",
      "\u0000a\u0000c\u0000i\u0000d\u0000i\u0000t\u0000y\u0000 \u0000-\u0000 \u0000L\u0000a\u0000y\u0000e\u0000r\u0000\n",
      "\u0000a\u0000f\u0000e\u00002\u0000d\u00007\u00001\u00008\u0000-\u00004\u00001\u0000e\u00006\u0000-\u00004\u0000b\u0000b\u00004\u0000-\u00009\u00005\u0000f\u00005\u0000-\u0000a\u0000d\u00008\u00003\u00006\u0000a\u00004\u00005\u0000c\u00008\u00009\u00001\u0000 \u0000-\u0000 \u0000U\u0000U\u0000I\u0000D\u0000,\u00002\u00002\u0000,\u00002\u00007\u0000,\u00000\u0000,\u00000\u0000,\u00000\u0000,\u00000\u0000,\u00002\u00002\u0000,\u00000\u0000,\u0000a\u0000f\u0000e\u00002\u0000d\u00007\u00001\u00008\u0000-\u00004\u00001\u0000e\u00006\u0000-\u00004\u0000b\u0000b\u00004\u0000-\u00009\u00005\u0000f\u00005\u0000-\u0000a\u0000d\u00008\u00003\u00006\u0000a\u00004\u00005\u0000c\u00008\u00009\u00001\u0000,\u0000U\u0000U\u0000I\u0000D\u0000,\u0000\n",
      "\n",
      "\u0000a\u0000f\u0000e\u00002\u0000d\u00007\u00001\u00008\u0000-\u00004\u00001\u0000e\u00006\u0000-\u00004\u0000b\u0000b\u00004\u0000-\u00009\u00005\u0000f\u00005\u0000-\u0000a\u0000d\u00008\u00003\u00006\u0000a\u00004\u00005\u0000c\u00008\u00009\u00001\u0000 \u0000-\u0000 \u0000U\u0000U\u0000I\u0000D\u0000\n"
     ]
    },
    {
     "name": "stderr",
     "output_type": "stream",
     "text": [
      "\u001b[36m\u001b[1m[ \u001b[22m\u001b[39m\u001b[36m\u001b[1mInfo: \u001b[22m\u001b[39mnumber of lines: 20\n"
     ]
    }
   ],
   "source": [
    "df = open(datafile, \"r\")\n",
    "line1 = readline(df);\n",
    "ii = 1\n",
    "labels = Vector{String}\n",
    "for lines in readlines(df)\n",
    "    println(lines)\n",
    "    println(\"\")\n",
    "    linesplit = split(lines, \",\")\n",
    "    println(linesplit[1])\n",
    "    ii += 1\n",
    "end\n",
    "@info(\"number of lines: $(ii)\")\n",
    "close(df)"
   ]
  },
  {
   "cell_type": "code",
   "execution_count": 4,
   "id": "e17fa2af",
   "metadata": {},
   "outputs": [
    {
     "data": {
      "text/plain": [
       "520-element Vector{String}:\n",
       " #undef\n",
       " #undef\n",
       " #undef\n",
       " #undef\n",
       " #undef\n",
       " #undef\n",
       " #undef\n",
       " #undef\n",
       " #undef\n",
       " #undef\n",
       " #undef\n",
       " #undef\n",
       " #undef\n",
       "   ⋮\n",
       " #undef\n",
       " #undef\n",
       " #undef\n",
       " #undef\n",
       " #undef\n",
       " #undef\n",
       " #undef\n",
       " #undef\n",
       " #undef\n",
       " #undef\n",
       " #undef\n",
       " #undef"
      ]
     },
     "execution_count": 4,
     "metadata": {},
     "output_type": "execute_result"
    }
   ],
   "source": [
    "Vector{String}(undef, 520)"
   ]
  },
  {
   "cell_type": "code",
   "execution_count": 10,
   "id": "b8b33ddf",
   "metadata": {},
   "outputs": [
    {
     "name": "stdout",
     "output_type": "stream",
     "text": [
      "search: \u001b[0m\u001b[1ms\u001b[22m\u001b[0m\u001b[1mp\u001b[22m\u001b[0m\u001b[1ml\u001b[22m\u001b[0m\u001b[1mi\u001b[22m\u001b[0m\u001b[1mt\u001b[22m \u001b[0m\u001b[1ms\u001b[22m\u001b[0m\u001b[1mp\u001b[22m\u001b[0m\u001b[1ml\u001b[22m\u001b[0m\u001b[1mi\u001b[22m\u001b[0m\u001b[1mt\u001b[22mext \u001b[0m\u001b[1ms\u001b[22m\u001b[0m\u001b[1mp\u001b[22m\u001b[0m\u001b[1ml\u001b[22m\u001b[0m\u001b[1mi\u001b[22m\u001b[0m\u001b[1mt\u001b[22mdir \u001b[0m\u001b[1ms\u001b[22m\u001b[0m\u001b[1mp\u001b[22m\u001b[0m\u001b[1ml\u001b[22m\u001b[0m\u001b[1mi\u001b[22m\u001b[0m\u001b[1mt\u001b[22mpath \u001b[0m\u001b[1ms\u001b[22m\u001b[0m\u001b[1mp\u001b[22m\u001b[0m\u001b[1ml\u001b[22m\u001b[0m\u001b[1mi\u001b[22m\u001b[0m\u001b[1mt\u001b[22mdrive r\u001b[0m\u001b[1ms\u001b[22m\u001b[0m\u001b[1mp\u001b[22m\u001b[0m\u001b[1ml\u001b[22m\u001b[0m\u001b[1mi\u001b[22m\u001b[0m\u001b[1mt\u001b[22m each\u001b[0m\u001b[1ms\u001b[22m\u001b[0m\u001b[1mp\u001b[22m\u001b[0m\u001b[1ml\u001b[22m\u001b[0m\u001b[1mi\u001b[22m\u001b[0m\u001b[1mt\u001b[22m \u001b[0m\u001b[1ms\u001b[22m\u001b[0m\u001b[1mp\u001b[22m\u001b[0m\u001b[1ml\u001b[22m\u001b[0m\u001b[1mi\u001b[22mce!\n",
      "\n"
     ]
    },
    {
     "data": {
      "text/latex": [
       "\\begin{verbatim}\n",
       "split(str::AbstractString, dlm; limit::Integer=0, keepempty::Bool=true)\n",
       "split(str::AbstractString; limit::Integer=0, keepempty::Bool=false)\n",
       "\\end{verbatim}\n",
       "Split \\texttt{str} into an array of substrings on occurrences of the delimiter(s) \\texttt{dlm}.  \\texttt{dlm} can be any of the formats allowed by \\href{@ref}{\\texttt{findnext}}'s first argument (i.e. as a string, regular expression or a function), or as a single character or collection of characters.\n",
       "\n",
       "If \\texttt{dlm} is omitted, it defaults to \\href{@ref}{\\texttt{isspace}}.\n",
       "\n",
       "The optional keyword arguments are:\n",
       "\n",
       "\\begin{itemize}\n",
       "\\item \\texttt{limit}: the maximum size of the result. \\texttt{limit=0} implies no maximum (default)\n",
       "\n",
       "\n",
       "\\item \\texttt{keepempty}: whether empty fields should be kept in the result. Default is \\texttt{false} without a \\texttt{dlm} argument, \\texttt{true} with a \\texttt{dlm} argument.\n",
       "\n",
       "\\end{itemize}\n",
       "See also \\href{@ref}{\\texttt{rsplit}}, \\href{@ref}{\\texttt{eachsplit}}.\n",
       "\n",
       "\\section{Examples}\n",
       "\\begin{verbatim}\n",
       "julia> a = \"Ma.rch\"\n",
       "\"Ma.rch\"\n",
       "\n",
       "julia> split(a, \".\")\n",
       "2-element Vector{SubString{String}}:\n",
       " \"Ma\"\n",
       " \"rch\"\n",
       "\\end{verbatim}\n"
      ],
      "text/markdown": [
       "```\n",
       "split(str::AbstractString, dlm; limit::Integer=0, keepempty::Bool=true)\n",
       "split(str::AbstractString; limit::Integer=0, keepempty::Bool=false)\n",
       "```\n",
       "\n",
       "Split `str` into an array of substrings on occurrences of the delimiter(s) `dlm`.  `dlm` can be any of the formats allowed by [`findnext`](@ref)'s first argument (i.e. as a string, regular expression or a function), or as a single character or collection of characters.\n",
       "\n",
       "If `dlm` is omitted, it defaults to [`isspace`](@ref).\n",
       "\n",
       "The optional keyword arguments are:\n",
       "\n",
       "  * `limit`: the maximum size of the result. `limit=0` implies no maximum (default)\n",
       "  * `keepempty`: whether empty fields should be kept in the result. Default is `false` without a `dlm` argument, `true` with a `dlm` argument.\n",
       "\n",
       "See also [`rsplit`](@ref), [`eachsplit`](@ref).\n",
       "\n",
       "# Examples\n",
       "\n",
       "```jldoctest\n",
       "julia> a = \"Ma.rch\"\n",
       "\"Ma.rch\"\n",
       "\n",
       "julia> split(a, \".\")\n",
       "2-element Vector{SubString{String}}:\n",
       " \"Ma\"\n",
       " \"rch\"\n",
       "```\n"
      ],
      "text/plain": [
       "  \u001b[38;5;81msplit\u001b[0m(\u001b[0m\u001b[39mstr\u001b[0m\u001b[38;5;81m::\u001b[0m\u001b[38;5;81mAbstractString\u001b[0m\u001b[39m,\u001b[0m \u001b[0m\u001b[39mdlm\u001b[0m\u001b[39m;\u001b[0m \u001b[0m\u001b[39mlimit\u001b[0m\u001b[38;5;81m::\u001b[0m\u001b[38;5;81mInteger\u001b[0m\u001b[38;5;197m=\u001b[0m\u001b[38;5;141m0\u001b[0m\u001b[39m,\u001b[0m \u001b[0m\u001b[39mkeepempty\u001b[0m\u001b[38;5;81m::\u001b[0m\u001b[38;5;81mBool\u001b[0m\u001b[38;5;197m=\u001b[0m\u001b[38;5;197mtrue\u001b[0m\u001b[39m)\u001b[0m\n",
       "  \u001b[0m\u001b[38;5;81msplit\u001b[0m(\u001b[0m\u001b[39mstr\u001b[0m\u001b[38;5;81m::\u001b[0m\u001b[38;5;81mAbstractString\u001b[0m\u001b[39m;\u001b[0m \u001b[0m\u001b[39mlimit\u001b[0m\u001b[38;5;81m::\u001b[0m\u001b[38;5;81mInteger\u001b[0m\u001b[38;5;197m=\u001b[0m\u001b[38;5;141m0\u001b[0m\u001b[39m,\u001b[0m \u001b[0m\u001b[39mkeepempty\u001b[0m\u001b[38;5;81m::\u001b[0m\u001b[38;5;81mBool\u001b[0m\u001b[38;5;197m=\u001b[0m\u001b[38;5;197mfalse\u001b[0m\u001b[39m)\u001b[0m\u001b[39m\u001b[0m\n",
       "\n",
       "\n",
       "  Split \u001b[36mstr\u001b[39m into an array of substrings on occurrences of the delimiter(s)\n",
       "  \u001b[36mdlm\u001b[39m. \u001b[36mdlm\u001b[39m can be any of the formats allowed by \u001b[36mfindnext\u001b[39m's first argument\n",
       "  (i.e. as a string, regular expression or a function), or as a single\n",
       "  character or collection of characters.\n",
       "\n",
       "  If \u001b[36mdlm\u001b[39m is omitted, it defaults to \u001b[36misspace\u001b[39m.\n",
       "\n",
       "  The optional keyword arguments are:\n",
       "\n",
       "    •  \u001b[36mlimit\u001b[39m: the maximum size of the result. \u001b[36mlimit=0\u001b[39m implies no maximum\n",
       "       (default)\n",
       "\n",
       "    •  \u001b[36mkeepempty\u001b[39m: whether empty fields should be kept in the result.\n",
       "       Default is \u001b[36mfalse\u001b[39m without a \u001b[36mdlm\u001b[39m argument, \u001b[36mtrue\u001b[39m with a \u001b[36mdlm\u001b[39m argument.\n",
       "\n",
       "  See also \u001b[36mrsplit\u001b[39m, \u001b[36meachsplit\u001b[39m.\n",
       "\n",
       "\u001b[1m  Examples\u001b[22m\n",
       "\u001b[1m  ≡≡≡≡≡≡≡≡≡≡\u001b[22m\n",
       "\n",
       "  \u001b[31;1mjulia> \u001b[0m\u001b[39ma\u001b[0m \u001b[0m\u001b[38;5;197m=\u001b[0m \u001b[0m\u001b[38;5;185m\"Ma.rch\"\u001b[0m\n",
       "  \u001b[0m\u001b[39m\u001b[0m\"Ma.rch\"\n",
       "  \n",
       "  \u001b[31;1mjulia> \u001b[0m\u001b[38;5;81msplit\u001b[0m(\u001b[0m\u001b[39ma\u001b[0m\u001b[39m,\u001b[0m \u001b[0m\u001b[38;5;185m\".\"\u001b[0m\u001b[39m)\u001b[0m\n",
       "  \u001b[0m\u001b[39m\u001b[0m2-element Vector{SubString{String}}:\n",
       "   \"Ma\"\n",
       "   \"rch\"\n"
      ]
     },
     "execution_count": 10,
     "metadata": {},
     "output_type": "execute_result"
    }
   ],
   "source": [
    "?split"
   ]
  },
  {
   "cell_type": "code",
   "execution_count": null,
   "id": "80af2698",
   "metadata": {},
   "outputs": [],
   "source": []
  }
 ],
 "metadata": {
  "kernelspec": {
   "display_name": "Julia 1.8.5",
   "language": "julia",
   "name": "julia-1.8"
  },
  "language_info": {
   "file_extension": ".jl",
   "mimetype": "application/julia",
   "name": "julia",
   "version": "1.8.5"
  }
 },
 "nbformat": 4,
 "nbformat_minor": 5
}
