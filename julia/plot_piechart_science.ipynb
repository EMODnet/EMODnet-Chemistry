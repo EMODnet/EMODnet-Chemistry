{
 "cells": [
  {
   "cell_type": "code",
   "execution_count": 8,
   "id": "43d0282c",
   "metadata": {},
   "outputs": [],
   "source": [
    "import matplotlib.pyplot as plt\n",
    "import os\n",
    "import matplotlib as mpl\n",
    "import matplotlib as mpl\n",
    "import matplotlib.font_manager as fm\n",
    "\n",
    "fe = fm.FontEntry(fname=\"/usr/share/fonts/truetype/humor-sans/Humor-Sans.ttf\",\n",
    "                  name='Humor Sans')\n",
    "fm.fontManager.ttflist.insert(0, fe) # or append is fine\n",
    "mpl.rcParams['font.family'] = fe.name\n",
    "\n",
    "plt.rcParams.update({'font.size': 22})\n",
    "\n",
    "figdir = \"/home/ctroupin/Presentations/PresentationsLatex/20220712_PHIDIAS_Webinar2/figures/\""
   ]
  },
  {
   "cell_type": "code",
   "execution_count": 9,
   "id": "7cbab5c7",
   "metadata": {},
   "outputs": [],
   "source": [
    "# Pie chart, where the slices will be ordered and plotted counter-clockwise:\n",
    "labels = 'Installation\\nof tool(s)', 'Execution\\n of code', 'Data analysis (= Real science)'\n",
    "sizes = [60, 30, 10]\n",
    "explode = (0, 0, 0)  # only \"explode\" the 2nd slice (i.e. 'Hogs')\n",
    "\n",
    "with plt.xkcd():\n",
    "    #fm0 = mpl.font_manager.FontManager()\n",
    "    #fm0.addfont(path=\"/usr/share/fonts/truetype/humor-sans/Humor-Sans.ttf\")\n",
    "    #prop = mpl.font_manager.FontProperties(fname=\"/usr/share/fonts/truetype/humor-sans/Humor-Sans.ttf\")\n",
    "\n",
    "    #plt.rcParams['font.family'] = 'sans-serif'\n",
    "    #plt.rcParams['font.sans-serif'] = prop.get_name()\n",
    "\n",
    "\n",
    "    fig = plt.figure(figsize=(12, 8)) \n",
    "    ax1 = plt.subplot(111)\n",
    "    ax1.set_title(\"Percentage of time spent...\")\n",
    "    ax1.pie(sizes, explode=explode, labels=labels, autopct='%1.1f%%',\n",
    "            shadow=True, startangle=90)\n",
    "    ax1.axis('equal')  # Equal aspect ratio ensures that pie is drawn as a circle.\n",
    "\n",
    "    plt.savefig(os.path.join(figdir, \"piechart01.jpg\"), dpi=300, bbox_inches=\"tight\")\n",
    "    plt.close()"
   ]
  },
  {
   "cell_type": "code",
   "execution_count": 10,
   "id": "e1861435",
   "metadata": {},
   "outputs": [],
   "source": [
    "labels = 'Installation\\nof tool(s)', 'Execution\\n of code', 'Data analysis (= Real science)'\n",
    "sizes = [5, 20, 75]\n",
    "explode = (0, 0, 0)  # only \"explode\" the 2nd slice (i.e. 'Hogs')\n",
    "\n",
    "fe = fm.FontEntry(fname=\"/usr/share/fonts/truetype/opendin/OSP-DIN.ttf\",\n",
    "                  name='OSP-DIN')\n",
    "fm.fontManager.ttflist.insert(0, fe) # or append is fine\n",
    "mpl.rcParams['font.family'] = fe.name\n",
    "\n",
    "fig = plt.figure(figsize=(12, 8)) \n",
    "ax1 = plt.subplot(111)\n",
    "ax1.set_title(\"Percentage of time spent...\\n \")\n",
    "ax1.pie(sizes, explode=explode, labels=labels, autopct='%1.1f%%',\n",
    "        shadow=True, startangle=90)\n",
    "ax1.axis('equal')  # Equal aspect ratio ensures that pie is drawn as a circle.\n",
    "\n",
    "plt.savefig(os.path.join(figdir, \"piechart02.jpg\"), dpi=300, bbox_inches=\"tight\")\n",
    "plt.close()"
   ]
  },
  {
   "cell_type": "code",
   "execution_count": 11,
   "id": "03ef88f1",
   "metadata": {},
   "outputs": [
    {
     "data": {
      "text/plain": [
       "'OSP-DIN'"
      ]
     },
     "execution_count": 11,
     "metadata": {},
     "output_type": "execute_result"
    }
   ],
   "source": [
    "fe.name"
   ]
  },
  {
   "cell_type": "code",
   "execution_count": null,
   "id": "d6c84c2a",
   "metadata": {},
   "outputs": [],
   "source": []
  }
 ],
 "metadata": {
  "kernelspec": {
   "display_name": "WEkEO",
   "language": "python",
   "name": "wekeo-notebook"
  },
  "language_info": {
   "codemirror_mode": {
    "name": "ipython",
    "version": 3
   },
   "file_extension": ".py",
   "mimetype": "text/x-python",
   "name": "python",
   "nbconvert_exporter": "python",
   "pygments_lexer": "ipython3",
   "version": "3.10.4"
  }
 },
 "nbformat": 4,
 "nbformat_minor": 5
}
