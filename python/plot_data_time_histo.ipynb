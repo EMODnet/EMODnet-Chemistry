{
 "cells": [
  {
   "cell_type": "markdown",
   "metadata": {},
   "source": [
    "Plot the locations of the profiles for the different regions. "
   ]
  },
  {
   "cell_type": "code",
   "execution_count": 55,
   "metadata": {},
   "outputs": [
    {
     "data": {
      "text/plain": [
       "<module 'emodnetchemistry' from '/home/ctroupin/Projects/EMODnet/Chemistry3/EMODnet-Chemistry/python/emodnetchemistry.py'>"
      ]
     },
     "execution_count": 55,
     "metadata": {},
     "output_type": "execute_result"
    }
   ],
   "source": [
    "import os\n",
    "import glob\n",
    "import netCDF4\n",
    "import logging\n",
    "import numpy as np\n",
    "import emodnetchemistry\n",
    "import matplotlib.pyplot as plt\n",
    "from mpl_toolkits.basemap import Basemap\n",
    "from matplotlib.patches import Polygon\n",
    "import calendar\n",
    "import warnings\n",
    "import matplotlib.cbook\n",
    "from matplotlib.ticker import FormatStrFormatter\n",
    "warnings.filterwarnings(\"ignore\",category=matplotlib.cbook.mplDeprecation)\n",
    "plt.rcParams.update({'font.size': 16})\n",
    "plt.rc('figure', facecolor='w')\n",
    "from importlib import reload\n",
    "reload(emodnetchemistry)"
   ]
  },
  {
   "cell_type": "code",
   "execution_count": 2,
   "metadata": {},
   "outputs": [],
   "source": [
    "logger = logging.getLogger(\"EMODnet-Chemistry-Data\")\n",
    "logger.setLevel(logging.DEBUG)\n",
    "logging.info(\"Starting\")"
   ]
  },
  {
   "cell_type": "markdown",
   "metadata": {},
   "source": [
    "## Paths"
   ]
  },
  {
   "cell_type": "code",
   "execution_count": 6,
   "metadata": {},
   "outputs": [],
   "source": [
    "datadir = \"/data/EMODnet/Eutrophication/Split/\"\n",
    "figdir = \"/home/ctroupin/dox/EMODnet-Chemistry/Histograms/\"\n",
    "if not os.path.exists(figdir):\n",
    "    os.makedirs(figdir)\n",
    "varlist = [\"phosphate\", \"silicate\", \"ammonium\", \"chlorophyll-a\", \n",
    "           \"dissolved_inorganic_nitrogen\", \"dissolved_oxygen\"]"
   ]
  },
  {
   "cell_type": "markdown",
   "metadata": {},
   "source": [
    "## Loop on the variables"
   ]
  },
  {
   "cell_type": "code",
   "execution_count": 12,
   "metadata": {},
   "outputs": [
    {
     "name": "stderr",
     "output_type": "stream",
     "text": [
      "INFO:EMODnet-Chemistry-Data:Working on variable chlorophyll-a\n",
      "INFO:EMODnet-Chemistry-Data:Working on 8 files\n",
      "INFO:EMODnet-Chemistry-Data:Working on /data/EMODnet/Eutrophication/Split/ArcticSea_Water_body_chlorophyll-a.nc\n",
      "INFO:EMODnet-Chemistry-Data:Name in netCDF file: Water body chlorophyll-a\n",
      "INFO:EMODnet-Chemistry-Data:Working on /data/EMODnet/Eutrophication/Split/Atlantic_TS_Water_body_chlorophyll-a.nc\n",
      "INFO:EMODnet-Chemistry-Data:Name in netCDF file: Water body chlorophyll-a\n",
      "INFO:EMODnet-Chemistry-Data:Working on /data/EMODnet/Eutrophication/Split/Atlantic_Water_body_chlorophyll-a.nc\n",
      "INFO:EMODnet-Chemistry-Data:Name in netCDF file: Water body chlorophyll-a\n",
      "INFO:EMODnet-Chemistry-Data:Working on /data/EMODnet/Eutrophication/Split/BalticSea_Water_body_chlorophyll-a.nc\n",
      "INFO:EMODnet-Chemistry-Data:Name in netCDF file: Water body chlorophyll-a\n",
      "INFO:EMODnet-Chemistry-Data:Working on /data/EMODnet/Eutrophication/Split/BlackSea_Water_body_chlorophyll-a.nc\n",
      "INFO:EMODnet-Chemistry-Data:Name in netCDF file: Water body chlorophyll-a\n",
      "INFO:EMODnet-Chemistry-Data:Working on /data/EMODnet/Eutrophication/Split/MedSea2_TS_Water_body_chlorophyll-a.nc\n",
      "INFO:EMODnet-Chemistry-Data:Name in netCDF file: Water body chlorophyll-a\n",
      "INFO:EMODnet-Chemistry-Data:Working on /data/EMODnet/Eutrophication/Split/MedSea2_Water_body_chlorophyll-a.nc\n",
      "INFO:EMODnet-Chemistry-Data:Name in netCDF file: Water body chlorophyll-a\n",
      "INFO:EMODnet-Chemistry-Data:Working on /data/EMODnet/Eutrophication/Split/NorthSea_Water_body_chlorophyll-a.nc\n",
      "INFO:EMODnet-Chemistry-Data:Name in netCDF file: Water body chlorophyll-a\n",
      "INFO:EMODnet-Chemistry-Data:Preparing arrays of years and months\n",
      "INFO:EMODnet-Chemistry-Data:Creating histograms\n"
     ]
    }
   ],
   "source": [
    "for varname in varlist[3:4]:\n",
    "    logger.info(\"Working on variable {}\".format(varname))\n",
    "    datafilelist = sorted(glob.glob(os.path.join(datadir, f\"*{varname}*.nc\")))\n",
    "    nfiles = len(datafilelist)\n",
    "    logger.info(\"Working on {} files\".format(nfiles))\n",
    "    datafilelist\n",
    "\n",
    "    timeobs = np.array([])\n",
    "    dateobs = np.array([])\n",
    "    obsdepth = np.array([])\n",
    "    obsval = np.array([])\n",
    "    for datafile in datafilelist:\n",
    "        logger.info(\"Working on {}\".format(datafile))\n",
    "        with netCDF4.Dataset(datafile, \"r\") as nc:\n",
    "            \n",
    "            varnamenc = (list(nc.variables.keys())[-1])\n",
    "            logger.info(\"Name in netCDF file: {}\".format(varnamenc))\n",
    "            timeunits = nc.variables[\"obstime\"].units\n",
    "            times = nc.variables[\"obstime\"][:]\n",
    "            depth = nc.variables[\"obsdepth\"][:]\n",
    "            values = nc.variables[varnamenc][:]\n",
    "            dates = netCDF4.num2date(times, timeunits)\n",
    "            timeobs = np.append(timeobs, times)\n",
    "            dateobs = np.append(dateobs, dates)\n",
    "            obsval = np.append(obsval, values)\n",
    "            obsdepth = np.append(obsdepth, depth)\n",
    "        \n",
    "    logger.info(\"Preparing arrays of years and months\")\n",
    "    years = [dd.year for dd in dateobs.data]\n",
    "    months = [dd.month for dd in dateobs.data]\n",
    "    \n",
    "    logger.info(\"Creating histograms\")\n",
    "    #emodnetchemistry.make_histo_values(obsval, varname, figdir)\n",
    "    #emodnetchemistry.make_histo_month(months, varname, figdir)\n",
    "    #emodnetchemistry.make_histo_year(years, varname, figdir)"
   ]
  },
  {
   "cell_type": "markdown",
   "metadata": {},
   "source": [
    "## Depth polar plot"
   ]
  },
  {
   "cell_type": "code",
   "execution_count": 23,
   "metadata": {},
   "outputs": [],
   "source": [
    "months = np.array(months)"
   ]
  },
  {
   "cell_type": "code",
   "execution_count": 70,
   "metadata": {},
   "outputs": [],
   "source": [
    "def plot_month_depth_ndata(obsdepth, months, figname=None, depthlist = [5., 100., 500., 1000., 2000.]):\n",
    "    \n",
    "    angles = np.arange(0, 2. * np.pi + .1, np.pi / 6.)\n",
    "    \n",
    "    fig = plt.figure(figsize=(10, 10))\n",
    "    ax = plt.subplot(111, projection='polar')\n",
    "    ax.set_theta_zero_location(\"N\")\n",
    "    ax.set_theta_direction(-1)\n",
    "    ax.grid(color='.85', linestyle = '--', linewidth=1)\n",
    "    ax.set_thetagrids(np.arange(0, 360, 30), \n",
    "                      labels=[calendar.month_name[ii] for ii in range(1, 13)], \n",
    "                      fontsize=20)\n",
    "    ax.set_rlabel_position(2)\n",
    "    ax.set_rgrids(np.arange(250000, 1500000, 250000))\n",
    "\n",
    "    for dd in depthlist:\n",
    "        depthselector = np.where(obsdepth <= dd)[0]\n",
    "        monthsdepth = months[depthselector]\n",
    "\n",
    "        ndatamonth = np.zeros(13)\n",
    "        for mm in range(0, 12):\n",
    "            # logger.info(mm)\n",
    "            monthselector = np.where(monthsdepth == mm+1)[0]\n",
    "            ndatamonth[mm] = len(monthselector)\n",
    "        ndatamonth[-1] = ndatamonth[0]\n",
    "\n",
    "        ax.plot(angles, ndatamonth, \"o-\", ms=5, label=\"< {} m\".format(int(dd)))\n",
    "\n",
    "    ax.yaxis.set_major_formatter(FormatStrFormatter('%d'))\n",
    "    ax.legend(bbox_to_anchor=(1.2, 1.1))\n",
    "    plt.title(\"Number of measurements of {}\".format(varname), fontsize=24)\n",
    "    if figname is not None:\n",
    "        plt.savefig(figname, dpi=300, bbox_inches=\"tight\", facecolor=\"w\", transparent=False)\n",
    "    plt.close()"
   ]
  },
  {
   "cell_type": "code",
   "execution_count": 71,
   "metadata": {},
   "outputs": [],
   "source": [
    "plot_month_depth_ndata(obsdepth, months, os.path.join(figdir, \"month_depth_histo_{}\".format(varname)))"
   ]
  },
  {
   "cell_type": "code",
   "execution_count": null,
   "metadata": {},
   "outputs": [],
   "source": []
  }
 ],
 "metadata": {
  "@webio": {
   "lastCommId": null,
   "lastKernelId": null
  },
  "kernelspec": {
   "display_name": "Filament",
   "language": "python",
   "name": "filament3.8"
  },
  "language_info": {
   "codemirror_mode": {
    "name": "ipython",
    "version": 3
   },
   "file_extension": ".py",
   "mimetype": "text/x-python",
   "name": "python",
   "nbconvert_exporter": "python",
   "pygments_lexer": "ipython3",
   "version": "3.8.0"
  }
 },
 "nbformat": 4,
 "nbformat_minor": 2
}
