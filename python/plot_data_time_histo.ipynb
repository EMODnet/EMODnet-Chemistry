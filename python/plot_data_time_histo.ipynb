{
 "cells": [
  {
   "cell_type": "markdown",
   "metadata": {},
   "source": [
    "Plot the locations of the profiles for the different regions. "
   ]
  },
  {
   "cell_type": "code",
   "execution_count": 7,
   "metadata": {},
   "outputs": [
    {
     "data": {
      "text/plain": [
       "<module 'emodnetchemistry' from '/home/ctroupin/Projects/EMODnet/Chemistry3/EMODnet-Chemistry/python/emodnetchemistry.py'>"
      ]
     },
     "execution_count": 7,
     "metadata": {},
     "output_type": "execute_result"
    }
   ],
   "source": [
    "import os\n",
    "import glob\n",
    "import netCDF4\n",
    "import logging\n",
    "import numpy as np\n",
    "import emodnetchemistry\n",
    "import matplotlib.pyplot as plt\n",
    "from mpl_toolkits.basemap import Basemap\n",
    "from matplotlib.patches import Polygon\n",
    "import calendar\n",
    "import warnings\n",
    "import matplotlib.cbook\n",
    "warnings.filterwarnings(\"ignore\",category=matplotlib.cbook.mplDeprecation)\n",
    "plt.rcParams.update({'font.size': 16})\n",
    "plt.rc('figure', facecolor='w')\n",
    "from importlib import reload\n",
    "reload(emodnetchemistry)"
   ]
  },
  {
   "cell_type": "code",
   "execution_count": 2,
   "metadata": {},
   "outputs": [],
   "source": [
    "logger = logging.getLogger(\"EMODnet-Chemistry-Data\")\n",
    "logger.setLevel(logging.DEBUG)\n",
    "logging.info(\"Starting\")"
   ]
  },
  {
   "cell_type": "code",
   "execution_count": 3,
   "metadata": {},
   "outputs": [],
   "source": [
    "datadir = \"/data/EMODnet/Eutrophication/Split/\"\n",
    "figdir = \"../figures/EMODnet2021\"\n",
    "if not os.path.exists(figdir):\n",
    "    os.makedirs(figdir)\n",
    "    \n",
    "varlist = [\"phosphate\", \"silicate\", \"ammonium\", \"chlorophyll-a\", \n",
    "           \"dissolved_inorganic_nitrogen\", \"dissolved_oxygen\"]"
   ]
  },
  {
   "cell_type": "code",
   "execution_count": 5,
   "metadata": {},
   "outputs": [
    {
     "name": "stderr",
     "output_type": "stream",
     "text": [
      "INFO:EMODnet-Chemistry-Data:Working on variable phosphate\n",
      "INFO:EMODnet-Chemistry-Data:Working on 9 files\n",
      "INFO:EMODnet-Chemistry-Data:Working on /data/EMODnet/Eutrophication/Split/ArcticSea_Water_body_phosphate.nc\n",
      "INFO:EMODnet-Chemistry-Data:Name in netCDF file: Water body phosphate\n",
      "INFO:EMODnet-Chemistry-Data:Working on /data/EMODnet/Eutrophication/Split/Atlantic_TS_Water_body_phosphate.nc\n",
      "INFO:EMODnet-Chemistry-Data:Name in netCDF file: Water body phosphate\n",
      "INFO:EMODnet-Chemistry-Data:Working on /data/EMODnet/Eutrophication/Split/Atlantic_Water_body_phosphate.nc\n",
      "INFO:EMODnet-Chemistry-Data:Name in netCDF file: Water body phosphate\n",
      "INFO:EMODnet-Chemistry-Data:Working on /data/EMODnet/Eutrophication/Split/BalticSea_TS_Water_body_phosphate.nc\n",
      "INFO:EMODnet-Chemistry-Data:Name in netCDF file: Water body phosphate\n",
      "INFO:EMODnet-Chemistry-Data:Working on /data/EMODnet/Eutrophication/Split/BalticSea_Water_body_phosphate.nc\n",
      "INFO:EMODnet-Chemistry-Data:Name in netCDF file: Water body phosphate\n",
      "INFO:EMODnet-Chemistry-Data:Working on /data/EMODnet/Eutrophication/Split/BlackSea_Water_body_phosphate.nc\n",
      "INFO:EMODnet-Chemistry-Data:Name in netCDF file: Water body phosphate\n",
      "INFO:EMODnet-Chemistry-Data:Working on /data/EMODnet/Eutrophication/Split/MedSea2_TS_Water_body_phosphate.nc\n",
      "INFO:EMODnet-Chemistry-Data:Name in netCDF file: Water body phosphate\n",
      "INFO:EMODnet-Chemistry-Data:Working on /data/EMODnet/Eutrophication/Split/MedSea2_Water_body_phosphate.nc\n",
      "INFO:EMODnet-Chemistry-Data:Name in netCDF file: Water body phosphate\n",
      "INFO:EMODnet-Chemistry-Data:Working on /data/EMODnet/Eutrophication/Split/NorthSea_Water_body_phosphate.nc\n",
      "INFO:EMODnet-Chemistry-Data:Name in netCDF file: Water body phosphate\n",
      "INFO:EMODnet-Chemistry-Data:Preparing arrays of years and months\n"
     ]
    },
    {
     "ename": "NameError",
     "evalue": "name 'make_histo_values' is not defined",
     "output_type": "error",
     "traceback": [
      "\u001b[0;31m---------------------------------------------------------------------------\u001b[0m",
      "\u001b[0;31mNameError\u001b[0m                                 Traceback (most recent call last)",
      "\u001b[0;32m<ipython-input-5-ba8a69f429d7>\u001b[0m in \u001b[0;36m<module>\u001b[0;34m\u001b[0m\n\u001b[1;32m     27\u001b[0m     \u001b[0mmonths\u001b[0m \u001b[0;34m=\u001b[0m \u001b[0;34m[\u001b[0m\u001b[0mdd\u001b[0m\u001b[0;34m.\u001b[0m\u001b[0mmonth\u001b[0m \u001b[0;32mfor\u001b[0m \u001b[0mdd\u001b[0m \u001b[0;32min\u001b[0m \u001b[0mdateobs\u001b[0m\u001b[0;34m.\u001b[0m\u001b[0mdata\u001b[0m\u001b[0;34m]\u001b[0m\u001b[0;34m\u001b[0m\u001b[0;34m\u001b[0m\u001b[0m\n\u001b[1;32m     28\u001b[0m \u001b[0;34m\u001b[0m\u001b[0m\n\u001b[0;32m---> 29\u001b[0;31m     \u001b[0mmake_histo_values\u001b[0m\u001b[0;34m(\u001b[0m\u001b[0mobsval\u001b[0m\u001b[0;34m,\u001b[0m \u001b[0mvarname\u001b[0m\u001b[0;34m)\u001b[0m\u001b[0;34m\u001b[0m\u001b[0;34m\u001b[0m\u001b[0m\n\u001b[0m\u001b[1;32m     30\u001b[0m     \u001b[0;31m#make_histo_month(months, varname)\u001b[0m\u001b[0;34m\u001b[0m\u001b[0;34m\u001b[0m\u001b[0;34m\u001b[0m\u001b[0m\n\u001b[1;32m     31\u001b[0m     \u001b[0;31m#make_histo_year(years, varname)\u001b[0m\u001b[0;34m\u001b[0m\u001b[0;34m\u001b[0m\u001b[0;34m\u001b[0m\u001b[0m\n",
      "\u001b[0;31mNameError\u001b[0m: name 'make_histo_values' is not defined"
     ]
    }
   ],
   "source": [
    "for varname in varlist[0:1]:\n",
    "    logger.info(\"Working on variable {}\".format(varname))\n",
    "    datafilelist = sorted(glob.glob(os.path.join(datadir, f\"*{varname}*.nc\")))\n",
    "    nfiles = len(datafilelist)\n",
    "    logger.info(\"Working on {} files\".format(nfiles))\n",
    "    datafilelist\n",
    "\n",
    "    timeobs = np.array([])\n",
    "    dateobs = np.array([])\n",
    "    obsval = np.array([])\n",
    "    for datafile in datafilelist:\n",
    "        logger.info(\"Working on {}\".format(datafile))\n",
    "        with netCDF4.Dataset(datafile, \"r\") as nc:\n",
    "            \n",
    "            varnamenc = (list(nc.variables.keys())[-1])\n",
    "            logger.info(\"Name in netCDF file: {}\".format(varnamenc))\n",
    "            timeunits = nc.variables[\"obstime\"].units\n",
    "            times = nc.variables[\"obstime\"][:]\n",
    "            values = nc.variables[varnamenc][:]\n",
    "            dates = netCDF4.num2date(times, timeunits)\n",
    "            timeobs = np.append(timeobs, times)\n",
    "            dateobs = np.append(dateobs, dates)\n",
    "            obsval = np.append(obsval, values)\n",
    "        \n",
    "    logger.info(\"Preparing arrays of years and months\")\n",
    "    years = [dd.year for dd in dateobs.data]\n",
    "    months = [dd.month for dd in dateobs.data]\n",
    "    \n",
    "    make_histo_values(obsval, varname)\n",
    "    #make_histo_month(months, varname)\n",
    "    #make_histo_year(years, varname)"
   ]
  },
  {
   "cell_type": "code",
   "execution_count": null,
   "metadata": {},
   "outputs": [],
   "source": []
  }
 ],
 "metadata": {
  "@webio": {
   "lastCommId": null,
   "lastKernelId": null
  },
  "kernelspec": {
   "display_name": "Filament",
   "language": "python",
   "name": "filament3.8"
  },
  "language_info": {
   "codemirror_mode": {
    "name": "ipython",
    "version": 3
   },
   "file_extension": ".py",
   "mimetype": "text/x-python",
   "name": "python",
   "nbconvert_exporter": "python",
   "pygments_lexer": "ipython3",
   "version": "3.8.0"
  }
 },
 "nbformat": 4,
 "nbformat_minor": 2
}
