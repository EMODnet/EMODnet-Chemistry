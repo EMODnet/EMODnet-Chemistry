{
 "cells": [
  {
   "cell_type": "markdown",
   "metadata": {},
   "source": [
    "Plot the locations of the profiles for the different regions. "
   ]
  },
  {
   "cell_type": "code",
   "execution_count": 15,
   "metadata": {},
   "outputs": [
    {
     "data": {
      "text/plain": [
       "<module 'emodnetchemistry' from '/home/ctroupin/Projects/EMODnet/Chemistry3/EMODnet-Chemistry/python/emodnetchemistry.py'>"
      ]
     },
     "execution_count": 15,
     "metadata": {},
     "output_type": "execute_result"
    }
   ],
   "source": [
    "import os\n",
    "import glob\n",
    "import netCDF4\n",
    "import logging\n",
    "import numpy as np\n",
    "import emodnetchemistry\n",
    "import matplotlib.pyplot as plt\n",
    "from mpl_toolkits.basemap import Basemap\n",
    "from matplotlib.patches import Polygon\n",
    "import calendar\n",
    "import warnings\n",
    "import matplotlib.cbook\n",
    "warnings.filterwarnings(\"ignore\",category=matplotlib.cbook.mplDeprecation)\n",
    "plt.rcParams.update({'font.size': 16})\n",
    "plt.rc('figure', facecolor='w')\n",
    "from importlib import reload\n",
    "reload(emodnetchemistry)"
   ]
  },
  {
   "cell_type": "code",
   "execution_count": 2,
   "metadata": {},
   "outputs": [],
   "source": [
    "logger = logging.getLogger(\"EMODnet-Chemistry-Data\")\n",
    "logger.setLevel(logging.DEBUG)\n",
    "logging.info(\"Starting\")"
   ]
  },
  {
   "cell_type": "markdown",
   "metadata": {},
   "source": [
    "## Paths"
   ]
  },
  {
   "cell_type": "code",
   "execution_count": 3,
   "metadata": {},
   "outputs": [],
   "source": [
    "datadir = \"/data/EMODnet/Eutrophication/Split/\"\n",
    "figdir = \"/home/ctroupin/dox/EMODnet-Chemistry/Histograms/\"\n",
    "if not os.path.exists(figdir):\n",
    "    os.makedirs(figdir)\n",
    "    \n",
    "cbar_ax = fig.add_axes([0.15, 0.15, 0.7, 0.05])\n",
    "    cb = plt.colorbar(pcm,  cax=cbar_ax, extend=\"both\", orientation=\"horizontal\")\n",
    "    cb.set_label(units, rotation=0, ha=\"left\")\n",
    "    cb.set_ticks(np.arange(vmin, vmax + 0.0001, deltavar))\n",
    "    if figname is not None:\n",
    "        plt.savefig(figname, dpi=300, bbox_inches=\"tight\")\n",
    "    plt.close()"
   ]
  },
  {
   "cell_type": "markdown",
   "metadata": {},
   "source": [
    "## Loop on the variables"
   ]
  },
  {
   "cell_type": "code",
   "execution_count": 14,
   "metadata": {},
   "outputs": [
    {
     "name": "stderr",
     "output_type": "stream",
     "text": [
      "INFO:EMODnet-Chemistry-Data:Working on variable phosphate\n",
      "INFO:EMODnet-Chemistry-Data:Working on 9 files\n",
      "INFO:EMODnet-Chemistry-Data:Working on /data/EMODnet/Eutrophication/Split/ArcticSea_Water_body_phosphate.nc\n",
      "INFO:EMODnet-Chemistry-Data:Name in netCDF file: Water body phosphate\n",
      "INFO:EMODnet-Chemistry-Data:Working on /data/EMODnet/Eutrophication/Split/Atlantic_TS_Water_body_phosphate.nc\n",
      "INFO:EMODnet-Chemistry-Data:Name in netCDF file: Water body phosphate\n",
      "INFO:EMODnet-Chemistry-Data:Working on /data/EMODnet/Eutrophication/Split/Atlantic_Water_body_phosphate.nc\n",
      "INFO:EMODnet-Chemistry-Data:Name in netCDF file: Water body phosphate\n",
      "INFO:EMODnet-Chemistry-Data:Working on /data/EMODnet/Eutrophication/Split/BalticSea_TS_Water_body_phosphate.nc\n",
      "INFO:EMODnet-Chemistry-Data:Name in netCDF file: Water body phosphate\n",
      "INFO:EMODnet-Chemistry-Data:Working on /data/EMODnet/Eutrophication/Split/BalticSea_Water_body_phosphate.nc\n",
      "INFO:EMODnet-Chemistry-Data:Name in netCDF file: Water body phosphate\n",
      "INFO:EMODnet-Chemistry-Data:Working on /data/EMODnet/Eutrophication/Split/BlackSea_Water_body_phosphate.nc\n",
      "INFO:EMODnet-Chemistry-Data:Name in netCDF file: Water body phosphate\n",
      "INFO:EMODnet-Chemistry-Data:Working on /data/EMODnet/Eutrophication/Split/MedSea2_TS_Water_body_phosphate.nc\n",
      "INFO:EMODnet-Chemistry-Data:Name in netCDF file: Water body phosphate\n",
      "INFO:EMODnet-Chemistry-Data:Working on /data/EMODnet/Eutrophication/Split/MedSea2_Water_body_phosphate.nc\n",
      "INFO:EMODnet-Chemistry-Data:Name in netCDF file: Water body phosphate\n",
      "INFO:EMODnet-Chemistry-Data:Working on /data/EMODnet/Eutrophication/Split/NorthSea_Water_body_phosphate.nc\n",
      "INFO:EMODnet-Chemistry-Data:Name in netCDF file: Water body phosphate\n",
      "INFO:EMODnet-Chemistry-Data:Preparing arrays of years and months\n",
      "INFO:EMODnet-Chemistry-Data:Creating histograms\n",
      "INFO:EMODnet-Chemistry-Data:Working on variable silicate\n",
      "INFO:EMODnet-Chemistry-Data:Working on 9 files\n",
      "INFO:EMODnet-Chemistry-Data:Working on /data/EMODnet/Eutrophication/Split/ArcticSea_Water_body_silicate.nc\n",
      "INFO:EMODnet-Chemistry-Data:Name in netCDF file: Water body silicate\n",
      "INFO:EMODnet-Chemistry-Data:Working on /data/EMODnet/Eutrophication/Split/Atlantic_TS_Water_body_silicate.nc\n",
      "INFO:EMODnet-Chemistry-Data:Name in netCDF file: Water body silicate\n",
      "INFO:EMODnet-Chemistry-Data:Working on /data/EMODnet/Eutrophication/Split/Atlantic_Water_body_silicate.nc\n",
      "INFO:EMODnet-Chemistry-Data:Name in netCDF file: Water body silicate\n",
      "INFO:EMODnet-Chemistry-Data:Working on /data/EMODnet/Eutrophication/Split/BalticSea_TS_Water_body_silicate.nc\n",
      "INFO:EMODnet-Chemistry-Data:Name in netCDF file: Water body silicate\n",
      "INFO:EMODnet-Chemistry-Data:Working on /data/EMODnet/Eutrophication/Split/BalticSea_Water_body_silicate.nc\n",
      "INFO:EMODnet-Chemistry-Data:Name in netCDF file: Water body silicate\n",
      "INFO:EMODnet-Chemistry-Data:Working on /data/EMODnet/Eutrophication/Split/BlackSea_Water_body_silicate.nc\n",
      "INFO:EMODnet-Chemistry-Data:Name in netCDF file: Water body silicate\n",
      "INFO:EMODnet-Chemistry-Data:Working on /data/EMODnet/Eutrophication/Split/MedSea2_TS_Water_body_silicate.nc\n",
      "INFO:EMODnet-Chemistry-Data:Name in netCDF file: Water body silicate\n",
      "INFO:EMODnet-Chemistry-Data:Working on /data/EMODnet/Eutrophication/Split/MedSea2_Water_body_silicate.nc\n",
      "INFO:EMODnet-Chemistry-Data:Name in netCDF file: Water body silicate\n",
      "INFO:EMODnet-Chemistry-Data:Working on /data/EMODnet/Eutrophication/Split/NorthSea_Water_body_silicate.nc\n",
      "INFO:EMODnet-Chemistry-Data:Name in netCDF file: Water body silicate\n",
      "INFO:EMODnet-Chemistry-Data:Preparing arrays of years and months\n",
      "INFO:EMODnet-Chemistry-Data:Creating histograms\n",
      "INFO:EMODnet-Chemistry-Data:Working on variable ammonium\n",
      "INFO:EMODnet-Chemistry-Data:Working on 9 files\n",
      "INFO:EMODnet-Chemistry-Data:Working on /data/EMODnet/Eutrophication/Split/ArcticSea_Water_body_ammonium.nc\n",
      "INFO:EMODnet-Chemistry-Data:Name in netCDF file: Water body ammonium\n",
      "INFO:EMODnet-Chemistry-Data:Working on /data/EMODnet/Eutrophication/Split/Atlantic_TS_Water_body_ammonium.nc\n",
      "INFO:EMODnet-Chemistry-Data:Name in netCDF file: Water body ammonium\n",
      "INFO:EMODnet-Chemistry-Data:Working on /data/EMODnet/Eutrophication/Split/Atlantic_Water_body_ammonium.nc\n",
      "INFO:EMODnet-Chemistry-Data:Name in netCDF file: Water body ammonium\n",
      "INFO:EMODnet-Chemistry-Data:Working on /data/EMODnet/Eutrophication/Split/BalticSea_TS_Water_body_ammonium.nc\n",
      "INFO:EMODnet-Chemistry-Data:Name in netCDF file: Water body ammonium\n",
      "INFO:EMODnet-Chemistry-Data:Working on /data/EMODnet/Eutrophication/Split/BalticSea_Water_body_ammonium.nc\n",
      "INFO:EMODnet-Chemistry-Data:Name in netCDF file: Water body ammonium\n",
      "INFO:EMODnet-Chemistry-Data:Working on /data/EMODnet/Eutrophication/Split/BlackSea_Water_body_ammonium.nc\n",
      "INFO:EMODnet-Chemistry-Data:Name in netCDF file: Water body ammonium\n",
      "INFO:EMODnet-Chemistry-Data:Working on /data/EMODnet/Eutrophication/Split/MedSea2_TS_Water_body_ammonium.nc\n",
      "INFO:EMODnet-Chemistry-Data:Name in netCDF file: Water body ammonium\n",
      "INFO:EMODnet-Chemistry-Data:Working on /data/EMODnet/Eutrophication/Split/MedSea2_Water_body_ammonium.nc\n",
      "INFO:EMODnet-Chemistry-Data:Name in netCDF file: Water body ammonium\n",
      "INFO:EMODnet-Chemistry-Data:Working on /data/EMODnet/Eutrophication/Split/NorthSea_Water_body_ammonium.nc\n",
      "INFO:EMODnet-Chemistry-Data:Name in netCDF file: Water body ammonium\n",
      "INFO:EMODnet-Chemistry-Data:Preparing arrays of years and months\n",
      "INFO:EMODnet-Chemistry-Data:Creating histograms\n",
      "INFO:EMODnet-Chemistry-Data:Working on variable chlorophyll-a\n",
      "INFO:EMODnet-Chemistry-Data:Working on 8 files\n",
      "INFO:EMODnet-Chemistry-Data:Working on /data/EMODnet/Eutrophication/Split/ArcticSea_Water_body_chlorophyll-a.nc\n",
      "INFO:EMODnet-Chemistry-Data:Name in netCDF file: Water body chlorophyll-a\n",
      "INFO:EMODnet-Chemistry-Data:Working on /data/EMODnet/Eutrophication/Split/Atlantic_TS_Water_body_chlorophyll-a.nc\n",
      "INFO:EMODnet-Chemistry-Data:Name in netCDF file: Water body chlorophyll-a\n",
      "INFO:EMODnet-Chemistry-Data:Working on /data/EMODnet/Eutrophication/Split/Atlantic_Water_body_chlorophyll-a.nc\n",
      "INFO:EMODnet-Chemistry-Data:Name in netCDF file: Water body chlorophyll-a\n",
      "INFO:EMODnet-Chemistry-Data:Working on /data/EMODnet/Eutrophication/Split/BalticSea_Water_body_chlorophyll-a.nc\n",
      "INFO:EMODnet-Chemistry-Data:Name in netCDF file: Water body chlorophyll-a\n",
      "INFO:EMODnet-Chemistry-Data:Working on /data/EMODnet/Eutrophication/Split/BlackSea_Water_body_chlorophyll-a.nc\n",
      "INFO:EMODnet-Chemistry-Data:Name in netCDF file: Water body chlorophyll-a\n",
      "INFO:EMODnet-Chemistry-Data:Working on /data/EMODnet/Eutrophication/Split/MedSea2_TS_Water_body_chlorophyll-a.nc\n",
      "INFO:EMODnet-Chemistry-Data:Name in netCDF file: Water body chlorophyll-a\n",
      "INFO:EMODnet-Chemistry-Data:Working on /data/EMODnet/Eutrophication/Split/MedSea2_Water_body_chlorophyll-a.nc\n",
      "INFO:EMODnet-Chemistry-Data:Name in netCDF file: Water body chlorophyll-a\n",
      "INFO:EMODnet-Chemistry-Data:Working on /data/EMODnet/Eutrophication/Split/NorthSea_Water_body_chlorophyll-a.nc\n",
      "INFO:EMODnet-Chemistry-Data:Name in netCDF file: Water body chlorophyll-a\n",
      "INFO:EMODnet-Chemistry-Data:Preparing arrays of years and months\n",
      "INFO:EMODnet-Chemistry-Data:Creating histograms\n",
      "INFO:EMODnet-Chemistry-Data:Working on variable dissolved_inorganic_nitrogen\n",
      "INFO:EMODnet-Chemistry-Data:Working on 9 files\n",
      "INFO:EMODnet-Chemistry-Data:Working on /data/EMODnet/Eutrophication/Split/ArcticSea_Water_body_dissolved_inorganic_nitrogen_(DIN).nc\n",
      "INFO:EMODnet-Chemistry-Data:Name in netCDF file: Water body dissolved inorganic nitrogen (DIN)\n",
      "INFO:EMODnet-Chemistry-Data:Working on /data/EMODnet/Eutrophication/Split/Atlantic_TS_Water_body_dissolved_inorganic_nitrogen_(DIN).nc\n",
      "INFO:EMODnet-Chemistry-Data:Name in netCDF file: Water body dissolved inorganic nitrogen (DIN)\n",
      "INFO:EMODnet-Chemistry-Data:Working on /data/EMODnet/Eutrophication/Split/Atlantic_Water_body_dissolved_inorganic_nitrogen_(DIN).nc\n",
      "INFO:EMODnet-Chemistry-Data:Name in netCDF file: Water body dissolved inorganic nitrogen (DIN)\n",
      "INFO:EMODnet-Chemistry-Data:Working on /data/EMODnet/Eutrophication/Split/BalticSea_TS_Water_body_dissolved_inorganic_nitrogen_(DIN).nc\n",
      "INFO:EMODnet-Chemistry-Data:Name in netCDF file: Water body dissolved inorganic nitrogen (DIN)\n",
      "INFO:EMODnet-Chemistry-Data:Working on /data/EMODnet/Eutrophication/Split/BalticSea_Water_body_dissolved_inorganic_nitrogen_(DIN).nc\n"
     ]
    },
    {
     "name": "stderr",
     "output_type": "stream",
     "text": [
      "INFO:EMODnet-Chemistry-Data:Name in netCDF file: Water body dissolved inorganic nitrogen (DIN)\n",
      "INFO:EMODnet-Chemistry-Data:Working on /data/EMODnet/Eutrophication/Split/BlackSea_Water_body_dissolved_inorganic_nitrogen_(DIN).nc\n",
      "INFO:EMODnet-Chemistry-Data:Name in netCDF file: Water body dissolved inorganic nitrogen (DIN)\n",
      "INFO:EMODnet-Chemistry-Data:Working on /data/EMODnet/Eutrophication/Split/MedSea2_TS_Water_body_dissolved_inorganic_nitrogen_(DIN).nc\n",
      "INFO:EMODnet-Chemistry-Data:Name in netCDF file: Water body dissolved inorganic nitrogen (DIN)\n",
      "INFO:EMODnet-Chemistry-Data:Working on /data/EMODnet/Eutrophication/Split/MedSea2_Water_body_dissolved_inorganic_nitrogen_(DIN).nc\n",
      "INFO:EMODnet-Chemistry-Data:Name in netCDF file: Water body dissolved inorganic nitrogen (DIN)\n",
      "INFO:EMODnet-Chemistry-Data:Working on /data/EMODnet/Eutrophication/Split/NorthSea_Water_body_dissolved_inorganic_nitrogen_(DIN).nc\n",
      "INFO:EMODnet-Chemistry-Data:Name in netCDF file: Water body dissolved inorganic nitrogen (DIN)\n",
      "INFO:EMODnet-Chemistry-Data:Preparing arrays of years and months\n",
      "INFO:EMODnet-Chemistry-Data:Creating histograms\n",
      "INFO:EMODnet-Chemistry-Data:Working on variable dissolved_oxygen\n",
      "INFO:EMODnet-Chemistry-Data:Working on 8 files\n",
      "INFO:EMODnet-Chemistry-Data:Working on /data/EMODnet/Eutrophication/Split/ArcticSea_Water_body_dissolved_oxygen_concentration.nc\n",
      "INFO:EMODnet-Chemistry-Data:Name in netCDF file: Water body dissolved oxygen concentration\n",
      "INFO:EMODnet-Chemistry-Data:Working on /data/EMODnet/Eutrophication/Split/Atlantic_TS_Water_body_dissolved_oxygen_concentration.nc\n",
      "INFO:EMODnet-Chemistry-Data:Name in netCDF file: Water body dissolved oxygen concentration\n",
      "INFO:EMODnet-Chemistry-Data:Working on /data/EMODnet/Eutrophication/Split/Atlantic_Water_body_dissolved_oxygen_concentration.nc\n",
      "INFO:EMODnet-Chemistry-Data:Name in netCDF file: Water body dissolved oxygen concentration\n",
      "INFO:EMODnet-Chemistry-Data:Working on /data/EMODnet/Eutrophication/Split/BalticSea_Water_body_dissolved_oxygen_concentration.nc\n",
      "INFO:EMODnet-Chemistry-Data:Name in netCDF file: Water body dissolved oxygen concentration\n",
      "INFO:EMODnet-Chemistry-Data:Working on /data/EMODnet/Eutrophication/Split/BlackSea_Water_body_dissolved_oxygen_concentration.nc\n",
      "INFO:EMODnet-Chemistry-Data:Name in netCDF file: Water body dissolved oxygen concentration\n",
      "INFO:EMODnet-Chemistry-Data:Working on /data/EMODnet/Eutrophication/Split/MedSea2_TS_Water_body_dissolved_oxygen_concentration.nc\n",
      "INFO:EMODnet-Chemistry-Data:Name in netCDF file: Water body dissolved oxygen concentration\n",
      "INFO:EMODnet-Chemistry-Data:Working on /data/EMODnet/Eutrophication/Split/MedSea2_Water_body_dissolved_oxygen_concentration.nc\n",
      "INFO:EMODnet-Chemistry-Data:Name in netCDF file: Water body dissolved oxygen concentration\n",
      "INFO:EMODnet-Chemistry-Data:Working on /data/EMODnet/Eutrophication/Split/NorthSea_Water_body_dissolved_oxygen_concentration.nc\n",
      "INFO:EMODnet-Chemistry-Data:Name in netCDF file: Water body dissolved oxygen concentration\n",
      "INFO:EMODnet-Chemistry-Data:Preparing arrays of years and months\n",
      "INFO:EMODnet-Chemistry-Data:Creating histograms\n"
     ]
    }
   ],
   "source": [
    "for varname in varlist[3:4]:\n",
    "    logger.info(\"Working on variable {}\".format(varname))\n",
    "    datafilelist = sorted(glob.glob(os.path.join(datadir, f\"*{varname}*.nc\")))\n",
    "    nfiles = len(datafilelist)\n",
    "    logger.info(\"Working on {} files\".format(nfiles))\n",
    "    datafilelist\n",
    "\n",
    "    timeobs = np.array([])\n",
    "    dateobs = np.array([])\n",
    "    obsval = np.array([])\n",
    "    for datafile in datafilelist:\n",
    "        logger.info(\"Working on {}\".format(datafile))\n",
    "        with netCDF4.Dataset(datafile, \"r\") as nc:\n",
    "            \n",
    "            varnamenc = (list(nc.variables.keys())[-1])\n",
    "            logger.info(\"Name in netCDF file: {}\".format(varnamenc))\n",
    "            timeunits = nc.variables[\"obstime\"].units\n",
    "            times = nc.variables[\"obstime\"][:]\n",
    "            values = nc.variables[varnamenc][:]\n",
    "            dates = netCDF4.num2date(times, timeunits)\n",
    "            timeobs = np.append(timeobs, times)\n",
    "            dateobs = np.append(dateobs, dates)\n",
    "            obsval = np.append(obsval, values)\n",
    "        \n",
    "    logger.info(\"Preparing arrays of years and months\")\n",
    "    years = [dd.year for dd in dateobs.data]\n",
    "    months = [dd.month for dd in dateobs.data]\n",
    "    \n",
    "    logger.info(\"Creating histograms\")\n",
    "    emodnetchemistry.make_histo_values(obsval, varname, figdir)\n",
    "    #emodnetchemistry.make_histo_month(months, varname, figdir)\n",
    "    #emodnetchemistry.make_histo_year(years, varname, figdir)"
   ]
  },
  {
   "cell_type": "code",
   "execution_count": null,
   "metadata": {},
   "outputs": [],
   "source": []
  }
 ],
 "metadata": {
  "@webio": {
   "lastCommId": null,
   "lastKernelId": null
  },
  "kernelspec": {
   "display_name": "Filament",
   "language": "python",
   "name": "filament3.8"
  },
  "language_info": {
   "codemirror_mode": {
    "name": "ipython",
    "version": 3
   },
   "file_extension": ".py",
   "mimetype": "text/x-python",
   "name": "python",
   "nbconvert_exporter": "python",
   "pygments_lexer": "ipython3",
   "version": "3.8.0"
  }
 },
 "nbformat": 4,
 "nbformat_minor": 2
}
