{
 "cells": [
  {
   "cell_type": "markdown",
   "metadata": {},
   "source": [
    "Plot the locations of the profiles for the different regions. "
   ]
  },
  {
   "cell_type": "code",
   "execution_count": 32,
   "metadata": {},
   "outputs": [
    {
     "data": {
      "text/plain": [
       "<module 'emodnetchemistry' from '/home/ctroupin/Projects/EMODnet/Chemistry3/EMODnet-Chemistry/python/emodnetchemistry.py'>"
      ]
     },
     "execution_count": 32,
     "metadata": {},
     "output_type": "execute_result"
    }
   ],
   "source": [
    "import os\n",
    "import glob\n",
    "import netCDF4\n",
    "import logging\n",
    "import numpy as np\n",
    "import emodnetchemistry\n",
    "import matplotlib.pyplot as plt\n",
    "from mpl_toolkits.basemap import Basemap\n",
    "from matplotlib.patches import Polygon\n",
    "import warnings\n",
    "import matplotlib.cbook\n",
    "warnings.filterwarnings(\"ignore\",category=matplotlib.cbook.mplDeprecation)\n",
    "from importlib import reload\n",
    "reload(emodnetchemistry)"
   ]
  },
  {
   "cell_type": "code",
   "execution_count": 9,
   "metadata": {},
   "outputs": [],
   "source": [
    "logger = logging.getLogger(\"EMODnet-Chemistry-Data-positions\")\n",
    "logger.setLevel(logging.DEBUG)\n",
    "logging.info(\"Starting\")"
   ]
  },
  {
   "cell_type": "markdown",
   "metadata": {},
   "source": [
    "## Paths"
   ]
  },
  {
   "cell_type": "code",
   "execution_count": 10,
   "metadata": {},
   "outputs": [],
   "source": [
    "datadir = \"/data/EMODnet/Eutrophication/Split/\"\n",
    "figdir = \"/home/ctroupin/dox/EMODnet-Chemistry/Data-locations/\"\n",
    "if not os.path.exists(figdir):\n",
    "    os.makedirs(figdir)\n",
    "\n",
    "varlist = [\"phosphate\", \"silicate\", \"ammonium\", \"chlorophyll-a\", \n",
    "           \"dissolved_inorganic_nitrogen\", \"dissolved_oxygen\"]"
   ]
  },
  {
   "cell_type": "markdown",
   "metadata": {},
   "source": [
    "### Domains"
   ]
  },
  {
   "cell_type": "code",
   "execution_count": 11,
   "metadata": {},
   "outputs": [],
   "source": [
    "arctic = emodnetchemistry.Region(-44.25, 70.0, 56.5, 83.0, 0.25, 0.125, \"Arctic Sea\")\n",
    "neatlantic = emodnetchemistry.Region(-42.0, -0.1, 24.9, 48.0, 0.1, 0.1, \"North-East Atlantic Ocean\")\n",
    "balticsea = emodnetchemistry.Region(9.4, 30.9, 53.0, 65.9, 0.1, 0.1, \"Baltic Sea\")\n",
    "blacksea = emodnetchemistry.Region(26.5, 41.95, 40.0, 47.95, 0.05, 0.05, \"Black Sea\")\n",
    "mediterranean = emodnetchemistry.Region(-7.0, 36.375, 30.0, 45.875, 0.125, 0.125, \"Mediterranean Sea\")\n",
    "northsea = emodnetchemistry.Region(-5.4, 13.0, 47.9, 62.0, 0.1, 0.1, \"North Sea\")\n",
    "regionlist = [arctic, blacksea, balticsea, mediterranean, neatlantic, northsea]"
   ]
  },
  {
   "cell_type": "code",
   "execution_count": 12,
   "metadata": {},
   "outputs": [],
   "source": [
    "regiondict = {\"ArcticSea\": arctic, \"Atlantic\": neatlantic, \"BalticSea\": balticsea, \n",
    "              \"BlackSea\": blacksea, \"MedSea2\": mediterranean, \"NorthSea\": northsea}"
   ]
  },
  {
   "cell_type": "markdown",
   "metadata": {},
   "source": [
    "## Make plot\n",
    "Define projection"
   ]
  },
  {
   "cell_type": "code",
   "execution_count": 13,
   "metadata": {},
   "outputs": [],
   "source": [
    "m = Basemap(projection='ortho', lon_0=5., lat_0=50, resolution='i')"
   ]
  },
  {
   "cell_type": "markdown",
   "metadata": {},
   "source": [
    "## Loop on variables"
   ]
  },
  {
   "cell_type": "code",
   "execution_count": 33,
   "metadata": {},
   "outputs": [
    {
     "name": "stderr",
     "output_type": "stream",
     "text": [
      "INFO:EMODnet-Chemistry-Data-positions:Working on variable phosphate\n",
      "INFO:EMODnet-Chemistry-Data-positions:Saving figure as /home/ctroupin/dox/EMODnet-Chemistry/Data-locations/EMODnet_data_domains2_phosphate.png\n",
      "INFO:EMODnet-Chemistry-Data-positions:Working on 9 files\n",
      "INFO:EMODnet-Chemistry-Data-positions:Saving figure as /home/ctroupin/dox/EMODnet-Chemistry/Data-locations/EMODnet_hexbin_phosphate.png\n"
     ]
    },
    {
     "ename": "TypeError",
     "evalue": "plot_hexbin_datalocations() takes from 2 to 3 positional arguments but 4 were given",
     "output_type": "error",
     "traceback": [
      "\u001b[0;31m---------------------------------------------------------------------------\u001b[0m",
      "\u001b[0;31mTypeError\u001b[0m                                 Traceback (most recent call last)",
      "\u001b[0;32m<ipython-input-33-2e3625024314>\u001b[0m in \u001b[0;36m<module>\u001b[0;34m\u001b[0m\n\u001b[1;32m      8\u001b[0m     \u001b[0mfigname\u001b[0m \u001b[0;34m=\u001b[0m \u001b[0mos\u001b[0m\u001b[0;34m.\u001b[0m\u001b[0mpath\u001b[0m\u001b[0;34m.\u001b[0m\u001b[0mjoin\u001b[0m\u001b[0;34m(\u001b[0m\u001b[0mfigdir\u001b[0m\u001b[0;34m,\u001b[0m \u001b[0;34mf\"EMODnet_hexbin_{varname}.png\"\u001b[0m\u001b[0;34m)\u001b[0m\u001b[0;34m\u001b[0m\u001b[0;34m\u001b[0m\u001b[0m\n\u001b[1;32m      9\u001b[0m     \u001b[0mlogger\u001b[0m\u001b[0;34m.\u001b[0m\u001b[0minfo\u001b[0m\u001b[0;34m(\u001b[0m\u001b[0;34m\"Saving figure as {}\"\u001b[0m\u001b[0;34m.\u001b[0m\u001b[0mformat\u001b[0m\u001b[0;34m(\u001b[0m\u001b[0mfigname\u001b[0m\u001b[0;34m)\u001b[0m\u001b[0;34m)\u001b[0m\u001b[0;34m\u001b[0m\u001b[0;34m\u001b[0m\u001b[0m\n\u001b[0;32m---> 10\u001b[0;31m     \u001b[0memodnetchemistry\u001b[0m\u001b[0;34m.\u001b[0m\u001b[0mplot_hexbin_datalocations\u001b[0m\u001b[0;34m(\u001b[0m\u001b[0mm\u001b[0m\u001b[0;34m,\u001b[0m \u001b[0mvarname\u001b[0m\u001b[0;34m,\u001b[0m \u001b[0mregiondict\u001b[0m\u001b[0;34m,\u001b[0m \u001b[0mfigname\u001b[0m\u001b[0;34m)\u001b[0m\u001b[0;34m\u001b[0m\u001b[0;34m\u001b[0m\u001b[0m\n\u001b[0m",
      "\u001b[0;31mTypeError\u001b[0m: plot_hexbin_datalocations() takes from 2 to 3 positional arguments but 4 were given"
     ]
    }
   ],
   "source": [
    "for varname in varlist[0:1]:\n",
    "    logger.info(\"Working on variable {}\".format(varname))\n",
    "    \n",
    "    figname = os.path.join(figdir, f\"EMODnet_data_domains_{varname}.png\")\n",
    "    logger.info(\"Saving figure as {}\".format(figname))\n",
    "    emodnetchemistry.plot_data_locations(m, varname, regiondict, figname)\n",
    "    \n",
    "    figname = os.path.join(figdir, f\"EMODnet_hexbin_{varname}.png\")\n",
    "    logger.info(\"Saving figure as {}\".format(figname))\n",
    "    emodnetchemistry.plot_hexbin_datalocations(m, varname, regiondict, figname)"
   ]
  },
  {
   "cell_type": "code",
   "execution_count": 25,
   "metadata": {},
   "outputs": [
    {
     "data": {
      "text/plain": [
       "['/data/EMODnet/Eutrophication/Split/ArcticSea_Water_body_phosphate.nc',\n",
       " '/data/EMODnet/Eutrophication/Split/Atlantic_TS_Water_body_phosphate.nc',\n",
       " '/data/EMODnet/Eutrophication/Split/Atlantic_Water_body_phosphate.nc',\n",
       " '/data/EMODnet/Eutrophication/Split/BalticSea_TS_Water_body_phosphate.nc',\n",
       " '/data/EMODnet/Eutrophication/Split/BalticSea_Water_body_phosphate.nc',\n",
       " '/data/EMODnet/Eutrophication/Split/BlackSea_Water_body_phosphate.nc',\n",
       " '/data/EMODnet/Eutrophication/Split/MedSea2_TS_Water_body_phosphate.nc',\n",
       " '/data/EMODnet/Eutrophication/Split/MedSea2_Water_body_phosphate.nc',\n",
       " '/data/EMODnet/Eutrophication/Split/NorthSea_Water_body_phosphate.nc']"
      ]
     },
     "execution_count": 25,
     "metadata": {},
     "output_type": "execute_result"
    }
   ],
   "source": [
    "datafilelist = sorted(glob.glob(os.path.join(datadir, f\"*{varname}*.nc\")))\n",
    "datafilelist"
   ]
  },
  {
   "cell_type": "code",
   "execution_count": 26,
   "metadata": {},
   "outputs": [
    {
     "data": {
      "text/plain": [
       "'/data/EMODnet/Eutrophication/Split/'"
      ]
     },
     "execution_count": 26,
     "metadata": {},
     "output_type": "execute_result"
    }
   ],
   "source": [
    "datadir"
   ]
  },
  {
   "cell_type": "code",
   "execution_count": null,
   "metadata": {},
   "outputs": [],
   "source": []
  }
 ],
 "metadata": {
  "@webio": {
   "lastCommId": "C40C00F03BF44CDD9A8EB63098F99662",
   "lastKernelId": "0f589b8a-e60f-43f5-812e-4210c20247b0"
  },
  "kernelspec": {
   "display_name": "Filament",
   "language": "python",
   "name": "filament3.8"
  },
  "language_info": {
   "codemirror_mode": {
    "name": "ipython",
    "version": 3
   },
   "file_extension": ".py",
   "mimetype": "text/x-python",
   "name": "python",
   "nbconvert_exporter": "python",
   "pygments_lexer": "ipython3",
   "version": "3.8.0"
  }
 },
 "nbformat": 4,
 "nbformat_minor": 2
}
