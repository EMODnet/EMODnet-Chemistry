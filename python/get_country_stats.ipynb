{
 "cells": [
  {
   "cell_type": "code",
   "execution_count": 1,
   "metadata": {},
   "outputs": [],
   "source": [
    "from bs4 import BeautifulSoup\n",
    "import os\n",
    "import glob\n",
    "import logging\n",
    "import re\n",
    "import pycountry"
   ]
  },
  {
   "cell_type": "code",
   "execution_count": 2,
   "metadata": {},
   "outputs": [
    {
     "data": {
      "text/plain": [
       "Country(alpha_2='TR', alpha_3='TUR', name='Turkey', numeric='792', official_name='Republic of Turkey')"
      ]
     },
     "execution_count": 2,
     "metadata": {},
     "output_type": "execute_result"
    }
   ],
   "source": [
    "pycountry.countries.get(alpha_2='TR')"
   ]
  },
  {
   "cell_type": "code",
   "execution_count": 3,
   "metadata": {},
   "outputs": [],
   "source": [
    "logger = logging.getLogger(\"awstats\")\n",
    "logger.setLevel(logging.INFO)\n",
    "logging.info(\"starting\")"
   ]
  },
  {
   "cell_type": "code",
   "execution_count": 4,
   "metadata": {},
   "outputs": [
    {
     "name": "stderr",
     "output_type": "stream",
     "text": [
      "INFO:awstats:Working on 0 files\n"
     ]
    }
   ],
   "source": [
    "datadir = \"/home/ctroupin/Data/EMODnet/Chemistry/Awstats/\"\n",
    "filelist = sorted(glob.glob(os.path.join(datadir, \"awstats1*2017.sdn-oceanbrowser-net.txt\")))\n",
    "nfiles = len(filelist)\n",
    "logger.info(\"Working on {} files\".format(nfiles))"
   ]
  },
  {
   "cell_type": "code",
   "execution_count": 110,
   "metadata": {},
   "outputs": [
    {
     "name": "stderr",
     "output_type": "stream",
     "text": [
      "INFO:awstats:Working on file awstats102017.sdn-oceanbrowser-net.txt\n",
      "INFO:awstats:Countries: 31\n",
      "INFO:awstats:Working on file awstats112017.sdn-oceanbrowser-net.txt\n",
      "INFO:awstats:Countries: 27\n",
      "INFO:awstats:Working on file awstats122017.sdn-oceanbrowser-net.txt\n",
      "INFO:awstats:Countries: 22\n"
     ]
    }
   ],
   "source": [
    "clist = []\n",
    "for statfiles in filelist:\n",
    "    logger.info(\"Working on file {}\".format(os.path.basename(statfiles)))\n",
    "    \n",
    "    with open(statfiles) as f:\n",
    "        line = \"\"\n",
    "\n",
    "        # Read until BEGIN_DOMAIN is found\n",
    "        while not \"BEGIN_DOMAIN\" in line:\n",
    "            line = f.readline().rstrip()\n",
    "\n",
    "        # Get the number of domains from the line\n",
    "        ncountries = int(re.findall(r'\\d+', line)[0])\n",
    "        logger.info(\"Countries: {}\".format(ncountries))\n",
    "\n",
    "        # Loop on the domains\n",
    "        for i in range(0, ncountries):\n",
    "            line = f.readline().rstrip()\n",
    "            lsplit = line.split()\n",
    "            cname = lsplit[0]\n",
    "            pages = int(lsplit[1])\n",
    "            hits = int(lsplit[2])\n",
    "            bw = int(lsplit[3])\n",
    "\n",
    "            countryindex = findcountry(cname, clist)\n",
    "            if countryindex is None:\n",
    "                logger.debug(\"New country\")\n",
    "                clist.append(CountryStat(cname, pages, hits, bw))\n",
    "            else:\n",
    "                logger.debug(\"Country already encountered\")\n",
    "                clist[countryindex].pages += int(pages)\n",
    "                clist[countryindex].hits += hits\n",
    "                clist[countryindex].bw += bw           "
   ]
  },
  {
   "cell_type": "code",
   "execution_count": 114,
   "metadata": {},
   "outputs": [
    {
     "data": {
      "text/plain": [
       "[Country ip: 23762 pages, 32637 hits and 573952417 MB of bandwidth,\n",
       " Country es: 12554 pages, 16669 hits and 72482406 MB of bandwidth,\n",
       " Country net: 11078 pages, 14759 hits and 65811039 MB of bandwidth,\n",
       " Country be: 3742 pages, 4793 hits and 24352410 MB of bandwidth,\n",
       " Country in: 2608 pages, 2956 hits and 12153502 MB of bandwidth,\n",
       " Country si: 1900 pages, 1993 hits and 5915557 MB of bandwidth,\n",
       " Country com: 1125 pages, 1710 hits and 18366058 MB of bandwidth,\n",
       " Country ee: 861 pages, 1038 hits and 5251092 MB of bandwidth,\n",
       " Country it: 501 pages, 1685 hits and 18882390 MB of bandwidth,\n",
       " Country tr: 481 pages, 675 hits and 4416832 MB of bandwidth,\n",
       " Country nl: 462 pages, 721 hits and 5949976 MB of bandwidth,\n",
       " Country de: 395 pages, 762 hits and 9030367 MB of bandwidth,\n",
       " Country ru: 341 pages, 400 hits and 1826741 MB of bandwidth,\n",
       " Country fr: 295 pages, 769 hits and 13751274 MB of bandwidth,\n",
       " Country gr: 221 pages, 511 hits and 6937792 MB of bandwidth,\n",
       " Country edu: 216 pages, 336 hits and 8697532 MB of bandwidth,\n",
       " Country fi: 116 pages, 347 hits and 4564754 MB of bandwidth,\n",
       " Country is: 98 pages, 209 hits and 2473469 MB of bandwidth,\n",
       " Country co: 97 pages, 300 hits and 2573921 MB of bandwidth,\n",
       " Country hr: 76 pages, 135 hits and 1288638 MB of bandwidth,\n",
       " Country ca: 41 pages, 81 hits and 896859 MB of bandwidth,\n",
       " Country se: 41 pages, 205 hits and 2711997 MB of bandwidth,\n",
       " Country cl: 40 pages, 100 hits and 1703687 MB of bandwidth,\n",
       " Country tw: 26 pages, 26 hits and 530977 MB of bandwidth,\n",
       " Country ro: 25 pages, 157 hits and 2295564 MB of bandwidth,\n",
       " Country pt: 20 pages, 52 hits and 3841292 MB of bandwidth,\n",
       " Country za: 20 pages, 48 hits and 846301 MB of bandwidth,\n",
       " Country uk: 9 pages, 126 hits and 2269193 MB of bandwidth,\n",
       " Country pl: 7 pages, 7 hits and 81129 MB of bandwidth,\n",
       " Country cn: 6 pages, 6 hits and 20027 MB of bandwidth,\n",
       " Country mx: 6 pages, 66 hits and 1135925 MB of bandwidth,\n",
       " Country no: 3 pages, 67 hits and 1116852 MB of bandwidth,\n",
       " Country eu: 3 pages, 3 hits and 1060382 MB of bandwidth,\n",
       " Country bg: 3 pages, 58 hits and 1120821 MB of bandwidth,\n",
       " Country org: 3 pages, 69 hits and 1133228 MB of bandwidth,\n",
       " Country il: 2 pages, 33 hits and 932869 MB of bandwidth,\n",
       " Country br: 2 pages, 2 hits and 9080 MB of bandwidth,\n",
       " Country jp: 1 pages, 11 hits and 21343 MB of bandwidth,\n",
       " Country london: 0 pages, 10 hits and 12221 MB of bandwidth,\n",
       " Country au: 0 pages, 5 hits and 6474 MB of bandwidth,\n",
       " Country dk: 0 pages, 10 hits and 12221 MB of bandwidth]"
      ]
     },
     "execution_count": 114,
     "metadata": {},
     "output_type": "execute_result"
    }
   ],
   "source": [
    "clist_sorted = sorted(clist, key=lambda x: x.pages, reverse=True)"
   ]
  },
  {
   "cell_type": "code",
   "execution_count": 124,
   "metadata": {},
   "outputs": [],
   "source": [
    "fo = open(\"statsCountry.csv\", 'w')\n",
    "for i in range(0, 10):\n",
    "    country = clist_sorted[i]\n",
    "    fo.write(\"\\t\".join((country.name, str(country.pages), str(country.hits), \"\\n\")))\n",
    "fo.close()"
   ]
  },
  {
   "cell_type": "code",
   "execution_count": 47,
   "metadata": {},
   "outputs": [],
   "source": [
    "class CountryStat(object):\n",
    "    \n",
    "    def __init__(self, name=None, pages=0, hits=0, bw=0):\n",
    "        self.name = name\n",
    "        self.pages = pages\n",
    "        self.hits = hits\n",
    "        self.bw = bw\n",
    "        \n",
    "    def __repr__(self):\n",
    "        return \"Country {0}: {1} pages, {2} hits and {3} MB of bandwidth\".format(self.name, \n",
    "                                                                          self.pages,\n",
    "                                                                          self.hits,\n",
    "                                                                          self.bw)"
   ]
  },
  {
   "cell_type": "code",
   "execution_count": 102,
   "metadata": {},
   "outputs": [],
   "source": [
    "def findcountry(cname, clist):\n",
    "    \"\"\"\n",
    "    Find the object in a list which has the attribute 'name' matching cname\n",
    "    \"\"\"\n",
    "    index = None\n",
    "    for i, c in enumerate(clist):\n",
    "        if c.name == cname:\n",
    "            index = i\n",
    "            break\n",
    "    return index"
   ]
  }
 ],
 "metadata": {
  "@webio": {
   "lastCommId": "6517FA0109FD4564872CB55818AEA448",
   "lastKernelId": "820edf7a-2380-4320-a490-ec1e97c775ac"
  },
  "kernelspec": {
   "display_name": "AirBNB",
   "language": "python",
   "name": "airbnb"
  },
  "language_info": {
   "codemirror_mode": {
    "name": "ipython",
    "version": 3
   },
   "file_extension": ".py",
   "mimetype": "text/x-python",
   "name": "python",
   "nbconvert_exporter": "python",
   "pygments_lexer": "ipython3",
   "version": "3.10.2"
  }
 },
 "nbformat": 4,
 "nbformat_minor": 2
}
