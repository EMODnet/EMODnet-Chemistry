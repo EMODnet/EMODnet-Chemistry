{
 "cells": [
  {
   "cell_type": "markdown",
   "metadata": {},
   "source": [
    "This example show how to read an ODV netCDF file that stored data as profiles in Python.      \n",
    "The file has been obtained using the [`webODV`](https://emodnet-chemistry.webodv.awi.de/) tool.    \n",
    "\n",
    "Change the variable:\n",
    "- varname\n",
    "- datadir\n",
    "- datafile\n",
    "in order to get this example working with your data.\n",
    "\n",
    "__Notes:__ this code is a simplification of the more complete code [`NCODV`](https://github.com/gher-ulg/DIVAnd.jl/blob/master/src/NCODV.jl) (written in Julia), which takes into account more complex situations. For instance here we don't read the quality flags."
   ]
  },
  {
   "cell_type": "code",
   "execution_count": 29,
   "metadata": {},
   "outputs": [
    {
     "name": "stderr",
     "output_type": "stream",
     "text": [
      "INFO:root:Start\n"
     ]
    }
   ],
   "source": [
    "import os\n",
    "import netCDF4\n",
    "import logging\n",
    "import numpy as np\n",
    "import matplotlib.pyplot as plt\n",
    "logger = logging.getLogger()\n",
    "logger.setLevel(logging.INFO)\n",
    "logging.info(\"Start\")"
   ]
  },
  {
   "cell_type": "code",
   "execution_count": 33,
   "metadata": {},
   "outputs": [
    {
     "name": "stderr",
     "output_type": "stream",
     "text": [
      "INFO:root:Working on 2303 stations\n",
      "INFO:root:Final size of the vectors: 23838\n"
     ]
    }
   ],
   "source": [
    "varname = \"Water body silicate\"\n",
    "datadir = \"/data/EMODnet/\"\n",
    "datafile = os.path.join(datadir, \"eutrophication_Mediterranean_Eutrophication_Med_profiles_2021_c5tIYftd.nc\")\n",
    "\n",
    "\n",
    "# Open the netCDF file\n",
    "with netCDF4.Dataset(datafile, \"r\") as nc:\n",
    "    \n",
    "    # Get the dimensions: number of stations and number of samples\n",
    "    nstations = int(nc.dimensions[\"N_STATIONS\"].size)\n",
    "    ndepths = int(nc.dimensions[\"N_SAMPLES\"].size)\n",
    "    logger.info(f\"Working on {nstations} stations\")\n",
    "    \n",
    "    # Allocate empty vectors before filling them\n",
    "    obslon = np.empty(nstations * ndepths)\n",
    "    obslat = np.empty(nstations * ndepths)\n",
    "    obsval = np.empty(nstations * ndepths)\n",
    "    obsdepth = np.empty(nstations * ndepths)\n",
    "    obstime = np.empty_like(obsdepth)\n",
    "    \n",
    "    # Read coordinates\n",
    "    obsproflon = nc.get_variables_by_attributes(standard_name=\"longitude\")[0][:]\n",
    "    obsproflat = nc.get_variables_by_attributes(standard_name=\"latitude\")[0][:]\n",
    "    obsproftime = nc.get_variables_by_attributes(standard_name=\"time\")[0][:]\n",
    "    ncvar_z = nc.get_variables_by_attributes(long_name=\"Depth\")[0][:]\n",
    "\n",
    "    try:\n",
    "        ncvar = nc.get_variables_by_attributes(long_name=varname)[0][:]\n",
    "    except IndexError:\n",
    "        logger.warning(f\"Cannot find a variable named {varname}\")\n",
    "    \n",
    "    # Loop on the stations \n",
    "    istart = 0\n",
    "    for ii in range(0, nstations):\n",
    "        \n",
    "        # Load the variable profile\n",
    "        profilevar = ncvar[ii,:]\n",
    "        \n",
    "        # Extract only the good values \n",
    "        # (i.e. those which are not masked)\n",
    "        goodvalues = np.where(profilevar.mask == False)[0]\n",
    "        \n",
    "        # Count number of good values\n",
    "        ngood = len(goodvalues)\n",
    "        \n",
    "        # Fill the vectors\n",
    "        iend = istart + ngood \n",
    "        obslon[istart:iend] = obsproflon[ii] * np.ones(ngood)\n",
    "        obslat[istart:iend] = obsproflat[ii] * np.ones(ngood)\n",
    "        obstime[istart:iend] = obsproftime[ii] * np.ones(ngood)\n",
    "        obsdepth[istart:iend] = ncvar_z[ii, goodvalues]\n",
    "        obsval[istart:iend] = ncvar[ii, goodvalues]\n",
    "        istart = iend\n",
    "        \n",
    "    # Take only the good part of the vectors\n",
    "    obslon = obslon[0:iend]\n",
    "    obslat = obslat[0:iend]\n",
    "    obstime = obstime[0:iend]\n",
    "    obsdepth = obsdepth[0:iend]\n",
    "    obsval = obsval[0:iend]\n",
    "    \n",
    "logger.info(f\"Final size of the vectors: {iend}\")"
   ]
  },
  {
   "cell_type": "markdown",
   "metadata": {},
   "source": [
    "## Plot to check the station positions"
   ]
  },
  {
   "cell_type": "code",
   "execution_count": 32,
   "metadata": {},
   "outputs": [
    {
     "data": {
      "image/png": "[encoded data removed]",
      "text/plain": [
       "<Figure size 864x576 with 1 Axes>"
      ]
     },
     "metadata": {
      "needs_background": "light"
     },
     "output_type": "display_data"
    }
   ],
   "source": [
    "fig = plt.figure(figsize=(12, 8))\n",
    "ax = plt.subplot(111)\n",
    "ax.plot(obslon, obslat, \"ko\")\n",
    "plt.show()"
   ]
  },
  {
   "cell_type": "code",
   "execution_count": null,
   "metadata": {},
   "outputs": [],
   "source": []
  }
 ],
 "metadata": {
  "@webio": {
   "lastCommId": null,
   "lastKernelId": null
  },
  "kernelspec": {
   "display_name": "EMODnet Physics",
   "language": "python",
   "name": "emodnetphys"
  },
  "language_info": {
   "codemirror_mode": {
    "name": "ipython",
    "version": 3
   },
   "file_extension": ".py",
   "mimetype": "text/x-python",
   "name": "python",
   "nbconvert_exporter": "python",
   "pygments_lexer": "ipython3",
   "version": "3.8.0"
  }
 },
 "nbformat": 4,
 "nbformat_minor": 4
}
