{
 "cells": [
  {
   "cell_type": "code",
   "execution_count": 1,
   "id": "conservative-explorer",
   "metadata": {},
   "outputs": [],
   "source": [
    "import os\n",
    "import glob\n",
    "import netCDF4\n",
    "import logging\n",
    "import numpy as np\n",
    "import cmocean\n",
    "import emodnetchemistry\n",
    "import matplotlib.pyplot as plt\n",
    "from mpl_toolkits.basemap import Basemap\n",
    "from matplotlib.patches import Polygon\n",
    "import calendar\n",
    "import warnings\n",
    "import matplotlib.cbook\n",
    "warnings.filterwarnings(\"ignore\",category=matplotlib.cbook.mplDeprecation)\n",
    "plt.rcParams.update({'font.size': 16})\n",
    "plt.rc('figure', facecolor='w')"
   ]
  },
  {
   "cell_type": "code",
   "execution_count": 21,
   "id": "satisfied-cherry",
   "metadata": {},
   "outputs": [],
   "source": [
    "figdir = \"../figures/WOA2018/\"\n",
    "woadataurl = \"https://www.ncei.noaa.gov/thredds-ocean/dodsC/ncei/woa/oxygen/all/1.00/woa18_all_o00_01.nc\"\n",
    "divafile = \"/data/EMODnet/Eutrophication/Products/Results-0.1/Water body dissolved oxygen concentration_background_test_it2000_800km.nc\"\n",
    "deltalon = 0.1\n",
    "deltalat = 0.1\n",
    "domain = [-45., 70., 24., 83.]\n",
    "longrid = np.arange(domain[0], domain[1] + .0001, deltalon)\n",
    "latgrid = np.arange(domain[2], domain[3] + .0001, deltalat)\n",
    "if not os.path.exists(figdir):\n",
    "    os.makedirs(figdir)"
   ]
  },
  {
   "cell_type": "code",
   "execution_count": 3,
   "id": "yellow-rescue",
   "metadata": {},
   "outputs": [],
   "source": [
    "def read_oxy_woa(datafile, domain, filetype=\"woa\"):\n",
    "    with netCDF4.Dataset(datafile, \"r\") as nc:\n",
    "        lon = nc.variables[\"lon\"][:]\n",
    "        lat = nc.variables[\"lat\"][:]\n",
    "        goodlon = np.where( (lon >= domain[0]) & (lon <= domain[1]))[0]\n",
    "        goodlat = np.where( (lat >= domain[2]) & (lat <= domain[3]))[0]\n",
    "        lon = lon[goodlon]\n",
    "        lat = lat[goodlat]\n",
    "        depth = nc.variables[\"depth\"][:]\n",
    "        \n",
    "        if filetype == \"woa\":\n",
    "            oxy = nc.variables[\"o_an\"][0,:,goodlat,goodlon]\n",
    "        elif filetype == \"diva\":\n",
    "            oxy = nc.variables[\"Water body dissolved oxygen concentration\"][:,goodlat,goodlon]\n",
    "        \n",
    "    return lon, lat, depth, oxy"
   ]
  },
  {
   "cell_type": "code",
   "execution_count": 4,
   "id": "threatened-literacy",
   "metadata": {},
   "outputs": [],
   "source": [
    "def plot_oxy_map(llon, llat, field, depth, figname=None):\n",
    "    fig = plt.figure(figsize=(10, 10))\n",
    "    ax = plt.subplot(111)\n",
    "    pcm = m.pcolormesh(llon, llat, field, latlon=True, vmin=200., vmax=375.)\n",
    "    cb = plt.colorbar(pcm, shrink=.6, extend=\"both\")\n",
    "    cb.set_label(r\"$\\mu$moles/kg\", rotation=0, ha=\"left\")\n",
    "    cb.set_ticks(np.arange(200., 376., 25))\n",
    "    m.drawmeridians(np.arange(-40., 60., 20.), zorder=2, labels=[0, 0, 0, 1], fontsize=14,  \n",
    "                    linewidth=.25)\n",
    "    m.drawparallels(np.arange(20., 80., 10.), zorder=2, labels=[1, 0, 0, 0], fontsize=14, \n",
    "                    linewidth=.25)\n",
    "    m.fillcontinents(color=\".85\", zorder=3)\n",
    "    m.drawcoastlines(linewidth=0.1, zorder=4)\n",
    "    plt.title(\"Oxygen concentration at {} m\".format(depth))\n",
    "    if figname is not None:\n",
    "        plt.savefig(figname, dpi=300, bbox_inches=\"tight\")\n",
    "    # plt.show()\n",
    "    plt.close()"
   ]
  },
  {
   "cell_type": "code",
   "execution_count": 24,
   "id": "applicable-healing",
   "metadata": {},
   "outputs": [],
   "source": [
    "m = Basemap(projection='merc', llcrnrlon=domain[0], llcrnrlat=domain[2],\n",
    "            urcrnrlon=domain[1], urcrnrlat=domain[3],\n",
    "            lat_ts=0.5 * (domain[2] + domain[3]), resolution='i')"
   ]
  },
  {
   "cell_type": "code",
   "execution_count": 25,
   "id": "crucial-engineering",
   "metadata": {},
   "outputs": [],
   "source": [
    "lon1, lat1, depth1, oxy1 = read_oxy_woa(woadataurl, domain, filetype='woa')\n",
    "lon2, lat2, depth2, oxy2 = read_oxy_woa(divafile, domain, filetype='diva')\n",
    "llon1, llat1 = np.meshgrid(lon1, lat1)\n",
    "llon2, llat2 = np.meshgrid(lon2, lat2)\n",
    "depth2plot = 0"
   ]
  },
  {
   "cell_type": "markdown",
   "id": "competitive-reggae",
   "metadata": {},
   "source": [
    "## Loop on the depths"
   ]
  },
  {
   "cell_type": "code",
   "execution_count": 37,
   "id": "considered-white",
   "metadata": {},
   "outputs": [],
   "source": [
    "def plot_WOA_DIVAnd_comparison(lon1, lat1, field1, lon2, lat2, field2, depth, figname=None,\n",
    "                              vmin=200., vmax=375.):\n",
    "\n",
    "    fig = plt.figure(figsize=(12, 10))\n",
    "    ax1 = plt.subplot(121)\n",
    "    pcm = m.pcolormesh(lon1, lat1, field1, latlon=True, vmin=vmin, vmax=vmax)\n",
    "    m.drawmeridians(np.arange(-40., 70., 20.), zorder=2, labels=[0, 0, 0, 1], fontsize=14,  \n",
    "                    linewidth=.25)\n",
    "    m.drawparallels(np.arange(20., 81., 10.), zorder=2, labels=[1, 0, 0, 0], fontsize=14, \n",
    "                    linewidth=.25)\n",
    "    m.fillcontinents(color=\".85\", zorder=3)\n",
    "    m.drawcoastlines(linewidth=0.1, zorder=4)\n",
    "    plt.title(\"World Ocean Atlas 2018 at {} m\".format(int(depth)))\n",
    "\n",
    "    ax2 = plt.subplot(122)\n",
    "    pcm = m.pcolormesh(lon2, lat2, field2, latlon=True, vmin=vmin, vmax=vmax)\n",
    "    m.drawmeridians(np.arange(-40., 70., 20.), zorder=2, labels=[0, 0, 0, 1], fontsize=14,  \n",
    "                    linewidth=.25)\n",
    "    m.drawparallels(np.arange(20., 81., 10.), zorder=2, labels=[1, 0, 0, 0], fontsize=14, \n",
    "                    linewidth=.25)\n",
    "    m.fillcontinents(color=\".85\", zorder=3)\n",
    "    m.drawcoastlines(linewidth=0.1, zorder=4)\n",
    "    plt.title(\"DIVAnd\")\n",
    "\n",
    "\n",
    "    cbar_ax = fig.add_axes([0.15, 0.15, 0.7, 0.05])\n",
    "    cb = plt.colorbar(pcm,  cax=cbar_ax, extend=\"both\", orientation=\"horizontal\")\n",
    "    cb.set_label(r\"$\\mu$moles/kg\", rotation=0, ha=\"left\")\n",
    "    cb.set_ticks(np.arange(200., 376., 25))\n",
    "    plt.savefig(figname, dpi=300, bbox_inches=\"tight\")\n",
    "    plt.close()"
   ]
  },
  {
   "cell_type": "code",
   "execution_count": 42,
   "id": "musical-imagination",
   "metadata": {},
   "outputs": [
    {
     "name": "stdout",
     "output_type": "stream",
     "text": [
      "Working on depth 0.0\n",
      "Working on depth 10.0\n",
      "Working on depth 20.0\n",
      "Working on depth 30.0\n",
      "Working on depth 50.0\n",
      "Working on depth 75.0\n",
      "Working on depth 100.0\n",
      "Working on depth 125.0\n",
      "Working on depth 150.0\n",
      "Working on depth 200.0\n",
      "Working on depth 250.0\n",
      "Working on depth 300.0\n",
      "Working on depth 400.0\n",
      "Working on depth 500.0\n",
      "Working on depth 600.0\n",
      "Working on depth 700.0\n",
      "Working on depth 800.0\n",
      "Working on depth 900.0\n",
      "Working on depth 1000.0\n",
      "Working on depth 1100.0\n",
      "Working on depth 1200.0\n",
      "Working on depth 1300.0\n",
      "Working on depth 1400.0\n",
      "Working on depth 1500.0\n",
      "Working on depth 1750.0\n",
      "Working on depth 2000.0\n",
      "Working on depth 2500.0\n",
      "Working on depth 3000.0\n",
      "Working on depth 3500.0\n",
      "Working on depth 4000.0\n",
      "Working on depth 4500.0\n",
      "Working on depth 5000.0\n",
      "Working on depth 5500.0\n"
     ]
    }
   ],
   "source": [
    "for index2, d2 in enumerate(depth2):\n",
    "    print(\"Working on depth {}\".format(d2))\n",
    "    index1 = np.where(depth1 == d2)[0][0]\n",
    "\n",
    "    \n",
    "    figname = os.path.join(figdir, \"oxygen_DIVAnd_WOA_year_{}.jpg\".format(str(int(d2)).zfill(4)))\n",
    "    plot_WOA_DIVAnd_comparison(llon1, llat1, oxy1[index1,:,:], \n",
    "                               llon2, llat2, oxy2[index2,:,:], \n",
    "                               d2, figname=figname)"
   ]
  },
  {
   "cell_type": "code",
   "execution_count": 38,
   "id": "hydraulic-beads",
   "metadata": {},
   "outputs": [],
   "source": [
    "depth = 0.0\n",
    "figname = os.path.join(figdir, \"oxygen_DIVAnd_WOA_year_{}.jpg\".format(str(int(depth)).zfill(4)))\n",
    "plot_WOA_DIVAnd_comparison(llon1, llat1, oxy1[0,:,:], llon2, llat2, oxy2[0,:,:], depth, figname=figname)"
   ]
  },
  {
   "cell_type": "code",
   "execution_count": null,
   "id": "requested-dylan",
   "metadata": {},
   "outputs": [],
   "source": []
  }
 ],
 "metadata": {
  "@webio": {
   "lastCommId": null,
   "lastKernelId": null
  },
  "kernelspec": {
   "display_name": "Filament",
   "language": "python",
   "name": "filament3.8"
  },
  "language_info": {
   "codemirror_mode": {
    "name": "ipython",
    "version": 3
   },
   "file_extension": ".py",
   "mimetype": "text/x-python",
   "name": "python",
   "nbconvert_exporter": "python",
   "pygments_lexer": "ipython3",
   "version": "3.8.0"
  }
 },
 "nbformat": 4,
 "nbformat_minor": 5
}
