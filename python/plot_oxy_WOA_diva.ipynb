{
 "cells": [
  {
   "cell_type": "code",
   "execution_count": 1,
   "id": "conservative-explorer",
   "metadata": {},
   "outputs": [],
   "source": [
    "import os\n",
    "import glob\n",
    "import netCDF4\n",
    "import logging\n",
    "import numpy as np\n",
    "import cmocean\n",
    "import emodnetchemistry\n",
    "import matplotlib.pyplot as plt\n",
    "from mpl_toolkits.basemap import Basemap\n",
    "from matplotlib.patches import Polygon\n",
    "import calendar\n",
    "import warnings\n",
    "import matplotlib.cbook\n",
    "warnings.filterwarnings(\"ignore\",category=matplotlib.cbook.mplDeprecation)\n",
    "plt.rcParams.update({'font.size': 16})\n",
    "plt.rc('figure', facecolor='w')"
   ]
  },
  {
   "cell_type": "code",
   "execution_count": 2,
   "id": "satisfied-cherry",
   "metadata": {},
   "outputs": [],
   "source": [
    "figdir = \"../figures/WOA2018/\"\n",
    "woadataurl = \"https://www.ncei.noaa.gov/thredds-ocean/dodsC/ncei/woa/oxygen/all/1.00/woa18_all_o00_01.nc\"\n",
    "divafile = \"/data/EMODnet/Eutrophication/Products/Results-0.1/Water body dissolved oxygen concentration_background_test_it200.nc\"\n",
    "deltalon = 0.1\n",
    "deltalat = 0.1\n",
    "domain = [-40., 55., 24., 67.]\n",
    "longrid = np.arange(domain[0], domain[1] + .0001, deltalon)\n",
    "latgrid = np.arange(domain[2], domain[3] + .0001, deltalat)\n",
    "if not os.path.exists(figdir):\n",
    "    os.makedirs(figdir)"
   ]
  },
  {
   "cell_type": "code",
   "execution_count": 3,
   "id": "yellow-rescue",
   "metadata": {},
   "outputs": [],
   "source": [
    "def read_oxy_woa(datafile, domain, filetype=\"woa\"):\n",
    "    with netCDF4.Dataset(datafile, \"r\") as nc:\n",
    "        lon = nc.variables[\"lon\"][:]\n",
    "        lat = nc.variables[\"lat\"][:]\n",
    "        goodlon = np.where( (lon >= domain[0]) & (lon <= domain[1]))[0]\n",
    "        goodlat = np.where( (lat >= domain[2]) & (lat <= domain[3]))[0]\n",
    "        lon = lon[goodlon]\n",
    "        lat = lat[goodlat]\n",
    "        depth = nc.variables[\"depth\"][:]\n",
    "        \n",
    "        if filetype == \"woa\":\n",
    "            oxy = nc.variables[\"o_an\"][0,:,goodlat,goodlon]\n",
    "        elif filetype == \"diva\":\n",
    "            oxy = nc.variables[\"Water body dissolved oxygen concentration\"][:,goodlat,goodlon]\n",
    "        \n",
    "    return lon, lat, depth, oxy"
   ]
  },
  {
   "cell_type": "code",
   "execution_count": null,
   "id": "threatened-literacy",
   "metadata": {},
   "outputs": [],
   "source": [
    "def plot_oxy_map(llon, llat, field, depth, figname=None):\n",
    "    fig = plt.figure(figsize=(10, 10))\n",
    "    ax = plt.subplot(111)\n",
    "    pcm = m.pcolormesh(llon, llat, field, latlon=True, vmin=200., vmax=375.)\n",
    "    cb = plt.colorbar(pcm, shrink=.6, extend=\"both\")\n",
    "    cb.set_label(r\"$\\mu$moles/kg\", rotation=0, ha=\"left\")\n",
    "    cb.set_ticks(np.arange(200., 376., 25))\n",
    "    m.drawmeridians(np.arange(-40., 60., 20.), zorder=2, labels=[0, 0, 0, 1], fontsize=14,  \n",
    "                    linewidth=.25)\n",
    "    m.drawparallels(np.arange(20., 80., 10.), zorder=2, labels=[1, 0, 0, 0], fontsize=14, \n",
    "                    linewidth=.25)\n",
    "    m.fillcontinents(color=\".85\", zorder=3)\n",
    "    m.drawcoastlines(linewidth=0.1, zorder=4)\n",
    "    plt.title(\"Oxygen concentration at {} m\".format(depth))\n",
    "    if figname is not None:\n",
    "        plt.savefig(figname, dpi=300, bbox_inches=\"tight\")\n",
    "    # plt.show()\n",
    "    plt.close()"
   ]
  },
  {
   "cell_type": "code",
   "execution_count": 5,
   "id": "applicable-healing",
   "metadata": {},
   "outputs": [],
   "source": [
    "m = Basemap(projection='merc', llcrnrlon=domain[0], llcrnrlat=domain[2],\n",
    "            urcrnrlon=domain[1], urcrnrlat=domain[3],\n",
    "            lat_ts=0.5 * (domain[2] + domain[3]), resolution='i')"
   ]
  },
  {
   "cell_type": "code",
   "execution_count": null,
   "id": "crucial-engineering",
   "metadata": {},
   "outputs": [],
   "source": [
    "lon1, lat1, depth1, oxy1 = read_oxy_woa(woadataurl, domain, filetype='woa')\n",
    "lon2, lat2, depth2, oxy2 = read_oxy_woa(divafile, domain, filetype='diva')\n",
    "llon1, llat1 = np.meshgrid(lon1, lat1)\n",
    "llon2, llat2 = np.meshgrid(lon2, lat2)\n",
    "depth2plot = 0"
   ]
  },
  {
   "cell_type": "code",
   "execution_count": null,
   "id": "baking-values",
   "metadata": {},
   "outputs": [],
   "source": [
    "plot_oxy_map(llon1, llat1, oxy1[0,:,:], depth2plot, os.path.join(figdir, \"oxygen_WOA_V10.jpg\"))\n",
    "plot_oxy_map(llon2, llat2, oxy2[0,:,:], depth2plot, os.path.join(figdir, \"oxygen_DIVAnd_V01.jpg\"))"
   ]
  },
  {
   "cell_type": "markdown",
   "id": "competitive-reggae",
   "metadata": {},
   "source": [
    "## Loop on the depths"
   ]
  },
  {
   "cell_type": "code",
   "execution_count": null,
   "id": "musical-imagination",
   "metadata": {},
   "outputs": [],
   "source": [
    "for ii, d1 in enumerate(depth1):\n",
    "    #print(\"Working on depth {}\".format(d2))\n",
    "    #index1 = np.where(depth1 == d2)[0][0]\n",
    "\n",
    "    \n",
    "    plot_oxy_map(llon1, llat1, oxy1[ii,:,:], str(d1), \n",
    "                 os.path.join(figdir, \"oxygen_WOA_year_{}.jpg\".format(str(int(d1)).zfill(4))))"
   ]
  },
  {
   "cell_type": "code",
   "execution_count": null,
   "id": "functioning-brazil",
   "metadata": {},
   "outputs": [],
   "source": []
  }
 ],
 "metadata": {
  "@webio": {
   "lastCommId": null,
   "lastKernelId": null
  },
  "kernelspec": {
   "display_name": "Filament",
   "language": "python",
   "name": "filament3.8"
  },
  "language_info": {
   "codemirror_mode": {
    "name": "ipython",
    "version": 3
   },
   "file_extension": ".py",
   "mimetype": "text/x-python",
   "name": "python",
   "nbconvert_exporter": "python",
   "pygments_lexer": "ipython3",
   "version": "3.8.0"
  }
 },
 "nbformat": 4,
 "nbformat_minor": 5
}
