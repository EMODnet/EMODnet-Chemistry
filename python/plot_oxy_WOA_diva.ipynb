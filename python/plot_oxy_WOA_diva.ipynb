{
 "cells": [
  {
   "cell_type": "code",
   "execution_count": 1,
   "id": "conservative-explorer",
   "metadata": {},
   "outputs": [],
   "source": [
    "import os\n",
    "import glob\n",
    "import netCDF4\n",
    "import logging\n",
    "import numpy as np\n",
    "import cmocean\n",
    "import emodnetchemistry\n",
    "import matplotlib.pyplot as plt\n",
    "from mpl_toolkits.basemap import Basemap\n",
    "from matplotlib.patches import Polygon\n",
    "import calendar\n",
    "import warnings\n",
    "import matplotlib.cbook\n",
    "warnings.filterwarnings(\"ignore\",category=matplotlib.cbook.mplDeprecation)\n",
    "plt.rcParams.update({'font.size': 16})\n",
    "plt.rc('figure', facecolor='w')"
   ]
  },
  {
   "cell_type": "markdown",
   "id": "split-surname",
   "metadata": {},
   "source": [
    "## Paths"
   ]
  },
  {
   "cell_type": "code",
   "execution_count": 4,
   "id": "standing-advice",
   "metadata": {},
   "outputs": [
    {
     "data": {
      "text/plain": [
       "True"
      ]
     },
     "execution_count": 4,
     "metadata": {},
     "output_type": "execute_result"
    }
   ],
   "source": [
    "figdir = \"/home/ctroupin/dox/EMODnet-Chemistry/WOA-DIVA/\"\n",
    "woadataurl = \"https://www.ncei.noaa.gov/thredds-ocean/dodsC/ncei/woa/oxygen/all/1.00/woa18_all_o00_01.nc\"\n",
    "divafile = \"/data/EMODnet/Eutrophication/Products/Results-0.1/Water body dissolved oxygen concentration_background_test_it2000_800km.nc\"\n",
    "divafile = \"/data/EMODnet/Eutrophication/Products/Water body dissolved oxygen concentration-res-0.1-epsilon2-1.0-lenx-800000.0-maxit-2000/Water body dissolved oxygen concentration_background.nc\"\n",
    "os.path.isfile(divafile) & os.path.isdir(figdir)"
   ]
  },
  {
   "cell_type": "markdown",
   "id": "detailed-secondary",
   "metadata": {},
   "source": [
    "## Grid parameters"
   ]
  },
  {
   "cell_type": "code",
   "execution_count": 5,
   "id": "satisfied-cherry",
   "metadata": {},
   "outputs": [],
   "source": [
    "deltalon = 0.1\n",
    "deltalat = 0.1\n",
    "domain = [-45., 70., 24., 83.]\n",
    "longrid = np.arange(domain[0], domain[1] + .0001, deltalon)\n",
    "latgrid = np.arange(domain[2], domain[3] + .0001, deltalat)\n",
    "if not os.path.exists(figdir):\n",
    "    os.makedirs(figdir)"
   ]
  },
  {
   "cell_type": "code",
   "execution_count": 24,
   "id": "yellow-rescue",
   "metadata": {},
   "outputs": [],
   "source": [
    "def read_oxy_woa(datafile, domain, filetype=\"woa\"):\n",
    "    with netCDF4.Dataset(datafile, \"r\") as nc:\n",
    "        lon = nc.variables[\"lon\"][:]\n",
    "        lat = nc.variables[\"lat\"][:]\n",
    "        goodlon = np.where( (lon >= domain[0]) & (lon <= domain[1]) )[0]\n",
    "        goodlat = np.where( (lat >= domain[2]) & (lat <= domain[3]) )[0]\n",
    "        print(goodlon, goodlat)\n",
    "        lon = lon[goodlon]\n",
    "        lat = lat[goodlat]\n",
    "        depth = nc.variables[\"depth\"][:]\n",
    "        \n",
    "        if filetype == \"woa\":\n",
    "            oxy = nc.variables[\"o_an\"][0,:,goodlat,goodlon]\n",
    "        elif filetype == \"diva\":\n",
    "            oxy = nc.variables[\"Water body dissolved oxygen concentration\"][0,:,goodlat,goodlon]\n",
    "        \n",
    "    return lon, lat, depth, oxy, goodlon, goodlat"
   ]
  },
  {
   "cell_type": "code",
   "execution_count": 13,
   "id": "threatened-literacy",
   "metadata": {},
   "outputs": [],
   "source": [
    "def plot_oxy_map(llon, llat, field, depth, figname=None):\n",
    "    fig = plt.figure(figsize=(10, 10))\n",
    "    ax = plt.subplot(111)\n",
    "    pcm = m.pcolormesh(llon, llat, field, latlon=True, vmin=200., vmax=375.)\n",
    "    cb = plt.colorbar(pcm, shrink=.6, extend=\"both\")\n",
    "    cb.set_label(r\"$\\mu$moles/kg\", rotation=0, ha=\"left\")\n",
    "    cb.set_ticks(np.arange(200., 376., 25))\n",
    "    m.drawmeridians(np.arange(-40., 60., 20.), zorder=2, labels=[0, 0, 0, 1], fontsize=14,  \n",
    "                    linewidth=.25)\n",
    "    m.drawparallels(np.arange(20., 80., 10.), zorder=2, labels=[1, 0, 0, 0], fontsize=14, \n",
    "                    linewidth=.25)\n",
    "    m.fillcontinents(color=\".85\", zorder=3)\n",
    "    m.drawcoastlines(linewidth=0.1, zorder=4)\n",
    "    plt.title(\"Oxygen concentration at {} m\".format(depth))\n",
    "    if figname is not None:\n",
    "        plt.savefig(figname, dpi=300, bbox_inches=\"tight\")\n",
    "    # plt.show()\n",
    "    plt.close()"
   ]
  },
  {
   "cell_type": "code",
   "execution_count": 14,
   "id": "applicable-healing",
   "metadata": {},
   "outputs": [],
   "source": [
    "m = Basemap(projection='merc', llcrnrlon=domain[0], llcrnrlat=domain[2],\n",
    "            urcrnrlon=domain[1], urcrnrlat=domain[3],\n",
    "            lat_ts=0.5 * (domain[2] + domain[3]), resolution='i')"
   ]
  },
  {
   "cell_type": "code",
   "execution_count": 25,
   "id": "crucial-engineering",
   "metadata": {},
   "outputs": [
    {
     "name": "stdout",
     "output_type": "stream",
     "text": [
      "[135 136 137 138 139 140 141 142 143 144 145 146 147 148 149 150 151 152\n",
      " 153 154 155 156 157 158 159 160 161 162 163 164 165 166 167 168 169 170\n",
      " 171 172 173 174 175 176 177 178 179 180 181 182 183 184 185 186 187 188\n",
      " 189 190 191 192 193 194 195 196 197 198 199 200 201 202 203 204 205 206\n",
      " 207 208 209 210 211 212 213 214 215 216 217 218 219 220 221 222 223 224\n",
      " 225 226 227 228 229 230 231 232 233 234 235 236 237 238 239 240 241 242\n",
      " 243 244 245 246 247 248 249] [114 115 116 117 118 119 120 121 122 123 124 125 126 127 128 129 130 131\n",
      " 132 133 134 135 136 137 138 139 140 141 142 143 144 145 146 147 148 149\n",
      " 150 151 152 153 154 155 156 157 158 159 160 161 162 163 164 165 166 167\n",
      " 168 169 170 171 172]\n",
      "[   0    1    2 ... 1148 1149 1150] [  0   1   2   3   4   5   6   7   8   9  10  11  12  13  14  15  16  17\n",
      "  18  19  20  21  22  23  24  25  26  27  28  29  30  31  32  33  34  35\n",
      "  36  37  38  39  40  41  42  43  44  45  46  47  48  49  50  51  52  53\n",
      "  54  55  56  57  58  59  60  61  62  63  64  65  66  67  68  69  70  71\n",
      "  72  73  74  75  76  77  78  79  80  81  82  83  84  85  86  87  88  89\n",
      "  90  91  92  93  94  95  96  97  98  99 100 101 102 103 104 105 106 107\n",
      " 108 109 110 111 112 113 114 115 116 117 118 119 120 121 122 123 124 125\n",
      " 126 127 128 129 130 131 132 133 134 135 136 137 138 139 140 141 142 143\n",
      " 144 145 146 147 148 149 150 151 152 153 154 155 156 157 158 159 160 161\n",
      " 162 163 164 165 166 167 168 169 170 171 172 173 174 175 176 177 178 179\n",
      " 180 181 182 183 184 185 186 187 188 189 190 191 192 193 194 195 196 197\n",
      " 198 199 200 201 202 203 204 205 206 207 208 209 210 211 212 213 214 215\n",
      " 216 217 218 219 220 221 222 223 224 225 226 227 228 229 230 231 232 233\n",
      " 234 235 236 237 238 239 240 241 242 243 244 245 246 247 248 249 250 251\n",
      " 252 253 254 255 256 257 258 259 260 261 262 263 264 265 266 267 268 269\n",
      " 270 271 272 273 274 275 276 277 278 279 280 281 282 283 284 285 286 287\n",
      " 288 289 290 291 292 293 294 295 296 297 298 299 300 301 302 303 304 305\n",
      " 306 307 308 309 310 311 312 313 314 315 316 317 318 319 320 321 322 323\n",
      " 324 325 326 327 328 329 330 331 332 333 334 335 336 337 338 339 340 341\n",
      " 342 343 344 345 346 347 348 349 350 351 352 353 354 355 356 357 358 359\n",
      " 360 361 362 363 364 365 366 367 368 369 370 371 372 373 374 375 376 377\n",
      " 378 379 380 381 382 383 384 385 386 387 388 389 390 391 392 393 394 395\n",
      " 396 397 398 399 400 401 402 403 404 405 406 407 408 409 410 411 412 413\n",
      " 414 415 416 417 418 419 420 421 422 423 424 425 426 427 428 429 430 431\n",
      " 432 433 434 435 436 437 438 439 440 441 442 443 444 445 446 447 448 449\n",
      " 450 451 452 453 454 455 456 457 458 459 460 461 462 463 464 465 466 467\n",
      " 468 469 470 471 472 473 474 475 476 477 478 479 480 481 482 483 484 485\n",
      " 486 487 488 489 490 491 492 493 494 495 496 497 498 499 500 501 502 503\n",
      " 504 505 506 507 508 509 510 511 512 513 514 515 516 517 518 519 520 521\n",
      " 522 523 524 525 526 527 528 529 530 531 532 533 534 535 536 537 538 539\n",
      " 540 541 542 543 544 545 546 547 548 549 550 551 552 553 554 555 556 557\n",
      " 558 559 560 561 562 563 564 565 566 567 568 569 570 571 572 573 574 575\n",
      " 576 577 578 579 580 581 582 583 584 585 586 587 588 589 590]\n"
     ]
    }
   ],
   "source": [
    "lon1, lat1, depth1, oxy1, glon1, glat1 = read_oxy_woa(woadataurl, domain, filetype='woa')\n",
    "lon2, lat2, depth2, oxy2, glon2, glat2 = read_oxy_woa(divafile, domain, filetype='diva')\n",
    "llon1, llat1 = np.meshgrid(lon1, lat1)\n",
    "llon2, llat2 = np.meshgrid(lon2, lat2)"
   ]
  },
  {
   "cell_type": "markdown",
   "id": "competitive-reggae",
   "metadata": {},
   "source": [
    "## Loop on the depths"
   ]
  },
  {
   "cell_type": "code",
   "execution_count": 10,
   "id": "alternate-prediction",
   "metadata": {},
   "outputs": [],
   "source": [
    "def plot_WOA_DIVAnd_comparison(lon1, lat1, field1, lon2, lat2, field2, depth, figname=None,\n",
    "                              vmin=200., vmax=375.):\n",
    "\n",
    "    fig = plt.figure(figsize=(12, 10))\n",
    "    ax1 = plt.subplot(121)\n",
    "    pcm = m.pcolormesh(lon1, lat1, field1, latlon=True, vmin=vmin, vmax=vmax)\n",
    "    m.drawmeridians(np.arange(-40., 70., 20.), zorder=2, labels=[0, 0, 0, 1], fontsize=14,  \n",
    "                    linewidth=.25)\n",
    "    m.drawparallels(np.arange(20., 81., 10.), zorder=2, labels=[1, 0, 0, 0], fontsize=14, \n",
    "                    linewidth=.25)\n",
    "    m.fillcontinents(color=\".85\", zorder=3)\n",
    "    m.drawcoastlines(linewidth=0.1, zorder=4)\n",
    "    plt.title(\"World Ocean Atlas 2018 at {} m\".format(int(depth)))\n",
    "\n",
    "    ax2 = plt.subplot(122)\n",
    "    pcm = m.pcolormesh(lon2, lat2, field2, latlon=True, vmin=vmin, vmax=vmax)\n",
    "    m.drawmeridians(np.arange(-40., 70., 20.), zorder=2, labels=[0, 0, 0, 1], fontsize=14,  \n",
    "                    linewidth=.25)\n",
    "    m.drawparallels(np.arange(20., 81., 10.), zorder=2, labels=[1, 0, 0, 0], fontsize=14, \n",
    "                    linewidth=.25)\n",
    "    m.fillcontinents(color=\".85\", zorder=3)\n",
    "    m.drawcoastlines(linewidth=0.1, zorder=4)\n",
    "    plt.title(\"DIVAnd\")\n",
    "\n",
    "\n",
    "    cbar_ax = fig.add_axes([0.15, 0.15, 0.7, 0.05])\n",
    "    cb = plt.colorbar(pcm,  cax=cbar_ax, extend=\"both\", orientation=\"horizontal\")\n",
    "    cb.set_label(r\"$\\mu$moles/kg\", rotation=0, ha=\"left\")\n",
    "    cb.set_ticks(np.arange(200., 376., 25))\n",
    "    plt.savefig(figname, dpi=300, bbox_inches=\"tight\")\n",
    "    plt.close()"
   ]
  },
  {
   "cell_type": "code",
   "execution_count": 28,
   "id": "musical-imagination",
   "metadata": {},
   "outputs": [
    {
     "name": "stdout",
     "output_type": "stream",
     "text": [
      "Working on depth 0.0\n"
     ]
    }
   ],
   "source": [
    "for index2, d2 in enumerate(depth2[0:1]):\n",
    "    print(\"Working on depth {}\".format(d2))\n",
    "    index1 = np.where(depth1 == d2)[0][0]\n",
    "\n",
    "    \n",
    "    figname = os.path.join(figdir, \"oxygen_DIVAnd_WOA_year_{}.jpg\".format(str(int(d2)).zfill(4)))\n",
    "    plot_WOA_DIVAnd_comparison(llon1, llat1, oxy1[index1,:,:], \n",
    "                               llon2, llat2, oxy2[index2,:,:], \n",
    "                               d2, figname=figname, vmin=200, vmax=400.)"
   ]
  },
  {
   "cell_type": "code",
   "execution_count": 38,
   "id": "characteristic-secondary",
   "metadata": {},
   "outputs": [],
   "source": [
    "depth = 0.0\n",
    "figname = os.path.join(figdir, \"oxygen_DIVAnd_WOA_year_{}.jpg\".format(str(int(depth)).zfill(4)))\n",
    "plot_WOA_DIVAnd_comparison(llon1, llat1, oxy1[0,:,:], llon2, llat2, oxy2[0,:,:], depth, figname=figname)"
   ]
  },
  {
   "cell_type": "code",
   "execution_count": 22,
   "id": "opponent-banana",
   "metadata": {},
   "outputs": [
    {
     "data": {
      "text/plain": [
       "(1, 102, 59, 115)"
      ]
     },
     "execution_count": 22,
     "metadata": {},
     "output_type": "execute_result"
    }
   ],
   "source": [
    "oxy1.shape"
   ]
  },
  {
   "cell_type": "code",
   "execution_count": 23,
   "id": "august-thailand",
   "metadata": {},
   "outputs": [
    {
     "data": {
      "text/plain": [
       "(1, 33, 591, 1151)"
      ]
     },
     "execution_count": 23,
     "metadata": {},
     "output_type": "execute_result"
    }
   ],
   "source": [
    "oxy2.shape"
   ]
  },
  {
   "cell_type": "code",
   "execution_count": null,
   "id": "whole-redhead",
   "metadata": {},
   "outputs": [],
   "source": []
  }
 ],
 "metadata": {
  "@webio": {
   "lastCommId": null,
   "lastKernelId": null
  },
  "kernelspec": {
   "display_name": "Filament",
   "language": "python",
   "name": "filament3.8"
  },
  "language_info": {
   "codemirror_mode": {
    "name": "ipython",
    "version": 3
   },
   "file_extension": ".py",
   "mimetype": "text/x-python",
   "name": "python",
   "nbconvert_exporter": "python",
   "pygments_lexer": "ipython3",
   "version": "3.8.0"
  }
 },
 "nbformat": 4,
 "nbformat_minor": 5
}
