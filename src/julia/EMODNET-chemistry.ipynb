{
 "cells": [
  {
   "cell_type": "markdown",
   "metadata": {
    "slideshow": {
     "slide_type": "slide"
    }
   },
   "source": [
    "# Working with EMODnet Chemistry products"
   ]
  },
  {
   "cell_type": "markdown",
   "metadata": {
    "slideshow": {
     "slide_type": "fragment"
    }
   },
   "source": [
    "This [Jupyter notebook](src/EMODNET-chemistry.ipynb) illustrates the use of an EMODnet Chemistry product using [OPeNDAP](https://www.opendap.org/). To run this example, it is necessary to install the following (free) software packages:\n",
    "\n",
    "* Julia available from https://julialang.org/downloads/. The code is tested with the version 1.0 of Julia.\n",
    "* Some Julia packages ([NCDatasets](https://github.com/Alexander-Barth/NCDatasets.jl), [PyPlot](https://github.com/JuliaPy/PyPlot.jl) and [IJulia](https://github.com/JuliaLang/IJulia.jl)), which can be installed with these commands once you started Julia:"
   ]
  },
  {
   "cell_type": "markdown",
   "metadata": {
    "slideshow": {
     "slide_type": "fragment"
    }
   },
   "source": [
    "```julia\n",
    "Pkg.add(\"NCDatasets.jl\")\n",
    "Pkg.add(\"PyPlot\")\n",
    "Pkg.add(\"IJulia\")\n",
    "```"
   ]
  },
  {
   "cell_type": "markdown",
   "metadata": {
    "slideshow": {
     "slide_type": "subslide"
    }
   },
   "source": [
    "The first step is to load some julia packages"
   ]
  },
  {
   "cell_type": "code",
   "execution_count": 35,
   "metadata": {
    "slideshow": {
     "slide_type": "fragment"
    }
   },
   "outputs": [],
   "source": [
    "using NCDatasets\n",
    "using PyPlot\n",
    "using PyCall"
   ]
  },
  {
   "cell_type": "markdown",
   "metadata": {
    "slideshow": {
     "slide_type": "fragment"
    }
   },
   "source": [
    "We define some helper functions to plot the datasets"
   ]
  },
  {
   "cell_type": "code",
   "execution_count": 36,
   "metadata": {
    "slideshow": {
     "slide_type": "fragment"
    }
   },
   "outputs": [
    {
     "data": {
      "text/plain": [
       "PyObject"
      ]
     },
     "execution_count": 36,
     "metadata": {},
     "output_type": "execute_result"
    }
   ],
   "source": [
    "using PyCall: PyObject\n",
    "PyObject(x::Adjoint) = PyObject(copy(x))\n",
    "function PyObject(a::Array{Union{T,Missing},N}) where {T,N}\n",
    "  numpy_ma = pyimport(\"numpy\")[\"ma\"]\n",
    "  pycall(numpy_ma[\"array\"], Any, coalesce.(a,zero(T)), mask=ismissing.(a))\n",
    "end"
   ]
  },
  {
   "cell_type": "markdown",
   "metadata": {
    "slideshow": {
     "slide_type": "subslide"
    }
   },
   "source": [
    "The command `Dataset` (from the package `NCDatasets`) allows one to open a OPeNDAP URL and shows all metadata."
   ]
  },
  {
   "cell_type": "code",
   "execution_count": 37,
   "metadata": {},
   "outputs": [
    {
     "data": {
      "text/plain": [
       "\u001b[31mDataset: http://ec.oceanbrowser.net:8081/data/emodnet-domains/Baltic%20Sea/Autumn%20(September-November)%20-%206-years%20running%20averages/Water_body_phosphate.4Danl.nc\u001b[39m\n",
       "Group: /\n",
       "\n",
       "\u001b[31mDimensions\u001b[39m\n",
       "   depth = 21\n",
       "   idlen = 46\n",
       "   lat = 130\n",
       "   lon = 216\n",
       "   maxStrlen64 = 64\n",
       "   nv = 2\n",
       "   observations = 459636\n",
       "   time = 32\n",
       "\n",
       "\u001b[31mVariables\u001b[39m\n",
       "\u001b[32m  lon\u001b[39m   (216)\n",
       "    Datatype:    Float32\n",
       "    Dimensions:  lon\n",
       "    Attributes:\n",
       "     units                = \u001b[34mdegrees_east\u001b[39m\n",
       "\n",
       "\u001b[32m  lat\u001b[39m   (130)\n",
       "    Datatype:    Float32\n",
       "    Dimensions:  lat\n",
       "    Attributes:\n",
       "     units                = \u001b[34mdegrees_north\u001b[39m\n",
       "\n",
       "\u001b[32m  depth\u001b[39m   (21)\n",
       "    Datatype:    Float32\n",
       "    Dimensions:  depth\n",
       "    Attributes:\n",
       "     positive             = \u001b[34mdown\u001b[39m\n",
       "     units                = \u001b[34mmeters\u001b[39m\n",
       "\n",
       "\u001b[32m  time\u001b[39m   (32)\n",
       "    Datatype:    Float32\n",
       "    Dimensions:  time\n",
       "    Attributes:\n",
       "     climatology          = \u001b[34mclimatology_bounds\u001b[39m\n",
       "     units                = \u001b[34mDays since 1980-01-01\u001b[39m\n",
       "\n",
       "\u001b[32m  nv\u001b[39m   (2)\n",
       "    Datatype:    Int32\n",
       "    Dimensions:  nv\n",
       "\n",
       "\u001b[32m  observations\u001b[39m   (459636)\n",
       "    Datatype:    Int32\n",
       "    Dimensions:  observations\n",
       "\n",
       "\u001b[32m  idlen\u001b[39m   (46)\n",
       "    Datatype:    Int32\n",
       "    Dimensions:  idlen\n",
       "\n",
       "\u001b[32m  climatology_bounds\u001b[39m   (2 × 32)\n",
       "    Datatype:    Float32\n",
       "    Dimensions:  nv × time\n",
       "    Attributes:\n",
       "     climatology_bounds   = \u001b[34mFloat32[244.0, 2161.0, 609.0, 2526.0, 974.0, 2891.0, 1339.0, 3257.0, 1705.0, 3622.0, 2070.0, 3987.0, 2435.0, 4352.0, 2800.0, 4718.0, 3166.0, 5083.0, 3531.0, 5448.0, 3896.0, 5813.0, 4261.0, 6179.0, 4627.0, 6544.0, 4992.0, 6909.0, 5357.0, 7274.0, 5722.0, 7640.0, 6088.0, 8005.0, 6453.0, 8370.0, 6818.0, 8735.0, 7183.0, 9101.0, 7549.0, 9466.0, 7914.0, 9831.0, 8279.0, 10196.0, 8644.0, 10562.0, 9010.0, 10927.0, 9375.0, 11292.0, 9740.0, 11657.0, 10105.0, 12023.0, 10471.0, 12388.0, 10836.0, 12753.0, 11201.0, 13118.0, 11566.0, 13484.0]\u001b[39m\n",
       "\n",
       "\u001b[32m  CORRLEN\u001b[39m   (21 × 32)\n",
       "    Datatype:    Float32\n",
       "    Dimensions:  depth × time\n",
       "    Attributes:\n",
       "     long_name            = \u001b[34mCorrelation Length\u001b[39m\n",
       "     units                = \u001b[34mdegrees_north\u001b[39m\n",
       "\n",
       "\u001b[32m  SNR\u001b[39m   (21 × 32)\n",
       "    Datatype:    Float32\n",
       "    Dimensions:  depth × time\n",
       "    Attributes:\n",
       "     long_name            = \u001b[34mSignal to Noise\u001b[39m\n",
       "\n",
       "\u001b[32m  VARBACK\u001b[39m   (21 × 32)\n",
       "    Datatype:    Float32\n",
       "    Dimensions:  depth × time\n",
       "    Attributes:\n",
       "     long_name            = \u001b[34mBackground Field Variance\u001b[39m\n",
       "     units                = \u001b[34mumol/l^2\u001b[39m\n",
       "\n",
       "\u001b[32m  Water_body_phosphate\u001b[39m   (216 × 130 × 21 × 32)\n",
       "    Datatype:    Float32\n",
       "    Dimensions:  lon × lat × depth × time\n",
       "    Attributes:\n",
       "     _FillValue           = \u001b[34m99.0\u001b[39m\n",
       "     cell_methods         = \u001b[34mtime: mean (this month data from all years)\u001b[39m\n",
       "     long_name            = \u001b[34mWater_body_phosphate\u001b[39m\n",
       "     missing_value        = \u001b[34m99.0\u001b[39m\n",
       "     standard_name        = \u001b[34mmass_concentration_of_phosphate_in_sea_water\u001b[39m\n",
       "     units                = \u001b[34mumol/l\u001b[39m\n",
       "     valid_max            = \u001b[34m22.0\u001b[39m\n",
       "     valid_min            = \u001b[34m0.0\u001b[39m\n",
       "\n",
       "\u001b[32m  Water_body_phosphate_err\u001b[39m   (216 × 130 × 21 × 32)\n",
       "    Datatype:    Float32\n",
       "    Dimensions:  lon × lat × depth × time\n",
       "    Attributes:\n",
       "     _FillValue           = \u001b[34m99.0\u001b[39m\n",
       "     long_name            = \u001b[34mError standard deviation of Water_body_phosphate\u001b[39m\n",
       "     missing_value        = \u001b[34m99.0\u001b[39m\n",
       "     standard_name        = \u001b[34mmass_concentration_of_phosphate_in_sea_water\u001b[39m\n",
       "     units                = \u001b[34mumol/l\u001b[39m\n",
       "     valid_max            = \u001b[34m1.0\u001b[39m\n",
       "     valid_min            = \u001b[34m0.0\u001b[39m\n",
       "\n",
       "\u001b[32m  Water_body_phosphate_L1\u001b[39m   (216 × 130 × 21 × 32)\n",
       "    Datatype:    Float32\n",
       "    Dimensions:  lon × lat × depth × time\n",
       "    Attributes:\n",
       "     _FillValue           = \u001b[34m99.0\u001b[39m\n",
       "     long_name            = \u001b[34mWater_body_phosphate masked using relative error threshold 0.3\u001b[39m\n",
       "     missing_value        = \u001b[34m99.0\u001b[39m\n",
       "     standard_name        = \u001b[34mmass_concentration_of_phosphate_in_sea_water\u001b[39m\n",
       "     units                = \u001b[34mumol/l\u001b[39m\n",
       "     valid_max            = \u001b[34m22.0\u001b[39m\n",
       "     valid_min            = \u001b[34m0.0\u001b[39m\n",
       "\n",
       "\u001b[32m  Water_body_phosphate_L2\u001b[39m   (216 × 130 × 21 × 32)\n",
       "    Datatype:    Float32\n",
       "    Dimensions:  lon × lat × depth × time\n",
       "    Attributes:\n",
       "     _FillValue           = \u001b[34m99.0\u001b[39m\n",
       "     long_name            = \u001b[34mWater_body_phosphate masked using relative error threshold 0.5\u001b[39m\n",
       "     missing_value        = \u001b[34m99.0\u001b[39m\n",
       "     standard_name        = \u001b[34mmass_concentration_of_phosphate_in_sea_water\u001b[39m\n",
       "     units                = \u001b[34mumol/l\u001b[39m\n",
       "     valid_max            = \u001b[34m22.0\u001b[39m\n",
       "     valid_min            = \u001b[34m0.0\u001b[39m\n",
       "\n",
       "\u001b[32m  Water_body_phosphate_relerr\u001b[39m   (216 × 130 × 21 × 32)\n",
       "    Datatype:    Float32\n",
       "    Dimensions:  lon × lat × depth × time\n",
       "    Attributes:\n",
       "     _FillValue           = \u001b[34m99.0\u001b[39m\n",
       "     long_name            = \u001b[34mRelative error of Water_body_phosphate\u001b[39m\n",
       "     missing_value        = \u001b[34m99.0\u001b[39m\n",
       "     valid_max            = \u001b[34m1.0\u001b[39m\n",
       "     valid_min            = \u001b[34m0.0\u001b[39m\n",
       "\n",
       "\u001b[32m  databins\u001b[39m   (216 × 130 × 21 × 32)\n",
       "    Datatype:    Float32\n",
       "    Dimensions:  lon × lat × depth × time\n",
       "    Attributes:\n",
       "     _FillValue           = \u001b[34m99.0\u001b[39m\n",
       "     long_name            = \u001b[34mLogarithm10 of number of data in bins\u001b[39m\n",
       "     missing_value        = \u001b[34m99.0\u001b[39m\n",
       "     valid_max            = \u001b[34m99.0\u001b[39m\n",
       "     valid_min            = \u001b[34m0.0\u001b[39m\n",
       "\n",
       "\u001b[32m  outlbins\u001b[39m   (216 × 130 × 21 × 32)\n",
       "    Datatype:    Float32\n",
       "    Dimensions:  lon × lat × depth × time\n",
       "    Attributes:\n",
       "     _FillValue           = \u001b[34m99.0\u001b[39m\n",
       "     long_name            = \u001b[34mLogarithm10 of number of outliers data in bins\u001b[39m\n",
       "     missing_value        = \u001b[34m99.0\u001b[39m\n",
       "     valid_max            = \u001b[34m99.0\u001b[39m\n",
       "     valid_min            = \u001b[34m0.0\u001b[39m\n",
       "\n",
       "\u001b[32m  CLfield\u001b[39m   (216 × 130 × 21 × 32)\n",
       "    Datatype:    Float32\n",
       "    Dimensions:  lon × lat × depth × time\n",
       "    Attributes:\n",
       "     _FillValue           = \u001b[34m99.0\u001b[39m\n",
       "     long_name            = \u001b[34mCorrelation length field\u001b[39m\n",
       "     missing_value        = \u001b[34m99.0\u001b[39m\n",
       "     valid_max            = \u001b[34m0.7\u001b[39m\n",
       "     valid_min            = \u001b[34m0.0\u001b[39m\n",
       "\n",
       "\u001b[32m  Water_body_phosphate_deepest\u001b[39m   (216 × 130 × 32)\n",
       "    Datatype:    Float32\n",
       "    Dimensions:  lon × lat × time\n",
       "    Attributes:\n",
       "     _FillValue           = \u001b[34m99.0\u001b[39m\n",
       "     long_name            = \u001b[34mDeepest values of Water_body_phosphate\u001b[39m\n",
       "     missing_value        = \u001b[34m99.0\u001b[39m\n",
       "     standard_name        = \u001b[34mmass_concentration_of_phosphate_in_sea_water\u001b[39m\n",
       "     units                = \u001b[34mumol/l\u001b[39m\n",
       "     valid_max            = \u001b[34m22.0\u001b[39m\n",
       "     valid_min            = \u001b[34m0.0\u001b[39m\n",
       "\n",
       "\u001b[32m  Water_body_phosphate_deepest_L1\u001b[39m   (216 × 130 × 32)\n",
       "    Datatype:    Float32\n",
       "    Dimensions:  lon × lat × time\n",
       "    Attributes:\n",
       "     _FillValue           = \u001b[34m99.0\u001b[39m\n",
       "     long_name            = \u001b[34mDeepest values of Water_body_phosphate masked using relative error threshold 0.3\u001b[39m\n",
       "     missing_value        = \u001b[34m99.0\u001b[39m\n",
       "     standard_name        = \u001b[34mmass_concentration_of_phosphate_in_sea_water\u001b[39m\n",
       "     units                = \u001b[34mumol/l\u001b[39m\n",
       "     valid_max            = \u001b[34m22.0\u001b[39m\n",
       "     valid_min            = \u001b[34m0.0\u001b[39m\n",
       "\n",
       "\u001b[32m  Water_body_phosphate_deepest_L2\u001b[39m   (216 × 130 × 32)\n",
       "    Datatype:    Float32\n",
       "    Dimensions:  lon × lat × time\n",
       "    Attributes:\n",
       "     _FillValue           = \u001b[34m99.0\u001b[39m\n",
       "     long_name            = \u001b[34mDeepest values of Water_body_phosphate masked using relative error threshold 0.5\u001b[39m\n",
       "     missing_value        = \u001b[34m99.0\u001b[39m\n",
       "     standard_name        = \u001b[34mmass_concentration_of_phosphate_in_sea_water\u001b[39m\n",
       "     units                = \u001b[34mumol/l\u001b[39m\n",
       "     valid_max            = \u001b[34m22.0\u001b[39m\n",
       "     valid_min            = \u001b[34m0.0\u001b[39m\n",
       "\n",
       "\u001b[32m  obsid\u001b[39m   (64 × 46 × 459636)\n",
       "    Datatype:    Char\n",
       "    Dimensions:  maxStrlen64 × idlen × observations\n",
       "    Attributes:\n",
       "     coordinates          = \u001b[34mobstime obsdepth obslat obslon\u001b[39m\n",
       "     long_name            = \u001b[34mobservation identifier\u001b[39m\n",
       "\n",
       "\u001b[32m  obslon\u001b[39m   (459636)\n",
       "    Datatype:    Float64\n",
       "    Dimensions:  observations\n",
       "    Attributes:\n",
       "     units                = \u001b[34mdegrees_east\u001b[39m\n",
       "\n",
       "\u001b[32m  obslat\u001b[39m   (459636)\n",
       "    Datatype:    Float64\n",
       "    Dimensions:  observations\n",
       "    Attributes:\n",
       "     units                = \u001b[34mdegrees_north\u001b[39m\n",
       "\n",
       "\u001b[32m  obsdepth\u001b[39m   (459636)\n",
       "    Datatype:    Float64\n",
       "    Dimensions:  observations\n",
       "    Attributes:\n",
       "     positive             = \u001b[34mdown\u001b[39m\n",
       "     units                = \u001b[34mmeters\u001b[39m\n",
       "\n",
       "\u001b[32m  obstime\u001b[39m   (459636)\n",
       "    Datatype:    Float64\n",
       "    Dimensions:  observations\n",
       "    Attributes:\n",
       "     units                = \u001b[34mdays since 1900-01-01 00:00:00\u001b[39m\n",
       "\n",
       "\u001b[31mGlobal attributes\u001b[39m\n",
       "  comment              = \u001b[34mNo comment\u001b[39m\n",
       "  parameter_keywords   = \u001b[34mWater body phosphate\u001b[39m\n",
       "  file_name            = \u001b[34m./output/3Danalysis/cut_files/0911/Water_body_phosphate.4Danl.nc\u001b[39m\n",
       "  product_version      = \u001b[34m1.1\u001b[39m\n",
       "  institution_edmo_code = \u001b[34m545\u001b[39m\n",
       "  title                = \u001b[34mDIVA 4D analysis of Water_body_phosphate\u001b[39m\n",
       "  source               = \u001b[34mdata_from various sources\u001b[39m\n",
       "  production           = \u001b[34mDiva group. E-mails : shark@smhi.se\u001b[39m\n",
       "  area_keywords        = \u001b[34mBaltic Sea|Central Baltic Sea|Gulf of Bothnia|Gulf of Finland|Sound Sea|Gulf of Riga\u001b[39m\n",
       "  preview              = \u001b[34mhttp://ec.oceanbrowser.net/emodnet/Python/web/wms?service=WMS&request=GetMap&version=1.3.0&crs=CRS%3A84&bbox=9.4%2C53.0%2C30.9%2C65.9&decorated=true&format=image%2Fpng&layers=Baltic%20Sea%2FAutumn%20%28September-November%29%20-%206-years%20running%20averages%2FWater_body_phosphate.4Danl.nc%2AWater_body_phosphate_L1&styles=vmin%3A0.010474468%2Bvmax%3A0.7051268&transparent=true&height=500&width=800&basemap=shadedrelief&time=1992\u001b[39m\n",
       "  DIVA_code_doi        = \u001b[34m10.5281/zenodo.592476\u001b[39m\n",
       "  DIVA_references      = \u001b[34mTroupin, C.; Sirjacobs, D.; Rixen, M.; Brasseur, P.; Brankart, J.-M.;Barth, A.;Alvera-Azcarate, A.; Capet, A.; Ouberdous, M.; Lenartz, F.; Toussaint, M.-E. & Beckers, J.-M. (2012)Generation of analysis and consistent error fields using the Data Interpolating Variational Analysis (Diva).Ocean Modelling, 52-53: 90-101. doi:10.1016/j.ocemod.2012.05.002\u001b[39m\n",
       "\u001b[34mBeckers, J.-M.; Barth, A.; Troupin, C. & Alvera-Azcarate, A.Some approximate and efficient methods to assess error fields in spatial gridding with DIVA(Data Interpolating Variational Analysis) (2014).Journal of Atmospheric and Oceanic Technology, 31: 515-530.doi:10.1175/JTECH-D-13-00130.1\u001b[39m\n",
       "  date                 = \u001b[34m2018-09-02 12:21:47.00\u001b[39m\n",
       "  institution          = \u001b[34mSwedish Meteorological and Hydrological Institute\u001b[39m\n",
       "  WEB_visualisation    = \u001b[34mhttp://ec.oceanbrowser.net/emodnet/\u001b[39m\n",
       "  data_access          = \u001b[34mOPeNDAP: http://ec.oceanbrowser.net:8081/data/emodnet-domains/\u001b[39m\n",
       "  doi                  = \u001b[34m10.6092/e5bfc6fd-f287-4e1d-81ae-6af0ea3f1eef\u001b[39m\n",
       "  product_id           = \u001b[34mf64f4e30-c243-11e8-8625-5ce0c5469bc7\u001b[39m\n",
       "  Author_e-mail        = \u001b[34mshark@smhi.se\u001b[39m\n",
       "  Conventions          = \u001b[34mCF-1.0\u001b[39m\n",
       "  project              = \u001b[34mEMODnet Chemistry: http://www.emodnet-chemistry.eu/\u001b[39m\n",
       "  DIVA_source          = \u001b[34mhttps://github.com/gher-ulg/DIVA\u001b[39m\n",
       "  search_keywords      = \u001b[34mPhosphate concentration parameters in the water column\u001b[39m\n",
       "  history              = \u001b[34mThu Oct  4 15:40:10 2018: ncatted -a product_id,global,o,c,f64f4e30-c243-11e8-8625-5ce0c5469bc7 /production/apache/data/emodnet-test-charles/Baltic Sea/Autumn (September-November) - 6-years running averages/Water_body_phosphate.4Danl.nc\u001b[39m\n"
      ]
     },
     "execution_count": 37,
     "metadata": {},
     "output_type": "execute_result"
    }
   ],
   "source": [
    "Phnc = Dataset(\"http://ec.oceanbrowser.net:8081/data/emodnet-domains/Baltic%20Sea/Autumn%20(September-November)%20-%206-years%20running%20averages/Water_body_phosphate.4Danl.nc\")"
   ]
  },
  {
   "cell_type": "markdown",
   "metadata": {
    "collapsed": true,
    "jupyter": {
     "outputs_hidden": true
    },
    "slideshow": {
     "slide_type": "subslide"
    }
   },
   "source": [
    "From the Dataset `Phnc` we load the variables \"lon\", \"lat\" and \"time\". The final `[:]` means that we load all the elements of a variable."
   ]
  },
  {
   "cell_type": "code",
   "execution_count": 38,
   "metadata": {
    "slideshow": {
     "slide_type": "fragment"
    }
   },
   "outputs": [],
   "source": [
    "Phlon = Phnc[\"lon\"][:];\n",
    "Phlat = Phnc[\"lat\"][:];\n",
    "Phtime = Phnc[\"time\"][:];"
   ]
  },
  {
   "cell_type": "markdown",
   "metadata": {
    "slideshow": {
     "slide_type": "subslide"
    }
   },
   "source": [
    "While `Phlon` and `Phlat` are just a list of numbers, `Phtime` is a list of `DateTime` objects. The year and month (for example) can be extracted with the functions `Dates.year` and `Dates.month`:"
   ]
  },
  {
   "cell_type": "code",
   "execution_count": 39,
   "metadata": {
    "slideshow": {
     "slide_type": "fragment"
    }
   },
   "outputs": [
    {
     "data": {
      "text/plain": [
       "1983"
      ]
     },
     "execution_count": 39,
     "metadata": {},
     "output_type": "execute_result"
    }
   ],
   "source": [
    "Dates.year(Phtime[1])"
   ]
  },
  {
   "cell_type": "code",
   "execution_count": 40,
   "metadata": {
    "slideshow": {
     "slide_type": "fragment"
    }
   },
   "outputs": [
    {
     "data": {
      "text/plain": [
       "10"
      ]
     },
     "execution_count": 40,
     "metadata": {},
     "output_type": "execute_result"
    }
   ],
   "source": [
    "Dates.month(Phtime[1])"
   ]
  },
  {
   "cell_type": "markdown",
   "metadata": {
    "slideshow": {
     "slide_type": "slide"
    }
   },
   "source": [
    "## Making plots\n",
    "\n",
    "Let's plot the surface phosphate concentration for the year 2000.\n",
    "\n",
    "We need to determine the index of the year 2000:"
   ]
  },
  {
   "cell_type": "code",
   "execution_count": 41,
   "metadata": {
    "slideshow": {
     "slide_type": "fragment"
    }
   },
   "outputs": [
    {
     "data": {
      "text/plain": [
       "18"
      ]
     },
     "execution_count": 41,
     "metadata": {},
     "output_type": "execute_result"
    }
   ],
   "source": [
    "n = findfirst(Dates.year.(Phtime) .== 2000)"
   ]
  },
  {
   "cell_type": "markdown",
   "metadata": {
    "slideshow": {
     "slide_type": "fragment"
    }
   },
   "source": [
    "Load the corresponding data:"
   ]
  },
  {
   "cell_type": "code",
   "execution_count": 42,
   "metadata": {
    "slideshow": {
     "slide_type": "fragment"
    }
   },
   "outputs": [],
   "source": [
    "phosphate = Phnc[\"Water_body_phosphate\"][:,:,end,n];"
   ]
  },
  {
   "cell_type": "markdown",
   "metadata": {
    "collapsed": true,
    "jupyter": {
     "outputs_hidden": true
    },
    "slideshow": {
     "slide_type": "subslide"
    }
   },
   "source": [
    "Make the plot"
   ]
  },
  {
   "cell_type": "code",
   "execution_count": 43,
   "metadata": {
    "slideshow": {
     "slide_type": "fragment"
    }
   },
   "outputs": [
    {
     "data": {
      "image/png": "[encoded data removed]",
      "text/plain": [
       "Figure(PyObject <Figure size 640x480 with 2 Axes>)"
      ]
     },
     "metadata": {},
     "output_type": "display_data"
    }
   ],
   "source": [
    "pcolor(Phlon,Phlat,phosphate');colorbar(); clim(0,2)"
   ]
  },
  {
   "cell_type": "code",
   "execution_count": 44,
   "metadata": {
    "slideshow": {
     "slide_type": "subslide"
    }
   },
   "outputs": [
    {
     "data": {
      "text/plain": [
       "\u001b[31mDataset: http://ec.oceanbrowser.net:8081/data/emodnet-domains/Baltic%20Sea/Autumn%20(September-November)%20-%206-years%20running%20averages/Water_body_silicate.4Danl.nc\u001b[39m\n",
       "Group: /\n",
       "\n",
       "\u001b[31mDimensions\u001b[39m\n",
       "   depth = 21\n",
       "   idlen = 46\n",
       "   lat = 130\n",
       "   lon = 216\n",
       "   maxStrlen64 = 64\n",
       "   nv = 2\n",
       "   observations = 399453\n",
       "   time = 32\n",
       "\n",
       "\u001b[31mVariables\u001b[39m\n",
       "\u001b[32m  lon\u001b[39m   (216)\n",
       "    Datatype:    Float32\n",
       "    Dimensions:  lon\n",
       "    Attributes:\n",
       "     units                = \u001b[34mdegrees_east\u001b[39m\n",
       "\n",
       "\u001b[32m  lat\u001b[39m   (130)\n",
       "    Datatype:    Float32\n",
       "    Dimensions:  lat\n",
       "    Attributes:\n",
       "     units                = \u001b[34mdegrees_north\u001b[39m\n",
       "\n",
       "\u001b[32m  depth\u001b[39m   (21)\n",
       "    Datatype:    Float32\n",
       "    Dimensions:  depth\n",
       "    Attributes:\n",
       "     positive             = \u001b[34mdown\u001b[39m\n",
       "     units                = \u001b[34mmeters\u001b[39m\n",
       "\n",
       "\u001b[32m  time\u001b[39m   (32)\n",
       "    Datatype:    Float32\n",
       "    Dimensions:  time\n",
       "    Attributes:\n",
       "     climatology          = \u001b[34mclimatology_bounds\u001b[39m\n",
       "     units                = \u001b[34mDays since 1980-01-01\u001b[39m\n",
       "\n",
       "\u001b[32m  nv\u001b[39m   (2)\n",
       "    Datatype:    Int32\n",
       "    Dimensions:  nv\n",
       "\n",
       "\u001b[32m  observations\u001b[39m   (399453)\n",
       "    Datatype:    Int32\n",
       "    Dimensions:  observations\n",
       "\n",
       "\u001b[32m  idlen\u001b[39m   (46)\n",
       "    Datatype:    Int32\n",
       "    Dimensions:  idlen\n",
       "\n",
       "\u001b[32m  climatology_bounds\u001b[39m   (2 × 32)\n",
       "    Datatype:    Float32\n",
       "    Dimensions:  nv × time\n",
       "    Attributes:\n",
       "     climatology_bounds   = \u001b[34mFloat32[244.0, 2161.0, 609.0, 2526.0, 974.0, 2891.0, 1339.0, 3257.0, 1705.0, 3622.0, 2070.0, 3987.0, 2435.0, 4352.0, 2800.0, 4718.0, 3166.0, 5083.0, 3531.0, 5448.0, 3896.0, 5813.0, 4261.0, 6179.0, 4627.0, 6544.0, 4992.0, 6909.0, 5357.0, 7274.0, 5722.0, 7640.0, 6088.0, 8005.0, 6453.0, 8370.0, 6818.0, 8735.0, 7183.0, 9101.0, 7549.0, 9466.0, 7914.0, 9831.0, 8279.0, 10196.0, 8644.0, 10562.0, 9010.0, 10927.0, 9375.0, 11292.0, 9740.0, 11657.0, 10105.0, 12023.0, 10471.0, 12388.0, 10836.0, 12753.0, 11201.0, 13118.0, 11566.0, 13484.0]\u001b[39m\n",
       "\n",
       "\u001b[32m  CORRLEN\u001b[39m   (21 × 32)\n",
       "    Datatype:    Float32\n",
       "    Dimensions:  depth × time\n",
       "    Attributes:\n",
       "     long_name            = \u001b[34mCorrelation Length\u001b[39m\n",
       "     units                = \u001b[34mdegrees_north\u001b[39m\n",
       "\n",
       "\u001b[32m  SNR\u001b[39m   (21 × 32)\n",
       "    Datatype:    Float32\n",
       "    Dimensions:  depth × time\n",
       "    Attributes:\n",
       "     long_name            = \u001b[34mSignal to Noise\u001b[39m\n",
       "\n",
       "\u001b[32m  VARBACK\u001b[39m   (21 × 32)\n",
       "    Datatype:    Float32\n",
       "    Dimensions:  depth × time\n",
       "    Attributes:\n",
       "     long_name            = \u001b[34mBackground Field Variance\u001b[39m\n",
       "     units                = \u001b[34mumol/l^2\u001b[39m\n",
       "\n",
       "\u001b[32m  Water_body_silicate\u001b[39m   (216 × 130 × 21 × 32)\n",
       "    Datatype:    Float32\n",
       "    Dimensions:  lon × lat × depth × time\n",
       "    Attributes:\n",
       "     _FillValue           = \u001b[34m99.0\u001b[39m\n",
       "     cell_methods         = \u001b[34mtime: mean (this month data from all years)\u001b[39m\n",
       "     long_name            = \u001b[34mWater_body_silicate\u001b[39m\n",
       "     missing_value        = \u001b[34m99.0\u001b[39m\n",
       "     standard_name        = \u001b[34mmass_concentration_of_silicate_in_sea_water\u001b[39m\n",
       "     units                = \u001b[34mumol/l\u001b[39m\n",
       "     valid_max            = \u001b[34m516.0\u001b[39m\n",
       "     valid_min            = \u001b[34m0.0\u001b[39m\n",
       "\n",
       "\u001b[32m  Water_body_silicate_err\u001b[39m   (216 × 130 × 21 × 32)\n",
       "    Datatype:    Float32\n",
       "    Dimensions:  lon × lat × depth × time\n",
       "    Attributes:\n",
       "     _FillValue           = \u001b[34m99.0\u001b[39m\n",
       "     long_name            = \u001b[34mError standard deviation of Water_body_silicate\u001b[39m\n",
       "     missing_value        = \u001b[34m99.0\u001b[39m\n",
       "     standard_name        = \u001b[34mmass_concentration_of_silicate_in_sea_water\u001b[39m\n",
       "     units                = \u001b[34mumol/l\u001b[39m\n",
       "     valid_max            = \u001b[34m1.0\u001b[39m\n",
       "     valid_min            = \u001b[34m0.0\u001b[39m\n",
       "\n",
       "\u001b[32m  Water_body_silicate_L1\u001b[39m   (216 × 130 × 21 × 32)\n",
       "    Datatype:    Float32\n",
       "    Dimensions:  lon × lat × depth × time\n",
       "    Attributes:\n",
       "     _FillValue           = \u001b[34m99.0\u001b[39m\n",
       "     long_name            = \u001b[34mWater_body_silicate masked using relative error threshold 0.3\u001b[39m\n",
       "     missing_value        = \u001b[34m99.0\u001b[39m\n",
       "     standard_name        = \u001b[34mmass_concentration_of_silicate_in_sea_water\u001b[39m\n",
       "     units                = \u001b[34mumol/l\u001b[39m\n",
       "     valid_max            = \u001b[34m516.0\u001b[39m\n",
       "     valid_min            = \u001b[34m0.0\u001b[39m\n",
       "\n",
       "\u001b[32m  Water_body_silicate_L2\u001b[39m   (216 × 130 × 21 × 32)\n",
       "    Datatype:    Float32\n",
       "    Dimensions:  lon × lat × depth × time\n",
       "    Attributes:\n",
       "     _FillValue           = \u001b[34m99.0\u001b[39m\n",
       "     long_name            = \u001b[34mWater_body_silicate masked using relative error threshold 0.5\u001b[39m\n",
       "     missing_value        = \u001b[34m99.0\u001b[39m\n",
       "     standard_name        = \u001b[34mmass_concentration_of_silicate_in_sea_water\u001b[39m\n",
       "     units                = \u001b[34mumol/l\u001b[39m\n",
       "     valid_max            = \u001b[34m516.0\u001b[39m\n",
       "     valid_min            = \u001b[34m0.0\u001b[39m\n",
       "\n",
       "\u001b[32m  Water_body_silicate_relerr\u001b[39m   (216 × 130 × 21 × 32)\n",
       "    Datatype:    Float32\n",
       "    Dimensions:  lon × lat × depth × time\n",
       "    Attributes:\n",
       "     _FillValue           = \u001b[34m99.0\u001b[39m\n",
       "     long_name            = \u001b[34mRelative error of Water_body_silicate\u001b[39m\n",
       "     missing_value        = \u001b[34m99.0\u001b[39m\n",
       "     valid_max            = \u001b[34m1.0\u001b[39m\n",
       "     valid_min            = \u001b[34m0.0\u001b[39m\n",
       "\n",
       "\u001b[32m  databins\u001b[39m   (216 × 130 × 21 × 32)\n",
       "    Datatype:    Float32\n",
       "    Dimensions:  lon × lat × depth × time\n",
       "    Attributes:\n",
       "     _FillValue           = \u001b[34m99.0\u001b[39m\n",
       "     long_name            = \u001b[34mLogarithm10 of number of data in bins\u001b[39m\n",
       "     missing_value        = \u001b[34m99.0\u001b[39m\n",
       "     valid_max            = \u001b[34m99.0\u001b[39m\n",
       "     valid_min            = \u001b[34m0.0\u001b[39m\n",
       "\n",
       "\u001b[32m  outlbins\u001b[39m   (216 × 130 × 21 × 32)\n",
       "    Datatype:    Float32\n",
       "    Dimensions:  lon × lat × depth × time\n",
       "    Attributes:\n",
       "     _FillValue           = \u001b[34m99.0\u001b[39m\n",
       "     long_name            = \u001b[34mLogarithm10 of number of outliers data in bins\u001b[39m\n",
       "     missing_value        = \u001b[34m99.0\u001b[39m\n",
       "     valid_max            = \u001b[34m99.0\u001b[39m\n",
       "     valid_min            = \u001b[34m0.0\u001b[39m\n",
       "\n",
       "\u001b[32m  CLfield\u001b[39m   (216 × 130 × 21 × 32)\n",
       "    Datatype:    Float32\n",
       "    Dimensions:  lon × lat × depth × time\n",
       "    Attributes:\n",
       "     _FillValue           = \u001b[34m99.0\u001b[39m\n",
       "     long_name            = \u001b[34mCorrelation length field\u001b[39m\n",
       "     missing_value        = \u001b[34m99.0\u001b[39m\n",
       "     valid_max            = \u001b[34m0.7\u001b[39m\n",
       "     valid_min            = \u001b[34m0.0\u001b[39m\n",
       "\n",
       "\u001b[32m  Water_body_silicate_deepest\u001b[39m   (216 × 130 × 32)\n",
       "    Datatype:    Float32\n",
       "    Dimensions:  lon × lat × time\n",
       "    Attributes:\n",
       "     _FillValue           = \u001b[34m99.0\u001b[39m\n",
       "     long_name            = \u001b[34mDeepest values of Water_body_silicate\u001b[39m\n",
       "     missing_value        = \u001b[34m99.0\u001b[39m\n",
       "     standard_name        = \u001b[34mmass_concentration_of_silicate_in_sea_water\u001b[39m\n",
       "     units                = \u001b[34mumol/l\u001b[39m\n",
       "     valid_max            = \u001b[34m516.0\u001b[39m\n",
       "     valid_min            = \u001b[34m1.0\u001b[39m\n",
       "\n",
       "\u001b[32m  Water_body_silicate_deepest_L1\u001b[39m   (216 × 130 × 32)\n",
       "    Datatype:    Float32\n",
       "    Dimensions:  lon × lat × time\n",
       "    Attributes:\n",
       "     _FillValue           = \u001b[34m99.0\u001b[39m\n",
       "     long_name            = \u001b[34mDeepest values of Water_body_silicate masked using relative error threshold 0.3\u001b[39m\n",
       "     missing_value        = \u001b[34m99.0\u001b[39m\n",
       "     standard_name        = \u001b[34mmass_concentration_of_silicate_in_sea_water\u001b[39m\n",
       "     units                = \u001b[34mumol/l\u001b[39m\n",
       "     valid_max            = \u001b[34m516.0\u001b[39m\n",
       "     valid_min            = \u001b[34m1.0\u001b[39m\n",
       "\n",
       "\u001b[32m  Water_body_silicate_deepest_L2\u001b[39m   (216 × 130 × 32)\n",
       "    Datatype:    Float32\n",
       "    Dimensions:  lon × lat × time\n",
       "    Attributes:\n",
       "     _FillValue           = \u001b[34m99.0\u001b[39m\n",
       "     long_name            = \u001b[34mDeepest values of Water_body_silicate masked using relative error threshold 0.5\u001b[39m\n",
       "     missing_value        = \u001b[34m99.0\u001b[39m\n",
       "     standard_name        = \u001b[34mmass_concentration_of_silicate_in_sea_water\u001b[39m\n",
       "     units                = \u001b[34mumol/l\u001b[39m\n",
       "     valid_max            = \u001b[34m516.0\u001b[39m\n",
       "     valid_min            = \u001b[34m1.0\u001b[39m\n",
       "\n",
       "\u001b[32m  obsid\u001b[39m   (64 × 46 × 399453)\n",
       "    Datatype:    Char\n",
       "    Dimensions:  maxStrlen64 × idlen × observations\n",
       "    Attributes:\n",
       "     coordinates          = \u001b[34mobstime obsdepth obslat obslon\u001b[39m\n",
       "     long_name            = \u001b[34mobservation identifier\u001b[39m\n",
       "\n",
       "\u001b[32m  obslon\u001b[39m   (399453)\n",
       "    Datatype:    Float64\n",
       "    Dimensions:  observations\n",
       "    Attributes:\n",
       "     units                = \u001b[34mdegrees_east\u001b[39m\n",
       "\n",
       "\u001b[32m  obslat\u001b[39m   (399453)\n",
       "    Datatype:    Float64\n",
       "    Dimensions:  observations\n",
       "    Attributes:\n",
       "     units                = \u001b[34mdegrees_north\u001b[39m\n",
       "\n",
       "\u001b[32m  obsdepth\u001b[39m   (399453)\n",
       "    Datatype:    Float64\n",
       "    Dimensions:  observations\n",
       "    Attributes:\n",
       "     positive             = \u001b[34mdown\u001b[39m\n",
       "     units                = \u001b[34mmeters\u001b[39m\n",
       "\n",
       "\u001b[32m  obstime\u001b[39m   (399453)\n",
       "    Datatype:    Float64\n",
       "    Dimensions:  observations\n",
       "    Attributes:\n",
       "     units                = \u001b[34mdays since 1900-01-01 00:00:00\u001b[39m\n",
       "\n",
       "\u001b[31mGlobal attributes\u001b[39m\n",
       "  comment              = \u001b[34mNo comment\u001b[39m\n",
       "  parameter_keywords   = \u001b[34mWater body silicate\u001b[39m\n",
       "  file_name            = \u001b[34m./output/3Danalysis/cut_files/0911/Water_body_silicate.4Danl.nc\u001b[39m\n",
       "  product_version      = \u001b[34m1.1\u001b[39m\n",
       "  institution_edmo_code = \u001b[34m545\u001b[39m\n",
       "  title                = \u001b[34mDIVA 4D analysis of Water_body_silicate\u001b[39m\n",
       "  source               = \u001b[34mdata_from various sources\u001b[39m\n",
       "  production           = \u001b[34mDiva group. E-mails : shark@smhi.se\u001b[39m\n",
       "  area_keywords        = \u001b[34mBaltic Sea|Central Baltic Sea|Gulf of Bothnia|Gulf of Finland|Sound Sea|Gulf of Riga\u001b[39m\n",
       "  preview              = \u001b[34mhttp://ec.oceanbrowser.net/emodnet/Python/web/wms?service=WMS&request=GetMap&version=1.3.0&crs=CRS%3A84&bbox=9.4%2C53.0%2C30.9%2C65.9&decorated=true&format=image%2Fpng&layers=Baltic%20Sea%2FAutumn%20%28September-November%29%20-%206-years%20running%20averages%2FWater_body_silicate.4Danl.nc%2AWater_body_silicate_L1&styles=vmin%3A4.4411798%2Bvmax%3A34.201725&transparent=true&height=500&width=800&basemap=shadedrelief&time=1993\u001b[39m\n",
       "  DIVA_code_doi        = \u001b[34m10.5281/zenodo.592476\u001b[39m\n",
       "  DIVA_references      = \u001b[34mTroupin, C.; Sirjacobs, D.; Rixen, M.; Brasseur, P.; Brankart, J.-M.;Barth, A.;Alvera-Azcarate, A.; Capet, A.; Ouberdous, M.; Lenartz, F.; Toussaint, M.-E. & Beckers, J.-M. (2012)Generation of analysis and consistent error fields using the Data Interpolating Variational Analysis (Diva).Ocean Modelling, 52-53: 90-101. doi:10.1016/j.ocemod.2012.05.002\u001b[39m\n",
       "\u001b[34mBeckers, J.-M.; Barth, A.; Troupin, C. & Alvera-Azcarate, A.Some approximate and efficient methods to assess error fields in spatial gridding with DIVA(Data Interpolating Variational Analysis) (2014).Journal of Atmospheric and Oceanic Technology, 31: 515-530.doi:10.1175/JTECH-D-13-00130.1\u001b[39m\n",
       "  date                 = \u001b[34m2018-09-02 12:24:17.00\u001b[39m\n",
       "  institution          = \u001b[34mSwedish Meteorological and Hydrological Institute\u001b[39m\n",
       "  WEB_visualisation    = \u001b[34mhttp://ec.oceanbrowser.net/emodnet/\u001b[39m\n",
       "  data_access          = \u001b[34mOPeNDAP: http://ec.oceanbrowser.net:8081/data/emodnet-domains/\u001b[39m\n",
       "  doi                  = \u001b[34m10.6092/c237ece0-998e-463b-85d9-ebe8b5b008bb\u001b[39m\n",
       "  product_id           = \u001b[34m675a5c9e-c244-11e8-9aaa-5ce0c5469bc7\u001b[39m\n",
       "  Author_e-mail        = \u001b[34mshark@smhi.se\u001b[39m\n",
       "  Conventions          = \u001b[34mCF-1.0\u001b[39m\n",
       "  project              = \u001b[34mEMODnet Chemistry: http://www.emodnet-chemistry.eu/\u001b[39m\n",
       "  DIVA_source          = \u001b[34mhttps://github.com/gher-ulg/DIVA\u001b[39m\n",
       "  search_keywords      = \u001b[34mSilicate concentration parameters in the water column\u001b[39m\n",
       "  history              = \u001b[34mThu Oct  4 15:40:37 2018: ncatted -a product_id,global,o,c,675a5c9e-c244-11e8-9aaa-5ce0c5469bc7 /production/apache/data/emodnet-test-charles/Baltic Sea/Autumn (September-November) - 6-years running averages/Water_body_silicate.4Danl.nc\u001b[39m\n"
      ]
     },
     "execution_count": 44,
     "metadata": {},
     "output_type": "execute_result"
    }
   ],
   "source": [
    "Nnc = Dataset(\"http://ec.oceanbrowser.net:8081/data/emodnet-domains/Baltic%20Sea/Autumn%20(September-November)%20-%206-years%20running%20averages/Water_body_silicate.4Danl.nc\")"
   ]
  },
  {
   "cell_type": "code",
   "execution_count": 45,
   "metadata": {
    "slideshow": {
     "slide_type": "fragment"
    }
   },
   "outputs": [
    {
     "data": {
      "image/png": "[encoded data removed]",
      "text/plain": [
       "Figure(PyObject <Figure size 640x480 with 2 Axes>)"
      ]
     },
     "metadata": {},
     "output_type": "display_data"
    }
   ],
   "source": [
    "Nlon = Nnc[\"lon\"][:];\n",
    "Nlat = Nnc[\"lat\"][:];\n",
    "Ntime = Nnc[\"time\"][:];\n",
    "n = findall(Dates.year.(Ntime) .== 2000)[1]\n",
    "silicate = Nnc[\"Water_body_silicate\"][:,:,end,n];\n",
    "\n",
    "pcolor(Nlon,Nlat,silicate');colorbar(); clim(0,50)"
   ]
  },
  {
   "cell_type": "code",
   "execution_count": 46,
   "metadata": {
    "slideshow": {
     "slide_type": "subslide"
    }
   },
   "outputs": [
    {
     "data": {
      "image/png": "[encoded data removed]",
      "text/plain": [
       "Figure(PyObject <Figure size 640x480 with 1 Axes>)"
      ]
     },
     "metadata": {},
     "output_type": "display_data"
    }
   ],
   "source": [
    "size(silicate[:])\n",
    "size(phosphate[:])\n",
    "\n",
    "valid = .!ismissing.(silicate[:]) .& .!ismissing.(phosphate[:])\n",
    "\n",
    "plot(silicate[valid],phosphate[valid],\".\");"
   ]
  },
  {
   "cell_type": "code",
   "execution_count": null,
   "metadata": {},
   "outputs": [],
   "source": []
  }
 ],
 "metadata": {
  "@webio": {
   "lastCommId": null,
   "lastKernelId": null
  },
  "celltoolbar": "Slideshow",
  "kernelspec": {
   "display_name": "Julia 1.11.1",
   "language": "julia",
   "name": "julia-1.11"
  },
  "language_info": {
   "file_extension": ".jl",
   "mimetype": "application/julia",
   "name": "julia",
   "version": "1.11.1"
  }
 },
 "nbformat": 4,
 "nbformat_minor": 4
}
