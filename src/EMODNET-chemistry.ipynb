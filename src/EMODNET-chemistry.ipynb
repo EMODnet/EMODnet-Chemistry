{
 "cells": [
  {
   "cell_type": "code",
   "execution_count": null,
   "metadata": {
    "collapsed": true
   },
   "outputs": [],
   "source": []
  },
  {
   "cell_type": "code",
   "execution_count": 2,
   "metadata": {
    "collapsed": true
   },
   "outputs": [],
   "source": [
    "using NCDatasets\n",
    "using PyPlot\n",
    "using DataArrays\n",
    "using PyCall"
   ]
  },
  {
   "cell_type": "code",
   "execution_count": 3,
   "metadata": {},
   "outputs": [
    {
     "data": {
      "text/plain": [
       "pcol (generic function with 1 method)"
      ]
     },
     "execution_count": 3,
     "metadata": {},
     "output_type": "execute_result"
    }
   ],
   "source": [
    "@pyimport numpy.ma as ma\n",
    "pyma(S) = pycall(ma.array, Any, S.data, mask=S.na)\n",
    "pcol(x,y,z::DataArray; kws...) = pcolor(x,y,pyma(z); kws...)"
   ]
  },
  {
   "cell_type": "code",
   "execution_count": 4,
   "metadata": {},
   "outputs": [
    {
     "data": {
      "text/plain": [
       "\u001b[31mDataset: http://ec.oceanbrowser.net:8081/data/emodnet-domains/Baltic%20Sea/Autumn%20(September-November)%20-%2010-years%20running%20averages/Water_body_phosphate.4Danl.nc\n",
       "\u001b[39mGroup: /\n",
       "\n",
       "\u001b[31mDimensions\n",
       "\u001b[39m   depth = 21\n",
       "   idlen = 35\n",
       "   lat = 130\n",
       "   lon = 216\n",
       "   maxStrlen64 = 64\n",
       "   nv = 2\n",
       "   observations = 772156\n",
       "   time = 46\n",
       "\n",
       "\u001b[31mVariables\n",
       "\u001b[39m\u001b[32m  lon\u001b[39m   (216)\n",
       "    Datatype:    Float32\n",
       "    Dimensions:  lon\n",
       "    Attributes:\n",
       "     units                = \u001b[34mdegrees_east\u001b[39m\n",
       "\n",
       "\u001b[32m  lat\u001b[39m   (130)\n",
       "    Datatype:    Float32\n",
       "    Dimensions:  lat\n",
       "    Attributes:\n",
       "     units                = \u001b[34mdegrees_north\u001b[39m\n",
       "\n",
       "\u001b[32m  depth\u001b[39m   (21)\n",
       "    Datatype:    Float32\n",
       "    Dimensions:  depth\n",
       "    Attributes:\n",
       "     units                = \u001b[34mmeters\u001b[39m\n",
       "     positive             = \u001b[34mdown\u001b[39m\n",
       "\n",
       "\u001b[32m  time\u001b[39m   (46)\n",
       "    Datatype:    Float32\n",
       "    Dimensions:  time\n",
       "    Attributes:\n",
       "     units                = \u001b[34mDays since 1960-01-01\u001b[39m\n",
       "     climatology          = \u001b[34mclimatology_bounds\u001b[39m\n",
       "\n",
       "\u001b[32m  climatology_bounds\u001b[39m   (2 × 46)\n",
       "    Datatype:    Float32\n",
       "    Dimensions:  nv × time\n",
       "    Attributes:\n",
       "     climatology_bounds   = \u001b[34mFloat32[244.0, 3622.0, 609.0, 3987.0, 974.0, 4352.0, 1339.0, 4718.0, 1705.0, 5083.0, 2070.0, 5448.0, 2435.0, 5813.0, 2800.0, 6179.0, 3166.0, 6544.0, 3531.0, 6909.0, 3896.0, 7274.0, 4261.0, 7640.0, 4627.0, 8005.0, 4992.0, 8370.0, 5357.0, 8735.0, 5722.0, 9101.0, 6088.0, 9466.0, 6453.0, 9831.0, 6818.0, 10196.0, 7183.0, 10562.0, 7549.0, 10927.0, 7914.0, 11292.0, 8279.0, 11657.0, 8644.0, 12023.0, 9010.0, 12388.0, 9375.0, 12753.0, 9740.0, 13118.0, 10105.0, 13484.0, 10471.0, 13849.0, 10836.0, 14214.0, 11201.0, 14579.0, 11566.0, 14945.0, 11932.0, 15310.0, 12297.0, 15675.0, 12662.0, 16040.0, 13027.0, 16406.0, 13393.0, 16771.0, 13758.0, 17136.0, 14123.0, 17501.0, 14488.0, 17867.0, 14854.0, 18232.0, 15219.0, 18597.0, 15584.0, 18962.0, 15949.0, 19328.0, 16315.0, 19693.0, 16680.0, 20058.0]\u001b[39m\n",
       "\n",
       "\u001b[32m  CORRLEN\u001b[39m   (21 × 46)\n",
       "    Datatype:    Float32\n",
       "    Dimensions:  depth × time\n",
       "    Attributes:\n",
       "     units                = \u001b[34mdegrees_north\u001b[39m\n",
       "     long_name            = \u001b[34mCorrelation Length\u001b[39m\n",
       "\n",
       "\u001b[32m  SNR\u001b[39m   (21 × 46)\n",
       "    Datatype:    Float32\n",
       "    Dimensions:  depth × time\n",
       "    Attributes:\n",
       "     long_name            = \u001b[34mSignal to Noise\u001b[39m\n",
       "\n",
       "\u001b[32m  VARBACK\u001b[39m   (21 × 46)\n",
       "    Datatype:    Float32\n",
       "    Dimensions:  depth × time\n",
       "    Attributes:\n",
       "     units                = \u001b[34mumol/l^2\u001b[39m\n",
       "     long_name            = \u001b[34mBackground Field Variance\u001b[39m\n",
       "\n",
       "\u001b[32m  Water_body_phosphate\u001b[39m   (216 × 130 × 21 × 46)\n",
       "    Datatype:    Float32\n",
       "    Dimensions:  lon × lat × depth × time\n",
       "    Attributes:\n",
       "     _FillValue           = \u001b[34m99.0\u001b[39m\n",
       "     long_name            = \u001b[34mWater_body_phosphate\u001b[39m\n",
       "     valid_min            = \u001b[34m0.0\u001b[39m\n",
       "     cell_methods         = \u001b[34mtime: mean within years time: mean over years\u001b[39m\n",
       "     units                = \u001b[34mumol/l\u001b[39m\n",
       "     missing_value        = \u001b[34m99.0\u001b[39m\n",
       "     valid_max            = \u001b[34m13.0\u001b[39m\n",
       "\n",
       "\u001b[32m  Water_body_phosphate_err\u001b[39m   (216 × 130 × 21 × 46)\n",
       "    Datatype:    Float32\n",
       "    Dimensions:  lon × lat × depth × time\n",
       "    Attributes:\n",
       "     _FillValue           = \u001b[34m99.0\u001b[39m\n",
       "     long_name            = \u001b[34mError standard deviation of Water_body_phosphate\u001b[39m\n",
       "     valid_min            = \u001b[34m0.0\u001b[39m\n",
       "     units                = \u001b[34mumol/l\u001b[39m\n",
       "     missing_value        = \u001b[34m99.0\u001b[39m\n",
       "     valid_max            = \u001b[34m1.0\u001b[39m\n",
       "\n",
       "\u001b[32m  Water_body_phosphate_L1\u001b[39m   (216 × 130 × 21 × 46)\n",
       "    Datatype:    Float32\n",
       "    Dimensions:  lon × lat × depth × time\n",
       "    Attributes:\n",
       "     _FillValue           = \u001b[34m99.0\u001b[39m\n",
       "     long_name            = \u001b[34mWater_body_phosphate masked using relative error threshold 0.3\u001b[39m\n",
       "     valid_min            = \u001b[34m0.0\u001b[39m\n",
       "     units                = \u001b[34mumol/l\u001b[39m\n",
       "     missing_value        = \u001b[34m99.0\u001b[39m\n",
       "     valid_max            = \u001b[34m13.0\u001b[39m\n",
       "\n",
       "\u001b[32m  Water_body_phosphate_L2\u001b[39m   (216 × 130 × 21 × 46)\n",
       "    Datatype:    Float32\n",
       "    Dimensions:  lon × lat × depth × time\n",
       "    Attributes:\n",
       "     _FillValue           = \u001b[34m99.0\u001b[39m\n",
       "     long_name            = \u001b[34mWater_body_phosphate masked using relative error threshold 0.5\u001b[39m\n",
       "     valid_min            = \u001b[34m0.0\u001b[39m\n",
       "     units                = \u001b[34mumol/l\u001b[39m\n",
       "     missing_value        = \u001b[34m99.0\u001b[39m\n",
       "     valid_max            = \u001b[34m13.0\u001b[39m\n",
       "\n",
       "\u001b[32m  Water_body_phosphate_relerr\u001b[39m   (216 × 130 × 21 × 46)\n",
       "    Datatype:    Float32\n",
       "    Dimensions:  lon × lat × depth × time\n",
       "    Attributes:\n",
       "     long_name            = \u001b[34mRelative error of Water_body_phosphate\u001b[39m\n",
       "     valid_min            = \u001b[34m0.0\u001b[39m\n",
       "     missing_value        = \u001b[34m99.0\u001b[39m\n",
       "     valid_max            = \u001b[34m1.0\u001b[39m\n",
       "     _FillValue           = \u001b[34m99.0\u001b[39m\n",
       "\n",
       "\u001b[32m  databins\u001b[39m   (216 × 130 × 21 × 46)\n",
       "    Datatype:    Float32\n",
       "    Dimensions:  lon × lat × depth × time\n",
       "    Attributes:\n",
       "     long_name            = \u001b[34mLogarithm10 of number of data in bins\u001b[39m\n",
       "     valid_min            = \u001b[34m0.0\u001b[39m\n",
       "     missing_value        = \u001b[34m99.0\u001b[39m\n",
       "     valid_max            = \u001b[34m99.0\u001b[39m\n",
       "     _FillValue           = \u001b[34m99.0\u001b[39m\n",
       "\n",
       "\u001b[32m  outlbins\u001b[39m   (216 × 130 × 21 × 46)\n",
       "    Datatype:    Float32\n",
       "    Dimensions:  lon × lat × depth × time\n",
       "    Attributes:\n",
       "     long_name            = \u001b[34mLogarithm10 of number of outliers data in bins\u001b[39m\n",
       "     valid_min            = \u001b[34m0.0\u001b[39m\n",
       "     missing_value        = \u001b[34m99.0\u001b[39m\n",
       "     valid_max            = \u001b[34m99.0\u001b[39m\n",
       "     _FillValue           = \u001b[34m99.0\u001b[39m\n",
       "\n",
       "\u001b[32m  CLfield\u001b[39m   (216 × 130 × 21 × 46)\n",
       "    Datatype:    Float32\n",
       "    Dimensions:  lon × lat × depth × time\n",
       "    Attributes:\n",
       "     long_name            = \u001b[34mCorrelation length field\u001b[39m\n",
       "     valid_min            = \u001b[34m0.0\u001b[39m\n",
       "     missing_value        = \u001b[34m99.0\u001b[39m\n",
       "     valid_max            = \u001b[34m0.7\u001b[39m\n",
       "     _FillValue           = \u001b[34m99.0\u001b[39m\n",
       "\n",
       "\u001b[32m  Water_body_phosphate_deepest\u001b[39m   (216 × 130 × 46)\n",
       "    Datatype:    Float32\n",
       "    Dimensions:  lon × lat × time\n",
       "    Attributes:\n",
       "     _FillValue           = \u001b[34m99.0\u001b[39m\n",
       "     long_name            = \u001b[34mDeepest values of Water_body_phosphate\u001b[39m\n",
       "     valid_min            = \u001b[34m0.0\u001b[39m\n",
       "     units                = \u001b[34mumol/l\u001b[39m\n",
       "     missing_value        = \u001b[34m99.0\u001b[39m\n",
       "     valid_max            = \u001b[34m13.0\u001b[39m\n",
       "\n",
       "\u001b[32m  Water_body_phosphate_deepest_L1\u001b[39m   (216 × 130 × 46)\n",
       "    Datatype:    Float32\n",
       "    Dimensions:  lon × lat × time\n",
       "    Attributes:\n",
       "     _FillValue           = \u001b[34m99.0\u001b[39m\n",
       "     long_name            = \u001b[34mDeepest values of Water_body_phosphate masked using relative error threshold 0.3\u001b[39m\n",
       "     valid_min            = \u001b[34m0.0\u001b[39m\n",
       "     units                = \u001b[34mumol/l\u001b[39m\n",
       "     missing_value        = \u001b[34m99.0\u001b[39m\n",
       "     valid_max            = \u001b[34m13.0\u001b[39m\n",
       "\n",
       "\u001b[32m  Water_body_phosphate_deepest_L2\u001b[39m   (216 × 130 × 46)\n",
       "    Datatype:    Float32\n",
       "    Dimensions:  lon × lat × time\n",
       "    Attributes:\n",
       "     _FillValue           = \u001b[34m99.0\u001b[39m\n",
       "     long_name            = \u001b[34mDeepest values of Water_body_phosphate masked using relative error threshold 0.5\u001b[39m\n",
       "     valid_min            = \u001b[34m0.0\u001b[39m\n",
       "     units                = \u001b[34mumol/l\u001b[39m\n",
       "     missing_value        = \u001b[34m99.0\u001b[39m\n",
       "     valid_max            = \u001b[34m13.0\u001b[39m\n",
       "\n",
       "\u001b[32m  obsid\u001b[39m   (64 × 35 × 772156)\n",
       "    Datatype:    Char\n",
       "    Dimensions:  maxStrlen64 × idlen × observations\n",
       "    Attributes:\n",
       "     long_name            = \u001b[34mobservation identifier\u001b[39m\n",
       "     coordinates          = \u001b[34mobstime obsdepth obslat obslon\u001b[39m\n",
       "\n",
       "\u001b[32m  obslon\u001b[39m   (772156)\n",
       "    Datatype:    Float64\n",
       "    Dimensions:  observations\n",
       "    Attributes:\n",
       "     units                = \u001b[34mdegrees_east\u001b[39m\n",
       "\n",
       "\u001b[32m  obslat\u001b[39m   (772156)\n",
       "    Datatype:    Float64\n",
       "    Dimensions:  observations\n",
       "    Attributes:\n",
       "     units                = \u001b[34mdegrees_north\u001b[39m\n",
       "\n",
       "\u001b[32m  obsdepth\u001b[39m   (772156)\n",
       "    Datatype:    Float64\n",
       "    Dimensions:  observations\n",
       "    Attributes:\n",
       "     units                = \u001b[34mmeters\u001b[39m\n",
       "     positive             = \u001b[34mdown\u001b[39m\n",
       "\n",
       "\u001b[32m  obstime\u001b[39m   (772156)\n",
       "    Datatype:    Float64\n",
       "    Dimensions:  observations\n",
       "    Attributes:\n",
       "     units                = \u001b[34mdays since 1900-01-01 00:00:00\u001b[39m\n",
       "\n",
       "\u001b[31mGlobal attributes\n",
       "\u001b[39m  comment              = \u001b[34mEvery year of the time dimension corresponds to a 10-year centered average for the autumn season (September-November)\u001b[39m\n",
       "  WEB_visualisation    = \u001b[34mhttp://gher-diva.phys.ulg.ac.be/web-vis/clim.html\u001b[39m\n",
       "  data_access          = \u001b[34mGHER OPENDAB: http://gher-diva.phys.ulg.ac.be/data/\u001b[39m\n",
       "  product_id           = \u001b[34m938d5f8f-7411-11e5-9592-001e101f57d0\u001b[39m\n",
       "  title                = \u001b[34mDIVA 4D analysis of Water_body_phosphate\u001b[39m\n",
       "  file_name            = \u001b[34m./output/3Danalysis/Water_body_phosphate.4Danl.cut.nc\u001b[39m\n",
       "  product_version      = \u001b[34m\u001b[39m\n",
       "  parameter_keywords   = \u001b[34mWater body phosphate\u001b[39m\n",
       "  Author_e-mail        = \u001b[34mshark@smhi.se\u001b[39m\n",
       "  Conventions          = \u001b[34mCF-1.0\u001b[39m\n",
       "  project              = \u001b[34mSeaDataNetII: http://www.seadatanet.org/\u001b[39m\n",
       "  source               = \u001b[34mobservational data from SeaDataNet/EMODnet Chemistry Data Network\u001b[39m\n",
       "  production           = \u001b[34mDiva group. E-mails : a.barth@ulg.ac.be; swatelet@ulg.ac.be\u001b[39m\n",
       "  area_keywords        = \u001b[34mBaltic Sea, Gulf of Bothnia, Gulf of Finland\u001b[39m\n",
       "  date                 = \u001b[34m2000-01-01T00:00:00\u001b[39m\n",
       "  preview              = \u001b[34mhttp://oceanbrowser.net/emodnet/Python/web/wms?styles=vmax%3A1.90637%2Bvmin%3A0.0081895&format=image%2Fpng&height=500&bbox=9.4%2C53.0%2C30.9%2C65.9&decorated=true&transparent=true&layers=Baltic+Sea%2FAutumn+%28September-November%29+-+10-years+running+averages%2FWater_body_phosphate.4Danl.nc%2AWater_body_phosphate&crs=CRS%3A84&service=WMS&request=GetMap&width=800&version=1.3.0\u001b[39m\n",
       "  search_keywords      = \u001b[34mPhosphate concentration parameters in the water column\u001b[39m\n",
       "  institution          = \u001b[34mSwedish Meteorological and Hydrological Institute (SMHI)\u001b[39m\n",
       "  institution_edmo_code = \u001b[34m545\u001b[39m\n"
      ]
     },
     "execution_count": 4,
     "metadata": {},
     "output_type": "execute_result"
    }
   ],
   "source": [
    "Phnc = Dataset(\"http://ec.oceanbrowser.net:8081/data/emodnet-domains/Baltic%20Sea/Autumn%20(September-November)%20-%2010-years%20running%20averages/Water_body_phosphate.4Danl.nc\")"
   ]
  },
  {
   "cell_type": "code",
   "execution_count": null,
   "metadata": {
    "collapsed": true
   },
   "outputs": [],
   "source": []
  },
  {
   "cell_type": "code",
   "execution_count": 5,
   "metadata": {
    "collapsed": true
   },
   "outputs": [],
   "source": [
    "Phlon = Phnc[\"lon\"][:];\n",
    "Phlat = Phnc[\"lat\"][:];\n",
    "Phtime = Phnc[\"time\"][:];\n"
   ]
  },
  {
   "cell_type": "code",
   "execution_count": 6,
   "metadata": {},
   "outputs": [
    {
     "data": {
      "text/plain": [
       "1965"
      ]
     },
     "execution_count": 6,
     "metadata": {},
     "output_type": "execute_result"
    }
   ],
   "source": [
    "Dates.year(Phtime[1])"
   ]
  },
  {
   "cell_type": "code",
   "execution_count": 7,
   "metadata": {},
   "outputs": [
    {
     "data": {
      "text/plain": [
       "10"
      ]
     },
     "execution_count": 7,
     "metadata": {},
     "output_type": "execute_result"
    }
   ],
   "source": [
    "Dates.month(Phtime[1])"
   ]
  },
  {
   "cell_type": "code",
   "execution_count": 8,
   "metadata": {},
   "outputs": [
    {
     "data": {
      "text/plain": [
       "36"
      ]
     },
     "execution_count": 8,
     "metadata": {},
     "output_type": "execute_result"
    }
   ],
   "source": [
    "n = find(Dates.year.(Phtime) .== 2000)[1]"
   ]
  },
  {
   "cell_type": "code",
   "execution_count": 9,
   "metadata": {
    "collapsed": true
   },
   "outputs": [],
   "source": [
    "phosphate = Phnc[\"Water_body_phosphate\"][:,:,end,n];\n"
   ]
  },
  {
   "cell_type": "code",
   "execution_count": null,
   "metadata": {
    "collapsed": true
   },
   "outputs": [],
   "source": []
  },
  {
   "cell_type": "code",
   "execution_count": 10,
   "metadata": {},
   "outputs": [
    {
     "data": {
      "image/png": "[encoded data removed]",
      "text/plain": [
       "PyPlot.Figure(PyObject <matplotlib.figure.Figure object at 0x7fe21d000ad0>)"
      ]
     },
     "metadata": {},
     "output_type": "display_data"
    }
   ],
   "source": [
    "pcol(Phlon,Phlat,phosphate');colorbar(); clim(0,2)"
   ]
  },
  {
   "cell_type": "code",
   "execution_count": 11,
   "metadata": {},
   "outputs": [
    {
     "data": {
      "text/plain": [
       "\u001b[31mDataset: http://ec.oceanbrowser.net:8081/data/emodnet-domains/Baltic%20Sea/Autumn%20(September-November)%20-%2010-years%20running%20averages/Water_body_nitrate.4Danl.nc\n",
       "\u001b[39mGroup: /\n",
       "\n",
       "\u001b[31mDimensions\n",
       "\u001b[39m   depth = 21\n",
       "   idlen = 26\n",
       "   lat = 130\n",
       "   lon = 216\n",
       "   maxStrlen64 = 64\n",
       "   nv = 2\n",
       "   observations = 416380\n",
       "   time = 46\n",
       "\n",
       "\u001b[31mVariables\n",
       "\u001b[39m\u001b[32m  lon\u001b[39m   (216)\n",
       "    Datatype:    Float32\n",
       "    Dimensions:  lon\n",
       "    Attributes:\n",
       "     units                = \u001b[34mdegrees_east\u001b[39m\n",
       "\n",
       "\u001b[32m  lat\u001b[39m   (130)\n",
       "    Datatype:    Float32\n",
       "    Dimensions:  lat\n",
       "    Attributes:\n",
       "     units                = \u001b[34mdegrees_north\u001b[39m\n",
       "\n",
       "\u001b[32m  depth\u001b[39m   (21)\n",
       "    Datatype:    Float32\n",
       "    Dimensions:  depth\n",
       "    Attributes:\n",
       "     units                = \u001b[34mmeters\u001b[39m\n",
       "     positive             = \u001b[34mdown\u001b[39m\n",
       "\n",
       "\u001b[32m  time\u001b[39m   (46)\n",
       "    Datatype:    Float32\n",
       "    Dimensions:  time\n",
       "    Attributes:\n",
       "     units                = \u001b[34mDays since 1960-01-01\u001b[39m\n",
       "     climatology          = \u001b[34mclimatology_bounds\u001b[39m\n",
       "\n",
       "\u001b[32m  climatology_bounds\u001b[39m   (2 × 46)\n",
       "    Datatype:    Float32\n",
       "    Dimensions:  nv × time\n",
       "    Attributes:\n",
       "     climatology_bounds   = \u001b[34mFloat32[244.0, 3622.0, 609.0, 3987.0, 974.0, 4352.0, 1339.0, 4718.0, 1705.0, 5083.0, 2070.0, 5448.0, 2435.0, 5813.0, 2800.0, 6179.0, 3166.0, 6544.0, 3531.0, 6909.0, 3896.0, 7274.0, 4261.0, 7640.0, 4627.0, 8005.0, 4992.0, 8370.0, 5357.0, 8735.0, 5722.0, 9101.0, 6088.0, 9466.0, 6453.0, 9831.0, 6818.0, 10196.0, 7183.0, 10562.0, 7549.0, 10927.0, 7914.0, 11292.0, 8279.0, 11657.0, 8644.0, 12023.0, 9010.0, 12388.0, 9375.0, 12753.0, 9740.0, 13118.0, 10105.0, 13484.0, 10471.0, 13849.0, 10836.0, 14214.0, 11201.0, 14579.0, 11566.0, 14945.0, 11932.0, 15310.0, 12297.0, 15675.0, 12662.0, 16040.0, 13027.0, 16406.0, 13393.0, 16771.0, 13758.0, 17136.0, 14123.0, 17501.0, 14488.0, 17867.0, 14854.0, 18232.0, 15219.0, 18597.0, 15584.0, 18962.0, 15949.0, 19328.0, 16315.0, 19693.0, 16680.0, 20058.0]\u001b[39m\n",
       "\n",
       "\u001b[32m  CORRLEN\u001b[39m   (21 × 46)\n",
       "    Datatype:    Float32\n",
       "    Dimensions:  depth × time\n",
       "    Attributes:\n",
       "     units                = \u001b[34mdegrees_north\u001b[39m\n",
       "     long_name            = \u001b[34mCorrelation Length\u001b[39m\n",
       "\n",
       "\u001b[32m  SNR\u001b[39m   (21 × 46)\n",
       "    Datatype:    Float32\n",
       "    Dimensions:  depth × time\n",
       "    Attributes:\n",
       "     long_name            = \u001b[34mSignal to Noise\u001b[39m\n",
       "\n",
       "\u001b[32m  VARBACK\u001b[39m   (21 × 46)\n",
       "    Datatype:    Float32\n",
       "    Dimensions:  depth × time\n",
       "    Attributes:\n",
       "     units                = \u001b[34mumol/l^2\u001b[39m\n",
       "     long_name            = \u001b[34mBackground Field Variance\u001b[39m\n",
       "\n",
       "\u001b[32m  Water_body_nitrate\u001b[39m   (216 × 130 × 21 × 46)\n",
       "    Datatype:    Float32\n",
       "    Dimensions:  lon × lat × depth × time\n",
       "    Attributes:\n",
       "     _FillValue           = \u001b[34m99.0\u001b[39m\n",
       "     long_name            = \u001b[34mWater_body_nitrate\u001b[39m\n",
       "     valid_min            = \u001b[34m0.0\u001b[39m\n",
       "     cell_methods         = \u001b[34mtime: mean within years time: mean over years\u001b[39m\n",
       "     units                = \u001b[34mumol/l\u001b[39m\n",
       "     missing_value        = \u001b[34m99.0\u001b[39m\n",
       "     valid_max            = \u001b[34m71.0\u001b[39m\n",
       "\n",
       "\u001b[32m  Water_body_nitrate_err\u001b[39m   (216 × 130 × 21 × 46)\n",
       "    Datatype:    Float32\n",
       "    Dimensions:  lon × lat × depth × time\n",
       "    Attributes:\n",
       "     _FillValue           = \u001b[34m99.0\u001b[39m\n",
       "     long_name            = \u001b[34mError standard deviation of Water_body_nitrate\u001b[39m\n",
       "     valid_min            = \u001b[34m0.0\u001b[39m\n",
       "     units                = \u001b[34mumol/l\u001b[39m\n",
       "     missing_value        = \u001b[34m99.0\u001b[39m\n",
       "     valid_max            = \u001b[34m1.0\u001b[39m\n",
       "\n",
       "\u001b[32m  Water_body_nitrate_L1\u001b[39m   (216 × 130 × 21 × 46)\n",
       "    Datatype:    Float32\n",
       "    Dimensions:  lon × lat × depth × time\n",
       "    Attributes:\n",
       "     _FillValue           = \u001b[34m99.0\u001b[39m\n",
       "     long_name            = \u001b[34mWater_body_nitrate masked using relative error threshold 0.3\u001b[39m\n",
       "     valid_min            = \u001b[34m0.0\u001b[39m\n",
       "     units                = \u001b[34mumol/l\u001b[39m\n",
       "     missing_value        = \u001b[34m99.0\u001b[39m\n",
       "     valid_max            = \u001b[34m71.0\u001b[39m\n",
       "\n",
       "\u001b[32m  Water_body_nitrate_L2\u001b[39m   (216 × 130 × 21 × 46)\n",
       "    Datatype:    Float32\n",
       "    Dimensions:  lon × lat × depth × time\n",
       "    Attributes:\n",
       "     _FillValue           = \u001b[34m99.0\u001b[39m\n",
       "     long_name            = \u001b[34mWater_body_nitrate masked using relative error threshold 0.5\u001b[39m\n",
       "     valid_min            = \u001b[34m0.0\u001b[39m\n",
       "     units                = \u001b[34mumol/l\u001b[39m\n",
       "     missing_value        = \u001b[34m99.0\u001b[39m\n",
       "     valid_max            = \u001b[34m71.0\u001b[39m\n",
       "\n",
       "\u001b[32m  Water_body_nitrate_relerr\u001b[39m   (216 × 130 × 21 × 46)\n",
       "    Datatype:    Float32\n",
       "    Dimensions:  lon × lat × depth × time\n",
       "    Attributes:\n",
       "     long_name            = \u001b[34mRelative error of Water_body_nitrate\u001b[39m\n",
       "     valid_min            = \u001b[34m0.0\u001b[39m\n",
       "     missing_value        = \u001b[34m99.0\u001b[39m\n",
       "     valid_max            = \u001b[34m1.0\u001b[39m\n",
       "     _FillValue           = \u001b[34m99.0\u001b[39m\n",
       "\n",
       "\u001b[32m  databins\u001b[39m   (216 × 130 × 21 × 46)\n",
       "    Datatype:    Float32\n",
       "    Dimensions:  lon × lat × depth × time\n",
       "    Attributes:\n",
       "     long_name            = \u001b[34mLogarithm10 of number of data in bins\u001b[39m\n",
       "     valid_min            = \u001b[34m0.0\u001b[39m\n",
       "     missing_value        = \u001b[34m99.0\u001b[39m\n",
       "     valid_max            = \u001b[34m99.0\u001b[39m\n",
       "     _FillValue           = \u001b[34m99.0\u001b[39m\n",
       "\n",
       "\u001b[32m  outlbins\u001b[39m   (216 × 130 × 21 × 46)\n",
       "    Datatype:    Float32\n",
       "    Dimensions:  lon × lat × depth × time\n",
       "    Attributes:\n",
       "     long_name            = \u001b[34mLogarithm10 of number of outliers data in bins\u001b[39m\n",
       "     valid_min            = \u001b[34m0.0\u001b[39m\n",
       "     missing_value        = \u001b[34m99.0\u001b[39m\n",
       "     valid_max            = \u001b[34m99.0\u001b[39m\n",
       "     _FillValue           = \u001b[34m99.0\u001b[39m\n",
       "\n",
       "\u001b[32m  CLfield\u001b[39m   (216 × 130 × 21 × 46)\n",
       "    Datatype:    Float32\n",
       "    Dimensions:  lon × lat × depth × time\n",
       "    Attributes:\n",
       "     long_name            = \u001b[34mCorrelation length field\u001b[39m\n",
       "     valid_min            = \u001b[34m0.0\u001b[39m\n",
       "     missing_value        = \u001b[34m99.0\u001b[39m\n",
       "     valid_max            = \u001b[34m0.7\u001b[39m\n",
       "     _FillValue           = \u001b[34m99.0\u001b[39m\n",
       "\n",
       "\u001b[32m  Water_body_nitrate_deepest\u001b[39m   (216 × 130 × 46)\n",
       "    Datatype:    Float32\n",
       "    Dimensions:  lon × lat × time\n",
       "    Attributes:\n",
       "     _FillValue           = \u001b[34m99.0\u001b[39m\n",
       "     long_name            = \u001b[34mDeepest values of Water_body_nitrate\u001b[39m\n",
       "     valid_min            = \u001b[34m0.0\u001b[39m\n",
       "     units                = \u001b[34mumol/l\u001b[39m\n",
       "     missing_value        = \u001b[34m99.0\u001b[39m\n",
       "     valid_max            = \u001b[34m71.0\u001b[39m\n",
       "\n",
       "\u001b[32m  Water_body_nitrate_deepest_L1\u001b[39m   (216 × 130 × 46)\n",
       "    Datatype:    Float32\n",
       "    Dimensions:  lon × lat × time\n",
       "    Attributes:\n",
       "     _FillValue           = \u001b[34m99.0\u001b[39m\n",
       "     long_name            = \u001b[34mDeepest values of Water_body_nitrate masked using relative error threshold 0.3\u001b[39m\n",
       "     valid_min            = \u001b[34m0.0\u001b[39m\n",
       "     units                = \u001b[34mumol/l\u001b[39m\n",
       "     missing_value        = \u001b[34m99.0\u001b[39m\n",
       "     valid_max            = \u001b[34m71.0\u001b[39m\n",
       "\n",
       "\u001b[32m  Water_body_nitrate_deepest_L2\u001b[39m   (216 × 130 × 46)\n",
       "    Datatype:    Float32\n",
       "    Dimensions:  lon × lat × time\n",
       "    Attributes:\n",
       "     _FillValue           = \u001b[34m99.0\u001b[39m\n",
       "     long_name            = \u001b[34mDeepest values of Water_body_nitrate masked using relative error threshold 0.5\u001b[39m\n",
       "     valid_min            = \u001b[34m0.0\u001b[39m\n",
       "     units                = \u001b[34mumol/l\u001b[39m\n",
       "     missing_value        = \u001b[34m99.0\u001b[39m\n",
       "     valid_max            = \u001b[34m71.0\u001b[39m\n",
       "\n",
       "\u001b[32m  obsid\u001b[39m   (64 × 26 × 416380)\n",
       "    Datatype:    Char\n",
       "    Dimensions:  maxStrlen64 × idlen × observations\n",
       "    Attributes:\n",
       "     long_name            = \u001b[34mobservation identifier\u001b[39m\n",
       "     coordinates          = \u001b[34mobstime obsdepth obslat obslon\u001b[39m\n",
       "\n",
       "\u001b[32m  obslon\u001b[39m   (416380)\n",
       "    Datatype:    Float64\n",
       "    Dimensions:  observations\n",
       "    Attributes:\n",
       "     units                = \u001b[34mdegrees_east\u001b[39m\n",
       "\n",
       "\u001b[32m  obslat\u001b[39m   (416380)\n",
       "    Datatype:    Float64\n",
       "    Dimensions:  observations\n",
       "    Attributes:\n",
       "     units                = \u001b[34mdegrees_north\u001b[39m\n",
       "\n",
       "\u001b[32m  obsdepth\u001b[39m   (416380)\n",
       "    Datatype:    Float64\n",
       "    Dimensions:  observations\n",
       "    Attributes:\n",
       "     units                = \u001b[34mmeters\u001b[39m\n",
       "     positive             = \u001b[34mdown\u001b[39m\n",
       "\n",
       "\u001b[32m  obstime\u001b[39m   (416380)\n",
       "    Datatype:    Float64\n",
       "    Dimensions:  observations\n",
       "    Attributes:\n",
       "     units                = \u001b[34mdays since 1900-01-01 00:00:00\u001b[39m\n",
       "\n",
       "\u001b[31mGlobal attributes\n",
       "\u001b[39m  comment              = \u001b[34mEvery year of the time dimension corresponds to a 10-year centered average for the autumn season (September-November)\u001b[39m\n",
       "  WEB_visualisation    = \u001b[34mhttp://gher-diva.phys.ulg.ac.be/web-vis/clim.html\u001b[39m\n",
       "  data_access          = \u001b[34mGHER OPENDAB: http://gher-diva.phys.ulg.ac.be/data/\u001b[39m\n",
       "  product_id           = \u001b[34m1382af80-73fd-11e5-a853-001e101f57d0\u001b[39m\n",
       "  title                = \u001b[34mDIVA 4D analysis of Water_body_nitrate\u001b[39m\n",
       "  file_name            = \u001b[34m./output/3Danalysis/Water_body_nitrate.4Danl.cut.nc\u001b[39m\n",
       "  product_version      = \u001b[34m\u001b[39m\n",
       "  parameter_keywords   = \u001b[34mWater body nitrate\u001b[39m\n",
       "  Author_e-mail        = \u001b[34mshark@smhi.se\u001b[39m\n",
       "  Conventions          = \u001b[34mCF-1.0\u001b[39m\n",
       "  project              = \u001b[34mSeaDataNetII: http://www.seadatanet.org/\u001b[39m\n",
       "  source               = \u001b[34mobservational data from SeaDataNet/EMODnet Chemistry Data Network\u001b[39m\n",
       "  production           = \u001b[34mDiva group. E-mails : a.barth@ulg.ac.be; swatelet@ulg.ac.be\u001b[39m\n",
       "  area_keywords        = \u001b[34mBaltic Sea, Gulf of Bothnia, Gulf of Finland\u001b[39m\n",
       "  date                 = \u001b[34m2000-01-01T00:00:00\u001b[39m\n",
       "  preview              = \u001b[34mhttp://oceanbrowser.net/emodnet/Python/web/wms?styles=vmax%3A29.5128%2Bvmin%3A0.128743&format=image%2Fpng&height=500&bbox=9.4%2C53.0%2C30.9%2C65.9&decorated=true&transparent=true&layers=Baltic+Sea%2FAutumn+%28September-November%29+-+10-years+running+averages%2FWater_body_nitrate.4Danl.nc%2AWater_body_nitrate&crs=CRS%3A84&service=WMS&request=GetMap&width=800&version=1.3.0\u001b[39m\n",
       "  search_keywords      = \u001b[34mNitrate concentration parameters in the water column\u001b[39m\n",
       "  institution          = \u001b[34mSwedish Meteorological and Hydrological Institute (SMHI)\u001b[39m\n",
       "  institution_edmo_code = \u001b[34m545\u001b[39m\n"
      ]
     },
     "execution_count": 11,
     "metadata": {},
     "output_type": "execute_result"
    }
   ],
   "source": [
    "Nnc = Dataset(\"http://ec.oceanbrowser.net:8081/data/emodnet-domains/Baltic%20Sea/Autumn%20(September-November)%20-%2010-years%20running%20averages/Water_body_nitrate.4Danl.nc\")"
   ]
  },
  {
   "cell_type": "code",
   "execution_count": 12,
   "metadata": {},
   "outputs": [
    {
     "data": {
      "image/png": "[encoded data removed]",
      "text/plain": [
       "PyPlot.Figure(PyObject <matplotlib.figure.Figure object at 0x7fe20dcc61d0>)"
      ]
     },
     "metadata": {},
     "output_type": "display_data"
    }
   ],
   "source": [
    "Nlon = Nnc[\"lon\"][:];\n",
    "Nlat = Nnc[\"lat\"][:];\n",
    "Ntime = Nnc[\"time\"][:];\n",
    "n = find(Dates.year.(Ntime) .== 2000)[1]\n",
    "nitrate = Nnc[\"Water_body_nitrate\"][:,:,end,n];\n",
    "\n",
    "pcol(Nlon,Nlat,nitrate');colorbar(); clim(0,2)\n"
   ]
  },
  {
   "cell_type": "code",
   "execution_count": 13,
   "metadata": {},
   "outputs": [
    {
     "data": {
      "image/png": "[encoded data removed]",
      "text/plain": [
       "PyPlot.Figure(PyObject <matplotlib.figure.Figure object at 0x7fe20dcde310>)"
      ]
     },
     "metadata": {},
     "output_type": "display_data"
    },
    {
     "data": {
      "text/plain": [
       "1-element Array{PyCall.PyObject,1}:\n",
       " PyObject <matplotlib.lines.Line2D object at 0x7fe20d771410>"
      ]
     },
     "execution_count": 13,
     "metadata": {},
     "output_type": "execute_result"
    }
   ],
   "source": [
    "size(nitrate[:])\n",
    "size(phosphate[:])\n",
    "\n",
    "valid = .!isna.(nitrate[:]) .& .!isna.(phosphate[:])\n",
    "\n",
    "plot(nitrate[valid].data,phosphate[valid].data,\".\")\n"
   ]
  }
 ],
 "metadata": {
  "kernelspec": {
   "display_name": "Julia 0.6.0",
   "language": "julia",
   "name": "julia-0.6"
  },
  "language_info": {
   "file_extension": ".jl",
   "mimetype": "application/julia",
   "name": "julia",
   "version": "0.6.0"
  }
 },
 "nbformat": 4,
 "nbformat_minor": 2
}
