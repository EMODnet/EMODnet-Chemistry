{
 "cells": [
  {
   "cell_type": "code",
   "execution_count": 32,
   "id": "72d3e163-c541-4b94-9f96-de79ee6069ad",
   "metadata": {},
   "outputs": [],
   "source": [
    "import os\n",
    "import numpy as np\n",
    "import cmocean\n",
    "import scipy\n",
    "import emodnetchemistry\n",
    "import cartopy.crs as ccrs\n",
    "import matplotlib.pyplot as plt\n",
    "import cartopy.feature as cfeature\n",
    "from matplotlib.patches import Polygon\n",
    "coast = cfeature.GSHHSFeature(scale=\"i\")\n",
    "from importlib import reload\n",
    "reload(emodnetchemistry)\n",
    "plt.style.use(\"./EMODnet.mplstyle\")"
   ]
  },
  {
   "cell_type": "code",
   "execution_count": 28,
   "id": "ac640ae1-7152-4f1d-aa55-408862148781",
   "metadata": {},
   "outputs": [],
   "source": [
    "figdir = \"/home/ctroupin/Projects/EMODnet/EMODnet-Chemistry/figures/\"\n",
    "datafile = \"/home/ctroupin/data/EMODnet/Bathymetry/caribbean_2022.nc\""
   ]
  },
  {
   "cell_type": "code",
   "execution_count": 29,
   "id": "deaf3ba3-bd66-4feb-8f19-b11199e4cd61",
   "metadata": {},
   "outputs": [],
   "source": [
    "with netCDF4.Dataset(datafile, \"r\") as ds:\n",
    "    lon = ds[\"lon\"][:]\n",
    "    lat = ds[\"lat\"][:]\n",
    "    bathy = ds[\"elevation\"][:,:]"
   ]
  },
  {
   "cell_type": "code",
   "execution_count": 50,
   "id": "41c2ac1b-07a3-4a5f-be1d-52195ec80f4a",
   "metadata": {},
   "outputs": [],
   "source": [
    "domain = [lon.min(), lon.max(), lat.min(), lat.max()]\n",
    "cmap = plt.get_cmap('cmo.deep_r', 25)    # 11 discrete colors\n",
    "cmap.set_bad(\"black\")"
   ]
  },
  {
   "cell_type": "code",
   "execution_count": 51,
   "id": "9eece96b-f564-481b-839a-244e014a86f4",
   "metadata": {},
   "outputs": [],
   "source": [
    "fig = plt.figure()\n",
    "ax = plt.subplot(111, projection=ccrs.Mercator())\n",
    "ax.set_extent(domain)\n",
    "topo = ax.imshow(bathy, extent=domain, cmap=cmap, transform=ccrs.PlateCarree())\n",
    "gl = ax.gridlines(crs=ccrs.PlateCarree(), draw_labels=True,\n",
    "                  linewidth=0.5, color='gray', alpha=0.5, linestyle='--')\n",
    "gl.top_labels = False\n",
    "gl.right_labels = False\n",
    "cb = plt.colorbar(topo)\n",
    "cb.set_label(\"Bathymetry\\n(m)\", rotation=0, ha=\"left\")\n",
    "plt.savefig(os.path.join(figdir, \"bathy_caribbean\"))\n",
    "plt.close()"
   ]
  },
  {
   "cell_type": "code",
   "execution_count": 53,
   "id": "27ce355b-b233-4000-a44d-557ef4da3d0f",
   "metadata": {},
   "outputs": [],
   "source": [
    "fig = plt.figure()\n",
    "ax = plt.subplot(111, projection=ccrs.LambertAzimuthalEqualArea())\n",
    "ax.set_extent(domain)\n",
    "topo = ax.imshow(bathy, extent=domain, cmap=cmap, transform=ccrs.PlateCarree())\n",
    "gl = ax.gridlines(crs=ccrs.PlateCarree(), draw_labels=True,\n",
    "                  linewidth=0.5, color='gray', alpha=0.5, linestyle='--')\n",
    "gl.top_labels = False\n",
    "gl.right_labels = False\n",
    "cb = plt.colorbar(topo)\n",
    "cb.set_label(\"Bathymetry\\n(m)\", rotation=0, ha=\"left\")\n",
    "plt.savefig(os.path.join(figdir, \"bathy_caribbean_laea\"))\n",
    "plt.close()"
   ]
  },
  {
   "cell_type": "code",
   "execution_count": 54,
   "id": "7985a920-0ef7-4c32-8cde-cf70a0853317",
   "metadata": {},
   "outputs": [
    {
     "data": {
      "text/plain": [
       "[np.float64(-70.49947916666666),\n",
       " np.float64(-59.50052083334333),\n",
       " np.float64(11.000520833333333),\n",
       " np.float64(18.999479166667918)]"
      ]
     },
     "execution_count": 54,
     "metadata": {},
     "output_type": "execute_result"
    }
   ],
   "source": [
    "domain"
   ]
  },
  {
   "cell_type": "code",
   "execution_count": null,
   "id": "00aa2939-b511-48e8-be40-5a1a2591259e",
   "metadata": {},
   "outputs": [],
   "source": []
  }
 ],
 "metadata": {
  "kernelspec": {
   "display_name": "EMODnetChemistry",
   "language": "python",
   "name": "emodnetchemistry"
  },
  "language_info": {
   "codemirror_mode": {
    "name": "ipython",
    "version": 3
   },
   "file_extension": ".py",
   "mimetype": "text/x-python",
   "name": "python",
   "nbconvert_exporter": "python",
   "pygments_lexer": "ipython3",
   "version": "3.12.6"
  }
 },
 "nbformat": 4,
 "nbformat_minor": 5
}
