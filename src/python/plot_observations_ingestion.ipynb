{
 "cells": [
  {
   "cell_type": "code",
   "execution_count": 69,
   "id": "existing-optimum",
   "metadata": {},
   "outputs": [],
   "source": [
    "import os\n",
    "import matplotlib.pyplot as plt\n",
    "import cartopy\n",
    "import cartopy.crs as ccrs\n",
    "import cartopy.feature as cfeature\n",
    "import netCDF4\n",
    "import cmocean\n",
    "import numpy as np\n",
    "from pyproj import Transformer\n",
    "from pyproj import CRS\n",
    "import cartopy.mpl.gridliner as gridliner\n",
    "import matplotlib.ticker as mticker\n",
    "import cartopy.mpl.ticker as cartopyticker\n",
    "lon_formatter = cartopyticker.LongitudeFormatter()\n",
    "lat_formatter = cartopyticker.LatitudeFormatter()\n",
    "coordinates = [-31., 23., 46., 64]\n",
    "figdir = \"../figures/Video/\""
   ]
  },
  {
   "cell_type": "code",
   "execution_count": 2,
   "id": "happy-donor",
   "metadata": {},
   "outputs": [],
   "source": [
    "# Start projection\n",
    "myproj = cartopy.crs.Mercator(central_longitude=0.5 * (coordinates[0] + coordinates[1]), \n",
    "                     min_latitude=coordinates[2], max_latitude=coordinates[3], \n",
    "                     globe=None, latitude_true_scale=None)"
   ]
  },
  {
   "cell_type": "code",
   "execution_count": 4,
   "id": "absent-escape",
   "metadata": {},
   "outputs": [],
   "source": [
    "# Read data\n",
    "datafile = \"../figures/Video/data_from_contaminants_data.nc\"\n",
    "datafile2 = \"../figures/Video/data_from_chl_data.nc\"\n",
    "\n",
    "with netCDF4.Dataset(datafile, \"r\") as nc:\n",
    "    lon = nc.variables[\"longitude\"][:]\n",
    "    lat = nc.variables[\"latitude\"][:]\n",
    "    field = nc.variables[\"var2\"][:]\n",
    "    \n",
    "with netCDF4.Dataset(datafile2, \"r\") as nc:\n",
    "    lon2 = nc.variables[\"longitude\"][:]\n",
    "    lat2 = nc.variables[\"latitude\"][:]\n",
    "    field2 = nc.variables[\"var2\"][:,0]"
   ]
  },
  {
   "cell_type": "markdown",
   "id": "directed-swiss",
   "metadata": {},
   "source": [
    "## Contaminant"
   ]
  },
  {
   "cell_type": "code",
   "execution_count": 63,
   "id": "appointed-august",
   "metadata": {},
   "outputs": [],
   "source": [
    "fig = plt.figure(figsize=(12, 12))\n",
    "ax = plt.axes(projection=myproj)\n",
    "\n",
    "#ax.coastlines()\n",
    "scat = ax.scatter(lon, lat, s=6, c=field, vmin=0., vmax=10., \n",
    "                  cmap=plt.cm.inferno_r, zorder=5,\n",
    "                  transform=ccrs.PlateCarree())\n",
    "cb = plt.colorbar(scat, extend=\"max\", shrink=.5, pad=0.02)\n",
    "cb.set_label(\"[$\\mu$g/kg]\", rotation=0, ha=\"left\", labelpad=-12.5)\n",
    "\n",
    "ax.add_wms(wms='http://ows.emodnet-bathymetry.eu/wms',\n",
    "               layers=['emodnet:mean_atlas_land', 'coastlines'],\n",
    "               transform=myproj)\n",
    "ax.set_extent(coordinates)\n",
    "\n",
    "gl = ax.gridlines(crs=ccrs.PlateCarree(), draw_labels=True,\n",
    "                  linewidth=.5, color='gray', alpha=0.5, linestyle='-')\n",
    "gl.xlabels_top = False\n",
    "gl.ylabels_right = False\n",
    "gl.xlocator = mticker.FixedLocator(np.arange(-30., 21., 10.))\n",
    "gl.ylocator = mticker.FixedLocator(np.arange(50, 61., 5.))\n",
    "\n",
    "\n",
    "plt.title(\"Pyrene per unit dry weight of sediment <2000 $\\mu$m\")\n",
    "plt.savefig(os.path.join(figdir, \"contaminants.png\"), dpi=300, bbox_inches=\"tight\",\n",
    "            facecolor=\"w\", transparent=False)\n",
    "# plt.show()\n",
    "plt.close()"
   ]
  },
  {
   "cell_type": "markdown",
   "id": "fatal-robinson",
   "metadata": {},
   "source": [
    "## Chlorophyll"
   ]
  },
  {
   "cell_type": "code",
   "execution_count": 61,
   "id": "hybrid-pilot",
   "metadata": {},
   "outputs": [],
   "source": [
    "fig = plt.figure(figsize=(12, 12))\n",
    "ax = plt.subplot(111, projection=myproj)\n",
    "\n",
    "scat = ax.scatter(lon2, lat2, s=5, c=field2, \n",
    "                  vmin=0., vmax=1., cmap=cmocean.cm.algae,\n",
    "                  transform=ccrs.PlateCarree())\n",
    "\n",
    "cb = plt.colorbar(scat, extend=\"max\", shrink=.5, pad=0.02)\n",
    "cb.set_label(\"[mg/m$^3$]\", rotation=0, ha=\"left\", labelpad=-12.5)\n",
    "\n",
    "ax.set_extent(coordinates)\n",
    "\n",
    "ax.add_wms(wms='http://ows.emodnet-bathymetry.eu/wms',\n",
    "               layers=['emodnet:mean_atlas_land', 'coastlines'],\n",
    "               transform=myproj)\n",
    "\n",
    "\n",
    "gl = ax.gridlines(crs=ccrs.PlateCarree(), draw_labels=True,\n",
    "                  linewidth=.5, color='gray', alpha=0.5, linestyle='-')\n",
    "gl.xlabels_top = False\n",
    "gl.ylabels_right = False\n",
    "gl.xlocator = mticker.FixedLocator(np.arange(-30., 21., 10.))\n",
    "gl.ylocator = mticker.FixedLocator(np.arange(50, 61., 5.))\n",
    "\n",
    "\n",
    "plt.title(\"Water body chlorophyll-a\")\n",
    "\n",
    "\n",
    "plt.savefig(os.path.join(figdir, \"chlorophyll_v03.png\"), dpi=300, bbox_inches=\"tight\", \n",
    "            facecolor=\"w\", transparent=False)\n",
    "# plt.show()\n",
    "plt.close()"
   ]
  },
  {
   "cell_type": "markdown",
   "id": "flexible-official",
   "metadata": {},
   "source": [
    "## Mercury"
   ]
  },
  {
   "cell_type": "code",
   "execution_count": 107,
   "id": "civilian-battlefield",
   "metadata": {},
   "outputs": [],
   "source": [
    "fig = plt.figure(figsize=(12, 12))\n",
    "ax = plt.subplot(111, projection=myproj)\n",
    "\n",
    "ax.coastlines()\n",
    "\n",
    "pcm = ax.pcolormesh(lon3, lat3, phosph, cmap=plt.cm.inferno_r, zorder=3,\n",
    "                    vmin=0., vmax=2.,\n",
    "                    transform=ccrs.PlateCarree(), alpha=.6)\n",
    "\n",
    "cb = plt.colorbar(pcm, extend=\"max\", shrink=.5, pad=0.02)\n",
    "cb.set_label(\"[$\\mu$mol/l]\", rotation=0, ha=\"left\", labelpad=-12.5, y=.55)\n",
    "\n",
    "ax.add_wms(wms='http://ows.emodnet-bathymetry.eu/wms',\n",
    "               layers=['emodnet:mean_atlas_land', 'coastlines'],\n",
    "               transform=myproj, zorder=2)\n",
    "\n",
    "ax.add_wms(wms='https://nodc.inogs.it/geoserver/Contaminants/wms',\n",
    "           layers='Contaminants:Mercury_a_LOD_LOQ_stations0',\n",
    "           transform=myproj, zorder=4, alpha=.85)\n",
    "\n",
    "\n",
    "ax.set_extent(coordinates)\n",
    "\n",
    "#ax.add_wms(wms='http://ows.emodnet-bathymetry.eu/wms',\n",
    "#               layers=['emodnet:mean_atlas_land', 'coastlines'],\n",
    "#               transform=myproj)\n",
    "\n",
    "\n",
    "gl = ax.gridlines(crs=ccrs.PlateCarree(), draw_labels=True,\n",
    "                  linewidth=.5, color='gray', alpha=0.5, linestyle='-')\n",
    "gl.xlabels_top = False\n",
    "gl.ylabels_right = False\n",
    "gl.xlocator = mticker.FixedLocator(np.arange(-30., 21., 10.))\n",
    "gl.ylocator = mticker.FixedLocator(np.arange(50, 61., 5.))\n",
    "\n",
    "\n",
    "#plt.title(\"Water body chlorophyll-a\")\n",
    "\n",
    "\n",
    "plt.savefig(os.path.join(figdir, \"eutrophicationv4b.png\"), dpi=300, bbox_inches=\"tight\", \n",
    "            facecolor=\"w\", transparent=False)\n",
    "# plt.show()\n",
    "plt.close()"
   ]
  },
  {
   "cell_type": "code",
   "execution_count": 91,
   "id": "formed-detector",
   "metadata": {},
   "outputs": [],
   "source": [
    "datafile = \"/media/ctroupin/My Passport/data/EMODnet/Chemistry/Water_body_phosphate.4Danl.nc\"\n",
    "with netCDF4.Dataset(datafile, \"r\") as nc:\n",
    "    lon3 = nc.variables[\"lon\"][:]\n",
    "    lat3 = nc.variables[\"lat\"][:]\n",
    "    time = nc.variables[\"time\"][:]\n",
    "    depth = nc.variables[\"depth\"][:]\n",
    "    timeunits = nc.variables[\"time\"].units\n",
    "    dates = netCDF4.num2date(time, timeunits)\n",
    "    phosph = nc.variables[\"Water_body_phosphate_L2\"][17,-1,:,:]"
   ]
  }
 ],
 "metadata": {
  "@webio": {
   "lastCommId": null,
   "lastKernelId": null
  },
  "kernelspec": {
   "display_name": "EMODnetPlot",
   "language": "python",
   "name": "emodnetplot"
  },
  "language_info": {
   "codemirror_mode": {
    "name": "ipython",
    "version": 3
   },
   "file_extension": ".py",
   "mimetype": "text/x-python",
   "name": "python",
   "nbconvert_exporter": "python",
   "pygments_lexer": "ipython3",
   "version": "3.8.0"
  }
 },
 "nbformat": 4,
 "nbformat_minor": 5
}
