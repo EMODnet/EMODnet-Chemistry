{
 "cells": [
  {
   "cell_type": "markdown",
   "metadata": {},
   "source": [
    "# Make data histograms\n",
    "Plot the locations of the profiles for the different regions. "
   ]
  },
  {
   "cell_type": "code",
   "execution_count": 11,
   "metadata": {},
   "outputs": [],
   "source": [
    "import os\n",
    "import glob\n",
    "import netCDF4\n",
    "import logging\n",
    "import numpy as np\n",
    "import emodnetchemistry\n",
    "import matplotlib.pyplot as plt\n",
    "import matplotlib.colors as colors\n",
    "import calendar\n",
    "from importlib import reload\n",
    "reload(emodnetchemistry)\n",
    "plt.style.use(\"./EMODnet.mplstyle\")"
   ]
  },
  {
   "cell_type": "code",
   "execution_count": 4,
   "metadata": {},
   "outputs": [],
   "source": [
    "logger = logging.getLogger(\"EMODnet-Chemistry-Data\")\n",
    "logger.setLevel(logging.INFO)\n",
    "logging.info(\"Starting\")"
   ]
  },
  {
   "cell_type": "markdown",
   "metadata": {},
   "source": [
    "## Paths"
   ]
  },
  {
   "cell_type": "code",
   "execution_count": 8,
   "metadata": {},
   "outputs": [],
   "source": [
    "datadir = \"/home/ctroupin/data/EMODnet-Chemistry/Eutrophication2024/netCDF/\"\n",
    "datadirTS = os.path.join(datadir, \"timeseries/\")\n",
    "figdir = \"/home/ctroupin/Projects/EMODnet/EMODnet-Chemistry/figures/2024\"\n",
    "\n",
    "if not os.path.exists(figdir):\n",
    "    os.makedirs(figdir)\n",
    "varlist = [\"phosphate\", \"silicate\", \"ammonium\", \"chlorophyll-a\", \n",
    "           \"dissolved_inorganic_nitrogen\", \"dissolved_oxygen\"]\n",
    "\n",
    "varlistfig = [\"Phosphate\", \"Silicate\", \"Ammonium\", \"Chlorophyll-a\", \n",
    "           \"Dissolved Inorganic Nitrogen\", \"Dissolved Oxygen\"]"
   ]
  },
  {
   "cell_type": "markdown",
   "metadata": {},
   "source": [
    "## Loop on the variables"
   ]
  },
  {
   "cell_type": "code",
   "execution_count": 21,
   "metadata": {},
   "outputs": [
    {
     "name": "stderr",
     "output_type": "stream",
     "text": [
      "INFO:EMODnet-Chemistry-Data:Working on variable phosphate\n",
      "INFO:EMODnet-Chemistry-Data:Working on 7 files\n",
      "INFO:EMODnet-Chemistry-Data:Working on /home/ctroupin/data/EMODnet-Chemistry/Eutrophication2024/netCDF/ArcticSea_Water_body_phosphate.nc\n",
      "INFO:EMODnet-Chemistry-Data:Working on /home/ctroupin/data/EMODnet-Chemistry/Eutrophication2024/netCDF/Atlantic_Water_body_phosphate.nc\n",
      "INFO:EMODnet-Chemistry-Data:Working on /home/ctroupin/data/EMODnet-Chemistry/Eutrophication2024/netCDF/BalticSea_Water_body_phosphate.nc\n",
      "INFO:EMODnet-Chemistry-Data:Working on /home/ctroupin/data/EMODnet-Chemistry/Eutrophication2024/netCDF/BlackSea_Water_body_phosphate.nc\n",
      "INFO:EMODnet-Chemistry-Data:Working on /home/ctroupin/data/EMODnet-Chemistry/Eutrophication2024/netCDF/Caribbean_Water_body_phosphate.nc\n",
      "INFO:EMODnet-Chemistry-Data:Working on /home/ctroupin/data/EMODnet-Chemistry/Eutrophication2024/netCDF/Mediterranean_Water_body_phosphate.nc\n",
      "INFO:EMODnet-Chemistry-Data:Working on /home/ctroupin/data/EMODnet-Chemistry/Eutrophication2024/netCDF/NorthSea_Water_body_phosphate.nc\n",
      "INFO:EMODnet-Chemistry-Data:Creating histograms\n",
      "INFO:EMODnet-Chemistry-Data:Working on variable silicate\n",
      "INFO:EMODnet-Chemistry-Data:Working on 7 files\n",
      "INFO:EMODnet-Chemistry-Data:Working on /home/ctroupin/data/EMODnet-Chemistry/Eutrophication2024/netCDF/ArcticSea_Water_body_silicate.nc\n",
      "INFO:EMODnet-Chemistry-Data:Working on /home/ctroupin/data/EMODnet-Chemistry/Eutrophication2024/netCDF/Atlantic_Water_body_silicate.nc\n",
      "INFO:EMODnet-Chemistry-Data:Working on /home/ctroupin/data/EMODnet-Chemistry/Eutrophication2024/netCDF/BalticSea_Water_body_silicate.nc\n",
      "INFO:EMODnet-Chemistry-Data:Working on /home/ctroupin/data/EMODnet-Chemistry/Eutrophication2024/netCDF/BlackSea_Water_body_silicate.nc\n",
      "INFO:EMODnet-Chemistry-Data:Working on /home/ctroupin/data/EMODnet-Chemistry/Eutrophication2024/netCDF/Caribbean_Water_body_silicate.nc\n",
      "INFO:EMODnet-Chemistry-Data:Working on /home/ctroupin/data/EMODnet-Chemistry/Eutrophication2024/netCDF/Mediterranean_Water_body_silicate.nc\n",
      "INFO:EMODnet-Chemistry-Data:Working on /home/ctroupin/data/EMODnet-Chemistry/Eutrophication2024/netCDF/NorthSea_Water_body_silicate.nc\n",
      "INFO:EMODnet-Chemistry-Data:Creating histograms\n",
      "INFO:EMODnet-Chemistry-Data:Working on variable ammonium\n",
      "INFO:EMODnet-Chemistry-Data:Working on 6 files\n",
      "INFO:EMODnet-Chemistry-Data:Working on /home/ctroupin/data/EMODnet-Chemistry/Eutrophication2024/netCDF/ArcticSea_Water_body_ammonium.nc\n",
      "INFO:EMODnet-Chemistry-Data:Working on /home/ctroupin/data/EMODnet-Chemistry/Eutrophication2024/netCDF/Atlantic_Water_body_ammonium.nc\n",
      "INFO:EMODnet-Chemistry-Data:Working on /home/ctroupin/data/EMODnet-Chemistry/Eutrophication2024/netCDF/BalticSea_Water_body_ammonium.nc\n",
      "INFO:EMODnet-Chemistry-Data:Working on /home/ctroupin/data/EMODnet-Chemistry/Eutrophication2024/netCDF/BlackSea_Water_body_ammonium.nc\n",
      "INFO:EMODnet-Chemistry-Data:Working on /home/ctroupin/data/EMODnet-Chemistry/Eutrophication2024/netCDF/Mediterranean_Water_body_ammonium.nc\n",
      "INFO:EMODnet-Chemistry-Data:Working on /home/ctroupin/data/EMODnet-Chemistry/Eutrophication2024/netCDF/NorthSea_Water_body_ammonium.nc\n",
      "INFO:EMODnet-Chemistry-Data:Creating histograms\n",
      "INFO:EMODnet-Chemistry-Data:Working on variable chlorophyll-a\n",
      "INFO:EMODnet-Chemistry-Data:Working on 7 files\n",
      "INFO:EMODnet-Chemistry-Data:Working on /home/ctroupin/data/EMODnet-Chemistry/Eutrophication2024/netCDF/ArcticSea_Water_body_chlorophyll-a.nc\n",
      "INFO:EMODnet-Chemistry-Data:Working on /home/ctroupin/data/EMODnet-Chemistry/Eutrophication2024/netCDF/Atlantic_Water_body_chlorophyll-a.nc\n",
      "INFO:EMODnet-Chemistry-Data:Working on /home/ctroupin/data/EMODnet-Chemistry/Eutrophication2024/netCDF/BalticSea_Water_body_chlorophyll-a.nc\n",
      "INFO:EMODnet-Chemistry-Data:Working on /home/ctroupin/data/EMODnet-Chemistry/Eutrophication2024/netCDF/BlackSea_Water_body_chlorophyll-a.nc\n",
      "INFO:EMODnet-Chemistry-Data:Working on /home/ctroupin/data/EMODnet-Chemistry/Eutrophication2024/netCDF/Caribbean_Water_body_chlorophyll-a.nc\n",
      "INFO:EMODnet-Chemistry-Data:Working on /home/ctroupin/data/EMODnet-Chemistry/Eutrophication2024/netCDF/Mediterranean_Water_body_chlorophyll-a.nc\n",
      "INFO:EMODnet-Chemistry-Data:Working on /home/ctroupin/data/EMODnet-Chemistry/Eutrophication2024/netCDF/NorthSea_Water_body_chlorophyll-a.nc\n",
      "INFO:EMODnet-Chemistry-Data:Creating histograms\n",
      "INFO:EMODnet-Chemistry-Data:Working on variable dissolved_inorganic_nitrogen\n",
      "INFO:EMODnet-Chemistry-Data:Working on 5 files\n",
      "INFO:EMODnet-Chemistry-Data:Working on /home/ctroupin/data/EMODnet-Chemistry/Eutrophication2024/netCDF/ArcticSea_Water_body_dissolved_inorganic_nitrogen.nc\n",
      "INFO:EMODnet-Chemistry-Data:Working on /home/ctroupin/data/EMODnet-Chemistry/Eutrophication2024/netCDF/Atlantic_Water_body_dissolved_inorganic_nitrogen.nc\n",
      "INFO:EMODnet-Chemistry-Data:Working on /home/ctroupin/data/EMODnet-Chemistry/Eutrophication2024/netCDF/BlackSea_Water_body_dissolved_inorganic_nitrogen.nc\n",
      "INFO:EMODnet-Chemistry-Data:Working on /home/ctroupin/data/EMODnet-Chemistry/Eutrophication2024/netCDF/Mediterranean_Water_body_dissolved_inorganic_nitrogen.nc\n",
      "INFO:EMODnet-Chemistry-Data:Working on /home/ctroupin/data/EMODnet-Chemistry/Eutrophication2024/netCDF/NorthSea_Water_body_dissolved_inorganic_nitrogen.nc\n",
      "INFO:EMODnet-Chemistry-Data:Creating histograms\n",
      "INFO:EMODnet-Chemistry-Data:Working on variable dissolved_oxygen\n",
      "INFO:EMODnet-Chemistry-Data:Working on 7 files\n",
      "INFO:EMODnet-Chemistry-Data:Working on /home/ctroupin/data/EMODnet-Chemistry/Eutrophication2024/netCDF/ArcticSea_Water_body_dissolved_oxygen_concentration.nc\n",
      "INFO:EMODnet-Chemistry-Data:Working on /home/ctroupin/data/EMODnet-Chemistry/Eutrophication2024/netCDF/Atlantic_Water_body_dissolved_oxygen_concentration.nc\n",
      "INFO:EMODnet-Chemistry-Data:Working on /home/ctroupin/data/EMODnet-Chemistry/Eutrophication2024/netCDF/BalticSea_Water_body_dissolved_oxygen_concentration.nc\n",
      "INFO:EMODnet-Chemistry-Data:Working on /home/ctroupin/data/EMODnet-Chemistry/Eutrophication2024/netCDF/BlackSea_Water_body_dissolved_oxygen_concentration.nc\n",
      "INFO:EMODnet-Chemistry-Data:Working on /home/ctroupin/data/EMODnet-Chemistry/Eutrophication2024/netCDF/Caribbean_Water_body_dissolved_oxygen_concentration.nc\n",
      "INFO:EMODnet-Chemistry-Data:Working on /home/ctroupin/data/EMODnet-Chemistry/Eutrophication2024/netCDF/Mediterranean_Water_body_dissolved_oxygen_concentration.nc\n",
      "INFO:EMODnet-Chemistry-Data:Working on /home/ctroupin/data/EMODnet-Chemistry/Eutrophication2024/netCDF/NorthSea_Water_body_dissolved_oxygen_concentration.nc\n",
      "INFO:EMODnet-Chemistry-Data:Creating histograms\n"
     ]
    }
   ],
   "source": [
    "reload(emodnetchemistry)\n",
    "for varname in varlist:\n",
    "    logger.info(\"Working on variable {}\".format(varname))\n",
    "    datafilelist = sorted(glob.glob(os.path.join(datadir, f\"*{varname}*.nc\")))\n",
    "    nfiles = len(datafilelist)\n",
    "    logger.info(\"Working on {} files\".format(nfiles))\n",
    "    datafilelist\n",
    "\n",
    "    timeobs = np.array([])\n",
    "    dateobs = np.array([])\n",
    "    obsdepth = np.array([])\n",
    "    \n",
    "    years = []\n",
    "    months = []\n",
    "    obsval = []\n",
    "\n",
    "        \n",
    "    for datafile in datafilelist:\n",
    "        \n",
    "        logger.info(\"Working on {}\".format(datafile))\n",
    "        regionkey = os.path.basename(datafile).split(\"_\")[0]\n",
    "        \n",
    "        with netCDF4.Dataset(datafile, \"r\") as nc:\n",
    "            \n",
    "            # Read all variables from netCDF file\n",
    "            varnamenc = (list(nc.variables.keys())[-1])\n",
    "            logger.debug(\"Name in netCDF file: {}\".format(varnamenc))\n",
    "            timeunits = nc.variables[\"obstime\"].units\n",
    "            times = nc.variables[\"obstime\"][:]\n",
    "            depth = nc.variables[\"obsdepth\"][:]\n",
    "            values = nc.variables[varnamenc][:]\n",
    "            dates = netCDF4.num2date(times, timeunits, only_use_cftime_datetimes=False)\n",
    "            \n",
    "            # Append vectors\n",
    "            obsdepth = np.append(obsdepth, depth)\n",
    "            \n",
    "            months_region = [dd.month for dd in dates.data] \n",
    "            years_region = [dd.year for dd in dates.data]\n",
    "            \n",
    "            years.append(years_region)\n",
    "            months.append(months_region)\n",
    "            obsval.append(values)\n",
    "                \n",
    "    \n",
    "    logger.info(\"Creating histograms\")\n",
    "    # emodnetchemistry.make_histo_values(obsval, varname, figdir, stack=True)\n",
    "    # emodnetchemistry.make_histo_month(months, varname, figdir, stack=True)\n",
    "    #emodnetchemistry.make_histo_year(years, varname, figdir, stack=True)"
   ]
  },
  {
   "cell_type": "code",
   "execution_count": null,
   "metadata": {},
   "outputs": [],
   "source": [
    "obsdep"
   ]
  },
  {
   "cell_type": "markdown",
   "metadata": {},
   "source": [
    "## Depth polar plot"
   ]
  },
  {
   "cell_type": "code",
   "execution_count": 10,
   "metadata": {
    "scrolled": true
   },
   "outputs": [
    {
     "ename": "TypeError",
     "evalue": "only integer scalar arrays can be converted to a scalar index",
     "output_type": "error",
     "traceback": [
      "\u001b[0;31m---------------------------------------------------------------------------\u001b[0m",
      "\u001b[0;31mTypeError\u001b[0m                                 Traceback (most recent call last)",
      "\u001b[0;32m<ipython-input-10-2f1468f0ac1d>\u001b[0m in \u001b[0;36m<module>\u001b[0;34m\u001b[0m\n\u001b[0;32m----> 1\u001b[0;31m emodnetchemistry.plot_month_depth_ndata(obsdepth, months, \n\u001b[0m\u001b[1;32m      2\u001b[0m                                         os.path.join(figdir, \"month_depth_histo_{}\".format(varname)))\n",
      "\u001b[0;32m~/Projects/EMODnet/Chemistry/EMODnet-Chemistry/python/emodnetchemistry.py\u001b[0m in \u001b[0;36mplot_month_depth_ndata\u001b[0;34m(obsdepth, months, figname, depthlist)\u001b[0m\n\u001b[1;32m    855\u001b[0m         \u001b[0;31m# Find data above (i.e., shallower than) the considered depth\u001b[0m\u001b[0;34m\u001b[0m\u001b[0;34m\u001b[0m\u001b[0;34m\u001b[0m\u001b[0m\n\u001b[1;32m    856\u001b[0m         \u001b[0mdepthselector\u001b[0m \u001b[0;34m=\u001b[0m \u001b[0mnp\u001b[0m\u001b[0;34m.\u001b[0m\u001b[0mwhere\u001b[0m\u001b[0;34m(\u001b[0m\u001b[0mobsdepth\u001b[0m \u001b[0;34m<=\u001b[0m \u001b[0mdd\u001b[0m\u001b[0;34m)\u001b[0m\u001b[0;34m[\u001b[0m\u001b[0;36m0\u001b[0m\u001b[0;34m]\u001b[0m\u001b[0;34m\u001b[0m\u001b[0;34m\u001b[0m\u001b[0m\n\u001b[0;32m--> 857\u001b[0;31m         \u001b[0mmonthsdepth\u001b[0m \u001b[0;34m=\u001b[0m \u001b[0mmonths\u001b[0m\u001b[0;34m[\u001b[0m\u001b[0mdepthselector\u001b[0m\u001b[0;34m]\u001b[0m\u001b[0;34m\u001b[0m\u001b[0;34m\u001b[0m\u001b[0m\n\u001b[0m\u001b[1;32m    858\u001b[0m \u001b[0;34m\u001b[0m\u001b[0m\n\u001b[1;32m    859\u001b[0m         \u001b[0;31m# Loop on the month\u001b[0m\u001b[0;34m\u001b[0m\u001b[0;34m\u001b[0m\u001b[0;34m\u001b[0m\u001b[0m\n",
      "\u001b[0;31mTypeError\u001b[0m: only integer scalar arrays can be converted to a scalar index"
     ]
    },
    {
     "data": {
      "image/png": "[encoded data removed]",
      "text/plain": [
       "<Figure size 720x720 with 1 Axes>"
      ]
     },
     "metadata": {},
     "output_type": "display_data"
    }
   ],
   "source": [
    "emodnetchemistry.plot_month_depth_ndata(obsdepth, months, \n",
    "                                        os.path.join(figdir, \"month_depth_histo_{}\".format(varname)))"
   ]
  },
  {
   "cell_type": "markdown",
   "metadata": {},
   "source": [
    "## Counting by region and variable"
   ]
  },
  {
   "cell_type": "code",
   "execution_count": 13,
   "metadata": {},
   "outputs": [
    {
     "name": "stderr",
     "output_type": "stream",
     "text": [
      "INFO:EMODnet-Chemistry-Data:ammonium | ArcticSea | 1318\n",
      "INFO:EMODnet-Chemistry-Data:ammonium | Atlantic | 17191\n",
      "INFO:EMODnet-Chemistry-Data:ammonium | BalticSea | 321335\n",
      "INFO:EMODnet-Chemistry-Data:ammonium | BlackSea | 53061\n",
      "INFO:EMODnet-Chemistry-Data:ammonium | Mediterranean | 76151\n",
      "INFO:EMODnet-Chemistry-Data:ammonium | NorthSea | 16166\n",
      "INFO:EMODnet-Chemistry-Data:chlorophyll-a | ArcticSea | 3841396\n",
      "INFO:EMODnet-Chemistry-Data:chlorophyll-a | Atlantic | 1928209\n",
      "INFO:EMODnet-Chemistry-Data:chlorophyll-a | BalticSea | 608098\n",
      "INFO:EMODnet-Chemistry-Data:chlorophyll-a | BlackSea | 47943\n",
      "INFO:EMODnet-Chemistry-Data:chlorophyll-a | Caribbean | 1075\n",
      "INFO:EMODnet-Chemistry-Data:chlorophyll-a | Mediterranean | 9427128\n",
      "INFO:EMODnet-Chemistry-Data:chlorophyll-a | NorthSea | 2823514\n",
      "INFO:EMODnet-Chemistry-Data:dissolved_inorganic_nitrogen | ArcticSea | 319\n",
      "INFO:EMODnet-Chemistry-Data:dissolved_inorganic_nitrogen | Atlantic | 19803\n",
      "INFO:EMODnet-Chemistry-Data:dissolved_inorganic_nitrogen | BlackSea | 45653\n",
      "INFO:EMODnet-Chemistry-Data:dissolved_inorganic_nitrogen | Mediterranean | 81873\n",
      "INFO:EMODnet-Chemistry-Data:dissolved_inorganic_nitrogen | NorthSea | 15342\n",
      "INFO:EMODnet-Chemistry-Data:dissolved_oxygen | ArcticSea | 4999661\n",
      "INFO:EMODnet-Chemistry-Data:dissolved_oxygen | Atlantic | 8295225\n",
      "INFO:EMODnet-Chemistry-Data:dissolved_oxygen | BalticSea | 4192986\n",
      "INFO:EMODnet-Chemistry-Data:dissolved_oxygen | BlackSea | 1075841\n",
      "INFO:EMODnet-Chemistry-Data:dissolved_oxygen | Caribbean | 30810\n",
      "INFO:EMODnet-Chemistry-Data:dissolved_oxygen | Mediterranean | 15353598\n",
      "INFO:EMODnet-Chemistry-Data:dissolved_oxygen | NorthSea | 2523211\n",
      "INFO:EMODnet-Chemistry-Data:phosphate | ArcticSea | 382203\n",
      "INFO:EMODnet-Chemistry-Data:phosphate | Atlantic | 144598\n",
      "INFO:EMODnet-Chemistry-Data:phosphate | BalticSea | 474808\n",
      "INFO:EMODnet-Chemistry-Data:phosphate | BlackSea | 99238\n",
      "INFO:EMODnet-Chemistry-Data:phosphate | Caribbean | 358\n",
      "INFO:EMODnet-Chemistry-Data:phosphate | Mediterranean | 201702\n",
      "INFO:EMODnet-Chemistry-Data:phosphate | NorthSea | 83579\n",
      "INFO:EMODnet-Chemistry-Data:silicate | ArcticSea | 345588\n",
      "INFO:EMODnet-Chemistry-Data:silicate | Atlantic | 64379\n",
      "INFO:EMODnet-Chemistry-Data:silicate | BalticSea | 386183\n",
      "INFO:EMODnet-Chemistry-Data:silicate | BlackSea | 88818\n",
      "INFO:EMODnet-Chemistry-Data:silicate | Caribbean | 73\n",
      "INFO:EMODnet-Chemistry-Data:silicate | Mediterranean | 195289\n",
      "INFO:EMODnet-Chemistry-Data:silicate | NorthSea | 81059\n"
     ]
    }
   ],
   "source": [
    "nregions = 7\n",
    "datacount = np.zeros((len(varlist), 7))\n",
    "for iivar, varname in enumerate(sorted(varlist)):\n",
    "    datafilelist = sorted(glob.glob(os.path.join(datadir, f\"*{varname}*.nc\")))\n",
    "    \n",
    "    for iifile, datafile in enumerate(datafilelist):\n",
    "        regionkey = os.path.basename(datafile).split(\"_\")[0]\n",
    "        \n",
    "        with netCDF4.Dataset(datafile, \"r\") as nc:\n",
    "            \n",
    "            npoints = len(nc.variables[\"obstime\"][:])\n",
    "            datacount[iivar, iifile] = npoints\n",
    "            logger.info(f\"{varname} | {regionkey} | {npoints}\")"
   ]
  },
  {
   "cell_type": "code",
   "execution_count": 14,
   "metadata": {},
   "outputs": [
    {
     "data": {
      "text/plain": [
       "['/home/ctroupin/data/EMODnet-Chemistry/Eutrophication2024/netCDF/ArcticSea_Water_body_silicate.nc',\n",
       " '/home/ctroupin/data/EMODnet-Chemistry/Eutrophication2024/netCDF/Atlantic_Water_body_silicate.nc',\n",
       " '/home/ctroupin/data/EMODnet-Chemistry/Eutrophication2024/netCDF/BalticSea_Water_body_silicate.nc',\n",
       " '/home/ctroupin/data/EMODnet-Chemistry/Eutrophication2024/netCDF/BlackSea_Water_body_silicate.nc',\n",
       " '/home/ctroupin/data/EMODnet-Chemistry/Eutrophication2024/netCDF/Caribbean_Water_body_silicate.nc',\n",
       " '/home/ctroupin/data/EMODnet-Chemistry/Eutrophication2024/netCDF/Mediterranean_Water_body_silicate.nc',\n",
       " '/home/ctroupin/data/EMODnet-Chemistry/Eutrophication2024/netCDF/NorthSea_Water_body_silicate.nc']"
      ]
     },
     "execution_count": 14,
     "metadata": {},
     "output_type": "execute_result"
    }
   ],
   "source": [
    "datafilelist"
   ]
  },
  {
   "cell_type": "code",
   "execution_count": 19,
   "metadata": {},
   "outputs": [
    {
     "name": "stderr",
     "output_type": "stream",
     "text": [
      "/tmp/ipykernel_97358/2131629718.py:11: UserWarning: set_ticklabels() should only be used with a fixed number of ticks, i.e. after set_ticks() or using a FixedLocator.\n",
      "  ax.set_xticklabels([\" \", \"Arctic\\nOcean\", \"Northeast\\nAtlantic\\nOcean\", \"Baltic\\nSea\", \"Black\\nSea\", \"Caribbean\\nSea\", \"Mediterranean\\nSea\",\n",
      "/tmp/ipykernel_97358/2131629718.py:16: UserWarning: set_ticklabels() should only be used with a fixed number of ticks, i.e. after set_ticks() or using a FixedLocator.\n",
      "  ax.set_yticklabels(varlistsorted, fontsize=16)\n"
     ]
    }
   ],
   "source": [
    "fig = plt.figure(figsize=(12, 12))\n",
    "ax = plt.subplot(111)\n",
    "im = ax.imshow(datacount, cmap=plt.cm.YlGn, \n",
    "               norm=colors.LogNorm(vmin=10., vmax=datacount.max()))\n",
    "\n",
    "# Add text labels\n",
    "MM, NN = datacount.shape\n",
    "for ii in range(0, MM):\n",
    "    for jj in range(0, NN):\n",
    "        ax.text(jj, ii, int(datacount[ii, jj]), ha=\"center\")\n",
    "ax.set_xticklabels([\" \", \"Arctic\\nOcean\", \"Northeast\\nAtlantic\\nOcean\", \"Baltic\\nSea\", \"Black\\nSea\", \"Caribbean\\nSea\", \"Mediterranean\\nSea\", \n",
    "                    \"North\\nSea\"], fontsize=14)\n",
    "plt.colorbar(im, shrink=.7)\n",
    "varlistsorted = sorted(varlistfig)\n",
    "varlistsorted.insert(0, \"\")\n",
    "ax.set_yticklabels(varlistsorted, fontsize=16)\n",
    "#ax.text(1.15, 0., 'plot_data_time_histo', horizontalalignment='right', verticalalignment='bottom', \n",
    "#        transform = ax.transAxes, fontsize=8)\n",
    "plt.savefig(os.path.join(figdir, \"datacount\"))\n",
    "# plt.show()\n",
    "plt.close()"
   ]
  },
  {
   "cell_type": "code",
   "execution_count": 20,
   "metadata": {},
   "outputs": [
    {
     "data": {
      "text/plain": [
       "array([], dtype=float64)"
      ]
     },
     "execution_count": 20,
     "metadata": {},
     "output_type": "execute_result"
    }
   ],
   "source": [
    "obsdepth"
   ]
  },
  {
   "cell_type": "code",
   "execution_count": null,
   "metadata": {},
   "outputs": [],
   "source": []
  }
 ],
 "metadata": {
  "@webio": {
   "lastCommId": null,
   "lastKernelId": null
  },
  "kernelspec": {
   "display_name": "EMODnetChemistry",
   "language": "python",
   "name": "emodnetchemistry"
  },
  "language_info": {
   "codemirror_mode": {
    "name": "ipython",
    "version": 3
   },
   "file_extension": ".py",
   "mimetype": "text/x-python",
   "name": "python",
   "nbconvert_exporter": "python",
   "pygments_lexer": "ipython3",
   "version": "3.12.6"
  }
 },
 "nbformat": 4,
 "nbformat_minor": 4
}
