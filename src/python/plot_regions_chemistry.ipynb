{
 "cells": [
  {
   "cell_type": "markdown",
   "metadata": {},
   "source": [
    "# Create map with the regional domains"
   ]
  },
  {
   "cell_type": "code",
   "execution_count": 1,
   "metadata": {},
   "outputs": [],
   "source": [
    "import os\n",
    "import numpy as np\n",
    "import emodnetchemistry\n",
    "import cartopy.crs as ccrs\n",
    "import matplotlib.pyplot as plt\n",
    "import cartopy.feature as cfeature\n",
    "from matplotlib.patches import Polygon\n",
    "coast = cfeature.GSHHSFeature(scale=\"i\")\n",
    "from importlib import reload\n",
    "reload(emodnetchemistry)\n",
    "plt.style.use(\"./EMODnet.mplstyle\")"
   ]
  },
  {
   "cell_type": "code",
   "execution_count": 2,
   "metadata": {},
   "outputs": [],
   "source": [
    "publifigdir = \"/home/ctroupin/Publis/emodnet-chemistry-paper/figures\"\n",
    "globalproj = ccrs.Orthographic(central_longitude=-15.0, central_latitude=40.0, globe=None)\n",
    "datacrs = ccrs.PlateCarree()"
   ]
  },
  {
   "cell_type": "code",
   "execution_count": 3,
   "metadata": {},
   "outputs": [],
   "source": [
    "arctic = emodnetchemistry.Region(-44.25, 70.0, 56.5, 83.0, 0.25, 0.125, \"Arctic Ocean\")\n",
    "atlantic = emodnetchemistry.Region(-42.0, -0.1, 24.9, 48.0, 0.1, 0.1, \"North-East Atlantic Ocean\")\n",
    "balticsea = emodnetchemistry.Region(9.4, 30.9, 53.0, 65.9, 0.1, 0.1, \"Baltic Sea\")\n",
    "blacksea = emodnetchemistry.Region(26.5, 41.95, 40.0, 47.95, 0.05, 0.05, \"Black Sea\")\n",
    "mediterranean = emodnetchemistry.Region(-7.0, 36.375, 30.0, 45.875, 0.125, 0.125, \"Mediterranean Sea\")\n",
    "northsea = emodnetchemistry.Region(-44., 13.0, 47.9, 62.0, 0.1, 0.1, \"North Sea\")\n",
    "caribbean = emodnetchemistry.Region(-70.5, -59.5, 11., 19, 0.1, 0.1, \"Caribbean Sea\")\n",
    "\n",
    "regionlist = [arctic, atlantic, balticsea, blacksea, mediterranean, northsea, caribbean]"
   ]
  },
  {
   "cell_type": "code",
   "execution_count": 4,
   "metadata": {},
   "outputs": [],
   "source": [
    "dlon = .1\n",
    "dlat = .1\n",
    "regiondict = {\"Arctic\": [[-70., 70., 56.5, 83.]],\n",
    "    \"Baltic\": [[9.4, 30.9, 53., 60.], [14. , 30.9, 60., 65.9]],\n",
    "    \"North Sea\": [[-5.4, 13., 47.9, 62.]],\n",
    "    \"Mediterranean Sea\": [[-0.8, 36.375, 30., 46.375], [-7,36.375, 30. ,43.]],\n",
    "    \"Black Sea\":[[26.5, 41.95, 40., 47.95]]\n",
    "             }"
   ]
  },
  {
   "cell_type": "code",
   "execution_count": 5,
   "metadata": {},
   "outputs": [],
   "source": [
    "reload(emodnetchemistry)\n",
    "colorlist = [\"r\", \"b\", \"g\", \"y\", \"k\", \"c\"]\n",
    "colorlist = [\"r\", \"#389900\", \"b\", \"y\", \"#FFA527\", \"#3FA89C\"]\n",
    "colorlist = [\"#66c2a5\", \"#fc8d62\", \"#8da0cb\", \"#e78ac3\", \"#a6d854\", \"#ffd92f\", \"#e5c494\"]  # From Colorbrewer2\n",
    "i = 0\n",
    "\n",
    "plt.figure(figsize=(12, 12))\n",
    "ax = plt.subplot(111, projection=globalproj)\n",
    "for region, col in zip(regionlist, colorlist):\n",
    "    region.get_rect_coords()\n",
    "    region.get_rect_patch(globalproj, facecolor=col, alpha=0.4)\n",
    "\n",
    "    ax.plot(region.lonvector, region.latvector, color=col, \n",
    "            transform=datacrs, label=region.name, linewidth=2)\n",
    "    ax.add_patch(region.rect)\n",
    "    \n",
    "xx = np.arange(-180, 180, 30)\n",
    "yy = np.arange(-90, 90, 30.)\n",
    "xxx, yyy = np.meshgrid(xx, yy)\n",
    "ax.plot(xxx.flatten(), yyy.flatten(), \"wo\", ms=.001, transform=datacrs, zorder=1)\n",
    "ax.add_feature(coast, facecolor=\".75\", edgecolor=None)\n",
    "plt.legend(fontsize=14)\n",
    "plt.savefig(os.path.join(publifigdir, \"domain_map\"))\n",
    "plt.close()"
   ]
  },
  {
   "cell_type": "code",
   "execution_count": null,
   "metadata": {},
   "outputs": [],
   "source": []
  }
 ],
 "metadata": {
  "@webio": {
   "lastCommId": null,
   "lastKernelId": null
  },
  "kernelspec": {
   "display_name": "EMODnetChemistry",
   "language": "python",
   "name": "emodnetchemistry"
  },
  "language_info": {
   "codemirror_mode": {
    "name": "ipython",
    "version": 3
   },
   "file_extension": ".py",
   "mimetype": "text/x-python",
   "name": "python",
   "nbconvert_exporter": "python",
   "pygments_lexer": "ipython3",
   "version": "3.12.6"
  }
 },
 "nbformat": 4,
 "nbformat_minor": 4
}
