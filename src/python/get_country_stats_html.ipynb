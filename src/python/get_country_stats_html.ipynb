{
 "cells": [
  {
   "cell_type": "markdown",
   "metadata": {},
   "source": [
    "# Statistics by country\n",
    "Get the top 10 countries, based on the data copied from the \"Visitors domains/countries\" page http://emodnet01.cineca.it/oceanbrowser/cgi-bin/awstats/awstats.pl?month=11&year=2018&output=main&config=sdn-oceanbrowser-net&framename=index (change month and year for other periods)."
   ]
  },
  {
   "cell_type": "code",
   "execution_count": 1,
   "metadata": {},
   "outputs": [
    {
     "ename": "ModuleNotFoundError",
     "evalue": "No module named 'pycountry'",
     "output_type": "error",
     "traceback": [
      "\u001b[0;31m---------------------------------------------------------------------------\u001b[0m",
      "\u001b[0;31mModuleNotFoundError\u001b[0m                       Traceback (most recent call last)",
      "Cell \u001b[0;32mIn[1], line 6\u001b[0m\n\u001b[1;32m      4\u001b[0m \u001b[38;5;28;01mimport\u001b[39;00m \u001b[38;5;21;01mlogging\u001b[39;00m\n\u001b[1;32m      5\u001b[0m \u001b[38;5;28;01mimport\u001b[39;00m \u001b[38;5;21;01mre\u001b[39;00m\n\u001b[0;32m----> 6\u001b[0m \u001b[38;5;28;01mimport\u001b[39;00m \u001b[38;5;21;01mpycountry\u001b[39;00m\n",
      "\u001b[0;31mModuleNotFoundError\u001b[0m: No module named 'pycountry'"
     ]
    }
   ],
   "source": [
    "from bs4 import BeautifulSoup\n",
    "import os\n",
    "import glob\n",
    "import logging\n",
    "import re\n",
    "import pycountry"
   ]
  },
  {
   "cell_type": "code",
   "execution_count": 77,
   "metadata": {},
   "outputs": [],
   "source": [
    "logger = logging.getLogger(\"awstats\")\n",
    "logger.setLevel(logging.INFO)\n",
    "logging.info(\"starting\")"
   ]
  },
  {
   "cell_type": "code",
   "execution_count": 4,
   "metadata": {},
   "outputs": [
    {
     "name": "stderr",
     "output_type": "stream",
     "text": [
      "INFO:awstats:Working on 12 files\n"
     ]
    }
   ],
   "source": [
    "datadir = \"../Statistics/\"\n",
    "filelist = sorted(glob.glob(os.path.join(datadir, \"countries*.dat\")))\n",
    "nfiles = len(filelist)\n",
    "logger.info(\"Working on {} files\".format(nfiles))"
   ]
  },
  {
   "cell_type": "code",
   "execution_count": 16,
   "metadata": {},
   "outputs": [],
   "source": [
    "class CountryStat(object):\n",
    "    \n",
    "    def __init__(self, name=None, pages=0, hits=0, bw=0):\n",
    "        self.name = name\n",
    "        self.pages = pages\n",
    "        self.hits = hits\n",
    "        self.bw = bw\n",
    "        \n",
    "    def __repr__(self):\n",
    "        return \"Country {0}: {1} pages, {2} hits and {3} MB of bandwidth\".format(self.name, \n",
    "                                                                          self.pages,\n",
    "                                                                          self.hits,\n",
    "                                                                          self.bw)"
   ]
  },
  {
   "cell_type": "code",
   "execution_count": 58,
   "metadata": {},
   "outputs": [],
   "source": [
    "def findcountry(cname, clist):\n",
    "    \"\"\"\n",
    "    Find the object in a list which has the attribute 'name' matching cname\n",
    "    \"\"\"\n",
    "    index = None\n",
    "    for i, c in enumerate(clist):\n",
    "        if c.name == cname:\n",
    "            index = i\n",
    "            break\n",
    "    return index"
   ]
  },
  {
   "cell_type": "code",
   "execution_count": 78,
   "metadata": {},
   "outputs": [
    {
     "name": "stderr",
     "output_type": "stream",
     "text": [
      "INFO:awstats:Working on file countries201811.dat\n",
      "INFO:awstats:Working on file countries201812.dat\n",
      "INFO:awstats:Working on file countries201901.dat\n",
      "INFO:awstats:Working on file countries201902.dat\n",
      "INFO:awstats:Working on file countries201903.dat\n",
      "INFO:awstats:Working on file countries201904.dat\n",
      "INFO:awstats:Working on file countries201905.dat\n",
      "INFO:awstats:Working on file countries201906.dat\n",
      "INFO:awstats:Working on file countries201907.dat\n",
      "INFO:awstats:Working on file countries201908.dat\n",
      "INFO:awstats:Working on file countries201909.dat\n",
      "INFO:awstats:Working on file countries201910.dat\n"
     ]
    }
   ],
   "source": [
    "clist = []\n",
    "countrylist = []\n",
    "for statfiles in filelist:\n",
    "    logger.info(\"Working on file {}\".format(os.path.basename(statfiles)))\n",
    "    \n",
    "    with open(statfiles) as f:\n",
    "        line = \"\"\n",
    "\n",
    "        # Read until BEGIN_DOMAIN is found\n",
    "        while not \"Domains/Countries\" in line:\n",
    "            line = f.readline().rstrip()\n",
    "            \n",
    "        # Continue the reading until the end\n",
    "        ii = 0\n",
    "        \n",
    "        \n",
    "        for line in f:\n",
    "            \n",
    "            if \"Others\" in line:\n",
    "                break\n",
    "            \n",
    "            line = line.rstrip()\n",
    "\n",
    "            if (ii % 3) == 0:\n",
    "                countryname = line.split()[1]\n",
    "                pages = int(line.split()[-1])\n",
    "            if (ii % 3) == 1:\n",
    "                hits = int(line.split()[-1])\n",
    "            if (ii % 3) == 2:\n",
    "                bandwidth = float(line.split()[1])\n",
    "            \n",
    "                ind = findcountry(countryname, clist)\n",
    "                if ind is None:\n",
    "                    logger.debug(\"New country\")\n",
    "                    countrylist.append(countryname)\n",
    "                    c = CountryStat(countryname, pages, hits, bandwidth)\n",
    "                    clist.append(c)\n",
    "                else:\n",
    "                    clist[ind].pages += pages\n",
    "                    clist[ind].hits += hits\n",
    "                    clist[ind].bw += bandwidth                  \n",
    "            ii += 1"
   ]
  },
  {
   "cell_type": "code",
   "execution_count": 82,
   "metadata": {},
   "outputs": [],
   "source": [
    "clist_sorted = sorted(clist, key=lambda x: x.pages, reverse=True)"
   ]
  },
  {
   "cell_type": "code",
   "execution_count": 86,
   "metadata": {},
   "outputs": [],
   "source": [
    "fo = open(\"../Statistics/ocean_browser_statsCountry2019.csv\", 'w')\n",
    "fo.write(\"\\t\".join((\"country name\", \"Pages\", \"Hits\", \"\\n\")))\n",
    "for i in range(0, 12):\n",
    "    country = clist_sorted[i]\n",
    "    fo.write(\"\\t\".join((country.name, str(country.pages), str(country.hits), \"\\n\")))\n",
    "fo.close()"
   ]
  },
  {
   "cell_type": "code",
   "execution_count": null,
   "metadata": {},
   "outputs": [],
   "source": []
  }
 ],
 "metadata": {
  "@webio": {
   "lastCommId": "6517FA0109FD4564872CB55818AEA448",
   "lastKernelId": "820edf7a-2380-4320-a490-ec1e97c775ac"
  },
  "kernelspec": {
   "display_name": "Python 3 (ipykernel)",
   "language": "python",
   "name": "python3"
  },
  "language_info": {
   "codemirror_mode": {
    "name": "ipython",
    "version": 3
   },
   "file_extension": ".py",
   "mimetype": "text/x-python",
   "name": "python",
   "nbconvert_exporter": "python",
   "pygments_lexer": "ipython3",
   "version": "3.12.3"
  }
 },
 "nbformat": 4,
 "nbformat_minor": 4
}
