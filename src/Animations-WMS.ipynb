{
 "cells": [
  {
   "cell_type": "markdown",
   "metadata": {
    "slideshow": {
     "slide_type": "slide"
    }
   },
   "source": [
    "# Example of making animations from images of a Web Map Service"
   ]
  },
  {
   "cell_type": "markdown",
   "metadata": {
    "slideshow": {
     "slide_type": "fragment"
    }
   },
   "source": [
    "This examples requires \n",
    "* Julia 1.0 (https://julialang.org/downloads/)\n",
    "* the julia package `Requests`, installable from the Julia command prompt:\n",
    "```julia\n",
    "Pkg.add(\"HTTP\")\n",
    "```\n",
    "* the tool `ffmpeg` (https://www.ffmpeg.org/download.html)"
   ]
  },
  {
   "cell_type": "code",
   "execution_count": 6,
   "metadata": {
    "slideshow": {
     "slide_type": "subslide"
    }
   },
   "outputs": [],
   "source": [
    "using HTTP\n",
    "using Base64"
   ]
  },
  {
   "cell_type": "code",
   "execution_count": null,
   "metadata": {
    "slideshow": {
     "slide_type": "subslide"
    }
   },
   "outputs": [],
   "source": [
    "# WMS base URL\n",
    "wmsurl = \"http://ec.oceanbrowser.net/emodnet-combined/Python/web/wms\"\n",
    "\n",
    "# WMS layer name\n",
    "#layer = \"Water_body_dissolved_oxygen_concentration.combined.nc*Water_body_dissolved_oxygen_concentration_L2\"\n",
    "layer = \"Water_body_phosphate.combined.nc*Water_body_phosphate_L2\"\n",
    "\n",
    "# WMS bounding box (west,south,east,north)\n",
    "bbox = \"-18,30,42,66\"\n",
    "\n",
    "# short name of the title and file name of the animation\n",
    "#shortname = \"surface dissolved oxygen\"\n",
    "shortname = \"surface phosphate\"\n",
    "\n",
    "# file name of the animation (without file extension)\n",
    "animname = \"emodnet-chemistry-$(replace(shortname,\" \" => \"-\"))\"\n",
    "\n",
    "# frames per second\n",
    "rate = 2\n",
    "\n",
    "# colorbar range\n",
    "vmin = 0\n",
    "vmax = 0.8\n",
    "\n",
    "# year range\n",
    "years = 1980:2009;\n",
    "#years = 2009:2010;\n",
    "\n",
    "# all time instances for the animation\n",
    "times = [\"$season $year\" for season in [\"winter\",\"spring\",\"summer\",\"autumn\"],\n",
    "         year in years][:];\n",
    "\n",
    "# loop over all time frames\n",
    "for i = 1:length(times)    \n",
    "    param = Dict(\n",
    "        \"layers\" => layer,\n",
    "        \"request\" => \"GetMap\",\n",
    "        \"width\" => \"800\",\n",
    "        \"height\" => \"500\",\n",
    "        \"bbox\" => bbox,\n",
    "        \"transparent\" => \"false\",\n",
    "        \"decorated\" => \"true\",\n",
    "        \"crs\" => \"CRS:84\",\n",
    "        \"version\" => \"1.3.0\",\n",
    "        \"styles\" => \"cmap:jet+inverted:false+method:pcolor_flat+vmin:$(vmin)+vmax:$(vmax)+ncontours:40\",\n",
    "        \"format\" => \"image/png\",\n",
    "        \"elevation\" => \"0.0\",\n",
    "        \"time\" => times[i],\n",
    "        \"title\" => \"$(shortname) ($(times[i]))\",\n",
    "        \"basemap\" => \"shadedrelief\")\n",
    "\n",
    "    r = HTTP.get(wmsurl; query = param)\n",
    "\n",
    "    # write into file\n",
    "    open(@sprintf(\"%s-%05d.png\",animname,i),\"w\") do f\n",
    "        write(f, r.body)\n",
    "    end\n",
    "end\n",
    "\n",
    "# generate the animation\n",
    "run(`ffmpeg -y -r $(rate) -i $(animname)-%05d.png  -c:v libx264 -preset slow -crf 22 -pix_fmt yuv420p $(animname).mp4`)"
   ]
  },
  {
   "cell_type": "markdown",
   "metadata": {
    "slideshow": {
     "slide_type": "subslide"
    }
   },
   "source": [
    "Embed the animation in this notebook."
   ]
  },
  {
   "cell_type": "code",
   "execution_count": null,
   "metadata": {
    "slideshow": {
     "slide_type": "fragment"
    }
   },
   "outputs": [],
   "source": [
    "display(\"text/html\", string(\"\"\"<video autoplay controls><source src=\"data:video/mp4;base64,\"\"\",\n",
    "        base64encode(open(read,\"$(animname).mp4\")),\"\"\"\" type=\"video/mp4\"></video>\"\"\"));\n"
   ]
  }
 ],
 "metadata": {
  "@webio": {
   "lastCommId": "f92ea0dfb1d84124bdb17a112b25c9e6",
   "lastKernelId": "7383176d-5285-41d7-bd7d-36cc800fd763"
  },
  "celltoolbar": "Slideshow",
  "kernelspec": {
   "display_name": "Julia 1.0.2",
   "language": "julia",
   "name": "julia-1.0"
  },
  "language_info": {
   "file_extension": ".jl",
   "mimetype": "application/julia",
   "name": "julia",
   "version": "1.0.2"
  }
 },
 "nbformat": 4,
 "nbformat_minor": 2
}
